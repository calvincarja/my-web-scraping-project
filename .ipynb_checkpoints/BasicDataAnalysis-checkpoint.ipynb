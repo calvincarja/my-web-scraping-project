{
 "cells": [
  {
   "cell_type": "code",
   "execution_count": 1,
   "id": "3193d6d6-baa5-4cb9-8fb3-0d8b09b334b6",
   "metadata": {},
   "outputs": [],
   "source": [
    "numbers = [4,8,15,16,23,42]"
   ]
  },
  {
   "cell_type": "code",
   "execution_count": 2,
   "id": "fa4df908-8ed2-4576-9659-6ba94f1aa6b6",
   "metadata": {},
   "outputs": [],
   "source": [
    "total_sum = sum(numbers)"
   ]
  },
  {
   "cell_type": "code",
   "execution_count": 3,
   "id": "0adc647a-df82-47df-b144-6a95247c3d07",
   "metadata": {},
   "outputs": [],
   "source": [
    "average = total_sum / len(numbers)"
   ]
  },
  {
   "cell_type": "code",
   "execution_count": 4,
   "id": "416bb833-5127-48ef-83e0-c491cc4aafd4",
   "metadata": {},
   "outputs": [
    {
     "name": "stdout",
     "output_type": "stream",
     "text": [
      "Sum: 108 \n",
      "Average: 18.0\n"
     ]
    }
   ],
   "source": [
    "print(\"Sum:\", total_sum, \"\\nAverage:\", average)"
   ]
  },
  {
   "cell_type": "code",
   "execution_count": 5,
   "id": "a16800b4-105c-4a68-9c68-962135dbcd70",
   "metadata": {},
   "outputs": [],
   "source": [
    "sorted_numbers = sorted(numbers)"
   ]
  },
  {
   "cell_type": "code",
   "execution_count": 6,
   "id": "1761f815-3f48-45c6-9b43-3f40f724dd80",
   "metadata": {},
   "outputs": [
    {
     "name": "stdout",
     "output_type": "stream",
     "text": [
      "sorted numbers: [4, 8, 15, 16, 23, 42]\n"
     ]
    }
   ],
   "source": [
    "print(\"sorted numbers:\", sorted_numbers)"
   ]
  },
  {
   "cell_type": "code",
   "execution_count": null,
   "id": "91e08d8f-bfec-457c-bc65-354ceaca008f",
   "metadata": {},
   "outputs": [],
   "source": []
  }
 ],
 "metadata": {
  "kernelspec": {
   "display_name": "Python 3 (ipykernel)",
   "language": "python",
   "name": "python3"
  },
  "language_info": {
   "codemirror_mode": {
    "name": "ipython",
    "version": 3
   },
   "file_extension": ".py",
   "mimetype": "text/x-python",
   "name": "python",
   "nbconvert_exporter": "python",
   "pygments_lexer": "ipython3",
   "version": "3.9.6"
  }
 },
 "nbformat": 4,
 "nbformat_minor": 5
}
