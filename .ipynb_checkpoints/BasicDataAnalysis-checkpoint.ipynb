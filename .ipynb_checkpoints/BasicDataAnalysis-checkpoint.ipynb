{
 "cells": [
  {
   "cell_type": "code",
   "execution_count": 2,
   "id": "3ac20720-d891-4ef5-8049-f0a2b835b624",
   "metadata": {},
   "outputs": [],
   "source": [
    "from urllib import request"
   ]
  },
  {
   "cell_type": "code",
   "execution_count": 1,
   "id": "27d22836-0755-4e54-9f1a-a4922e1e62fd",
   "metadata": {},
   "outputs": [
    {
     "name": "stdout",
     "output_type": "stream",
     "text": [
      "Collecting chardet\n",
      "  Downloading chardet-5.2.0-py3-none-any.whl.metadata (3.4 kB)\n",
      "Downloading chardet-5.2.0-py3-none-any.whl (199 kB)\n",
      "\u001b[2K   \u001b[90m━━━━━━━━━━━━━━━━━━━━━━━━━━━━━━━━━━━━━━━━\u001b[0m \u001b[32m199.4/199.4 kB\u001b[0m \u001b[31m2.1 MB/s\u001b[0m eta \u001b[36m0:00:00\u001b[0m00:01\u001b[0m0:01\u001b[0m\n",
      "\u001b[?25hInstalling collected packages: chardet\n",
      "Successfully installed chardet-5.2.0\n"
     ]
    }
   ],
   "source": [
    "!pip install chardet"
   ]
  },
  {
   "cell_type": "code",
   "execution_count": 2,
   "id": "458dd0e4-723d-4cb9-95ac-7702206a712b",
   "metadata": {},
   "outputs": [],
   "source": [
    "import re"
   ]
  },
  {
   "cell_type": "code",
   "execution_count": 3,
   "id": "bc6cd1b3-692e-46bd-8bd6-8163a62e8b49",
   "metadata": {
    "scrolled": true
   },
   "outputs": [
    {
     "name": "stdout",
     "output_type": "stream",
     "text": [
      "Why should you learn to write programs?\n",
      "\n",
      "Writing programs (or programming) is a very creative \n",
      "and rewarding activity.  You can write programs for \n",
      "3036 many reasons, ranging from making your living to solving 7209\n",
      "a difficult data analysis problem to having fun to helping\n",
      "someone else solve a problem.  This book assumes that \n",
      "everyone needs to know how to program, and that once \n",
      "you know how to program you will figure out what you want \n",
      "to do with your newfound skills.  \n",
      "\n",
      "We are surrounded in our daily lives with computers ranging \n",
      "from laptops to cell phones.  We can think of these computers\n",
      "as 4497 our 6702 personal 8454 assistants who can take care of many things\n",
      " 7449 on our behalf.  The hardware in our current-day computers \n",
      "is essentially built to continuously ask us the question, \n",
      "What would you like me to do next?\n",
      "\n",
      "Programmers add an operating system and a set of applications\n",
      "to the hardware and we end up with a Personal Digital\n",
      "Assistant that is quite helpful and capable of helping\n",
      "us do many different things.\n",
      "\n",
      "Our computers are fast and have vast amounts of memory and \n",
      "could be very helpful to us if we only knew the language to\n",
      "speak to explain to the computer what we would like it to \n",
      "do 3665 next. 7936  9772 If we knew this language, we could tell the \n",
      " computer to do tasks on our behalf that were repetitive.  \n",
      "Interestingly, the kinds of things computers can do best\n",
      "are often the kinds of things that we humans find boring\n",
      "and mind-numbing.\n",
      "\n",
      "For example, look at the first three paragraphs of this\n",
      "chapter and tell me the most commonly used word and how\n",
      "many times the word is used.  While you were able to read\n",
      "and understand the words in a few seconds, counting them\n",
      "is almost painful because it is not the kind of problem \n",
      "that human minds are designed to solve.  For a computer\n",
      "the opposite is true, reading and understanding text \n",
      "from a piece of paper is hard for a computer to do \n",
      "but counting the words and telling you how many times\n",
      "the most used word was used is very easy for the\n",
      "computer:\n",
      "7114 \n",
      "Our personal information analysis assistant quickly \n",
      "told us that the word to was used sixteen times in the\n",
      "first three paragraphs of this chapter.\n",
      "\n",
      "This very fact that computers are good at things \n",
      "that humans are not is why you need to become\n",
      "skilled at talking computer language.  Once you learn\n",
      "956 this new language, you can delegate mundane tasks 2564\n",
      "to 8003 your 1704 partner 3816 (the computer), leaving more time \n",
      " for you to do the \n",
      "things that you are uniquely suited for.  You bring \n",
      "creativity, intuition, and inventiveness to this\n",
      "partnership.  \n",
      "\n",
      "Creativity and motivation\n",
      "\n",
      "While this book is not intended for professional programmers, professional\n",
      "programming can be a very rewarding job both financially and personally.\n",
      "Building useful, elegant, and clever programs for others to use is a very\n",
      "creative 6662 activity. 5858  7777 Your computer or Personal Digital Assistant (PDA) \n",
      " usually contains many different programs from many different groups of \n",
      "programmers, each competing for your attention and interest.  They try \n",
      "their best to meet your needs and give you a great user experience in the\n",
      "process.   In some situations, when you choose a piece of software, the \n",
      "programmers are directly compensated because of your choice.\n",
      "\n",
      "If we think of programs as the creative output of groups of programmers,\n",
      "perhaps the following figure is a more sensible version of our PDA:\n",
      "\n",
      "For now, our primary motivation is not to make money or please end users, but\n",
      "instead for us to be more productive in handling the data and \n",
      "information that we will encounter in our lives.\n",
      "When you first start, you will be both the programmer and the end user of\n",
      "your programs.  As you gain skill as a programmer and\n",
      "programming feels more creative to you, your thoughts may turn\n",
      "toward developing programs for others.\n",
      "\n",
      "Computer hardware architecture\n",
      "\n",
      "Before we start learning the language we \n",
      "speak to give instructions to computers to \n",
      "develop software, we need to learn a small amount about \n",
      "how computers are built.  \n",
      "\n",
      "Central Processing Unit (or CPU) is \n",
      "the part of the computer that is built to be obsessed \n",
      "with what is next?  If your computer is rated\n",
      "at three Gigahertz, it means that the CPU will ask What next?\n",
      "three billion times per second.  You are going to have to \n",
      "learn how to talk fast to keep up with the CPU.\n",
      "\n",
      "Main Memory is used to store information\n",
      "that the CPU needs in a hurry.  The main memory is nearly as \n",
      "fast as the CPU.  But the information stored in the main\n",
      "memory vanishes when the computer is turned off.\n",
      "\n",
      "Secondary Memory is also used to store\n",
      "6482 information, but it is much slower than the main memory.\n",
      "The advantage of the secondary memory is that it can\n",
      "store information even when there is no power to the\n",
      "computer.  Examples of secondary memory are disk drives\n",
      "or flash memory (typically found in USB sticks and portable\n",
      "music players).\n",
      "9634 \n",
      "Input and Output Devices are simply our\n",
      "screen, keyboard, mouse, microphone, speaker, touchpad, etc.  \n",
      "They are all of the ways we interact with the computer.\n",
      "\n",
      "These days, most computers also have a\n",
      "Network Connection to retrieve information over a network.\n",
      "We can think of the network as a very slow place to store and\n",
      "8805 retrieve data that might not always be up.  So in a sense, 7123\n",
      "the network is a slower and at times unreliable form of\n",
      "9703 4676 6373\n",
      "\n",
      "While most of the detail of how these components work is best left \n",
      "to computer builders, it helps to have some terminology\n",
      "so we can talk about these different parts as we write our programs.\n",
      "\n",
      "As a programmer, your job is to use and orchestrate \n",
      "each of these resources to solve the problem that you need to solve\n",
      "and analyze the data you get from the solution.  As a programmer you will \n",
      "mostly be talking to the CPU and telling it what to \n",
      "do next.  Sometimes you will tell the CPU to use the main memory,\n",
      "secondary memory, network, or the input/output devices.\n",
      "\n",
      "You need to be the person who answers the CPU's What next? \n",
      "question.  But it would be very uncomfortable to shrink you \n",
      "down to five mm  tall and insert you into the computer just so you \n",
      "could issue a command three billion times per second.  So instead,\n",
      "you must write down your instructions in advance.\n",
      "We call these stored instructions a program and the act \n",
      "of writing these instructions down and getting the instructions to \n",
      "be correct programming.\n",
      "\n",
      "Understanding programming\n",
      "\n",
      "In the rest of this book, we will try to turn you into a person\n",
      "who is skilled in the art of programming.  In the end you will be a \n",
      "programmer --- perhaps not a professional programmer, but \n",
      "at least you will have the skills to look at a data/information\n",
      "analysis problem and develop a program to solve the problem.\n",
      "2834 \n",
      "7221 problem solving\n",
      "\n",
      "2981 In a sense, you need two skills to be a programmer:\n",
      "\n",
      "First, you need to know the programming language (Python) -\n",
      "5415 you need to know the vocabulary and the grammar.  You need to be able \n",
      "to spell the words in this new language properly and know how to construct \n",
      "well-formed sentences in this new language.\n",
      "\n",
      "Second, you need to tell a story.  In writing a story,\n",
      "you combine words and sentences to convey an idea to the reader. \n",
      "There is a skill and art in constructing the story, and skill in\n",
      "story writing is improved by doing some writing and getting some\n",
      "feedback.  In programming, our program is the story and the \n",
      "problem you are trying to solve is the idea.\n",
      "\n",
      "itemize\n",
      "\n",
      "Once you learn one programming language such as Python, you will \n",
      "find it much easier to learn a second programming language such\n",
      "as JavaScript or C++.  The new programming language has very different \n",
      "vocabulary and grammar but the problem-solving skills \n",
      "will be the same across all programming languages.\n",
      "\n",
      "You will learn the vocabulary and sentences of Python pretty quickly.\n",
      "It will take longer for you to be able to write a coherent program\n",
      "to solve a brand-new problem.  We teach programming much like we teach\n",
      "writing.  We start reading and explaining programs, then we write \n",
      "simple programs, and then we write increasingly complex programs over time.\n",
      "At some point you get your muse and see the patterns on your own\n",
      "and can see more naturally how to take a problem and \n",
      "write a program that solves that problem.  And once you get \n",
      "6872 to that point, programming becomes a very pleasant and creative process.  \n",
      "\n",
      "We start with the vocabulary and structure of Python programs.  Be patient\n",
      "as the simple examples remind you of when you started reading for the first\n",
      "time. \n",
      "\n",
      "Words and sentences\n",
      "4806 \n",
      "Unlike human languages, the Python vocabulary is actually pretty small.\n",
      "We call this vocabulary the reserved words.  These are words that\n",
      "5460 have very special meaning to Python.  When Python sees these words in 8533\n",
      "3538 a Python program, they have one and only one meaning to Python.  Later\n",
      "as you write programs you will make up your own words that have meaning to \n",
      "you called variables.   You will have great latitude in choosing\n",
      "your 9663 names 8001 for 9795 your variables, but you cannot use any of Python's \n",
      " reserved 8752 words 1117 as 5349 a name for a variable.\n",
      " \n",
      "When we train a dog, we use special words like\n",
      "sit, stay, and fetch.  When you talk to a dog and\n",
      "4509 don't use any of the reserved words, they just look at you with a \n",
      "quizzical look on their face until you say a reserved word.  \n",
      "For example, if you say, \n",
      "I wish more people would walk to improve their overall health, \n",
      "what most dogs likely hear is,\n",
      "blah blah blah walk blah blah blah blah.\n",
      "That is because walk is a reserved word in dog language.  \n",
      "\n",
      "The reserved words in the language where humans talk to \n",
      "Python include the following:\n",
      "\n",
      "and       del       from      not       while    \n",
      "as        elif      global    or        with     \n",
      "assert    else      if        pass      yield    \n",
      "break     except    import    print              \n",
      "class     exec      in        raise              \n",
      "continue  finally   is        return             \n",
      "def       for       lambda    try\n",
      "\n",
      "That is it, and unlike a dog, Python is already completely trained.\n",
      "When 1004 you 9258 say 4183 try, Python will try every time you say it without\n",
      " fail.\n",
      "\n",
      "4034 We will learn these reserved words and how they are used in good time, 3342\n",
      "but for now we will focus on the Python equivalent of speak (in \n",
      "human-to-dog language).  The nice thing about telling Python to speak\n",
      "3482 is that we can even tell it what to say by giving it a message in quotes: 8567\n",
      "\n",
      "And we have even written our first syntactically correct Python sentence.\n",
      "Our sentence starts with the reserved word print followed\n",
      "by a string of text of our choosing enclosed in single quotes.\n",
      "\n",
      "Conversing with Python\n",
      "\n",
      "1052 Now that we have a word and a simple sentence that we know in Python, 8135\n",
      "we need to know how to start a conversation with Python to test \n",
      "our new language skills.\n",
      "\n",
      "Before 5561 you 517 can 1218 converse with Python, you must first install the Python\n",
      " software on your computer and learn how to start Python on your \n",
      "computer.  That is too much detail for this chapter so I suggest\n",
      "that you consult www.py4e.com where I have detailed\n",
      "instructions and screencasts of setting up and starting Python \n",
      "on Macintosh and Windows systems.  At some point, you will be in \n",
      "a terminal or command window and you will type python and \n",
      "8877 the Python interpreter will start executing in interactive mode\n",
      "and appear somewhat as follows:\n",
      "interactive mode\n",
      "\n",
      "The &gt;&gt;&gt; prompt is the Python interpreter's way of asking you, What\n",
      "do you want me to do next?  Python is ready to have a conversation with\n",
      "you.  All you have to know is how to speak the Python language.\n",
      "\n",
      "Let's say for example that you did not know even the simplest Python language\n",
      "words or sentences. You might want to use the standard line that astronauts \n",
      "use when they land on a faraway planet and try to speak with the inhabitants\n",
      "of the planet:\n",
      "\n",
      "This is not going so well.  Unless you think of something quickly,\n",
      "the inhabitants of the planet are likely to stab you with their spears, \n",
      "put you on a spit, roast you over a fire, and eat you for dinner.\n",
      "\n",
      "At this point, you should also realize that while Python \n",
      "is amazingly complex and powerful and very picky about \n",
      "the syntax you use to communicate with it, Python is \n",
      "not intelligent.  You are really just having a conversation\n",
      "with yourself, but using proper syntax.\n",
      "8062  1720\n",
      "In a sense, when you use a program written by someone else\n",
      "the conversation is between you and those other\n",
      "programmers with Python acting as an intermediary.  Python\n",
      "is a way for the creators of programs to express how the \n",
      "conversation is supposed to proceed.  And\n",
      "in just a few more chapters, you will be one of those\n",
      "programmers using Python to talk to the users of your program.\n",
      "\n",
      "279 Before we leave our first conversation with the Python \n",
      "interpreter, you should probably know the proper way\n",
      "to say good-bye when interacting with the inhabitants\n",
      "of Planet Python:\n",
      "\n",
      "2054 You will notice that the error is different for the first two 801\n",
      "incorrect attempts.   The second error is different because \n",
      "if is a reserved word and Python saw the reserved word\n",
      "and thought we were trying to say something but got the syntax\n",
      "of the sentence wrong.\n",
      "\n",
      "Terminology: interpreter and compiler\n",
      "\n",
      "Python is a high-level language intended to be relatively\n",
      "straightforward for humans to read and write and for computers\n",
      "to read and process.  Other high-level languages include Java, C++,\n",
      "918 PHP, Ruby, Basic, Perl, JavaScript, and many more.  The actual hardware\n",
      "inside the Central Processing Unit (CPU) does not understand any\n",
      "of these high-level languages.\n",
      "\n",
      "The CPU understands a language we call machine language.  Machine\n",
      "language is very simple and frankly very tiresome to write because it \n",
      "is represented all in zeros and ones.\n",
      "\n",
      "Machine language seems quite simple on the surface, given that there \n",
      "are only zeros and ones, but its syntax is even more complex\n",
      "8687 and far more intricate than Python.  So very few programmers ever write\n",
      "machine language.  Instead we build various translators to allow\n",
      "programmers to write in high-level languages like Python or JavaScript\n",
      "and these translators convert the programs to machine language for actual\n",
      "execution by the CPU.\n",
      "\n",
      "Since machine language is tied to the computer hardware, machine language\n",
      "is not portable across different types of hardware.  Programs written in \n",
      "high-level languages can be moved between different computers by using a \n",
      "different interpreter on the new machine or recompiling the code to create\n",
      "a machine language version of the program for the new machine.\n",
      "\n",
      "These programming language translators fall into two general categories:\n",
      "(one) interpreters and (two) compilers.\n",
      "7073 1865 7084\n",
      "An interpreter reads the source code of the program as written by the\n",
      "programmer, parses the source code, and interprets the instructions on the fly.\n",
      "Python is an interpreter and when we are running Python interactively, \n",
      "we can type a line of Python (a sentence) and Python processes it immediately\n",
      "and is ready for us to type another line of Python.   \n",
      "2923  63\n",
      "Some of the lines of Python tell Python that you want it to remember some \n",
      "value for later.   We need to pick a name for that value to be remembered and\n",
      "we can use that symbolic name to retrieve the value later.  We use the \n",
      "term variable to refer to the labels we use to refer to this stored data.\n",
      "\n",
      "In this example, we ask Python to remember the value six and use the label x\n",
      "so we can retrieve the value later.   We verify that Python has actually remembered\n",
      "the value using x and multiply\n",
      "it by seven and put the newly computed value in y.  Then we ask Python to print out\n",
      "8824 the value currently in y.\n",
      "1079 5801 5047\n",
      "Even though we are typing these commands into Python one line at a time, Python\n",
      "is treating them as an ordered sequence of statements with later statements able\n",
      "to retrieve data created in earlier statements.   We are writing our first \n",
      "simple paragraph with four sentences in a logical and meaningful order.\n",
      "5 \n",
      "It is the nature of an interpreter to be able to have an interactive conversation\n",
      "as shown above.  A compiler needs to be handed the entire program in a file, and then \n",
      "it runs a process to translate the high-level source code into machine language\n",
      "2572 and then the compiler puts the resulting machine language into a file for later\n",
      "execution.\n",
      "\n",
      "If you have a Windows system, often these executable machine language programs have a\n",
      "suffix of .exe or .dll which stand for executable and dynamic link\n",
      "library respectively.  In Linux and Macintosh, there is no suffix that uniquely marks\n",
      "a file as executable.\n",
      "\n",
      "If you were to open an executable file in a text editor, it would look \n",
      "completely crazy and be unreadable:\n",
      "\n",
      "It is not easy to read or write machine language, so it is nice that we have\n",
      "compilers that allow us to write in high-level\n",
      "languages like Python or C.\n",
      "\n",
      "Now at this point in our discussion of compilers and interpreters, you should \n",
      "be 5616 wondering 171 a 3062 bit about the Python interpreter itself.  What language is \n",
      " 9552 it written in?  Is it written in a compiled language?  When we type 7655\n",
      "python, 829 what 6096 exactly 2312 is happening?\n",
      " \n",
      "The Python interpreter is written in a high-level language called C.  \n",
      "You can look at the actual source code for the Python interpreter by\n",
      "going to www.python.org and working your way to their source code.\n",
      "So Python is a program itself and it is compiled into machine code.\n",
      "When you installed Python on your computer (or the vendor installed it),\n",
      "6015 you copied a machine-code copy of the translated Python program onto your 7100\n",
      "system.   In Windows, the executable machine code for Python itself is likely\n",
      "in a file.\n",
      "\n",
      "That is more than you really need to know to be a Python programmer, but\n",
      "sometimes it pays to answer those little nagging questions right at \n",
      "the beginning.\n",
      "\n",
      "Writing a program\n",
      "\n",
      "Typing commands into the Python interpreter is a great way to experiment \n",
      "with Python's features, but it is not recommended for solving more complex problems.\n",
      "\n",
      "When we want to write a program, \n",
      "we use a text editor to write the Python instructions into a file,\n",
      "which 9548 is 2727 called 1792 a script.  By\n",
      " convention, Python scripts have names that end with .py.\n",
      "\n",
      "script\n",
      "\n",
      "To execute the script, you have to tell the Python interpreter \n",
      "the name of the file.  In a Unix or Windows command window, \n",
      "you would type python hello.py as follows:\n",
      "\n",
      "We call the Python interpreter and tell it to read its source code from\n",
      "the file hello.py instead of prompting us for lines of Python code\n",
      "interactively.\n",
      "\n",
      "You will notice that there was no need to have quit() at the end of\n",
      "the Python program in the file.   When Python is reading your source code\n",
      "from a file, it knows to stop when it reaches the end of the file.\n",
      "\n",
      "8402 What is a program?\n",
      "\n",
      "The definition of a program at its most basic is a sequence\n",
      "of Python statements that have been crafted to do something.\n",
      "Even our simple hello.py script is a program.  It is a one-line\n",
      "program and is not particularly useful, but in the strictest definition,\n",
      "it is a Python program.\n",
      "\n",
      "It might be easiest to understand what a program is by thinking about a problem \n",
      "that a program might be built to solve, and then looking at a program\n",
      "that would solve that problem.\n",
      "\n",
      "Lets say you are doing Social Computing research on Facebook posts and \n",
      "you are interested in the most frequently used word in a series of posts.\n",
      "You could print out the stream of Facebook posts and pore over the text\n",
      "looking for the most common word, but that would take a long time and be very \n",
      "mistake prone.  You would be smart to write a Python program to handle the\n",
      "task quickly and accurately so you can spend the weekend doing something \n",
      "fun.\n",
      "\n",
      "For example, look at the following text about a clown and a car.  Look at the \n",
      "text and figure out the most common word and how many times it occurs.\n",
      "\n",
      "Then imagine that you are doing this task looking at millions of lines of \n",
      "text.  Frankly it would be quicker for you to learn Python and write a \n",
      "Python program to count the words than it would be to manually \n",
      "scan the words.\n",
      "\n",
      "The even better news is that I already came up with a simple program to \n",
      "find the most common word in a text file.  I wrote it,\n",
      "tested it, and now I am giving it to you to use so you can save some time.\n",
      "\n",
      "You don't even need to know Python to use this program.  You will need to get through \n",
      "Chapter ten of this book to fully understand the awesome Python techniques that were\n",
      "used to make the program.  You are the end user, you simply use the program and marvel\n",
      "at its cleverness and how it saved you so much manual effort.\n",
      "You simply type the code \n",
      "into a file called words.py and run it or you download the source \n",
      "code from http://www.py4e.com/code3/ and run it.\n",
      "\n",
      "This is a good example of how Python and the Python language are acting as an intermediary\n",
      "between you (the end user) and me (the programmer).  Python is a way for us to exchange useful\n",
      "instruction sequences (i.e., programs) in a common language that can be used by anyone who \n",
      "installs Python on their computer.  So neither of us are talking to Python,\n",
      "instead we are communicating with each other through Python.\n",
      "\n",
      "The building blocks of programs\n",
      "\n",
      "In the next few chapters, we will learn more about the vocabulary, sentence structure,\n",
      "paragraph structure, and story structure of Python.  We will learn about the powerful\n",
      "capabilities of Python and how to compose those capabilities together to create useful\n",
      "programs.\n",
      "\n",
      "There are some low-level conceptual patterns that we use to construct programs.  These\n",
      "constructs are not just for Python programs, they are part of every programming language\n",
      "from machine language up to the high-level languages.\n",
      "\n",
      "description\n",
      "\n",
      "Get data from the outside world.  This might be \n",
      "reading data from a file, or even some kind of sensor like \n",
      "a microphone or GPS.  In our initial programs, our input will come from the user\n",
      "typing data on the keyboard.\n",
      "\n",
      "Display the results of the program on a screen\n",
      "or store them in a file or perhaps write them to a device like a\n",
      "speaker to play music or speak text.\n",
      "\n",
      "Perform statements one after\n",
      "another in the order they are encountered in the script.\n",
      "\n",
      "Check for certain conditions and\n",
      "then execute or skip a sequence of statements.\n",
      "\n",
      "Perform some set of statements \n",
      "repeatedly, usually with\n",
      "some variation.\n",
      "\n",
      "Write a set of instructions once and give them a name\n",
      "and then reuse those instructions as needed throughout your program.\n",
      "\n",
      "description\n",
      "\n",
      "It sounds almost too simple to be true, and of course it is never\n",
      "so simple.  It is like saying that walking is simply\n",
      "putting one foot in front of the other.  The art \n",
      "of writing a program is composing and weaving these\n",
      "basic elements together many times over to produce something\n",
      "that is useful to its users.\n",
      "\n",
      "The word counting program above directly uses all of \n",
      "these patterns except for one.\n",
      "\n",
      "What could possibly go wrong?\n",
      "\n",
      "As we saw in our earliest conversations with Python, we must\n",
      "communicate very precisely when we write Python code.  The smallest\n",
      "deviation or mistake will cause Python to give up looking at your\n",
      "program.\n",
      "\n",
      "Beginning programmers often take the fact that Python leaves no\n",
      "room for errors as evidence that Python is mean, hateful, and cruel.\n",
      "While Python seems to like everyone else, Python knows them \n",
      "personally and holds a grudge against them.  Because of this grudge,\n",
      "Python takes our perfectly written programs and rejects them as \n",
      "unfit just to torment us.\n",
      "\n",
      "There is little to be gained by arguing with Python.  It is just a tool.\n",
      "It has no emotions and it is happy and ready to serve you whenever you\n",
      "need it.  Its error messages sound harsh, but they are just Python's\n",
      "call for help.  It has looked at what you typed, and it simply cannot\n",
      "understand what you have entered.\n",
      "\n",
      "Python is much more like a dog, loving you unconditionally, having a few\n",
      "key words that it understands, looking you with a sweet look on its\n",
      "face (&gt;&gt;&gt;), and waiting for you to say something it understands.\n",
      "When Python says SyntaxError: invalid syntax, it is simply wagging\n",
      "its tail and saying, You seemed to say something but I just don't\n",
      "understand what you meant, but please keep talking to me (&gt;&gt;&gt;).\n",
      "\n",
      "As your programs become increasingly sophisticated, you will encounter three \n",
      "general types of errors:\n",
      "\n",
      "description\n",
      "\n",
      "These are the first errors you will make and the easiest\n",
      "to fix.  A syntax error means that you have violated the grammar rules of Python.\n",
      "Python does its best to point right at the line and character where \n",
      "it noticed it was confused.  The only tricky bit of syntax errors is that sometimes\n",
      "the mistake that needs fixing is actually earlier in the program than where Python\n",
      "noticed it was confused.  So the line and character that Python indicates in \n",
      "a syntax error may just be a starting point for your investigation.\n",
      "\n",
      "A logic error is when your program has good syntax but there is a mistake \n",
      "in the order of the statements or perhaps a mistake in how the statements relate to one another.\n",
      "A good example of a logic error might be, take a drink from your water bottle, put it \n",
      "in your backpack, walk to the library, and then put the top back on the bottle.\n",
      "\n",
      "A semantic error is when your description of the steps to take \n",
      "is syntactically perfect and in the right order, but there is simply a mistake in \n",
      "the program.  The program is perfectly correct but it does not do what\n",
      "you intended for it to do. A simple example would\n",
      "be if you were giving a person directions to a restaurant and said, ...when you reach\n",
      "the intersection with the gas station, turn left and go one mile and the restaurant\n",
      "is a red building on your left.  Your friend is very late and calls you to tell you that\n",
      "they are on a farm and walking around behind a barn, with no sign of a restaurant.  \n",
      "Then you say did you turn left or right at the gas station? and \n",
      "they say, I followed your directions perfectly, I have \n",
      "them written down, it says turn left and go one mile at the gas station.  Then you say,\n",
      "I am very sorry, because while my instructions were syntactically correct, they \n",
      "sadly contained a small but undetected semantic error.. \n",
      "\n",
      "description\n",
      "\n",
      "Again in all three types of errors, Python is merely trying its hardest to \n",
      "do exactly what you have asked.\n",
      "\n",
      "The learning journey\n",
      "\n",
      "As you progress through the rest of the book, don't be afraid if the concepts \n",
      "don't seem to fit together well the first time.  When you were learning to speak, \n",
      "it was not a problem  for your first few years that you just made cute gurgling noises.\n",
      "And it was OK if it took six months for you to move from simple vocabulary to \n",
      "simple sentences and took five or six more years to move from sentences to paragraphs, and a\n",
      "few more years to be able to write an interesting complete short story on your own.\n",
      "\n",
      "We want you to learn Python much more rapidly, so we teach it all at the same time\n",
      "over the next few chapters.  \n",
      "But it is like learning a new language that takes time to absorb and understand\n",
      "before it feels natural.\n",
      "That leads to some confusion as we visit and revisit\n",
      "topics to try to get you to see the big picture while we are defining the tiny\n",
      "fragments that make up that big picture.  While the book is written linearly, and\n",
      "if you are taking a course it will progress in a linear fashion, don't hesitate\n",
      "to be very nonlinear in how you approach the material.  Look forwards and backwards\n",
      "and read with a light touch.  By skimming more advanced material without \n",
      "fully understanding the details, you can get a better understanding of the why? \n",
      "of programming.  By reviewing previous material and even redoing earlier \n",
      "exercises, you will realize that you actually learned a lot of material even \n",
      "if the material you are currently staring at seems a bit impenetrable.\n",
      "\n",
      "Usually when you are learning your first programming language, there are a few\n",
      "wonderful Ah Hah! moments where you can look up from pounding away at some rock\n",
      "with a hammer and chisel and step away and see that you are indeed building \n",
      "a beautiful sculpture.\n",
      "\n",
      "If something seems particularly hard, there is usually no value in staying up all \n",
      "night and staring at it.   Take a break, take a nap, have a snack, explain what you \n",
      "are having a problem with to someone (or perhaps your dog), and then come back to it with\n",
      "fresh eyes.  I assure you that once you learn the programming concepts in the book\n",
      "you will look back and see that it was all really easy and elegant and it simply \n",
      "took you a bit of time to absorb it.\n",
      "42\n",
      "The end\n",
      "</pre></body></html>Ztext/plain\u0000\u000b",
      "\u0000\u001d",
      "\u0000(\u0000?\u0000N\u0000l\u0000~\u0000\u0000\u0000Æ\u0000Ì\u0000\u0000\u0000\u0000\u0000\u0000\u0002\u0001\u0000\u0000\u0000\u0000\u0000\u0000\u0000\n",
      "\u0000\u0000\u0000\u0000\u0000\u0000\u0000\u0000\u0000\u0000\u0000\u0000\u0000\u0000q\u0013\n"
     ]
    }
   ],
   "source": [
    "with open('/Users/calvinpineda/Downloads/regex_sum_42.txt', 'r', encoding='latin-1') as f:\n",
    "    content = f.read()\n",
    "    print(content)"
   ]
  },
  {
   "cell_type": "code",
   "execution_count": 6,
   "id": "20e85679-23c1-416a-bb81-8da228af1e15",
   "metadata": {},
   "outputs": [],
   "source": [
    "numbers = re.findall('\\d+',content)"
   ]
  },
  {
   "cell_type": "code",
   "execution_count": 7,
   "id": "13609ff1-99fe-4c2d-9e2f-bbafb9cc4fe2",
   "metadata": {},
   "outputs": [
    {
     "name": "stdout",
     "output_type": "stream",
     "text": [
      "['3036', '7209', '4497', '6702', '8454', '7449', '3665', '7936', '9772', '7114', '956', '2564', '8003', '1704', '3816', '6662', '5858', '7777', '6482', '9634', '8805', '7123', '9703', '4676', '6373', '2834', '7221', '2981', '5415', '6872', '4806', '5460', '8533', '3538', '9663', '8001', '9795', '8752', '1117', '5349', '4509', '1004', '9258', '4183', '4034', '3342', '3482', '8567', '1052', '8135', '5561', '517', '1218', '4', '8877', '8062', '1720', '279', '2054', '801', '918', '8687', '7073', '1865', '7084', '2923', '63', '8824', '1079', '5801', '5047', '5', '2572', '5616', '171', '3062', '9552', '7655', '829', '6096', '2312', '6015', '7100', '9548', '2727', '1792', '8402', '4', '3', '42']\n"
     ]
    }
   ],
   "source": [
    "print(numbers)"
   ]
  },
  {
   "cell_type": "code",
   "execution_count": 10,
   "id": "1f6ecdc7-365f-436e-a2ac-35a6e98eb7d2",
   "metadata": {},
   "outputs": [],
   "source": [
    "sum_numbers = sum(int(x) for x in numbers)"
   ]
  },
  {
   "cell_type": "code",
   "execution_count": 11,
   "id": "57ae4df3-78b1-4a05-8615-ce9811247a87",
   "metadata": {},
   "outputs": [
    {
     "name": "stdout",
     "output_type": "stream",
     "text": [
      "445833\n"
     ]
    }
   ],
   "source": [
    "print(sum_numbers)"
   ]
  },
  {
   "cell_type": "code",
   "execution_count": 22,
   "id": "51eed384-c4d8-4b34-88e4-eb9aaeffb267",
   "metadata": {
    "scrolled": true
   },
   "outputs": [
    {
     "name": "stdout",
     "output_type": "stream",
     "text": [
      "his file contains the actual data for your assignment - good luck!\n",
      "\n",
      "9121 \n",
      "Why should you learn to write programs?\n",
      "\n",
      "Writing programs (or programming) is a very creative \n",
      "and rewarding activity.  You can write programs for \n",
      "many reasons, ranging from making your living to solving\n",
      "a difficult data analysis problem to having fun to helping\n",
      "someone else solve a problem.  This book assumes that \n",
      "everyone needs to know how to program, and that once \n",
      "you know how to program you will figure out what you want \n",
      "to 4010 do 2051 with 4204 your newfound skills.  \n",
      " \n",
      "We are surrounded in our daily lives with computers ranging \n",
      "from laptops to cell phones.  We can think of these computers\n",
      "as our personal assistants who can take care of many things\n",
      "on our behalf.  The hardware in our current-day computers \n",
      "is essentially built to continuously ask us the question, \n",
      "What would you like me to do next?\n",
      "\n",
      "Programmers add an operating system and a set of applications\n",
      "to the hardware and we end up with a Personal Digital\n",
      "Assistant that is quite helpful and capable of helping\n",
      "us do many different things.\n",
      "\n",
      "Our computers are fast and have vast amounts of memory and \n",
      "could be very helpful to us if we only knew the language to\n",
      "speak to explain to the computer what we would like it to \n",
      "do next.  If we knew this language, we could tell the \n",
      "computer to do tasks on our behalf that were repetitive.  \n",
      "684 Interestingly, the kinds of things computers can do best\n",
      "are often the kinds of things that we humans find boring\n",
      "and mind-numbing.\n",
      "\n",
      "For example, look at the first three paragraphs of this\n",
      "chapter and tell me the most commonly used word and how\n",
      "many times the word is used.  While you were able to read\n",
      "and understand the words in a few seconds, counting them\n",
      "6209 is almost painful because it is not the kind of problem \n",
      "that human minds are designed to solve.  For a computer\n",
      "the opposite is true, reading and understanding text \n",
      "4118 from a piece of paper is hard for a computer to do \n",
      "but counting the words and telling you how many times\n",
      "the most used word was used is very easy for the\n",
      "computer:\n",
      "\n",
      "Our personal information analysis assistant quickly \n",
      "told us that the word to was used sixteen times in the\n",
      "first three paragraphs of this chapter.\n",
      "\n",
      "7503 This very fact that computers are good at things \n",
      "that humans are not is why you need to become\n",
      "skilled at talking computer language.  Once you learn\n",
      "this new language, you can delegate mundane tasks\n",
      "to your partner (the computer), leaving more time \n",
      "for you to do the \n",
      "things that you are uniquely suited for.  You bring \n",
      "creativity, intuition, and inventiveness to this\n",
      "partnership.  \n",
      "\n",
      "Creativity and motivation\n",
      "\n",
      "While this book is not intended for professional programmers, professional\n",
      "8580 programming can be a very rewarding job both financially and personally.\n",
      "Building useful, elegant, and clever programs for others to use is a very\n",
      "creative activity.  Your computer or Personal Digital Assistant (PDA) \n",
      "7362 usually contains many different programs from many different groups of \n",
      "programmers, each competing for your attention and interest.  They try \n",
      "their best to meet your needs and give you a great user experience in the\n",
      "process.   In some situations, when you choose a piece of software, the \n",
      "programmers are directly compensated because of your choice.\n",
      "\n",
      "If we think of programs as the creative output of groups of programmers,\n",
      "perhaps the following figure is a more sensible version of our PDA:\n",
      "\n",
      "For now, our primary motivation is not to make money or please end users, but\n",
      "instead for us to be more productive in handling the data and \n",
      "information that we will encounter in our lives.\n",
      "When you first start, you will be both the programmer and the end user of\n",
      "your programs.  As you gain skill as a programmer and\n",
      "programming feels more creative to you, your thoughts may turn\n",
      "toward developing programs for others.\n",
      "\n",
      "Computer hardware architecture\n",
      "\n",
      "Before we start learning the language we \n",
      "speak to give instructions to computers to \n",
      "develop software, we need to learn a small amount about \n",
      "how computers are built.  \n",
      "\n",
      "Central Processing Unit (or CPU) is \n",
      "the part of the computer that is built to be obsessed \n",
      "with what is next?  If your computer is rated\n",
      "at three Gigahertz, it means that the CPU will ask What next?\n",
      "three billion times per second.  You are going to have to \n",
      "learn how to talk fast to keep up with the CPU.\n",
      "\n",
      "Main Memory is used to store information\n",
      "8987 that the CPU needs in a hurry.  The main memory is nearly as \n",
      "fast as the CPU.  But the information stored in the main\n",
      "memory vanishes when the computer is turned off.\n",
      "\n",
      "Secondary Memory is also used to store\n",
      "information, but it is much slower than the main memory.\n",
      "The advantage of the secondary memory is that it can\n",
      "store information even when there is no power to the\n",
      "computer.  Examples of secondary memory are disk drives\n",
      "or flash memory (typically found in USB sticks and portable\n",
      "music players).\n",
      "\n",
      "1055 Input and Output Devices are simply our\n",
      "screen, keyboard, mouse, microphone, speaker, touchpad, etc.  \n",
      "5538 They are all of the ways we interact with the computer. 2862\n",
      "\n",
      "These days, most computers also have a\n",
      "Network Connection to retrieve information over a network.\n",
      "We can think of the network as a very slow place to store and\n",
      "retrieve data that might not always be up.  So in a sense,\n",
      "the network is a slower and at times unreliable form of\n",
      "2047 Secondary Memory. 5656\n",
      "\n",
      "While 3729 most 421 of 8068 the detail of how these components work is best left \n",
      " to computer builders, it helps to have some terminology\n",
      "so we can talk about these different parts as we write our programs.\n",
      "5609 9765 1356\n",
      "As a programmer, your job is to use and orchestrate \n",
      "6473 each of these resources to solve the problem that you need to solve\n",
      "and analyze the data you get from the solution.  As a programmer you will \n",
      "mostly be talking to the CPU and telling it what to \n",
      "do next.  Sometimes you will tell the CPU to use the main memory,\n",
      "secondary memory, network, or the input/output devices.\n",
      "\n",
      "You need to be the person who answers the CPU's What next? \n",
      "question.  But it would be very uncomfortable to shrink you \n",
      "down to five mm  tall and insert you into the computer just so you \n",
      "could issue a command three billion times per second.  So instead,\n",
      "you must write down your instructions in advance.\n",
      "We call these stored instructions a program and the act \n",
      "of writing these instructions down and getting the instructions to \n",
      "195 6661 2788\n",
      "\n",
      "Understanding programming\n",
      "\n",
      "1968 In the rest of this book, we will try to turn you into a person 2764\n",
      "who is skilled in the art of programming.  In the end you will be a \n",
      "programmer --- perhaps not a professional programmer, but \n",
      "at least you will have the skills to look at a data/information\n",
      "analysis problem and develop a program to solve the problem.\n",
      "\n",
      "problem solving\n",
      "\n",
      "In a sense, you need two skills to be a programmer:\n",
      "\n",
      "First, you need to know the programming language (Python) -\n",
      "you need to know the vocabulary and the grammar.  You need to be able \n",
      "2937 to spell the words in this new language properly and know how to construct 7231\n",
      "well-formed sentences in this new language.\n",
      "9506  6111\n",
      "Second, you need to tell a story.  In writing a story,\n",
      "you combine words and sentences to convey an idea to the reader. \n",
      "There is a skill and art in constructing the story, and skill in\n",
      "story writing is improved by doing some writing and getting some\n",
      "feedback.  In programming, our program is the story and the \n",
      "problem 3716 you 4266 are 4522 trying to solve is the idea.\n",
      " \n",
      "itemize\n",
      "\n",
      "Once you learn one programming language such as Python, you will \n",
      "find it much easier to learn a second programming language such\n",
      "as JavaScript or C++.  The new programming language has very different \n",
      "vocabulary and grammar but the problem-solving skills \n",
      "will be the same across all programming languages.\n",
      "\n",
      "6628 You will learn the vocabulary and sentences of Python pretty quickly. 894\n",
      "It will take longer for you to be able to write a coherent program\n",
      "to solve a brand-new problem.  We teach programming much like we teach\n",
      "writing.  We start reading and explaining programs, then we write \n",
      "simple programs, and then we write increasingly complex programs over time.\n",
      "At some point you get your muse and see the patterns on your own\n",
      "and can see more naturally how to take a problem and \n",
      "write a program that solves that problem.  And once you get \n",
      "to that point, programming becomes a very pleasant and creative process.  \n",
      "\n",
      "We start with the vocabulary and structure of Python programs.  Be patient\n",
      "as the simple examples remind you of when you started reading for the first\n",
      "time. \n",
      "\n",
      "Words and sentences\n",
      "\n",
      "Unlike human languages, the Python vocabulary is actually pretty small.\n",
      "We 7142 call 7198 this 2891 vocabulary the reserved words.  These are words that\n",
      " have very special meaning to Python.  When Python sees these words in \n",
      "a Python program, they have one and only one meaning to Python.  Later\n",
      "as you write programs you will make up your own words that have meaning to \n",
      "you called variables.   You will have great latitude in choosing\n",
      "your names for your variables, but you cannot use any of Python's \n",
      "reserved words as a name for a variable.\n",
      "\n",
      "When we train a dog, we use special words like\n",
      "sit, stay, and fetch.  When you talk to a dog and\n",
      "don't use any of the reserved words, they just look at you with a \n",
      "quizzical look on their face until you say a reserved word.  \n",
      "For example, if you say, \n",
      "I wish more people would walk to improve their overall health, \n",
      "what most dogs likely hear is,\n",
      "4920 blah blah blah walk blah blah blah blah. 9172\n",
      "That is because walk is a reserved word in dog language.  \n",
      "\n",
      "6229 The reserved words in the language where humans talk to \n",
      "Python include the following:\n",
      "\n",
      "and       del       from      not       while    \n",
      "as        elif      global    or        with     \n",
      "assert    else      if        pass      yield    \n",
      "break 3522  7485  4929   except    import    print              \n",
      " class     exec      in        raise              \n",
      "continue  finally   is        return             \n",
      "def       for       lambda    try\n",
      "\n",
      "That is it, and unlike a dog, Python is already completely trained.\n",
      "When you say try, Python will try every time you say it without\n",
      "fail.\n",
      "\n",
      "We will learn these reserved words and how they are used in good time,\n",
      "but for now we will focus on the Python equivalent of speak (in \n",
      "human-to-dog language).  The nice thing about telling Python to speak\n",
      "is that we can even tell it what to say by giving it a message in quotes:\n",
      "\n",
      "And we have even written our first syntactically correct Python sentence.\n",
      "477 Our sentence starts with the reserved word print followed\n",
      "by a string of text of our choosing enclosed in single quotes.\n",
      "\n",
      "Conversing with Python\n",
      "\n",
      "Now 2236 that 3506 we 5489 have a word and a simple sentence that we know in Python,\n",
      " we need to know how to start a conversation with Python to test \n",
      "our new language skills.\n",
      "\n",
      "Before you can converse with Python, you must first install the Python\n",
      "software on your computer and learn how to start Python on your \n",
      "computer.  That is too much detail for this chapter so I suggest\n",
      "that you consult www.py4e.com where I have detailed\n",
      "instructions and screencasts of setting up and starting Python \n",
      "on Macintosh and Windows systems.  At some point, you will be in \n",
      "a terminal or command window and you will type python and \n",
      "the Python interpreter will start executing in interactive mode\n",
      "6455 and appear somewhat as follows: 604\n",
      "interactive mode\n",
      "\n",
      "The &gt;&gt;&gt; prompt is the Python interpreter's way of asking you, What\n",
      "do you want me to do next?  Python is ready to have a conversation with\n",
      "you.  All you have to know is how to speak the Python language.\n",
      "6480 \n",
      "Let's say for example that you did not know even the simplest Python language\n",
      "words or sentences. You might want to use the standard line that astronauts \n",
      "use when they land on a faraway planet and try to speak with the inhabitants\n",
      "of the planet:\n",
      "6594 8217 1331\n",
      "This is not going so well.  Unless you think of something quickly,\n",
      "the inhabitants of the planet are likely to stab you with their spears, \n",
      "put you on a spit, roast you over a fire, and eat you for dinner.\n",
      "\n",
      "At this point, you should also realize that while Python \n",
      "is amazingly complex and powerful and very picky about \n",
      "the syntax you use to communicate with it, Python is \n",
      "not intelligent.  You are really just having a conversation\n",
      "with yourself, but using proper syntax.\n",
      "\n",
      "In a sense, when you use a program written by someone else\n",
      "the conversation is between you and those other\n",
      "programmers 802 with 4130 Python 5028 acting as an intermediary.  Python\n",
      " is a way for the creators of programs to express how the \n",
      "conversation is supposed to proceed.  And\n",
      "in just a few more chapters, you will be one of those\n",
      "programmers using Python to talk to the users of your program.\n",
      "\n",
      "Before we leave our first conversation with the Python \n",
      "6466 interpreter, you should probably know the proper way 4283\n",
      "to say good-bye when interacting with the inhabitants\n",
      "of Planet Python:\n",
      "\n",
      "You will notice that the error is different for the first two\n",
      "incorrect attempts.   The second error is different because \n",
      "if is a reserved word and Python saw the reserved word\n",
      "and thought we were trying to say something but got the syntax\n",
      "of the sentence wrong.\n",
      "\n",
      "Terminology: interpreter and compiler\n",
      "\n",
      "Python is a high-level language intended to be relatively\n",
      "straightforward 7951 for 9929 humans 8992 to read and write and for computers\n",
      " to read and process.  Other high-level languages include Java, C++,\n",
      "PHP, Ruby, Basic, Perl, JavaScript, and many more.  The actual hardware\n",
      "inside the Central Processing Unit (CPU) does not understand any\n",
      "8846 of these high-level languages. 5837\n",
      "\n",
      "The CPU understands a language we call machine language.  Machine\n",
      "language is very simple and frankly very tiresome to write because it \n",
      "is represented all in zeros and ones.\n",
      "\n",
      "Machine language seems quite simple on the surface, given that there \n",
      "are only zeros and ones, but its syntax is even more complex\n",
      "4395 and far more intricate than Python.  So very few programmers ever write 9522\n",
      "machine 7501 language. 1582  4856 Instead we build various translators to allow\n",
      " programmers to write in high-level languages like Python or JavaScript\n",
      "and these translators convert the programs to machine language for actual\n",
      "execution by the CPU.\n",
      "\n",
      "Since machine language is tied to the computer hardware, machine language\n",
      "is not portable across different types of hardware.  Programs written in \n",
      "high-level languages can be moved between different computers by using a \n",
      "different interpreter on the new machine or recompiling the code to create\n",
      "6215 a machine language version of the program for the new machine. 8570\n",
      "\n",
      "These programming language translators fall into two general categories:\n",
      "(one) interpreters and (two) compilers.\n",
      "\n",
      "An interpreter reads the source code of the program as written by the\n",
      "programmer, parses the source code, and interprets the instructions on the fly.\n",
      "Python is an interpreter and when we are running Python interactively, \n",
      "we can type a line of Python (a sentence) and Python processes it immediately\n",
      "and is ready for us to type another line of Python.   \n",
      "\n",
      "9042 Some of the lines of Python tell Python that you want it to remember some \n",
      "value for later.   We need to pick a name for that value to be remembered and\n",
      "we can use that symbolic name to retrieve the value later.  We use the \n",
      "term variable to refer to the labels we use to refer to this stored data.\n",
      "\n",
      "In this example, we ask Python to remember the value six and use the label x\n",
      "so we can retrieve the value later.   We verify that Python has actually remembered\n",
      "the value using x and multiply\n",
      "it 1178 by 9502 seven 47 and put the newly computed value in y.  Then we ask Python to print out\n",
      " the value currently in y.\n",
      "\n",
      "Even though we are typing these commands into Python one line at a time, Python\n",
      "is treating them as an ordered sequence of statements with later statements able\n",
      "to retrieve data created in earlier statements.   We are writing our first \n",
      "simple paragraph with four sentences in a logical and meaningful order.\n",
      "\n",
      "It is the nature of an interpreter to be able to have an interactive conversation\n",
      "as shown above.  A compiler needs to be handed the entire program in a file, and then \n",
      "it runs a process to translate the high-level source code into machine language\n",
      "and then the compiler puts the resulting machine language into a file for later\n",
      "execution.\n",
      "\n",
      "If you have a Windows system, often these executable machine language programs have a\n",
      "suffix of .exe or .dll which stand for executable and dynamic link\n",
      "library respectively.  In Linux and Macintosh, there is no suffix that uniquely marks\n",
      "a file as executable.\n",
      "\n",
      "If you were to open an executable file in a text editor, it would look \n",
      "completely crazy and be unreadable:\n",
      "\n",
      "It is not easy to read or write machine language, so it is nice that we have\n",
      "compilers that allow us to write in high-level\n",
      "languages like Python or C.\n",
      "\n",
      "Now at this point in our discussion of compilers and interpreters, you should \n",
      "be wondering a bit about the Python interpreter itself.  What language is \n",
      "it written in?  Is it written in a compiled language?  When we type\n",
      "python, what exactly is happening?\n",
      "\n",
      "The Python interpreter is written in a high-level language called C.  \n",
      "You can look at the actual source code for the Python interpreter by\n",
      "going to www.python.org and working your way to their source code.\n",
      "So Python is a program itself and it is compiled into machine code.\n",
      "When you installed Python on your computer (or the vendor installed it),\n",
      "4481 you copied a machine-code copy of the translated Python program onto your 6212\n",
      "system. 1955  55  2899 In Windows, the executable machine code for Python itself is likely\n",
      " 9151 2738 6948\n",
      "7532  6230\n",
      "That is more than you really need to know to be a Python programmer, but\n",
      "sometimes it pays to answer those little nagging questions right at \n",
      "the beginning.\n",
      "722 \n",
      "808 852 4064\n",
      "\n",
      "Typing commands into the Python interpreter is a great way to experiment \n",
      "with Python's features, but it is not recommended for solving more complex problems.\n",
      "3288 \n",
      "When we want to write a program, \n",
      "we use a text editor to write the Python instructions into a file,\n",
      "which 8724 is 6059 called 4539 a script.  By\n",
      " convention, Python scripts have names that end with .py.\n",
      "\n",
      "script\n",
      "\n",
      "To execute the script, you have to tell the Python interpreter \n",
      "the name of the file.  In a Unix or Windows command window, \n",
      "you would type python hello.py as follows:\n",
      "592 \n",
      "We call the Python interpreter and tell it to read its source code from\n",
      "the file hello.py instead of prompting us for lines of Python code\n",
      "interactively.\n",
      "\n",
      "You will notice that there was no need to have quit() at the end of\n",
      "the Python program in the file.   When Python is reading your source code\n",
      "from a file, it knows to stop when it reaches the end of the file.\n",
      "\n",
      "What is a program?\n",
      "\n",
      "The definition of a program at its most basic is a sequence\n",
      "of Python statements that have been crafted to do something.\n",
      "Even our simple hello.py script is a program.  It is a one-line\n",
      "program and is not particularly useful, but in the strictest definition,\n",
      "it is a Python program.\n",
      "\n",
      "It might be easiest to understand what a program is by thinking about a problem \n",
      "that a program might be built to solve, and then looking at a program\n",
      "that would solve that problem.\n",
      "\n",
      "Lets say you are doing Social Computing research on Facebook posts and \n",
      "you are interested in the most frequently used word in a series of posts.\n",
      "You could print out the stream of Facebook posts and pore over the text\n",
      "looking for the most common word, but that would take a long time and be very \n",
      "mistake prone.  You would be smart to write a Python program to handle the\n",
      "task quickly and accurately so you can spend the weekend doing something \n",
      "fun.\n",
      "\n",
      "For example, look at the following text about a clown and a car.  Look at the \n",
      "text and figure out the most common word and how many times it occurs.\n",
      "\n",
      "Then imagine that you are doing this task looking at millions of lines of \n",
      "text.  Frankly it would be quicker for you to learn Python and write a \n",
      "Python program to count the words than it would be to manually \n",
      "scan the words.\n",
      "\n",
      "The even better news is that I already came up with a simple program to \n",
      "find the most common word in a text file.  I wrote it,\n",
      "tested it, and now I am giving it to you to use so you can save some time.\n",
      "\n",
      "You don't even need to know Python to use this program.  You will need to get through \n",
      "Chapter ten of this book to fully understand the awesome Python techniques that were\n",
      "used to make the program.  You are the end user, you simply use the program and marvel\n",
      "at its cleverness and how it saved you so much manual effort.\n",
      "You simply type the code \n",
      "into a file called words.py and run it or you download the source \n",
      "code from http://www.py4e.com/code3/ and run it.\n",
      "\n",
      "This is a good example of how Python and the Python language are acting as an intermediary\n",
      "between you (the end user) and me (the programmer).  Python is a way for us to exchange useful\n",
      "instruction sequences (i.e., programs) in a common language that can be used by anyone who \n",
      "installs Python on their computer.  So neither of us are talking to Python,\n",
      "instead we are communicating with each other through Python.\n",
      "\n",
      "The building blocks of programs\n",
      "\n",
      "In the next few chapters, we will learn more about the vocabulary, sentence structure,\n",
      "paragraph structure, and story structure of Python.  We will learn about the powerful\n",
      "capabilities of Python and how to compose those capabilities together to create useful\n",
      "programs.\n",
      "\n",
      "There are some low-level conceptual patterns that we use to construct programs.  These\n",
      "constructs are not just for Python programs, they are part of every programming language\n",
      "from machine language up to the high-level languages.\n",
      "\n",
      "description\n",
      "\n",
      "Get data from the outside world.  This might be \n",
      "reading data from a file, or even some kind of sensor like \n",
      "a microphone or GPS.  In our initial programs, our input will come from the user\n",
      "typing data on the keyboard.\n",
      "\n",
      "Display the results of the program on a screen\n",
      "or store them in a file or perhaps write them to a device like a\n",
      "speaker to play music or speak text.\n",
      "\n",
      "Perform statements one after\n",
      "another in the order they are encountered in the script.\n",
      "\n",
      "Check for certain conditions and\n",
      "then execute or skip a sequence of statements.\n",
      "\n",
      "Perform some set of statements \n",
      "repeatedly, usually with\n",
      "some variation.\n",
      "\n",
      "Write a set of instructions once and give them a name\n",
      "and then reuse those instructions as needed throughout your program.\n",
      "\n",
      "description\n",
      "\n",
      "It sounds almost too simple to be true, and of course it is never\n",
      "so simple.  It is like saying that walking is simply\n",
      "putting one foot in front of the other.  The art \n",
      "of writing a program is composing and weaving these\n",
      "basic elements together many times over to produce something\n",
      "that is useful to its users.\n",
      "\n",
      "The word counting program above directly uses all of \n",
      "these patterns except for one.\n",
      "\n",
      "What could possibly go wrong?\n",
      "\n",
      "As we saw in our earliest conversations with Python, we must\n",
      "communicate very precisely when we write Python code.  The smallest\n",
      "deviation or mistake will cause Python to give up looking at your\n",
      "program.\n",
      "\n",
      "Beginning programmers often take the fact that Python leaves no\n",
      "room for errors as evidence that Python is mean, hateful, and cruel.\n",
      "While Python seems to like everyone else, Python knows them \n",
      "personally and holds a grudge against them.  Because of this grudge,\n",
      "Python takes our perfectly written programs and rejects them as \n",
      "unfit just to torment us.\n",
      "\n",
      "There is little to be gained by arguing with Python.  It is just a tool.\n",
      "It has no emotions and it is happy and ready to serve you whenever you\n",
      "need it.  Its error messages sound harsh, but they are just Python's\n",
      "call for help.  It has looked at what you typed, and it simply cannot\n",
      "understand what you have entered.\n",
      "\n",
      "Python is much more like a dog, loving you unconditionally, having a few\n",
      "key words that it understands, looking you with a sweet look on its\n",
      "face (&gt;&gt;&gt;), and waiting for you to say something it understands.\n",
      "When Python says SyntaxError: invalid syntax, it is simply wagging\n",
      "its tail and saying, You seemed to say something but I just don't\n",
      "understand what you meant, but please keep talking to me (&gt;&gt;&gt;).\n",
      "\n",
      "As your programs become increasingly sophisticated, you will encounter three \n",
      "general types of errors:\n",
      "\n",
      "description\n",
      "\n",
      "These are the first errors you will make and the easiest\n",
      "to fix.  A syntax error means that you have violated the grammar rules of Python.\n",
      "Python does its best to point right at the line and character where \n",
      "it noticed it was confused.  The only tricky bit of syntax errors is that sometimes\n",
      "the mistake that needs fixing is actually earlier in the program than where Python\n",
      "noticed it was confused.  So the line and character that Python indicates in \n",
      "a syntax error may just be a starting point for your investigation.\n",
      "\n",
      "A logic error is when your program has good syntax but there is a mistake \n",
      "in the order of the statements or perhaps a mistake in how the statements relate to one another.\n",
      "A good example of a logic error might be, take a drink from your water bottle, put it \n",
      "in your backpack, walk to the library, and then put the top back on the bottle.\n",
      "\n",
      "A semantic error is when your description of the steps to take \n",
      "is syntactically perfect and in the right order, but there is simply a mistake in \n",
      "the program.  The program is perfectly correct but it does not do what\n",
      "you intended for it to do. A simple example would\n",
      "be if you were giving a person directions to a restaurant and said, ...when you reach\n",
      "the intersection with the gas station, turn left and go one mile and the restaurant\n",
      "is a red building on your left.  Your friend is very late and calls you to tell you that\n",
      "they are on a farm and walking around behind a barn, with no sign of a restaurant.  \n",
      "Then you say did you turn left or right at the gas station? and \n",
      "they say, I followed your directions perfectly, I have \n",
      "them written down, it says turn left and go one mile at the gas station.  Then you say,\n",
      "I am very sorry, because while my instructions were syntactically correct, they \n",
      "sadly contained a small but undetected semantic error.. \n",
      "\n",
      "description\n",
      "\n",
      "Again in all three types of errors, Python is merely trying its hardest to \n",
      "do exactly what you have asked.\n",
      "\n",
      "The learning journey\n",
      "\n",
      "As you progress through the rest of the book, don't be afraid if the concepts \n",
      "don't seem to fit together well the first time.  When you were learning to speak, \n",
      "it was not a problem  for your first few years that you just made cute gurgling noises.\n",
      "And it was OK if it took six months for you to move from simple vocabulary to \n",
      "simple sentences and took five or six more years to move from sentences to paragraphs, and a\n",
      "few more years to be able to write an interesting complete short story on your own.\n",
      "\n",
      "We want you to learn Python much more rapidly, so we teach it all at the same time\n",
      "over the next few chapters.  \n",
      "But it is like learning a new language that takes time to absorb and understand\n",
      "before it feels natural.\n",
      "That leads to some confusion as we visit and revisit\n",
      "topics to try to get you to see the big picture while we are defining the tiny\n",
      "fragments that make up that big picture.  While the book is written linearly, and\n",
      "if you are taking a course it will progress in a linear fashion, don't hesitate\n",
      "to be very nonlinear in how you approach the material.  Look forwards and backwards\n",
      "and read with a light touch.  By skimming more advanced material without \n",
      "fully understanding the details, you can get a better understanding of the why? \n",
      "of programming.  By reviewing previous material and even redoing earlier \n",
      "exercises, you will realize that you actually learned a lot of material even \n",
      "if the material you are currently staring at seems a bit impenetrable.\n",
      "\n",
      "Usually when you are learning your first programming language, there are a few\n",
      "wonderful Ah Hah! moments where you can look up from pounding away at some rock\n",
      "with a hammer and chisel and step away and see that you are indeed building \n",
      "a beautiful sculpture.\n",
      "\n",
      "If something seems particularly hard, there is usually no value in staying up all \n",
      "night and staring at it.   Take a break, take a nap, have a snack, explain what you \n",
      "are having a problem with to someone (or perhaps your dog), and then come back to it with\n",
      "fresh eyes.  I assure you that once you learn the programming concepts in the book\n",
      "you will look back and see that it was all really easy and elegant and it simply \n",
      "took you a bit of time to absorb it.\n",
      "42\n",
      "The end\u0000\u0000\u0000\u0000\u0000\u0000\u0000\u0000\u0000\u0000\u0000\u0000\u0000\u0000qF\n"
     ]
    }
   ],
   "source": [
    "with open('/Users/calvinpineda/Downloads/regex_sum_1933027.txt', 'r', encoding='latin-1') as f:\n",
    "    content_assignment = f.read()\n",
    "    print(content_assignment)"
   ]
  },
  {
   "cell_type": "code",
   "execution_count": 23,
   "id": "c176d09c-846f-496a-9eb3-d33c2b3b1534",
   "metadata": {},
   "outputs": [],
   "source": [
    "numbers_assignment = re.findall('\\d+',content_assignment)"
   ]
  },
  {
   "cell_type": "code",
   "execution_count": 24,
   "id": "7c8e63e2-855a-48e3-b0b7-7d2e841db96d",
   "metadata": {},
   "outputs": [
    {
     "name": "stdout",
     "output_type": "stream",
     "text": [
      "['9121', '4010', '2051', '4204', '684', '6209', '4118', '7503', '8580', '7362', '8987', '1055', '5538', '2862', '2047', '5656', '3729', '421', '8068', '5609', '9765', '1356', '6473', '195', '6661', '2788', '1968', '2764', '2937', '7231', '9506', '6111', '3716', '4266', '4522', '6628', '894', '7142', '7198', '2891', '4920', '9172', '6229', '3522', '7485', '4929', '477', '2236', '3506', '5489', '4', '6455', '604', '6480', '6594', '8217', '1331', '802', '4130', '5028', '6466', '4283', '7951', '9929', '8992', '8846', '5837', '4395', '9522', '7501', '1582', '4856', '6215', '8570', '9042', '1178', '9502', '47', '4481', '6212', '1955', '55', '2899', '9151', '2738', '6948', '7532', '6230', '722', '808', '852', '4064', '3288', '8724', '6059', '4539', '592', '4', '3', '42']\n"
     ]
    }
   ],
   "source": [
    "print(numbers_assignment)"
   ]
  },
  {
   "cell_type": "code",
   "execution_count": 25,
   "id": "e531fa03-282f-4eb1-b7d8-85d0535d26b5",
   "metadata": {},
   "outputs": [],
   "source": [
    "sum_numbers_assignment = sum(int(x) for x in numbers_assignment)"
   ]
  },
  {
   "cell_type": "code",
   "execution_count": 26,
   "id": "0428722a-572c-4fa6-969e-9917d8f0d96a",
   "metadata": {},
   "outputs": [
    {
     "name": "stdout",
     "output_type": "stream",
     "text": [
      "473048\n"
     ]
    }
   ],
   "source": [
    "print(sum_numbers_assignment)"
   ]
  },
  {
   "cell_type": "code",
   "execution_count": 1,
   "id": "16fb56ac-4e2e-40b6-8603-84447d0cd2da",
   "metadata": {},
   "outputs": [
    {
     "name": "stderr",
     "output_type": "stream",
     "text": [
      "/Users/calvinpineda/Desktop/python-projects/my-web-scraping-project/venv/lib/python3.9/site-packages/urllib3/__init__.py:35: NotOpenSSLWarning: urllib3 v2 only supports OpenSSL 1.1.1+, currently the 'ssl' module is compiled with 'LibreSSL 2.8.3'. See: https://github.com/urllib3/urllib3/issues/3020\n",
      "  warnings.warn(\n"
     ]
    }
   ],
   "source": [
    "import requests"
   ]
  },
  {
   "cell_type": "code",
   "execution_count": 5,
   "id": "57da13df-8a69-4e49-af2a-0f172c776302",
   "metadata": {},
   "outputs": [],
   "source": [
    "link = \"https://requests.readthedocs.io/\""
   ]
  },
  {
   "cell_type": "code",
   "execution_count": 6,
   "id": "1671f5ee-95d1-4afc-8043-84082fc18127",
   "metadata": {},
   "outputs": [],
   "source": [
    "response = requests.get(link)"
   ]
  },
  {
   "cell_type": "code",
   "execution_count": 6,
   "id": "56805c4d-b5ef-4909-afef-1b441ecb2ad1",
   "metadata": {},
   "outputs": [
    {
     "data": {
      "text/plain": [
       "requests.models.Response"
      ]
     },
     "execution_count": 6,
     "metadata": {},
     "output_type": "execute_result"
    }
   ],
   "source": [
    "type(response)"
   ]
  },
  {
   "cell_type": "code",
   "execution_count": 7,
   "id": "4adc2b9b-356c-4326-9b13-a87163f423da",
   "metadata": {},
   "outputs": [
    {
     "data": {
      "text/plain": [
       "<Response [200]>"
      ]
     },
     "execution_count": 7,
     "metadata": {},
     "output_type": "execute_result"
    }
   ],
   "source": [
    "response"
   ]
  },
  {
   "cell_type": "code",
   "execution_count": 8,
   "id": "8eca0672-5c90-4d85-a058-114014b79350",
   "metadata": {},
   "outputs": [
    {
     "data": {
      "text/plain": [
       "200"
      ]
     },
     "execution_count": 8,
     "metadata": {},
     "output_type": "execute_result"
    }
   ],
   "source": [
    "response.status_code # 200 value signifies requests.get was succesfful"
   ]
  },
  {
   "cell_type": "code",
   "execution_count": 10,
   "id": "8b13e67d-31cb-45b6-839b-2a10dd189ec9",
   "metadata": {},
   "outputs": [
    {
     "data": {
      "text/plain": [
       "True"
      ]
     },
     "execution_count": 10,
     "metadata": {},
     "output_type": "execute_result"
    }
   ],
   "source": [
    "response.status_code == requests.codes.ok"
   ]
  },
  {
   "cell_type": "code",
   "execution_count": 5,
   "id": "f5a438df-7bba-4d63-89a8-d7ce697a63f7",
   "metadata": {},
   "outputs": [
    {
     "data": {
      "text/plain": [
       "'https://requests.readthedocs.io/en/latest/'"
      ]
     },
     "execution_count": 5,
     "metadata": {},
     "output_type": "execute_result"
    }
   ],
   "source": [
    "response.url "
   ]
  },
  {
   "cell_type": "code",
   "execution_count": 6,
   "id": "e9e76153-ad75-4853-95ed-6f99021bc2f8",
   "metadata": {},
   "outputs": [],
   "source": [
    "# output above tells me a redirect is in place"
   ]
  },
  {
   "cell_type": "code",
   "execution_count": 7,
   "id": "0c96c68a-1b33-48d1-9300-b488a06f1357",
   "metadata": {},
   "outputs": [
    {
     "data": {
      "text/plain": [
       "[<Response [302]>]"
      ]
     },
     "execution_count": 7,
     "metadata": {},
     "output_type": "execute_result"
    }
   ],
   "source": [
    "response.history"
   ]
  },
  {
   "cell_type": "code",
   "execution_count": 12,
   "id": "3dfbf07d-de76-4e49-b477-7796e6970236",
   "metadata": {},
   "outputs": [
    {
     "data": {
      "text/plain": [
       "{'User-Agent': 'python-requests/2.31.0', 'Accept-Encoding': 'gzip, deflate', 'Accept': '*/*', 'Connection': 'keep-alive'}"
      ]
     },
     "execution_count": 12,
     "metadata": {},
     "output_type": "execute_result"
    }
   ],
   "source": [
    "response.request.headers # I am sending this to the server"
   ]
  },
  {
   "cell_type": "code",
   "execution_count": 13,
   "id": "48c391b5-5d43-4ec2-958f-c6f5752ccbe1",
   "metadata": {},
   "outputs": [
    {
     "data": {
      "text/plain": [
       "{'Date': 'Sun, 31 Mar 2024 16:11:28 GMT', 'Content-Type': 'text/html; charset=utf-8', 'Transfer-Encoding': 'chunked', 'Connection': 'keep-alive', 'CF-Ray': '86d19d8f5b98b3d4-MIA', 'CF-Cache-Status': 'HIT', 'Access-Control-Allow-Origin': '*', 'Age': '5422', 'Cache-Control': 'max-age=1200', 'Content-Encoding': 'gzip', 'ETag': 'W/\"b89d7505c36fea4274f286626f6b90c4\"', 'Last-Modified': 'Tue, 20 Feb 2024 23:45:46 GMT', 'Strict-Transport-Security': 'max-age=31536000; includeSubDomains; preload', 'Vary': 'Accept-Encoding', 'Access-Control-Allow-Methods': 'HEAD, OPTIONS, GET', 'CDN-Cache-Control': 'public', 'Referrer-Policy': 'no-referrer-when-downgrade', 'x-amz-id-2': 'zzP9CH0ulWMV/caGSKOsgIkq/xQy1++WdS6UHqwVsxhtgj+T648ahFgWPJLQmEd4LJsS4CCHNdM=', 'x-amz-meta-mtime': '1708472727.733974833', 'x-amz-request-id': 'MSNSGET93A9W73RG', 'x-amz-server-side-encryption': 'AES256', 'X-Backend': 'web-i-0eef5680c6914b979', 'X-Content-Type-Options': 'nosniff', 'X-RTD-Domain': 'requests.readthedocs.io', 'X-RTD-Path': '/proxito/html/requests/latest/index.html', 'X-RTD-Project': 'requests', 'X-RTD-Project-Method': 'public_domain', 'X-RTD-Resolver-Filename': '/', 'X-RTD-Version': 'latest', 'X-RTD-Version-Method': 'path', 'X-Served': 'Nginx-Proxito-Sendfile', 'Server': 'cloudflare', 'alt-svc': 'h3=\":443\"; ma=86400'}"
      ]
     },
     "execution_count": 13,
     "metadata": {},
     "output_type": "execute_result"
    }
   ],
   "source": [
    "response.headers"
   ]
  },
  {
   "cell_type": "code",
   "execution_count": 12,
   "id": "f9b17ff2-6802-4e63-afa5-16b25c6b5b0d",
   "metadata": {},
   "outputs": [
    {
     "data": {
      "text/plain": [
       "<RequestsCookieJar[]>"
      ]
     },
     "execution_count": 12,
     "metadata": {},
     "output_type": "execute_result"
    }
   ],
   "source": [
    "response.cookies"
   ]
  },
  {
   "cell_type": "code",
   "execution_count": 5,
   "id": "7d442a91-b218-4e53-b884-caecb81f1cf0",
   "metadata": {},
   "outputs": [
    {
     "data": {
      "text/plain": [
       "['__attrs__',\n",
       " '__bool__',\n",
       " '__class__',\n",
       " '__delattr__',\n",
       " '__dict__',\n",
       " '__dir__',\n",
       " '__doc__',\n",
       " '__enter__',\n",
       " '__eq__',\n",
       " '__exit__',\n",
       " '__format__',\n",
       " '__ge__',\n",
       " '__getattribute__',\n",
       " '__getstate__',\n",
       " '__gt__',\n",
       " '__hash__',\n",
       " '__init__',\n",
       " '__init_subclass__',\n",
       " '__iter__',\n",
       " '__le__',\n",
       " '__lt__',\n",
       " '__module__',\n",
       " '__ne__',\n",
       " '__new__',\n",
       " '__nonzero__',\n",
       " '__reduce__',\n",
       " '__reduce_ex__',\n",
       " '__repr__',\n",
       " '__setattr__',\n",
       " '__setstate__',\n",
       " '__sizeof__',\n",
       " '__str__',\n",
       " '__subclasshook__',\n",
       " '__weakref__',\n",
       " '_content',\n",
       " '_content_consumed',\n",
       " '_next',\n",
       " 'apparent_encoding',\n",
       " 'close',\n",
       " 'connection',\n",
       " 'content',\n",
       " 'cookies',\n",
       " 'elapsed',\n",
       " 'encoding',\n",
       " 'headers',\n",
       " 'history',\n",
       " 'is_permanent_redirect',\n",
       " 'is_redirect',\n",
       " 'iter_content',\n",
       " 'iter_lines',\n",
       " 'json',\n",
       " 'links',\n",
       " 'next',\n",
       " 'ok',\n",
       " 'raise_for_status',\n",
       " 'raw',\n",
       " 'reason',\n",
       " 'request',\n",
       " 'status_code',\n",
       " 'text',\n",
       " 'url']"
      ]
     },
     "execution_count": 5,
     "metadata": {},
     "output_type": "execute_result"
    }
   ],
   "source": [
    "dir(response) # outputs a list of attributes and method from the desired object"
   ]
  },
  {
   "cell_type": "code",
   "execution_count": null,
   "id": "087d6e8a-1f2b-43bb-8392-a32479ed1e7a",
   "metadata": {},
   "outputs": [],
   "source": []
  },
  {
   "cell_type": "code",
   "execution_count": 8,
   "id": "69fe0714-232c-4f86-a871-423ba4ec4b77",
   "metadata": {},
   "outputs": [],
   "source": [
    "original_url = link"
   ]
  },
  {
   "cell_type": "code",
   "execution_count": 10,
   "id": "7f5ac384-1850-41f4-9d5e-5bd9c61b4b8d",
   "metadata": {},
   "outputs": [
    {
     "name": "stdout",
     "output_type": "stream",
     "text": [
      "the original url was https://requests.readthedocs.io/ but after redirect, it is now https://requests.readthedocs.io/en/latest/\n"
     ]
    }
   ],
   "source": [
    "print(f\"the original url was {link} but after redirect, it is now {response.url}\") #find original and redirected url"
   ]
  },
  {
   "cell_type": "code",
   "execution_count": 11,
   "id": "15524ac3-d23b-4419-9a52-f4e2a784d85f",
   "metadata": {},
   "outputs": [],
   "source": [
    "# find the amount of times a URL has been redirect"
   ]
  },
  {
   "cell_type": "code",
   "execution_count": 12,
   "id": "3b125ab1-e755-4758-a4c4-c67df0b2b639",
   "metadata": {},
   "outputs": [],
   "source": [
    "num_redirect = len(response.history)"
   ]
  },
  {
   "cell_type": "code",
   "execution_count": 13,
   "id": "621b9415-ae0b-454b-9a26-7bb0ffe44cce",
   "metadata": {},
   "outputs": [
    {
     "name": "stdout",
     "output_type": "stream",
     "text": [
      "1\n"
     ]
    }
   ],
   "source": [
    "print(num_redirect)"
   ]
  },
  {
   "cell_type": "code",
   "execution_count": 9,
   "id": "4201e595-e41b-4cce-b789-56402b37079c",
   "metadata": {},
   "outputs": [],
   "source": [
    "link_oci = \"https://www.oceaniacruises.com/\""
   ]
  },
  {
   "cell_type": "code",
   "execution_count": 10,
   "id": "1a48ea53-874d-46ff-a5b6-d7a4bab22d6d",
   "metadata": {},
   "outputs": [],
   "source": [
    "response_oci = requests.get(link_oci)"
   ]
  },
  {
   "cell_type": "code",
   "execution_count": 26,
   "id": "c4427aaa-70a5-4574-b023-f2269eb15e81",
   "metadata": {},
   "outputs": [
    {
     "data": {
      "text/plain": [
       "requests.models.Response"
      ]
     },
     "execution_count": 26,
     "metadata": {},
     "output_type": "execute_result"
    }
   ],
   "source": [
    "type(response_oci)"
   ]
  },
  {
   "cell_type": "code",
   "execution_count": 27,
   "id": "7406ca15-8aa3-400d-8357-da1a00b74635",
   "metadata": {},
   "outputs": [
    {
     "data": {
      "text/plain": [
       "200"
      ]
     },
     "execution_count": 27,
     "metadata": {},
     "output_type": "execute_result"
    }
   ],
   "source": [
    "response_oci.status_code"
   ]
  },
  {
   "cell_type": "code",
   "execution_count": 36,
   "id": "db76baaa-fab6-4daa-b859-dea8f13c8882",
   "metadata": {},
   "outputs": [
    {
     "data": {
      "text/plain": [
       "'https://www.oceaniacruises.com/'"
      ]
     },
     "execution_count": 36,
     "metadata": {},
     "output_type": "execute_result"
    }
   ],
   "source": [
    "response_oci.url"
   ]
  },
  {
   "cell_type": "code",
   "execution_count": 37,
   "id": "6d570ccd-0525-4adb-bcd3-48fbcca690af",
   "metadata": {},
   "outputs": [
    {
     "data": {
      "text/plain": [
       "[]"
      ]
     },
     "execution_count": 37,
     "metadata": {},
     "output_type": "execute_result"
    }
   ],
   "source": [
    "response_oci.history"
   ]
  },
  {
   "cell_type": "code",
   "execution_count": 8,
   "id": "dd37d861-f793-4d6c-8dbd-7341c3c207cb",
   "metadata": {},
   "outputs": [
    {
     "data": {
      "text/plain": [
       "['__attrs__',\n",
       " '__bool__',\n",
       " '__class__',\n",
       " '__delattr__',\n",
       " '__dict__',\n",
       " '__dir__',\n",
       " '__doc__',\n",
       " '__enter__',\n",
       " '__eq__',\n",
       " '__exit__',\n",
       " '__format__',\n",
       " '__ge__',\n",
       " '__getattribute__',\n",
       " '__getstate__',\n",
       " '__gt__',\n",
       " '__hash__',\n",
       " '__init__',\n",
       " '__init_subclass__',\n",
       " '__iter__',\n",
       " '__le__',\n",
       " '__lt__',\n",
       " '__module__',\n",
       " '__ne__',\n",
       " '__new__',\n",
       " '__nonzero__',\n",
       " '__reduce__',\n",
       " '__reduce_ex__',\n",
       " '__repr__',\n",
       " '__setattr__',\n",
       " '__setstate__',\n",
       " '__sizeof__',\n",
       " '__str__',\n",
       " '__subclasshook__',\n",
       " '__weakref__',\n",
       " '_content',\n",
       " '_content_consumed',\n",
       " '_next',\n",
       " 'apparent_encoding',\n",
       " 'close',\n",
       " 'connection',\n",
       " 'content',\n",
       " 'cookies',\n",
       " 'elapsed',\n",
       " 'encoding',\n",
       " 'headers',\n",
       " 'history',\n",
       " 'is_permanent_redirect',\n",
       " 'is_redirect',\n",
       " 'iter_content',\n",
       " 'iter_lines',\n",
       " 'json',\n",
       " 'links',\n",
       " 'next',\n",
       " 'ok',\n",
       " 'raise_for_status',\n",
       " 'raw',\n",
       " 'reason',\n",
       " 'request',\n",
       " 'status_code',\n",
       " 'text',\n",
       " 'url']"
      ]
     },
     "execution_count": 8,
     "metadata": {},
     "output_type": "execute_result"
    }
   ],
   "source": [
    "dir(response_oci)"
   ]
  },
  {
   "cell_type": "code",
   "execution_count": 8,
   "id": "2748f9f6-ff1a-4a7e-b853-f057b3b564f0",
   "metadata": {},
   "outputs": [
    {
     "data": {
      "text/plain": [
       "{'User-Agent': 'python-requests/2.31.0', 'Accept-Encoding': 'gzip, deflate', 'Accept': '*/*', 'Connection': 'keep-alive'}"
      ]
     },
     "execution_count": 8,
     "metadata": {},
     "output_type": "execute_result"
    }
   ],
   "source": [
    "response_oci.request.headers # what i send oceania's server"
   ]
  },
  {
   "cell_type": "code",
   "execution_count": 11,
   "id": "6d3a9f74-bc20-476d-b9f3-6392e117100a",
   "metadata": {},
   "outputs": [
    {
     "data": {
      "text/plain": [
       "{'referrer-policy': 'origin-when-cross-origin, strict-origin-when-cross-origin', 'x-frame-options': 'DENY', 'x-xss-protection': '1; mode=block', 'x-content-type-options': 'nosniff', 'x-permitted-cross-domain-policies': 'master-only', 'Content-Type': 'text/html', 'x-envoy-upstream-service-time': '1008', 'Server': 'istio-envoy', 'tracing-context': 'frontend-routing-oci-browse-response', 'X-Akam-SW-Version': '0.5.0', 'X-Akamai-Transformed': '9 - 0 pmb=mTOE,2mRUM,2', 'Content-Encoding': 'gzip', 'Date': 'Sun, 31 Mar 2024 16:43:35 GMT', 'Transfer-Encoding': 'chunked', 'Connection': 'keep-alive, Transfer-Encoding', 'Vary': 'Accept-Encoding', 'Set-Cookie': 'AKCountry=US; expires=Mon, 31-Dec-2038 23:59:59 GMT; path=/; secure, _abck=0076899EBBB29C99027F43EE8D854D49~-1~YAAQl2rcF+uF6naOAQAAQh1llQtGZZaTatGow3bUFMMIzmbYilIwe0MyV+txZnGoJtziELGTSjiwWH4BINfJk9uoVa/AbuE6GLVkO5MuRr9uFBpBHqI5cJt5tGx/+HZakDnQy5P+K8/6AJGtofG52NV/wvXEEI3ltDw3zYD+heysMB+ECcuHqYrYEWt/unqn6/+HhRL5lVSnjay/xinuRQjU5IrOXoA3avYMIWJW1dceg/9eiHG29oYwKeoqCObOTSKSryFZW7yNij1R45NC+1gwb/UR8Co4QRnQZ+zQ9NbFNWNwjjMfy7cukfVACm7YPUn6Uf/+vwH2QPO89GT1BhFSMU/a3icg2IWxrZWGruwgFLX6rc3yH+ViqT+4KUz2aA==~-1~-1~-1; Domain=.oceaniacruises.com; Path=/; Expires=Mon, 31 Mar 2025 16:43:35 GMT; Max-Age=31536000; Secure, bm_sz=F43FAB3FCF972F0EB7EAC3426420FC29~YAAQl2rcF+yF6naOAQAAQh1llRfww9saZb4Mfj7c6OC6k7veISGLiPQgLN/DBgbSRQHx5Wq28ulKP15TF91TQ3T/Vbf1uDcS5s0ViyQZPd8LTR9XuhfXHcttV9rmt0b1drl74gZ43W+61Xb0z+/CJTMJesBmVAvZxpAoM3sdFqfunD/Ko/cN19JIpvrPj2EbFO8U6ZBE5714PG1w6XGuozTra+nwP61X/bCmx7JggybKnA4Ad9v8Ai8iwIPL0JRi9zkmYdUoAzVRcfmECFGdLfV5VC+kPrSSRThEvabDqskqrp7h+sjC0DvVNgnGkDJk45uBKLOTFMBebD/co19N4FLHGJVii0gUEiBeP7oTbbPNmAa47L8=~3360069~3752761; Domain=.oceaniacruises.com; Path=/; Expires=Sun, 31 Mar 2024 20:43:35 GMT; Max-Age=14400; Secure', 'Server-Timing': 'cdn-cache; desc=HIT, edge; dur=1, ak_p; desc=\"1711903415483_400321175_927038781_988_8805_39_40_-\";dur=1', 'Content-Security-Policy': \"default-src https:;script-src 'unsafe-inline' 'unsafe-eval' blob: https:; style-src 'unsafe-inline' https: blob:; img-src * blob: data:; font-src *; worker-src 'self' blob:;\", 'Akamai-GRN': '0.976adc17.1711903415.37417d3d', 'Strict-Transport-Security': 'max-age=31536000 ; includeSubDomains ; preload'}"
      ]
     },
     "execution_count": 11,
     "metadata": {},
     "output_type": "execute_result"
    }
   ],
   "source": [
    "response_oci.headers # what oceania's server respond with"
   ]
  },
  {
   "cell_type": "code",
   "execution_count": 13,
   "id": "e27c8b63-d5b9-48f4-8bc9-fe4cadf3c897",
   "metadata": {},
   "outputs": [
    {
     "data": {
      "text/plain": [
       "<RequestsCookieJar[Cookie(version=0, name='_abck', value='0076899EBBB29C99027F43EE8D854D49~-1~YAAQl2rcF+uF6naOAQAAQh1llQtGZZaTatGow3bUFMMIzmbYilIwe0MyV+txZnGoJtziELGTSjiwWH4BINfJk9uoVa/AbuE6GLVkO5MuRr9uFBpBHqI5cJt5tGx/+HZakDnQy5P+K8/6AJGtofG52NV/wvXEEI3ltDw3zYD+heysMB+ECcuHqYrYEWt/unqn6/+HhRL5lVSnjay/xinuRQjU5IrOXoA3avYMIWJW1dceg/9eiHG29oYwKeoqCObOTSKSryFZW7yNij1R45NC+1gwb/UR8Co4QRnQZ+zQ9NbFNWNwjjMfy7cukfVACm7YPUn6Uf/+vwH2QPO89GT1BhFSMU/a3icg2IWxrZWGruwgFLX6rc3yH+ViqT+4KUz2aA==~-1~-1~-1', port=None, port_specified=False, domain='.oceaniacruises.com', domain_specified=True, domain_initial_dot=True, path='/', path_specified=True, secure=True, expires=1743439415, discard=False, comment=None, comment_url=None, rest={}, rfc2109=False), Cookie(version=0, name='bm_sz', value='F43FAB3FCF972F0EB7EAC3426420FC29~YAAQl2rcF+yF6naOAQAAQh1llRfww9saZb4Mfj7c6OC6k7veISGLiPQgLN/DBgbSRQHx5Wq28ulKP15TF91TQ3T/Vbf1uDcS5s0ViyQZPd8LTR9XuhfXHcttV9rmt0b1drl74gZ43W+61Xb0z+/CJTMJesBmVAvZxpAoM3sdFqfunD/Ko/cN19JIpvrPj2EbFO8U6ZBE5714PG1w6XGuozTra+nwP61X/bCmx7JggybKnA4Ad9v8Ai8iwIPL0JRi9zkmYdUoAzVRcfmECFGdLfV5VC+kPrSSRThEvabDqskqrp7h+sjC0DvVNgnGkDJk45uBKLOTFMBebD/co19N4FLHGJVii0gUEiBeP7oTbbPNmAa47L8=~3360069~3752761', port=None, port_specified=False, domain='.oceaniacruises.com', domain_specified=True, domain_initial_dot=True, path='/', path_specified=True, secure=True, expires=1711917815, discard=False, comment=None, comment_url=None, rest={}, rfc2109=False), Cookie(version=0, name='AKCountry', value='US', port=None, port_specified=False, domain='www.oceaniacruises.com', domain_specified=False, domain_initial_dot=False, path='/', path_specified=True, secure=True, expires=2177452799, discard=False, comment=None, comment_url=None, rest={}, rfc2109=False)]>"
      ]
     },
     "execution_count": 13,
     "metadata": {},
     "output_type": "execute_result"
    }
   ],
   "source": [
    "response_oci.cookies"
   ]
  },
  {
   "cell_type": "code",
   "execution_count": 16,
   "id": "c06833fa-911b-4eed-9855-d874b536b706",
   "metadata": {},
   "outputs": [
    {
     "name": "stdout",
     "output_type": "stream",
     "text": [
      "_abck  :  0076899EBBB29C99027F43EE8D854D49~-1~YAAQl2rcF+uF6naOAQAAQh1llQtGZZaTatGow3bUFMMIzmbYilIwe0MyV+txZnGoJtziELGTSjiwWH4BINfJk9uoVa/AbuE6GLVkO5MuRr9uFBpBHqI5cJt5tGx/+HZakDnQy5P+K8/6AJGtofG52NV/wvXEEI3ltDw3zYD+heysMB+ECcuHqYrYEWt/unqn6/+HhRL5lVSnjay/xinuRQjU5IrOXoA3avYMIWJW1dceg/9eiHG29oYwKeoqCObOTSKSryFZW7yNij1R45NC+1gwb/UR8Co4QRnQZ+zQ9NbFNWNwjjMfy7cukfVACm7YPUn6Uf/+vwH2QPO89GT1BhFSMU/a3icg2IWxrZWGruwgFLX6rc3yH+ViqT+4KUz2aA==~-1~-1~-1\n"
     ]
    }
   ],
   "source": [
    "for cookie in response_oci.cookies: # output cookies in a readble manner\n",
    "    if cookie.domain == \".oceaniacruises.com\":\n",
    "        print(cookie.name,\" : \",cookie.value)\n",
    "        break"
   ]
  },
  {
   "cell_type": "code",
   "execution_count": 2,
   "id": "df972bf5-cdde-466f-8ea2-6fb5436816ad",
   "metadata": {},
   "outputs": [],
   "source": [
    "link_lime = \"https://limefreshmexicangrill.com\""
   ]
  },
  {
   "cell_type": "code",
   "execution_count": 3,
   "id": "b1986cc5-5966-4b1e-a943-889329ee7888",
   "metadata": {},
   "outputs": [],
   "source": [
    "response_lime = requests.get(link_lime)"
   ]
  },
  {
   "cell_type": "code",
   "execution_count": 4,
   "id": "acdc100d-359f-4cdf-abca-9dd1393ffec9",
   "metadata": {},
   "outputs": [
    {
     "data": {
      "text/plain": [
       "{'Date': 'Sun, 07 Apr 2024 14:07:02 GMT', 'Content-Type': 'text/html; charset=UTF-8', 'Transfer-Encoding': 'chunked', 'Connection': 'keep-alive', 'x-powered-by': 'PHP/7.4.33, PleskLin', 'last-modified': 'Mon, 11 Mar 2024 21:02:21 GMT', 'CF-Cache-Status': 'DYNAMIC', 'Report-To': '{\"endpoints\":[{\"url\":\"https:\\\\/\\\\/a.nel.cloudflare.com\\\\/report\\\\/v4?s=DdvBvPM7alB0LEVVnBosNDFPnPYZXx9rbeuj8xSiDma0pRBgLo6dFdbC0iRgkqfG6zgMFKFhkKpTaNDfaER9SNvyZi2zxIRqDgzVGAxs3Z25H7MmDdmrKvNzh4%2BQCFiAxaGkDqq4nuSZRCo%2B\"}],\"group\":\"cf-nel\",\"max_age\":604800}', 'NEL': '{\"success_fraction\":0,\"report_to\":\"cf-nel\",\"max_age\":604800}', 'Server': 'cloudflare', 'CF-RAY': '870a94e61f41033d-MIA', 'Content-Encoding': 'gzip', 'alt-svc': 'h3=\":443\"; ma=86400'}"
      ]
     },
     "execution_count": 4,
     "metadata": {},
     "output_type": "execute_result"
    }
   ],
   "source": [
    "response_lime.headers"
   ]
  },
  {
   "cell_type": "code",
   "execution_count": 8,
   "id": "9c0316b5-aa05-4e8d-baf9-fc9673c5c5f5",
   "metadata": {},
   "outputs": [
    {
     "data": {
      "text/plain": [
       "{'User-Agent': 'python-requests/2.31.0', 'Accept-Encoding': 'gzip, deflate', 'Accept': '*/*', 'Connection': 'keep-alive'}"
      ]
     },
     "execution_count": 8,
     "metadata": {},
     "output_type": "execute_result"
    }
   ],
   "source": [
    "response_lime.request.headers"
   ]
  },
  {
   "cell_type": "code",
   "execution_count": 5,
   "id": "0c2113b4-b32c-46c3-9ab9-57294b7680d8",
   "metadata": {},
   "outputs": [],
   "source": [
    "# i will download a specific image from the limemexicangrill website"
   ]
  },
  {
   "cell_type": "code",
   "execution_count": null,
   "id": "0fc41fc7-8762-496c-ae0f-75dc8f2aca97",
   "metadata": {},
   "outputs": [],
   "source": []
  },
  {
   "cell_type": "code",
   "execution_count": 17,
   "id": "167a8876-f068-4c2d-8d80-07146ff06b19",
   "metadata": {},
   "outputs": [],
   "source": [
    "# i wanted to generate a 406 not acceptable response, however, lime's server is ignoring my altered parameters"
   ]
  },
  {
   "cell_type": "code",
   "execution_count": 15,
   "id": "0d90a7bf-32dc-4657-9421-049ea0c156fe",
   "metadata": {},
   "outputs": [],
   "source": [
    "# headers_diff_content = {'Accept': 'application/json'}"
   ]
  },
  {
   "cell_type": "code",
   "execution_count": 16,
   "id": "6a1d0aaa-8caa-4b77-9a38-d1315e6ed130",
   "metadata": {},
   "outputs": [],
   "source": [
    "# response_lime_diff_content = requests.get(link_lime, headers=headers_diff_content)"
   ]
  },
  {
   "cell_type": "code",
   "execution_count": 19,
   "id": "e9d2fd2f-bf08-4d25-ae7c-48569fac027a",
   "metadata": {},
   "outputs": [
    {
     "data": {
      "text/plain": [
       "<RequestsCookieJar[]>"
      ]
     },
     "execution_count": 19,
     "metadata": {},
     "output_type": "execute_result"
    }
   ],
   "source": [
    "response_lime.cookies"
   ]
  },
  {
   "cell_type": "code",
   "execution_count": 20,
   "id": "941896ef-cce3-4df5-94ab-c7c58df07dfa",
   "metadata": {},
   "outputs": [],
   "source": [
    "# after doing research - .cookies is empty b/c lime is creating cookies via the client side, not the server side"
   ]
  },
  {
   "cell_type": "code",
   "execution_count": null,
   "id": "dce498e6-ea03-4596-a655-15bc63ba1813",
   "metadata": {},
   "outputs": [],
   "source": []
  }
 ],
 "metadata": {
  "kernelspec": {
   "display_name": "Python 3 (ipykernel)",
   "language": "python",
   "name": "python3"
  },
  "language_info": {
   "codemirror_mode": {
    "name": "ipython",
    "version": 3
   },
   "file_extension": ".py",
   "mimetype": "text/x-python",
   "name": "python",
   "nbconvert_exporter": "python",
   "pygments_lexer": "ipython3",
   "version": "3.9.6"
  }
 },
 "nbformat": 4,
 "nbformat_minor": 5
}
