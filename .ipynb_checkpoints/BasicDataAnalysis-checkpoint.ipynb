{
 "cells": [
  {
   "cell_type": "code",
   "execution_count": 2,
   "id": "3ac20720-d891-4ef5-8049-f0a2b835b624",
   "metadata": {},
   "outputs": [],
   "source": [
    "from urllib import request"
   ]
  },
  {
   "cell_type": "code",
   "execution_count": 1,
   "id": "27d22836-0755-4e54-9f1a-a4922e1e62fd",
   "metadata": {},
   "outputs": [
    {
     "name": "stdout",
     "output_type": "stream",
     "text": [
      "Collecting chardet\n",
      "  Downloading chardet-5.2.0-py3-none-any.whl.metadata (3.4 kB)\n",
      "Downloading chardet-5.2.0-py3-none-any.whl (199 kB)\n",
      "\u001b[2K   \u001b[90m━━━━━━━━━━━━━━━━━━━━━━━━━━━━━━━━━━━━━━━━\u001b[0m \u001b[32m199.4/199.4 kB\u001b[0m \u001b[31m2.1 MB/s\u001b[0m eta \u001b[36m0:00:00\u001b[0m00:01\u001b[0m0:01\u001b[0m\n",
      "\u001b[?25hInstalling collected packages: chardet\n",
      "Successfully installed chardet-5.2.0\n"
     ]
    }
   ],
   "source": [
    "!pip install chardet"
   ]
  },
  {
   "cell_type": "code",
   "execution_count": 2,
   "id": "458dd0e4-723d-4cb9-95ac-7702206a712b",
   "metadata": {},
   "outputs": [],
   "source": [
    "import re"
   ]
  },
  {
   "cell_type": "code",
   "execution_count": 3,
   "id": "bc6cd1b3-692e-46bd-8bd6-8163a62e8b49",
   "metadata": {
    "scrolled": true
   },
   "outputs": [
    {
     "name": "stdout",
     "output_type": "stream",
     "text": [
      "Why should you learn to write programs?\n",
      "\n",
      "Writing programs (or programming) is a very creative \n",
      "and rewarding activity.  You can write programs for \n",
      "3036 many reasons, ranging from making your living to solving 7209\n",
      "a difficult data analysis problem to having fun to helping\n",
      "someone else solve a problem.  This book assumes that \n",
      "everyone needs to know how to program, and that once \n",
      "you know how to program you will figure out what you want \n",
      "to do with your newfound skills.  \n",
      "\n",
      "We are surrounded in our daily lives with computers ranging \n",
      "from laptops to cell phones.  We can think of these computers\n",
      "as 4497 our 6702 personal 8454 assistants who can take care of many things\n",
      " 7449 on our behalf.  The hardware in our current-day computers \n",
      "is essentially built to continuously ask us the question, \n",
      "What would you like me to do next?\n",
      "\n",
      "Programmers add an operating system and a set of applications\n",
      "to the hardware and we end up with a Personal Digital\n",
      "Assistant that is quite helpful and capable of helping\n",
      "us do many different things.\n",
      "\n",
      "Our computers are fast and have vast amounts of memory and \n",
      "could be very helpful to us if we only knew the language to\n",
      "speak to explain to the computer what we would like it to \n",
      "do 3665 next. 7936  9772 If we knew this language, we could tell the \n",
      " computer to do tasks on our behalf that were repetitive.  \n",
      "Interestingly, the kinds of things computers can do best\n",
      "are often the kinds of things that we humans find boring\n",
      "and mind-numbing.\n",
      "\n",
      "For example, look at the first three paragraphs of this\n",
      "chapter and tell me the most commonly used word and how\n",
      "many times the word is used.  While you were able to read\n",
      "and understand the words in a few seconds, counting them\n",
      "is almost painful because it is not the kind of problem \n",
      "that human minds are designed to solve.  For a computer\n",
      "the opposite is true, reading and understanding text \n",
      "from a piece of paper is hard for a computer to do \n",
      "but counting the words and telling you how many times\n",
      "the most used word was used is very easy for the\n",
      "computer:\n",
      "7114 \n",
      "Our personal information analysis assistant quickly \n",
      "told us that the word to was used sixteen times in the\n",
      "first three paragraphs of this chapter.\n",
      "\n",
      "This very fact that computers are good at things \n",
      "that humans are not is why you need to become\n",
      "skilled at talking computer language.  Once you learn\n",
      "956 this new language, you can delegate mundane tasks 2564\n",
      "to 8003 your 1704 partner 3816 (the computer), leaving more time \n",
      " for you to do the \n",
      "things that you are uniquely suited for.  You bring \n",
      "creativity, intuition, and inventiveness to this\n",
      "partnership.  \n",
      "\n",
      "Creativity and motivation\n",
      "\n",
      "While this book is not intended for professional programmers, professional\n",
      "programming can be a very rewarding job both financially and personally.\n",
      "Building useful, elegant, and clever programs for others to use is a very\n",
      "creative 6662 activity. 5858  7777 Your computer or Personal Digital Assistant (PDA) \n",
      " usually contains many different programs from many different groups of \n",
      "programmers, each competing for your attention and interest.  They try \n",
      "their best to meet your needs and give you a great user experience in the\n",
      "process.   In some situations, when you choose a piece of software, the \n",
      "programmers are directly compensated because of your choice.\n",
      "\n",
      "If we think of programs as the creative output of groups of programmers,\n",
      "perhaps the following figure is a more sensible version of our PDA:\n",
      "\n",
      "For now, our primary motivation is not to make money or please end users, but\n",
      "instead for us to be more productive in handling the data and \n",
      "information that we will encounter in our lives.\n",
      "When you first start, you will be both the programmer and the end user of\n",
      "your programs.  As you gain skill as a programmer and\n",
      "programming feels more creative to you, your thoughts may turn\n",
      "toward developing programs for others.\n",
      "\n",
      "Computer hardware architecture\n",
      "\n",
      "Before we start learning the language we \n",
      "speak to give instructions to computers to \n",
      "develop software, we need to learn a small amount about \n",
      "how computers are built.  \n",
      "\n",
      "Central Processing Unit (or CPU) is \n",
      "the part of the computer that is built to be obsessed \n",
      "with what is next?  If your computer is rated\n",
      "at three Gigahertz, it means that the CPU will ask What next?\n",
      "three billion times per second.  You are going to have to \n",
      "learn how to talk fast to keep up with the CPU.\n",
      "\n",
      "Main Memory is used to store information\n",
      "that the CPU needs in a hurry.  The main memory is nearly as \n",
      "fast as the CPU.  But the information stored in the main\n",
      "memory vanishes when the computer is turned off.\n",
      "\n",
      "Secondary Memory is also used to store\n",
      "6482 information, but it is much slower than the main memory.\n",
      "The advantage of the secondary memory is that it can\n",
      "store information even when there is no power to the\n",
      "computer.  Examples of secondary memory are disk drives\n",
      "or flash memory (typically found in USB sticks and portable\n",
      "music players).\n",
      "9634 \n",
      "Input and Output Devices are simply our\n",
      "screen, keyboard, mouse, microphone, speaker, touchpad, etc.  \n",
      "They are all of the ways we interact with the computer.\n",
      "\n",
      "These days, most computers also have a\n",
      "Network Connection to retrieve information over a network.\n",
      "We can think of the network as a very slow place to store and\n",
      "8805 retrieve data that might not always be up.  So in a sense, 7123\n",
      "the network is a slower and at times unreliable form of\n",
      "9703 4676 6373\n",
      "\n",
      "While most of the detail of how these components work is best left \n",
      "to computer builders, it helps to have some terminology\n",
      "so we can talk about these different parts as we write our programs.\n",
      "\n",
      "As a programmer, your job is to use and orchestrate \n",
      "each of these resources to solve the problem that you need to solve\n",
      "and analyze the data you get from the solution.  As a programmer you will \n",
      "mostly be talking to the CPU and telling it what to \n",
      "do next.  Sometimes you will tell the CPU to use the main memory,\n",
      "secondary memory, network, or the input/output devices.\n",
      "\n",
      "You need to be the person who answers the CPU's What next? \n",
      "question.  But it would be very uncomfortable to shrink you \n",
      "down to five mm  tall and insert you into the computer just so you \n",
      "could issue a command three billion times per second.  So instead,\n",
      "you must write down your instructions in advance.\n",
      "We call these stored instructions a program and the act \n",
      "of writing these instructions down and getting the instructions to \n",
      "be correct programming.\n",
      "\n",
      "Understanding programming\n",
      "\n",
      "In the rest of this book, we will try to turn you into a person\n",
      "who is skilled in the art of programming.  In the end you will be a \n",
      "programmer --- perhaps not a professional programmer, but \n",
      "at least you will have the skills to look at a data/information\n",
      "analysis problem and develop a program to solve the problem.\n",
      "2834 \n",
      "7221 problem solving\n",
      "\n",
      "2981 In a sense, you need two skills to be a programmer:\n",
      "\n",
      "First, you need to know the programming language (Python) -\n",
      "5415 you need to know the vocabulary and the grammar.  You need to be able \n",
      "to spell the words in this new language properly and know how to construct \n",
      "well-formed sentences in this new language.\n",
      "\n",
      "Second, you need to tell a story.  In writing a story,\n",
      "you combine words and sentences to convey an idea to the reader. \n",
      "There is a skill and art in constructing the story, and skill in\n",
      "story writing is improved by doing some writing and getting some\n",
      "feedback.  In programming, our program is the story and the \n",
      "problem you are trying to solve is the idea.\n",
      "\n",
      "itemize\n",
      "\n",
      "Once you learn one programming language such as Python, you will \n",
      "find it much easier to learn a second programming language such\n",
      "as JavaScript or C++.  The new programming language has very different \n",
      "vocabulary and grammar but the problem-solving skills \n",
      "will be the same across all programming languages.\n",
      "\n",
      "You will learn the vocabulary and sentences of Python pretty quickly.\n",
      "It will take longer for you to be able to write a coherent program\n",
      "to solve a brand-new problem.  We teach programming much like we teach\n",
      "writing.  We start reading and explaining programs, then we write \n",
      "simple programs, and then we write increasingly complex programs over time.\n",
      "At some point you get your muse and see the patterns on your own\n",
      "and can see more naturally how to take a problem and \n",
      "write a program that solves that problem.  And once you get \n",
      "6872 to that point, programming becomes a very pleasant and creative process.  \n",
      "\n",
      "We start with the vocabulary and structure of Python programs.  Be patient\n",
      "as the simple examples remind you of when you started reading for the first\n",
      "time. \n",
      "\n",
      "Words and sentences\n",
      "4806 \n",
      "Unlike human languages, the Python vocabulary is actually pretty small.\n",
      "We call this vocabulary the reserved words.  These are words that\n",
      "5460 have very special meaning to Python.  When Python sees these words in 8533\n",
      "3538 a Python program, they have one and only one meaning to Python.  Later\n",
      "as you write programs you will make up your own words that have meaning to \n",
      "you called variables.   You will have great latitude in choosing\n",
      "your 9663 names 8001 for 9795 your variables, but you cannot use any of Python's \n",
      " reserved 8752 words 1117 as 5349 a name for a variable.\n",
      " \n",
      "When we train a dog, we use special words like\n",
      "sit, stay, and fetch.  When you talk to a dog and\n",
      "4509 don't use any of the reserved words, they just look at you with a \n",
      "quizzical look on their face until you say a reserved word.  \n",
      "For example, if you say, \n",
      "I wish more people would walk to improve their overall health, \n",
      "what most dogs likely hear is,\n",
      "blah blah blah walk blah blah blah blah.\n",
      "That is because walk is a reserved word in dog language.  \n",
      "\n",
      "The reserved words in the language where humans talk to \n",
      "Python include the following:\n",
      "\n",
      "and       del       from      not       while    \n",
      "as        elif      global    or        with     \n",
      "assert    else      if        pass      yield    \n",
      "break     except    import    print              \n",
      "class     exec      in        raise              \n",
      "continue  finally   is        return             \n",
      "def       for       lambda    try\n",
      "\n",
      "That is it, and unlike a dog, Python is already completely trained.\n",
      "When 1004 you 9258 say 4183 try, Python will try every time you say it without\n",
      " fail.\n",
      "\n",
      "4034 We will learn these reserved words and how they are used in good time, 3342\n",
      "but for now we will focus on the Python equivalent of speak (in \n",
      "human-to-dog language).  The nice thing about telling Python to speak\n",
      "3482 is that we can even tell it what to say by giving it a message in quotes: 8567\n",
      "\n",
      "And we have even written our first syntactically correct Python sentence.\n",
      "Our sentence starts with the reserved word print followed\n",
      "by a string of text of our choosing enclosed in single quotes.\n",
      "\n",
      "Conversing with Python\n",
      "\n",
      "1052 Now that we have a word and a simple sentence that we know in Python, 8135\n",
      "we need to know how to start a conversation with Python to test \n",
      "our new language skills.\n",
      "\n",
      "Before 5561 you 517 can 1218 converse with Python, you must first install the Python\n",
      " software on your computer and learn how to start Python on your \n",
      "computer.  That is too much detail for this chapter so I suggest\n",
      "that you consult www.py4e.com where I have detailed\n",
      "instructions and screencasts of setting up and starting Python \n",
      "on Macintosh and Windows systems.  At some point, you will be in \n",
      "a terminal or command window and you will type python and \n",
      "8877 the Python interpreter will start executing in interactive mode\n",
      "and appear somewhat as follows:\n",
      "interactive mode\n",
      "\n",
      "The &gt;&gt;&gt; prompt is the Python interpreter's way of asking you, What\n",
      "do you want me to do next?  Python is ready to have a conversation with\n",
      "you.  All you have to know is how to speak the Python language.\n",
      "\n",
      "Let's say for example that you did not know even the simplest Python language\n",
      "words or sentences. You might want to use the standard line that astronauts \n",
      "use when they land on a faraway planet and try to speak with the inhabitants\n",
      "of the planet:\n",
      "\n",
      "This is not going so well.  Unless you think of something quickly,\n",
      "the inhabitants of the planet are likely to stab you with their spears, \n",
      "put you on a spit, roast you over a fire, and eat you for dinner.\n",
      "\n",
      "At this point, you should also realize that while Python \n",
      "is amazingly complex and powerful and very picky about \n",
      "the syntax you use to communicate with it, Python is \n",
      "not intelligent.  You are really just having a conversation\n",
      "with yourself, but using proper syntax.\n",
      "8062  1720\n",
      "In a sense, when you use a program written by someone else\n",
      "the conversation is between you and those other\n",
      "programmers with Python acting as an intermediary.  Python\n",
      "is a way for the creators of programs to express how the \n",
      "conversation is supposed to proceed.  And\n",
      "in just a few more chapters, you will be one of those\n",
      "programmers using Python to talk to the users of your program.\n",
      "\n",
      "279 Before we leave our first conversation with the Python \n",
      "interpreter, you should probably know the proper way\n",
      "to say good-bye when interacting with the inhabitants\n",
      "of Planet Python:\n",
      "\n",
      "2054 You will notice that the error is different for the first two 801\n",
      "incorrect attempts.   The second error is different because \n",
      "if is a reserved word and Python saw the reserved word\n",
      "and thought we were trying to say something but got the syntax\n",
      "of the sentence wrong.\n",
      "\n",
      "Terminology: interpreter and compiler\n",
      "\n",
      "Python is a high-level language intended to be relatively\n",
      "straightforward for humans to read and write and for computers\n",
      "to read and process.  Other high-level languages include Java, C++,\n",
      "918 PHP, Ruby, Basic, Perl, JavaScript, and many more.  The actual hardware\n",
      "inside the Central Processing Unit (CPU) does not understand any\n",
      "of these high-level languages.\n",
      "\n",
      "The CPU understands a language we call machine language.  Machine\n",
      "language is very simple and frankly very tiresome to write because it \n",
      "is represented all in zeros and ones.\n",
      "\n",
      "Machine language seems quite simple on the surface, given that there \n",
      "are only zeros and ones, but its syntax is even more complex\n",
      "8687 and far more intricate than Python.  So very few programmers ever write\n",
      "machine language.  Instead we build various translators to allow\n",
      "programmers to write in high-level languages like Python or JavaScript\n",
      "and these translators convert the programs to machine language for actual\n",
      "execution by the CPU.\n",
      "\n",
      "Since machine language is tied to the computer hardware, machine language\n",
      "is not portable across different types of hardware.  Programs written in \n",
      "high-level languages can be moved between different computers by using a \n",
      "different interpreter on the new machine or recompiling the code to create\n",
      "a machine language version of the program for the new machine.\n",
      "\n",
      "These programming language translators fall into two general categories:\n",
      "(one) interpreters and (two) compilers.\n",
      "7073 1865 7084\n",
      "An interpreter reads the source code of the program as written by the\n",
      "programmer, parses the source code, and interprets the instructions on the fly.\n",
      "Python is an interpreter and when we are running Python interactively, \n",
      "we can type a line of Python (a sentence) and Python processes it immediately\n",
      "and is ready for us to type another line of Python.   \n",
      "2923  63\n",
      "Some of the lines of Python tell Python that you want it to remember some \n",
      "value for later.   We need to pick a name for that value to be remembered and\n",
      "we can use that symbolic name to retrieve the value later.  We use the \n",
      "term variable to refer to the labels we use to refer to this stored data.\n",
      "\n",
      "In this example, we ask Python to remember the value six and use the label x\n",
      "so we can retrieve the value later.   We verify that Python has actually remembered\n",
      "the value using x and multiply\n",
      "it by seven and put the newly computed value in y.  Then we ask Python to print out\n",
      "8824 the value currently in y.\n",
      "1079 5801 5047\n",
      "Even though we are typing these commands into Python one line at a time, Python\n",
      "is treating them as an ordered sequence of statements with later statements able\n",
      "to retrieve data created in earlier statements.   We are writing our first \n",
      "simple paragraph with four sentences in a logical and meaningful order.\n",
      "5 \n",
      "It is the nature of an interpreter to be able to have an interactive conversation\n",
      "as shown above.  A compiler needs to be handed the entire program in a file, and then \n",
      "it runs a process to translate the high-level source code into machine language\n",
      "2572 and then the compiler puts the resulting machine language into a file for later\n",
      "execution.\n",
      "\n",
      "If you have a Windows system, often these executable machine language programs have a\n",
      "suffix of .exe or .dll which stand for executable and dynamic link\n",
      "library respectively.  In Linux and Macintosh, there is no suffix that uniquely marks\n",
      "a file as executable.\n",
      "\n",
      "If you were to open an executable file in a text editor, it would look \n",
      "completely crazy and be unreadable:\n",
      "\n",
      "It is not easy to read or write machine language, so it is nice that we have\n",
      "compilers that allow us to write in high-level\n",
      "languages like Python or C.\n",
      "\n",
      "Now at this point in our discussion of compilers and interpreters, you should \n",
      "be 5616 wondering 171 a 3062 bit about the Python interpreter itself.  What language is \n",
      " 9552 it written in?  Is it written in a compiled language?  When we type 7655\n",
      "python, 829 what 6096 exactly 2312 is happening?\n",
      " \n",
      "The Python interpreter is written in a high-level language called C.  \n",
      "You can look at the actual source code for the Python interpreter by\n",
      "going to www.python.org and working your way to their source code.\n",
      "So Python is a program itself and it is compiled into machine code.\n",
      "When you installed Python on your computer (or the vendor installed it),\n",
      "6015 you copied a machine-code copy of the translated Python program onto your 7100\n",
      "system.   In Windows, the executable machine code for Python itself is likely\n",
      "in a file.\n",
      "\n",
      "That is more than you really need to know to be a Python programmer, but\n",
      "sometimes it pays to answer those little nagging questions right at \n",
      "the beginning.\n",
      "\n",
      "Writing a program\n",
      "\n",
      "Typing commands into the Python interpreter is a great way to experiment \n",
      "with Python's features, but it is not recommended for solving more complex problems.\n",
      "\n",
      "When we want to write a program, \n",
      "we use a text editor to write the Python instructions into a file,\n",
      "which 9548 is 2727 called 1792 a script.  By\n",
      " convention, Python scripts have names that end with .py.\n",
      "\n",
      "script\n",
      "\n",
      "To execute the script, you have to tell the Python interpreter \n",
      "the name of the file.  In a Unix or Windows command window, \n",
      "you would type python hello.py as follows:\n",
      "\n",
      "We call the Python interpreter and tell it to read its source code from\n",
      "the file hello.py instead of prompting us for lines of Python code\n",
      "interactively.\n",
      "\n",
      "You will notice that there was no need to have quit() at the end of\n",
      "the Python program in the file.   When Python is reading your source code\n",
      "from a file, it knows to stop when it reaches the end of the file.\n",
      "\n",
      "8402 What is a program?\n",
      "\n",
      "The definition of a program at its most basic is a sequence\n",
      "of Python statements that have been crafted to do something.\n",
      "Even our simple hello.py script is a program.  It is a one-line\n",
      "program and is not particularly useful, but in the strictest definition,\n",
      "it is a Python program.\n",
      "\n",
      "It might be easiest to understand what a program is by thinking about a problem \n",
      "that a program might be built to solve, and then looking at a program\n",
      "that would solve that problem.\n",
      "\n",
      "Lets say you are doing Social Computing research on Facebook posts and \n",
      "you are interested in the most frequently used word in a series of posts.\n",
      "You could print out the stream of Facebook posts and pore over the text\n",
      "looking for the most common word, but that would take a long time and be very \n",
      "mistake prone.  You would be smart to write a Python program to handle the\n",
      "task quickly and accurately so you can spend the weekend doing something \n",
      "fun.\n",
      "\n",
      "For example, look at the following text about a clown and a car.  Look at the \n",
      "text and figure out the most common word and how many times it occurs.\n",
      "\n",
      "Then imagine that you are doing this task looking at millions of lines of \n",
      "text.  Frankly it would be quicker for you to learn Python and write a \n",
      "Python program to count the words than it would be to manually \n",
      "scan the words.\n",
      "\n",
      "The even better news is that I already came up with a simple program to \n",
      "find the most common word in a text file.  I wrote it,\n",
      "tested it, and now I am giving it to you to use so you can save some time.\n",
      "\n",
      "You don't even need to know Python to use this program.  You will need to get through \n",
      "Chapter ten of this book to fully understand the awesome Python techniques that were\n",
      "used to make the program.  You are the end user, you simply use the program and marvel\n",
      "at its cleverness and how it saved you so much manual effort.\n",
      "You simply type the code \n",
      "into a file called words.py and run it or you download the source \n",
      "code from http://www.py4e.com/code3/ and run it.\n",
      "\n",
      "This is a good example of how Python and the Python language are acting as an intermediary\n",
      "between you (the end user) and me (the programmer).  Python is a way for us to exchange useful\n",
      "instruction sequences (i.e., programs) in a common language that can be used by anyone who \n",
      "installs Python on their computer.  So neither of us are talking to Python,\n",
      "instead we are communicating with each other through Python.\n",
      "\n",
      "The building blocks of programs\n",
      "\n",
      "In the next few chapters, we will learn more about the vocabulary, sentence structure,\n",
      "paragraph structure, and story structure of Python.  We will learn about the powerful\n",
      "capabilities of Python and how to compose those capabilities together to create useful\n",
      "programs.\n",
      "\n",
      "There are some low-level conceptual patterns that we use to construct programs.  These\n",
      "constructs are not just for Python programs, they are part of every programming language\n",
      "from machine language up to the high-level languages.\n",
      "\n",
      "description\n",
      "\n",
      "Get data from the outside world.  This might be \n",
      "reading data from a file, or even some kind of sensor like \n",
      "a microphone or GPS.  In our initial programs, our input will come from the user\n",
      "typing data on the keyboard.\n",
      "\n",
      "Display the results of the program on a screen\n",
      "or store them in a file or perhaps write them to a device like a\n",
      "speaker to play music or speak text.\n",
      "\n",
      "Perform statements one after\n",
      "another in the order they are encountered in the script.\n",
      "\n",
      "Check for certain conditions and\n",
      "then execute or skip a sequence of statements.\n",
      "\n",
      "Perform some set of statements \n",
      "repeatedly, usually with\n",
      "some variation.\n",
      "\n",
      "Write a set of instructions once and give them a name\n",
      "and then reuse those instructions as needed throughout your program.\n",
      "\n",
      "description\n",
      "\n",
      "It sounds almost too simple to be true, and of course it is never\n",
      "so simple.  It is like saying that walking is simply\n",
      "putting one foot in front of the other.  The art \n",
      "of writing a program is composing and weaving these\n",
      "basic elements together many times over to produce something\n",
      "that is useful to its users.\n",
      "\n",
      "The word counting program above directly uses all of \n",
      "these patterns except for one.\n",
      "\n",
      "What could possibly go wrong?\n",
      "\n",
      "As we saw in our earliest conversations with Python, we must\n",
      "communicate very precisely when we write Python code.  The smallest\n",
      "deviation or mistake will cause Python to give up looking at your\n",
      "program.\n",
      "\n",
      "Beginning programmers often take the fact that Python leaves no\n",
      "room for errors as evidence that Python is mean, hateful, and cruel.\n",
      "While Python seems to like everyone else, Python knows them \n",
      "personally and holds a grudge against them.  Because of this grudge,\n",
      "Python takes our perfectly written programs and rejects them as \n",
      "unfit just to torment us.\n",
      "\n",
      "There is little to be gained by arguing with Python.  It is just a tool.\n",
      "It has no emotions and it is happy and ready to serve you whenever you\n",
      "need it.  Its error messages sound harsh, but they are just Python's\n",
      "call for help.  It has looked at what you typed, and it simply cannot\n",
      "understand what you have entered.\n",
      "\n",
      "Python is much more like a dog, loving you unconditionally, having a few\n",
      "key words that it understands, looking you with a sweet look on its\n",
      "face (&gt;&gt;&gt;), and waiting for you to say something it understands.\n",
      "When Python says SyntaxError: invalid syntax, it is simply wagging\n",
      "its tail and saying, You seemed to say something but I just don't\n",
      "understand what you meant, but please keep talking to me (&gt;&gt;&gt;).\n",
      "\n",
      "As your programs become increasingly sophisticated, you will encounter three \n",
      "general types of errors:\n",
      "\n",
      "description\n",
      "\n",
      "These are the first errors you will make and the easiest\n",
      "to fix.  A syntax error means that you have violated the grammar rules of Python.\n",
      "Python does its best to point right at the line and character where \n",
      "it noticed it was confused.  The only tricky bit of syntax errors is that sometimes\n",
      "the mistake that needs fixing is actually earlier in the program than where Python\n",
      "noticed it was confused.  So the line and character that Python indicates in \n",
      "a syntax error may just be a starting point for your investigation.\n",
      "\n",
      "A logic error is when your program has good syntax but there is a mistake \n",
      "in the order of the statements or perhaps a mistake in how the statements relate to one another.\n",
      "A good example of a logic error might be, take a drink from your water bottle, put it \n",
      "in your backpack, walk to the library, and then put the top back on the bottle.\n",
      "\n",
      "A semantic error is when your description of the steps to take \n",
      "is syntactically perfect and in the right order, but there is simply a mistake in \n",
      "the program.  The program is perfectly correct but it does not do what\n",
      "you intended for it to do. A simple example would\n",
      "be if you were giving a person directions to a restaurant and said, ...when you reach\n",
      "the intersection with the gas station, turn left and go one mile and the restaurant\n",
      "is a red building on your left.  Your friend is very late and calls you to tell you that\n",
      "they are on a farm and walking around behind a barn, with no sign of a restaurant.  \n",
      "Then you say did you turn left or right at the gas station? and \n",
      "they say, I followed your directions perfectly, I have \n",
      "them written down, it says turn left and go one mile at the gas station.  Then you say,\n",
      "I am very sorry, because while my instructions were syntactically correct, they \n",
      "sadly contained a small but undetected semantic error.. \n",
      "\n",
      "description\n",
      "\n",
      "Again in all three types of errors, Python is merely trying its hardest to \n",
      "do exactly what you have asked.\n",
      "\n",
      "The learning journey\n",
      "\n",
      "As you progress through the rest of the book, don't be afraid if the concepts \n",
      "don't seem to fit together well the first time.  When you were learning to speak, \n",
      "it was not a problem  for your first few years that you just made cute gurgling noises.\n",
      "And it was OK if it took six months for you to move from simple vocabulary to \n",
      "simple sentences and took five or six more years to move from sentences to paragraphs, and a\n",
      "few more years to be able to write an interesting complete short story on your own.\n",
      "\n",
      "We want you to learn Python much more rapidly, so we teach it all at the same time\n",
      "over the next few chapters.  \n",
      "But it is like learning a new language that takes time to absorb and understand\n",
      "before it feels natural.\n",
      "That leads to some confusion as we visit and revisit\n",
      "topics to try to get you to see the big picture while we are defining the tiny\n",
      "fragments that make up that big picture.  While the book is written linearly, and\n",
      "if you are taking a course it will progress in a linear fashion, don't hesitate\n",
      "to be very nonlinear in how you approach the material.  Look forwards and backwards\n",
      "and read with a light touch.  By skimming more advanced material without \n",
      "fully understanding the details, you can get a better understanding of the why? \n",
      "of programming.  By reviewing previous material and even redoing earlier \n",
      "exercises, you will realize that you actually learned a lot of material even \n",
      "if the material you are currently staring at seems a bit impenetrable.\n",
      "\n",
      "Usually when you are learning your first programming language, there are a few\n",
      "wonderful Ah Hah! moments where you can look up from pounding away at some rock\n",
      "with a hammer and chisel and step away and see that you are indeed building \n",
      "a beautiful sculpture.\n",
      "\n",
      "If something seems particularly hard, there is usually no value in staying up all \n",
      "night and staring at it.   Take a break, take a nap, have a snack, explain what you \n",
      "are having a problem with to someone (or perhaps your dog), and then come back to it with\n",
      "fresh eyes.  I assure you that once you learn the programming concepts in the book\n",
      "you will look back and see that it was all really easy and elegant and it simply \n",
      "took you a bit of time to absorb it.\n",
      "42\n",
      "The end\n",
      "</pre></body></html>Ztext/plain\u0000\u000b",
      "\u0000\u001d",
      "\u0000(\u0000?\u0000N\u0000l\u0000~\u0000\u0000\u0000Æ\u0000Ì\u0000\u0000\u0000\u0000\u0000\u0000\u0002\u0001\u0000\u0000\u0000\u0000\u0000\u0000\u0000\n",
      "\u0000\u0000\u0000\u0000\u0000\u0000\u0000\u0000\u0000\u0000\u0000\u0000\u0000\u0000q\u0013\n"
     ]
    }
   ],
   "source": [
    "with open('/Users/calvinpineda/Downloads/regex_sum_42.txt', 'r', encoding='latin-1') as f:\n",
    "    content = f.read()\n",
    "    print(content)"
   ]
  },
  {
   "cell_type": "code",
   "execution_count": 6,
   "id": "20e85679-23c1-416a-bb81-8da228af1e15",
   "metadata": {},
   "outputs": [],
   "source": [
    "numbers = re.findall('\\d+',content)"
   ]
  },
  {
   "cell_type": "code",
   "execution_count": 7,
   "id": "13609ff1-99fe-4c2d-9e2f-bbafb9cc4fe2",
   "metadata": {},
   "outputs": [
    {
     "name": "stdout",
     "output_type": "stream",
     "text": [
      "['3036', '7209', '4497', '6702', '8454', '7449', '3665', '7936', '9772', '7114', '956', '2564', '8003', '1704', '3816', '6662', '5858', '7777', '6482', '9634', '8805', '7123', '9703', '4676', '6373', '2834', '7221', '2981', '5415', '6872', '4806', '5460', '8533', '3538', '9663', '8001', '9795', '8752', '1117', '5349', '4509', '1004', '9258', '4183', '4034', '3342', '3482', '8567', '1052', '8135', '5561', '517', '1218', '4', '8877', '8062', '1720', '279', '2054', '801', '918', '8687', '7073', '1865', '7084', '2923', '63', '8824', '1079', '5801', '5047', '5', '2572', '5616', '171', '3062', '9552', '7655', '829', '6096', '2312', '6015', '7100', '9548', '2727', '1792', '8402', '4', '3', '42']\n"
     ]
    }
   ],
   "source": [
    "print(numbers)"
   ]
  },
  {
   "cell_type": "code",
   "execution_count": 10,
   "id": "1f6ecdc7-365f-436e-a2ac-35a6e98eb7d2",
   "metadata": {},
   "outputs": [],
   "source": [
    "sum_numbers = sum(int(x) for x in numbers)"
   ]
  },
  {
   "cell_type": "code",
   "execution_count": 11,
   "id": "57ae4df3-78b1-4a05-8615-ce9811247a87",
   "metadata": {},
   "outputs": [
    {
     "name": "stdout",
     "output_type": "stream",
     "text": [
      "445833\n"
     ]
    }
   ],
   "source": [
    "print(sum_numbers)"
   ]
  },
  {
   "cell_type": "code",
   "execution_count": 22,
   "id": "51eed384-c4d8-4b34-88e4-eb9aaeffb267",
   "metadata": {
    "scrolled": true
   },
   "outputs": [
    {
     "name": "stdout",
     "output_type": "stream",
     "text": [
      "his file contains the actual data for your assignment - good luck!\n",
      "\n",
      "9121 \n",
      "Why should you learn to write programs?\n",
      "\n",
      "Writing programs (or programming) is a very creative \n",
      "and rewarding activity.  You can write programs for \n",
      "many reasons, ranging from making your living to solving\n",
      "a difficult data analysis problem to having fun to helping\n",
      "someone else solve a problem.  This book assumes that \n",
      "everyone needs to know how to program, and that once \n",
      "you know how to program you will figure out what you want \n",
      "to 4010 do 2051 with 4204 your newfound skills.  \n",
      " \n",
      "We are surrounded in our daily lives with computers ranging \n",
      "from laptops to cell phones.  We can think of these computers\n",
      "as our personal assistants who can take care of many things\n",
      "on our behalf.  The hardware in our current-day computers \n",
      "is essentially built to continuously ask us the question, \n",
      "What would you like me to do next?\n",
      "\n",
      "Programmers add an operating system and a set of applications\n",
      "to the hardware and we end up with a Personal Digital\n",
      "Assistant that is quite helpful and capable of helping\n",
      "us do many different things.\n",
      "\n",
      "Our computers are fast and have vast amounts of memory and \n",
      "could be very helpful to us if we only knew the language to\n",
      "speak to explain to the computer what we would like it to \n",
      "do next.  If we knew this language, we could tell the \n",
      "computer to do tasks on our behalf that were repetitive.  \n",
      "684 Interestingly, the kinds of things computers can do best\n",
      "are often the kinds of things that we humans find boring\n",
      "and mind-numbing.\n",
      "\n",
      "For example, look at the first three paragraphs of this\n",
      "chapter and tell me the most commonly used word and how\n",
      "many times the word is used.  While you were able to read\n",
      "and understand the words in a few seconds, counting them\n",
      "6209 is almost painful because it is not the kind of problem \n",
      "that human minds are designed to solve.  For a computer\n",
      "the opposite is true, reading and understanding text \n",
      "4118 from a piece of paper is hard for a computer to do \n",
      "but counting the words and telling you how many times\n",
      "the most used word was used is very easy for the\n",
      "computer:\n",
      "\n",
      "Our personal information analysis assistant quickly \n",
      "told us that the word to was used sixteen times in the\n",
      "first three paragraphs of this chapter.\n",
      "\n",
      "7503 This very fact that computers are good at things \n",
      "that humans are not is why you need to become\n",
      "skilled at talking computer language.  Once you learn\n",
      "this new language, you can delegate mundane tasks\n",
      "to your partner (the computer), leaving more time \n",
      "for you to do the \n",
      "things that you are uniquely suited for.  You bring \n",
      "creativity, intuition, and inventiveness to this\n",
      "partnership.  \n",
      "\n",
      "Creativity and motivation\n",
      "\n",
      "While this book is not intended for professional programmers, professional\n",
      "8580 programming can be a very rewarding job both financially and personally.\n",
      "Building useful, elegant, and clever programs for others to use is a very\n",
      "creative activity.  Your computer or Personal Digital Assistant (PDA) \n",
      "7362 usually contains many different programs from many different groups of \n",
      "programmers, each competing for your attention and interest.  They try \n",
      "their best to meet your needs and give you a great user experience in the\n",
      "process.   In some situations, when you choose a piece of software, the \n",
      "programmers are directly compensated because of your choice.\n",
      "\n",
      "If we think of programs as the creative output of groups of programmers,\n",
      "perhaps the following figure is a more sensible version of our PDA:\n",
      "\n",
      "For now, our primary motivation is not to make money or please end users, but\n",
      "instead for us to be more productive in handling the data and \n",
      "information that we will encounter in our lives.\n",
      "When you first start, you will be both the programmer and the end user of\n",
      "your programs.  As you gain skill as a programmer and\n",
      "programming feels more creative to you, your thoughts may turn\n",
      "toward developing programs for others.\n",
      "\n",
      "Computer hardware architecture\n",
      "\n",
      "Before we start learning the language we \n",
      "speak to give instructions to computers to \n",
      "develop software, we need to learn a small amount about \n",
      "how computers are built.  \n",
      "\n",
      "Central Processing Unit (or CPU) is \n",
      "the part of the computer that is built to be obsessed \n",
      "with what is next?  If your computer is rated\n",
      "at three Gigahertz, it means that the CPU will ask What next?\n",
      "three billion times per second.  You are going to have to \n",
      "learn how to talk fast to keep up with the CPU.\n",
      "\n",
      "Main Memory is used to store information\n",
      "8987 that the CPU needs in a hurry.  The main memory is nearly as \n",
      "fast as the CPU.  But the information stored in the main\n",
      "memory vanishes when the computer is turned off.\n",
      "\n",
      "Secondary Memory is also used to store\n",
      "information, but it is much slower than the main memory.\n",
      "The advantage of the secondary memory is that it can\n",
      "store information even when there is no power to the\n",
      "computer.  Examples of secondary memory are disk drives\n",
      "or flash memory (typically found in USB sticks and portable\n",
      "music players).\n",
      "\n",
      "1055 Input and Output Devices are simply our\n",
      "screen, keyboard, mouse, microphone, speaker, touchpad, etc.  \n",
      "5538 They are all of the ways we interact with the computer. 2862\n",
      "\n",
      "These days, most computers also have a\n",
      "Network Connection to retrieve information over a network.\n",
      "We can think of the network as a very slow place to store and\n",
      "retrieve data that might not always be up.  So in a sense,\n",
      "the network is a slower and at times unreliable form of\n",
      "2047 Secondary Memory. 5656\n",
      "\n",
      "While 3729 most 421 of 8068 the detail of how these components work is best left \n",
      " to computer builders, it helps to have some terminology\n",
      "so we can talk about these different parts as we write our programs.\n",
      "5609 9765 1356\n",
      "As a programmer, your job is to use and orchestrate \n",
      "6473 each of these resources to solve the problem that you need to solve\n",
      "and analyze the data you get from the solution.  As a programmer you will \n",
      "mostly be talking to the CPU and telling it what to \n",
      "do next.  Sometimes you will tell the CPU to use the main memory,\n",
      "secondary memory, network, or the input/output devices.\n",
      "\n",
      "You need to be the person who answers the CPU's What next? \n",
      "question.  But it would be very uncomfortable to shrink you \n",
      "down to five mm  tall and insert you into the computer just so you \n",
      "could issue a command three billion times per second.  So instead,\n",
      "you must write down your instructions in advance.\n",
      "We call these stored instructions a program and the act \n",
      "of writing these instructions down and getting the instructions to \n",
      "195 6661 2788\n",
      "\n",
      "Understanding programming\n",
      "\n",
      "1968 In the rest of this book, we will try to turn you into a person 2764\n",
      "who is skilled in the art of programming.  In the end you will be a \n",
      "programmer --- perhaps not a professional programmer, but \n",
      "at least you will have the skills to look at a data/information\n",
      "analysis problem and develop a program to solve the problem.\n",
      "\n",
      "problem solving\n",
      "\n",
      "In a sense, you need two skills to be a programmer:\n",
      "\n",
      "First, you need to know the programming language (Python) -\n",
      "you need to know the vocabulary and the grammar.  You need to be able \n",
      "2937 to spell the words in this new language properly and know how to construct 7231\n",
      "well-formed sentences in this new language.\n",
      "9506  6111\n",
      "Second, you need to tell a story.  In writing a story,\n",
      "you combine words and sentences to convey an idea to the reader. \n",
      "There is a skill and art in constructing the story, and skill in\n",
      "story writing is improved by doing some writing and getting some\n",
      "feedback.  In programming, our program is the story and the \n",
      "problem 3716 you 4266 are 4522 trying to solve is the idea.\n",
      " \n",
      "itemize\n",
      "\n",
      "Once you learn one programming language such as Python, you will \n",
      "find it much easier to learn a second programming language such\n",
      "as JavaScript or C++.  The new programming language has very different \n",
      "vocabulary and grammar but the problem-solving skills \n",
      "will be the same across all programming languages.\n",
      "\n",
      "6628 You will learn the vocabulary and sentences of Python pretty quickly. 894\n",
      "It will take longer for you to be able to write a coherent program\n",
      "to solve a brand-new problem.  We teach programming much like we teach\n",
      "writing.  We start reading and explaining programs, then we write \n",
      "simple programs, and then we write increasingly complex programs over time.\n",
      "At some point you get your muse and see the patterns on your own\n",
      "and can see more naturally how to take a problem and \n",
      "write a program that solves that problem.  And once you get \n",
      "to that point, programming becomes a very pleasant and creative process.  \n",
      "\n",
      "We start with the vocabulary and structure of Python programs.  Be patient\n",
      "as the simple examples remind you of when you started reading for the first\n",
      "time. \n",
      "\n",
      "Words and sentences\n",
      "\n",
      "Unlike human languages, the Python vocabulary is actually pretty small.\n",
      "We 7142 call 7198 this 2891 vocabulary the reserved words.  These are words that\n",
      " have very special meaning to Python.  When Python sees these words in \n",
      "a Python program, they have one and only one meaning to Python.  Later\n",
      "as you write programs you will make up your own words that have meaning to \n",
      "you called variables.   You will have great latitude in choosing\n",
      "your names for your variables, but you cannot use any of Python's \n",
      "reserved words as a name for a variable.\n",
      "\n",
      "When we train a dog, we use special words like\n",
      "sit, stay, and fetch.  When you talk to a dog and\n",
      "don't use any of the reserved words, they just look at you with a \n",
      "quizzical look on their face until you say a reserved word.  \n",
      "For example, if you say, \n",
      "I wish more people would walk to improve their overall health, \n",
      "what most dogs likely hear is,\n",
      "4920 blah blah blah walk blah blah blah blah. 9172\n",
      "That is because walk is a reserved word in dog language.  \n",
      "\n",
      "6229 The reserved words in the language where humans talk to \n",
      "Python include the following:\n",
      "\n",
      "and       del       from      not       while    \n",
      "as        elif      global    or        with     \n",
      "assert    else      if        pass      yield    \n",
      "break 3522  7485  4929   except    import    print              \n",
      " class     exec      in        raise              \n",
      "continue  finally   is        return             \n",
      "def       for       lambda    try\n",
      "\n",
      "That is it, and unlike a dog, Python is already completely trained.\n",
      "When you say try, Python will try every time you say it without\n",
      "fail.\n",
      "\n",
      "We will learn these reserved words and how they are used in good time,\n",
      "but for now we will focus on the Python equivalent of speak (in \n",
      "human-to-dog language).  The nice thing about telling Python to speak\n",
      "is that we can even tell it what to say by giving it a message in quotes:\n",
      "\n",
      "And we have even written our first syntactically correct Python sentence.\n",
      "477 Our sentence starts with the reserved word print followed\n",
      "by a string of text of our choosing enclosed in single quotes.\n",
      "\n",
      "Conversing with Python\n",
      "\n",
      "Now 2236 that 3506 we 5489 have a word and a simple sentence that we know in Python,\n",
      " we need to know how to start a conversation with Python to test \n",
      "our new language skills.\n",
      "\n",
      "Before you can converse with Python, you must first install the Python\n",
      "software on your computer and learn how to start Python on your \n",
      "computer.  That is too much detail for this chapter so I suggest\n",
      "that you consult www.py4e.com where I have detailed\n",
      "instructions and screencasts of setting up and starting Python \n",
      "on Macintosh and Windows systems.  At some point, you will be in \n",
      "a terminal or command window and you will type python and \n",
      "the Python interpreter will start executing in interactive mode\n",
      "6455 and appear somewhat as follows: 604\n",
      "interactive mode\n",
      "\n",
      "The &gt;&gt;&gt; prompt is the Python interpreter's way of asking you, What\n",
      "do you want me to do next?  Python is ready to have a conversation with\n",
      "you.  All you have to know is how to speak the Python language.\n",
      "6480 \n",
      "Let's say for example that you did not know even the simplest Python language\n",
      "words or sentences. You might want to use the standard line that astronauts \n",
      "use when they land on a faraway planet and try to speak with the inhabitants\n",
      "of the planet:\n",
      "6594 8217 1331\n",
      "This is not going so well.  Unless you think of something quickly,\n",
      "the inhabitants of the planet are likely to stab you with their spears, \n",
      "put you on a spit, roast you over a fire, and eat you for dinner.\n",
      "\n",
      "At this point, you should also realize that while Python \n",
      "is amazingly complex and powerful and very picky about \n",
      "the syntax you use to communicate with it, Python is \n",
      "not intelligent.  You are really just having a conversation\n",
      "with yourself, but using proper syntax.\n",
      "\n",
      "In a sense, when you use a program written by someone else\n",
      "the conversation is between you and those other\n",
      "programmers 802 with 4130 Python 5028 acting as an intermediary.  Python\n",
      " is a way for the creators of programs to express how the \n",
      "conversation is supposed to proceed.  And\n",
      "in just a few more chapters, you will be one of those\n",
      "programmers using Python to talk to the users of your program.\n",
      "\n",
      "Before we leave our first conversation with the Python \n",
      "6466 interpreter, you should probably know the proper way 4283\n",
      "to say good-bye when interacting with the inhabitants\n",
      "of Planet Python:\n",
      "\n",
      "You will notice that the error is different for the first two\n",
      "incorrect attempts.   The second error is different because \n",
      "if is a reserved word and Python saw the reserved word\n",
      "and thought we were trying to say something but got the syntax\n",
      "of the sentence wrong.\n",
      "\n",
      "Terminology: interpreter and compiler\n",
      "\n",
      "Python is a high-level language intended to be relatively\n",
      "straightforward 7951 for 9929 humans 8992 to read and write and for computers\n",
      " to read and process.  Other high-level languages include Java, C++,\n",
      "PHP, Ruby, Basic, Perl, JavaScript, and many more.  The actual hardware\n",
      "inside the Central Processing Unit (CPU) does not understand any\n",
      "8846 of these high-level languages. 5837\n",
      "\n",
      "The CPU understands a language we call machine language.  Machine\n",
      "language is very simple and frankly very tiresome to write because it \n",
      "is represented all in zeros and ones.\n",
      "\n",
      "Machine language seems quite simple on the surface, given that there \n",
      "are only zeros and ones, but its syntax is even more complex\n",
      "4395 and far more intricate than Python.  So very few programmers ever write 9522\n",
      "machine 7501 language. 1582  4856 Instead we build various translators to allow\n",
      " programmers to write in high-level languages like Python or JavaScript\n",
      "and these translators convert the programs to machine language for actual\n",
      "execution by the CPU.\n",
      "\n",
      "Since machine language is tied to the computer hardware, machine language\n",
      "is not portable across different types of hardware.  Programs written in \n",
      "high-level languages can be moved between different computers by using a \n",
      "different interpreter on the new machine or recompiling the code to create\n",
      "6215 a machine language version of the program for the new machine. 8570\n",
      "\n",
      "These programming language translators fall into two general categories:\n",
      "(one) interpreters and (two) compilers.\n",
      "\n",
      "An interpreter reads the source code of the program as written by the\n",
      "programmer, parses the source code, and interprets the instructions on the fly.\n",
      "Python is an interpreter and when we are running Python interactively, \n",
      "we can type a line of Python (a sentence) and Python processes it immediately\n",
      "and is ready for us to type another line of Python.   \n",
      "\n",
      "9042 Some of the lines of Python tell Python that you want it to remember some \n",
      "value for later.   We need to pick a name for that value to be remembered and\n",
      "we can use that symbolic name to retrieve the value later.  We use the \n",
      "term variable to refer to the labels we use to refer to this stored data.\n",
      "\n",
      "In this example, we ask Python to remember the value six and use the label x\n",
      "so we can retrieve the value later.   We verify that Python has actually remembered\n",
      "the value using x and multiply\n",
      "it 1178 by 9502 seven 47 and put the newly computed value in y.  Then we ask Python to print out\n",
      " the value currently in y.\n",
      "\n",
      "Even though we are typing these commands into Python one line at a time, Python\n",
      "is treating them as an ordered sequence of statements with later statements able\n",
      "to retrieve data created in earlier statements.   We are writing our first \n",
      "simple paragraph with four sentences in a logical and meaningful order.\n",
      "\n",
      "It is the nature of an interpreter to be able to have an interactive conversation\n",
      "as shown above.  A compiler needs to be handed the entire program in a file, and then \n",
      "it runs a process to translate the high-level source code into machine language\n",
      "and then the compiler puts the resulting machine language into a file for later\n",
      "execution.\n",
      "\n",
      "If you have a Windows system, often these executable machine language programs have a\n",
      "suffix of .exe or .dll which stand for executable and dynamic link\n",
      "library respectively.  In Linux and Macintosh, there is no suffix that uniquely marks\n",
      "a file as executable.\n",
      "\n",
      "If you were to open an executable file in a text editor, it would look \n",
      "completely crazy and be unreadable:\n",
      "\n",
      "It is not easy to read or write machine language, so it is nice that we have\n",
      "compilers that allow us to write in high-level\n",
      "languages like Python or C.\n",
      "\n",
      "Now at this point in our discussion of compilers and interpreters, you should \n",
      "be wondering a bit about the Python interpreter itself.  What language is \n",
      "it written in?  Is it written in a compiled language?  When we type\n",
      "python, what exactly is happening?\n",
      "\n",
      "The Python interpreter is written in a high-level language called C.  \n",
      "You can look at the actual source code for the Python interpreter by\n",
      "going to www.python.org and working your way to their source code.\n",
      "So Python is a program itself and it is compiled into machine code.\n",
      "When you installed Python on your computer (or the vendor installed it),\n",
      "4481 you copied a machine-code copy of the translated Python program onto your 6212\n",
      "system. 1955  55  2899 In Windows, the executable machine code for Python itself is likely\n",
      " 9151 2738 6948\n",
      "7532  6230\n",
      "That is more than you really need to know to be a Python programmer, but\n",
      "sometimes it pays to answer those little nagging questions right at \n",
      "the beginning.\n",
      "722 \n",
      "808 852 4064\n",
      "\n",
      "Typing commands into the Python interpreter is a great way to experiment \n",
      "with Python's features, but it is not recommended for solving more complex problems.\n",
      "3288 \n",
      "When we want to write a program, \n",
      "we use a text editor to write the Python instructions into a file,\n",
      "which 8724 is 6059 called 4539 a script.  By\n",
      " convention, Python scripts have names that end with .py.\n",
      "\n",
      "script\n",
      "\n",
      "To execute the script, you have to tell the Python interpreter \n",
      "the name of the file.  In a Unix or Windows command window, \n",
      "you would type python hello.py as follows:\n",
      "592 \n",
      "We call the Python interpreter and tell it to read its source code from\n",
      "the file hello.py instead of prompting us for lines of Python code\n",
      "interactively.\n",
      "\n",
      "You will notice that there was no need to have quit() at the end of\n",
      "the Python program in the file.   When Python is reading your source code\n",
      "from a file, it knows to stop when it reaches the end of the file.\n",
      "\n",
      "What is a program?\n",
      "\n",
      "The definition of a program at its most basic is a sequence\n",
      "of Python statements that have been crafted to do something.\n",
      "Even our simple hello.py script is a program.  It is a one-line\n",
      "program and is not particularly useful, but in the strictest definition,\n",
      "it is a Python program.\n",
      "\n",
      "It might be easiest to understand what a program is by thinking about a problem \n",
      "that a program might be built to solve, and then looking at a program\n",
      "that would solve that problem.\n",
      "\n",
      "Lets say you are doing Social Computing research on Facebook posts and \n",
      "you are interested in the most frequently used word in a series of posts.\n",
      "You could print out the stream of Facebook posts and pore over the text\n",
      "looking for the most common word, but that would take a long time and be very \n",
      "mistake prone.  You would be smart to write a Python program to handle the\n",
      "task quickly and accurately so you can spend the weekend doing something \n",
      "fun.\n",
      "\n",
      "For example, look at the following text about a clown and a car.  Look at the \n",
      "text and figure out the most common word and how many times it occurs.\n",
      "\n",
      "Then imagine that you are doing this task looking at millions of lines of \n",
      "text.  Frankly it would be quicker for you to learn Python and write a \n",
      "Python program to count the words than it would be to manually \n",
      "scan the words.\n",
      "\n",
      "The even better news is that I already came up with a simple program to \n",
      "find the most common word in a text file.  I wrote it,\n",
      "tested it, and now I am giving it to you to use so you can save some time.\n",
      "\n",
      "You don't even need to know Python to use this program.  You will need to get through \n",
      "Chapter ten of this book to fully understand the awesome Python techniques that were\n",
      "used to make the program.  You are the end user, you simply use the program and marvel\n",
      "at its cleverness and how it saved you so much manual effort.\n",
      "You simply type the code \n",
      "into a file called words.py and run it or you download the source \n",
      "code from http://www.py4e.com/code3/ and run it.\n",
      "\n",
      "This is a good example of how Python and the Python language are acting as an intermediary\n",
      "between you (the end user) and me (the programmer).  Python is a way for us to exchange useful\n",
      "instruction sequences (i.e., programs) in a common language that can be used by anyone who \n",
      "installs Python on their computer.  So neither of us are talking to Python,\n",
      "instead we are communicating with each other through Python.\n",
      "\n",
      "The building blocks of programs\n",
      "\n",
      "In the next few chapters, we will learn more about the vocabulary, sentence structure,\n",
      "paragraph structure, and story structure of Python.  We will learn about the powerful\n",
      "capabilities of Python and how to compose those capabilities together to create useful\n",
      "programs.\n",
      "\n",
      "There are some low-level conceptual patterns that we use to construct programs.  These\n",
      "constructs are not just for Python programs, they are part of every programming language\n",
      "from machine language up to the high-level languages.\n",
      "\n",
      "description\n",
      "\n",
      "Get data from the outside world.  This might be \n",
      "reading data from a file, or even some kind of sensor like \n",
      "a microphone or GPS.  In our initial programs, our input will come from the user\n",
      "typing data on the keyboard.\n",
      "\n",
      "Display the results of the program on a screen\n",
      "or store them in a file or perhaps write them to a device like a\n",
      "speaker to play music or speak text.\n",
      "\n",
      "Perform statements one after\n",
      "another in the order they are encountered in the script.\n",
      "\n",
      "Check for certain conditions and\n",
      "then execute or skip a sequence of statements.\n",
      "\n",
      "Perform some set of statements \n",
      "repeatedly, usually with\n",
      "some variation.\n",
      "\n",
      "Write a set of instructions once and give them a name\n",
      "and then reuse those instructions as needed throughout your program.\n",
      "\n",
      "description\n",
      "\n",
      "It sounds almost too simple to be true, and of course it is never\n",
      "so simple.  It is like saying that walking is simply\n",
      "putting one foot in front of the other.  The art \n",
      "of writing a program is composing and weaving these\n",
      "basic elements together many times over to produce something\n",
      "that is useful to its users.\n",
      "\n",
      "The word counting program above directly uses all of \n",
      "these patterns except for one.\n",
      "\n",
      "What could possibly go wrong?\n",
      "\n",
      "As we saw in our earliest conversations with Python, we must\n",
      "communicate very precisely when we write Python code.  The smallest\n",
      "deviation or mistake will cause Python to give up looking at your\n",
      "program.\n",
      "\n",
      "Beginning programmers often take the fact that Python leaves no\n",
      "room for errors as evidence that Python is mean, hateful, and cruel.\n",
      "While Python seems to like everyone else, Python knows them \n",
      "personally and holds a grudge against them.  Because of this grudge,\n",
      "Python takes our perfectly written programs and rejects them as \n",
      "unfit just to torment us.\n",
      "\n",
      "There is little to be gained by arguing with Python.  It is just a tool.\n",
      "It has no emotions and it is happy and ready to serve you whenever you\n",
      "need it.  Its error messages sound harsh, but they are just Python's\n",
      "call for help.  It has looked at what you typed, and it simply cannot\n",
      "understand what you have entered.\n",
      "\n",
      "Python is much more like a dog, loving you unconditionally, having a few\n",
      "key words that it understands, looking you with a sweet look on its\n",
      "face (&gt;&gt;&gt;), and waiting for you to say something it understands.\n",
      "When Python says SyntaxError: invalid syntax, it is simply wagging\n",
      "its tail and saying, You seemed to say something but I just don't\n",
      "understand what you meant, but please keep talking to me (&gt;&gt;&gt;).\n",
      "\n",
      "As your programs become increasingly sophisticated, you will encounter three \n",
      "general types of errors:\n",
      "\n",
      "description\n",
      "\n",
      "These are the first errors you will make and the easiest\n",
      "to fix.  A syntax error means that you have violated the grammar rules of Python.\n",
      "Python does its best to point right at the line and character where \n",
      "it noticed it was confused.  The only tricky bit of syntax errors is that sometimes\n",
      "the mistake that needs fixing is actually earlier in the program than where Python\n",
      "noticed it was confused.  So the line and character that Python indicates in \n",
      "a syntax error may just be a starting point for your investigation.\n",
      "\n",
      "A logic error is when your program has good syntax but there is a mistake \n",
      "in the order of the statements or perhaps a mistake in how the statements relate to one another.\n",
      "A good example of a logic error might be, take a drink from your water bottle, put it \n",
      "in your backpack, walk to the library, and then put the top back on the bottle.\n",
      "\n",
      "A semantic error is when your description of the steps to take \n",
      "is syntactically perfect and in the right order, but there is simply a mistake in \n",
      "the program.  The program is perfectly correct but it does not do what\n",
      "you intended for it to do. A simple example would\n",
      "be if you were giving a person directions to a restaurant and said, ...when you reach\n",
      "the intersection with the gas station, turn left and go one mile and the restaurant\n",
      "is a red building on your left.  Your friend is very late and calls you to tell you that\n",
      "they are on a farm and walking around behind a barn, with no sign of a restaurant.  \n",
      "Then you say did you turn left or right at the gas station? and \n",
      "they say, I followed your directions perfectly, I have \n",
      "them written down, it says turn left and go one mile at the gas station.  Then you say,\n",
      "I am very sorry, because while my instructions were syntactically correct, they \n",
      "sadly contained a small but undetected semantic error.. \n",
      "\n",
      "description\n",
      "\n",
      "Again in all three types of errors, Python is merely trying its hardest to \n",
      "do exactly what you have asked.\n",
      "\n",
      "The learning journey\n",
      "\n",
      "As you progress through the rest of the book, don't be afraid if the concepts \n",
      "don't seem to fit together well the first time.  When you were learning to speak, \n",
      "it was not a problem  for your first few years that you just made cute gurgling noises.\n",
      "And it was OK if it took six months for you to move from simple vocabulary to \n",
      "simple sentences and took five or six more years to move from sentences to paragraphs, and a\n",
      "few more years to be able to write an interesting complete short story on your own.\n",
      "\n",
      "We want you to learn Python much more rapidly, so we teach it all at the same time\n",
      "over the next few chapters.  \n",
      "But it is like learning a new language that takes time to absorb and understand\n",
      "before it feels natural.\n",
      "That leads to some confusion as we visit and revisit\n",
      "topics to try to get you to see the big picture while we are defining the tiny\n",
      "fragments that make up that big picture.  While the book is written linearly, and\n",
      "if you are taking a course it will progress in a linear fashion, don't hesitate\n",
      "to be very nonlinear in how you approach the material.  Look forwards and backwards\n",
      "and read with a light touch.  By skimming more advanced material without \n",
      "fully understanding the details, you can get a better understanding of the why? \n",
      "of programming.  By reviewing previous material and even redoing earlier \n",
      "exercises, you will realize that you actually learned a lot of material even \n",
      "if the material you are currently staring at seems a bit impenetrable.\n",
      "\n",
      "Usually when you are learning your first programming language, there are a few\n",
      "wonderful Ah Hah! moments where you can look up from pounding away at some rock\n",
      "with a hammer and chisel and step away and see that you are indeed building \n",
      "a beautiful sculpture.\n",
      "\n",
      "If something seems particularly hard, there is usually no value in staying up all \n",
      "night and staring at it.   Take a break, take a nap, have a snack, explain what you \n",
      "are having a problem with to someone (or perhaps your dog), and then come back to it with\n",
      "fresh eyes.  I assure you that once you learn the programming concepts in the book\n",
      "you will look back and see that it was all really easy and elegant and it simply \n",
      "took you a bit of time to absorb it.\n",
      "42\n",
      "The end\u0000\u0000\u0000\u0000\u0000\u0000\u0000\u0000\u0000\u0000\u0000\u0000\u0000\u0000qF\n"
     ]
    }
   ],
   "source": [
    "with open('/Users/calvinpineda/Downloads/regex_sum_1933027.txt', 'r', encoding='latin-1') as f:\n",
    "    content_assignment = f.read()\n",
    "    print(content_assignment)"
   ]
  },
  {
   "cell_type": "code",
   "execution_count": 23,
   "id": "c176d09c-846f-496a-9eb3-d33c2b3b1534",
   "metadata": {},
   "outputs": [],
   "source": [
    "numbers_assignment = re.findall('\\d+',content_assignment)"
   ]
  },
  {
   "cell_type": "code",
   "execution_count": 24,
   "id": "7c8e63e2-855a-48e3-b0b7-7d2e841db96d",
   "metadata": {},
   "outputs": [
    {
     "name": "stdout",
     "output_type": "stream",
     "text": [
      "['9121', '4010', '2051', '4204', '684', '6209', '4118', '7503', '8580', '7362', '8987', '1055', '5538', '2862', '2047', '5656', '3729', '421', '8068', '5609', '9765', '1356', '6473', '195', '6661', '2788', '1968', '2764', '2937', '7231', '9506', '6111', '3716', '4266', '4522', '6628', '894', '7142', '7198', '2891', '4920', '9172', '6229', '3522', '7485', '4929', '477', '2236', '3506', '5489', '4', '6455', '604', '6480', '6594', '8217', '1331', '802', '4130', '5028', '6466', '4283', '7951', '9929', '8992', '8846', '5837', '4395', '9522', '7501', '1582', '4856', '6215', '8570', '9042', '1178', '9502', '47', '4481', '6212', '1955', '55', '2899', '9151', '2738', '6948', '7532', '6230', '722', '808', '852', '4064', '3288', '8724', '6059', '4539', '592', '4', '3', '42']\n"
     ]
    }
   ],
   "source": [
    "print(numbers_assignment)"
   ]
  },
  {
   "cell_type": "code",
   "execution_count": 25,
   "id": "e531fa03-282f-4eb1-b7d8-85d0535d26b5",
   "metadata": {},
   "outputs": [],
   "source": [
    "sum_numbers_assignment = sum(int(x) for x in numbers_assignment)"
   ]
  },
  {
   "cell_type": "code",
   "execution_count": 26,
   "id": "0428722a-572c-4fa6-969e-9917d8f0d96a",
   "metadata": {},
   "outputs": [
    {
     "name": "stdout",
     "output_type": "stream",
     "text": [
      "473048\n"
     ]
    }
   ],
   "source": [
    "print(sum_numbers_assignment)"
   ]
  },
  {
   "cell_type": "code",
   "execution_count": 1,
   "id": "16fb56ac-4e2e-40b6-8603-84447d0cd2da",
   "metadata": {},
   "outputs": [
    {
     "name": "stderr",
     "output_type": "stream",
     "text": [
      "/Users/calvinpineda/Desktop/python-projects/my-web-scraping-project/venv/lib/python3.9/site-packages/urllib3/__init__.py:35: NotOpenSSLWarning: urllib3 v2 only supports OpenSSL 1.1.1+, currently the 'ssl' module is compiled with 'LibreSSL 2.8.3'. See: https://github.com/urllib3/urllib3/issues/3020\n",
      "  warnings.warn(\n"
     ]
    }
   ],
   "source": [
    "import requests"
   ]
  },
  {
   "cell_type": "code",
   "execution_count": 2,
   "id": "e4b8ee03-c692-4ebf-b276-86e3895946ed",
   "metadata": {},
   "outputs": [],
   "source": [
    "from bs4 import BeautifulSoup"
   ]
  },
  {
   "cell_type": "code",
   "execution_count": 3,
   "id": "bf9b1365-4bbf-4063-8d8e-43f72770a0bf",
   "metadata": {},
   "outputs": [],
   "source": [
    "import xml.etree.ElementTree as ET"
   ]
  },
  {
   "cell_type": "code",
   "execution_count": null,
   "id": "fa1abc41-2751-4a0c-a9d6-201b64c6ca13",
   "metadata": {},
   "outputs": [],
   "source": [
    "# Element Tree vs element / nodes"
   ]
  },
  {
   "cell_type": "code",
   "execution_count": 5,
   "id": "57da13df-8a69-4e49-af2a-0f172c776302",
   "metadata": {},
   "outputs": [],
   "source": [
    "link = \"https://requests.readthedocs.io/\""
   ]
  },
  {
   "cell_type": "code",
   "execution_count": 6,
   "id": "1671f5ee-95d1-4afc-8043-84082fc18127",
   "metadata": {},
   "outputs": [],
   "source": [
    "response = requests.get(link)"
   ]
  },
  {
   "cell_type": "code",
   "execution_count": 6,
   "id": "56805c4d-b5ef-4909-afef-1b441ecb2ad1",
   "metadata": {},
   "outputs": [
    {
     "data": {
      "text/plain": [
       "requests.models.Response"
      ]
     },
     "execution_count": 6,
     "metadata": {},
     "output_type": "execute_result"
    }
   ],
   "source": [
    "type(response)"
   ]
  },
  {
   "cell_type": "code",
   "execution_count": 7,
   "id": "4adc2b9b-356c-4326-9b13-a87163f423da",
   "metadata": {},
   "outputs": [
    {
     "data": {
      "text/plain": [
       "<Response [200]>"
      ]
     },
     "execution_count": 7,
     "metadata": {},
     "output_type": "execute_result"
    }
   ],
   "source": [
    "response"
   ]
  },
  {
   "cell_type": "code",
   "execution_count": 8,
   "id": "8eca0672-5c90-4d85-a058-114014b79350",
   "metadata": {},
   "outputs": [
    {
     "data": {
      "text/plain": [
       "200"
      ]
     },
     "execution_count": 8,
     "metadata": {},
     "output_type": "execute_result"
    }
   ],
   "source": [
    "response.status_code # 200 value signifies requests.get was succesfful"
   ]
  },
  {
   "cell_type": "code",
   "execution_count": 10,
   "id": "8b13e67d-31cb-45b6-839b-2a10dd189ec9",
   "metadata": {},
   "outputs": [
    {
     "data": {
      "text/plain": [
       "True"
      ]
     },
     "execution_count": 10,
     "metadata": {},
     "output_type": "execute_result"
    }
   ],
   "source": [
    "response.status_code == requests.codes.ok"
   ]
  },
  {
   "cell_type": "code",
   "execution_count": 5,
   "id": "f5a438df-7bba-4d63-89a8-d7ce697a63f7",
   "metadata": {},
   "outputs": [
    {
     "data": {
      "text/plain": [
       "'https://requests.readthedocs.io/en/latest/'"
      ]
     },
     "execution_count": 5,
     "metadata": {},
     "output_type": "execute_result"
    }
   ],
   "source": [
    "response.url "
   ]
  },
  {
   "cell_type": "code",
   "execution_count": 6,
   "id": "e9e76153-ad75-4853-95ed-6f99021bc2f8",
   "metadata": {},
   "outputs": [],
   "source": [
    "# output above tells me a redirect is in place"
   ]
  },
  {
   "cell_type": "code",
   "execution_count": 7,
   "id": "0c96c68a-1b33-48d1-9300-b488a06f1357",
   "metadata": {},
   "outputs": [
    {
     "data": {
      "text/plain": [
       "[<Response [302]>]"
      ]
     },
     "execution_count": 7,
     "metadata": {},
     "output_type": "execute_result"
    }
   ],
   "source": [
    "response.history"
   ]
  },
  {
   "cell_type": "code",
   "execution_count": 12,
   "id": "3dfbf07d-de76-4e49-b477-7796e6970236",
   "metadata": {},
   "outputs": [
    {
     "data": {
      "text/plain": [
       "{'User-Agent': 'python-requests/2.31.0', 'Accept-Encoding': 'gzip, deflate', 'Accept': '*/*', 'Connection': 'keep-alive'}"
      ]
     },
     "execution_count": 12,
     "metadata": {},
     "output_type": "execute_result"
    }
   ],
   "source": [
    "response.request.headers # I am sending this to the server"
   ]
  },
  {
   "cell_type": "code",
   "execution_count": 13,
   "id": "48c391b5-5d43-4ec2-958f-c6f5752ccbe1",
   "metadata": {},
   "outputs": [
    {
     "data": {
      "text/plain": [
       "{'Date': 'Sun, 31 Mar 2024 16:11:28 GMT', 'Content-Type': 'text/html; charset=utf-8', 'Transfer-Encoding': 'chunked', 'Connection': 'keep-alive', 'CF-Ray': '86d19d8f5b98b3d4-MIA', 'CF-Cache-Status': 'HIT', 'Access-Control-Allow-Origin': '*', 'Age': '5422', 'Cache-Control': 'max-age=1200', 'Content-Encoding': 'gzip', 'ETag': 'W/\"b89d7505c36fea4274f286626f6b90c4\"', 'Last-Modified': 'Tue, 20 Feb 2024 23:45:46 GMT', 'Strict-Transport-Security': 'max-age=31536000; includeSubDomains; preload', 'Vary': 'Accept-Encoding', 'Access-Control-Allow-Methods': 'HEAD, OPTIONS, GET', 'CDN-Cache-Control': 'public', 'Referrer-Policy': 'no-referrer-when-downgrade', 'x-amz-id-2': 'zzP9CH0ulWMV/caGSKOsgIkq/xQy1++WdS6UHqwVsxhtgj+T648ahFgWPJLQmEd4LJsS4CCHNdM=', 'x-amz-meta-mtime': '1708472727.733974833', 'x-amz-request-id': 'MSNSGET93A9W73RG', 'x-amz-server-side-encryption': 'AES256', 'X-Backend': 'web-i-0eef5680c6914b979', 'X-Content-Type-Options': 'nosniff', 'X-RTD-Domain': 'requests.readthedocs.io', 'X-RTD-Path': '/proxito/html/requests/latest/index.html', 'X-RTD-Project': 'requests', 'X-RTD-Project-Method': 'public_domain', 'X-RTD-Resolver-Filename': '/', 'X-RTD-Version': 'latest', 'X-RTD-Version-Method': 'path', 'X-Served': 'Nginx-Proxito-Sendfile', 'Server': 'cloudflare', 'alt-svc': 'h3=\":443\"; ma=86400'}"
      ]
     },
     "execution_count": 13,
     "metadata": {},
     "output_type": "execute_result"
    }
   ],
   "source": [
    "response.headers"
   ]
  },
  {
   "cell_type": "code",
   "execution_count": 12,
   "id": "f9b17ff2-6802-4e63-afa5-16b25c6b5b0d",
   "metadata": {},
   "outputs": [
    {
     "data": {
      "text/plain": [
       "<RequestsCookieJar[]>"
      ]
     },
     "execution_count": 12,
     "metadata": {},
     "output_type": "execute_result"
    }
   ],
   "source": [
    "response.cookies"
   ]
  },
  {
   "cell_type": "code",
   "execution_count": 5,
   "id": "7d442a91-b218-4e53-b884-caecb81f1cf0",
   "metadata": {
    "scrolled": true
   },
   "outputs": [
    {
     "data": {
      "text/plain": [
       "['__attrs__',\n",
       " '__bool__',\n",
       " '__class__',\n",
       " '__delattr__',\n",
       " '__dict__',\n",
       " '__dir__',\n",
       " '__doc__',\n",
       " '__enter__',\n",
       " '__eq__',\n",
       " '__exit__',\n",
       " '__format__',\n",
       " '__ge__',\n",
       " '__getattribute__',\n",
       " '__getstate__',\n",
       " '__gt__',\n",
       " '__hash__',\n",
       " '__init__',\n",
       " '__init_subclass__',\n",
       " '__iter__',\n",
       " '__le__',\n",
       " '__lt__',\n",
       " '__module__',\n",
       " '__ne__',\n",
       " '__new__',\n",
       " '__nonzero__',\n",
       " '__reduce__',\n",
       " '__reduce_ex__',\n",
       " '__repr__',\n",
       " '__setattr__',\n",
       " '__setstate__',\n",
       " '__sizeof__',\n",
       " '__str__',\n",
       " '__subclasshook__',\n",
       " '__weakref__',\n",
       " '_content',\n",
       " '_content_consumed',\n",
       " '_next',\n",
       " 'apparent_encoding',\n",
       " 'close',\n",
       " 'connection',\n",
       " 'content',\n",
       " 'cookies',\n",
       " 'elapsed',\n",
       " 'encoding',\n",
       " 'headers',\n",
       " 'history',\n",
       " 'is_permanent_redirect',\n",
       " 'is_redirect',\n",
       " 'iter_content',\n",
       " 'iter_lines',\n",
       " 'json',\n",
       " 'links',\n",
       " 'next',\n",
       " 'ok',\n",
       " 'raise_for_status',\n",
       " 'raw',\n",
       " 'reason',\n",
       " 'request',\n",
       " 'status_code',\n",
       " 'text',\n",
       " 'url']"
      ]
     },
     "execution_count": 5,
     "metadata": {},
     "output_type": "execute_result"
    }
   ],
   "source": [
    "dir(response) # outputs a list of attributes and method from the desired object"
   ]
  },
  {
   "cell_type": "code",
   "execution_count": null,
   "id": "087d6e8a-1f2b-43bb-8392-a32479ed1e7a",
   "metadata": {},
   "outputs": [],
   "source": []
  },
  {
   "cell_type": "code",
   "execution_count": 8,
   "id": "69fe0714-232c-4f86-a871-423ba4ec4b77",
   "metadata": {},
   "outputs": [],
   "source": [
    "original_url = link"
   ]
  },
  {
   "cell_type": "code",
   "execution_count": 10,
   "id": "7f5ac384-1850-41f4-9d5e-5bd9c61b4b8d",
   "metadata": {},
   "outputs": [
    {
     "name": "stdout",
     "output_type": "stream",
     "text": [
      "the original url was https://requests.readthedocs.io/ but after redirect, it is now https://requests.readthedocs.io/en/latest/\n"
     ]
    }
   ],
   "source": [
    "print(f\"the original url was {link} but after redirect, it is now {response.url}\") #find original and redirected url"
   ]
  },
  {
   "cell_type": "code",
   "execution_count": 11,
   "id": "15524ac3-d23b-4419-9a52-f4e2a784d85f",
   "metadata": {},
   "outputs": [],
   "source": [
    "# find the amount of times a URL has been redirect"
   ]
  },
  {
   "cell_type": "code",
   "execution_count": 12,
   "id": "3b125ab1-e755-4758-a4c4-c67df0b2b639",
   "metadata": {},
   "outputs": [],
   "source": [
    "num_redirect = len(response.history)"
   ]
  },
  {
   "cell_type": "code",
   "execution_count": 13,
   "id": "621b9415-ae0b-454b-9a26-7bb0ffe44cce",
   "metadata": {},
   "outputs": [
    {
     "name": "stdout",
     "output_type": "stream",
     "text": [
      "1\n"
     ]
    }
   ],
   "source": [
    "print(num_redirect)"
   ]
  },
  {
   "cell_type": "code",
   "execution_count": 9,
   "id": "4201e595-e41b-4cce-b789-56402b37079c",
   "metadata": {},
   "outputs": [],
   "source": [
    "link_oci = \"https://www.oceaniacruises.com/\""
   ]
  },
  {
   "cell_type": "code",
   "execution_count": 10,
   "id": "1a48ea53-874d-46ff-a5b6-d7a4bab22d6d",
   "metadata": {},
   "outputs": [],
   "source": [
    "response_oci = requests.get(link_oci)"
   ]
  },
  {
   "cell_type": "code",
   "execution_count": 26,
   "id": "c4427aaa-70a5-4574-b023-f2269eb15e81",
   "metadata": {},
   "outputs": [
    {
     "data": {
      "text/plain": [
       "requests.models.Response"
      ]
     },
     "execution_count": 26,
     "metadata": {},
     "output_type": "execute_result"
    }
   ],
   "source": [
    "type(response_oci)"
   ]
  },
  {
   "cell_type": "code",
   "execution_count": 27,
   "id": "7406ca15-8aa3-400d-8357-da1a00b74635",
   "metadata": {},
   "outputs": [
    {
     "data": {
      "text/plain": [
       "200"
      ]
     },
     "execution_count": 27,
     "metadata": {},
     "output_type": "execute_result"
    }
   ],
   "source": [
    "response_oci.status_code"
   ]
  },
  {
   "cell_type": "code",
   "execution_count": 36,
   "id": "db76baaa-fab6-4daa-b859-dea8f13c8882",
   "metadata": {},
   "outputs": [
    {
     "data": {
      "text/plain": [
       "'https://www.oceaniacruises.com/'"
      ]
     },
     "execution_count": 36,
     "metadata": {},
     "output_type": "execute_result"
    }
   ],
   "source": [
    "response_oci.url"
   ]
  },
  {
   "cell_type": "code",
   "execution_count": 37,
   "id": "6d570ccd-0525-4adb-bcd3-48fbcca690af",
   "metadata": {},
   "outputs": [
    {
     "data": {
      "text/plain": [
       "[]"
      ]
     },
     "execution_count": 37,
     "metadata": {},
     "output_type": "execute_result"
    }
   ],
   "source": [
    "response_oci.history"
   ]
  },
  {
   "cell_type": "code",
   "execution_count": 8,
   "id": "dd37d861-f793-4d6c-8dbd-7341c3c207cb",
   "metadata": {
    "scrolled": true
   },
   "outputs": [
    {
     "data": {
      "text/plain": [
       "['__attrs__',\n",
       " '__bool__',\n",
       " '__class__',\n",
       " '__delattr__',\n",
       " '__dict__',\n",
       " '__dir__',\n",
       " '__doc__',\n",
       " '__enter__',\n",
       " '__eq__',\n",
       " '__exit__',\n",
       " '__format__',\n",
       " '__ge__',\n",
       " '__getattribute__',\n",
       " '__getstate__',\n",
       " '__gt__',\n",
       " '__hash__',\n",
       " '__init__',\n",
       " '__init_subclass__',\n",
       " '__iter__',\n",
       " '__le__',\n",
       " '__lt__',\n",
       " '__module__',\n",
       " '__ne__',\n",
       " '__new__',\n",
       " '__nonzero__',\n",
       " '__reduce__',\n",
       " '__reduce_ex__',\n",
       " '__repr__',\n",
       " '__setattr__',\n",
       " '__setstate__',\n",
       " '__sizeof__',\n",
       " '__str__',\n",
       " '__subclasshook__',\n",
       " '__weakref__',\n",
       " '_content',\n",
       " '_content_consumed',\n",
       " '_next',\n",
       " 'apparent_encoding',\n",
       " 'close',\n",
       " 'connection',\n",
       " 'content',\n",
       " 'cookies',\n",
       " 'elapsed',\n",
       " 'encoding',\n",
       " 'headers',\n",
       " 'history',\n",
       " 'is_permanent_redirect',\n",
       " 'is_redirect',\n",
       " 'iter_content',\n",
       " 'iter_lines',\n",
       " 'json',\n",
       " 'links',\n",
       " 'next',\n",
       " 'ok',\n",
       " 'raise_for_status',\n",
       " 'raw',\n",
       " 'reason',\n",
       " 'request',\n",
       " 'status_code',\n",
       " 'text',\n",
       " 'url']"
      ]
     },
     "execution_count": 8,
     "metadata": {},
     "output_type": "execute_result"
    }
   ],
   "source": [
    "dir(response_oci)"
   ]
  },
  {
   "cell_type": "code",
   "execution_count": 8,
   "id": "2748f9f6-ff1a-4a7e-b853-f057b3b564f0",
   "metadata": {},
   "outputs": [
    {
     "data": {
      "text/plain": [
       "{'User-Agent': 'python-requests/2.31.0', 'Accept-Encoding': 'gzip, deflate', 'Accept': '*/*', 'Connection': 'keep-alive'}"
      ]
     },
     "execution_count": 8,
     "metadata": {},
     "output_type": "execute_result"
    }
   ],
   "source": [
    "response_oci.request.headers # what i send oceania's server"
   ]
  },
  {
   "cell_type": "code",
   "execution_count": 11,
   "id": "6d3a9f74-bc20-476d-b9f3-6392e117100a",
   "metadata": {
    "scrolled": true
   },
   "outputs": [
    {
     "data": {
      "text/plain": [
       "{'referrer-policy': 'origin-when-cross-origin, strict-origin-when-cross-origin', 'x-frame-options': 'DENY', 'x-xss-protection': '1; mode=block', 'x-content-type-options': 'nosniff', 'x-permitted-cross-domain-policies': 'master-only', 'Content-Type': 'text/html', 'x-envoy-upstream-service-time': '1008', 'Server': 'istio-envoy', 'tracing-context': 'frontend-routing-oci-browse-response', 'X-Akam-SW-Version': '0.5.0', 'X-Akamai-Transformed': '9 - 0 pmb=mTOE,2mRUM,2', 'Content-Encoding': 'gzip', 'Date': 'Sun, 31 Mar 2024 16:43:35 GMT', 'Transfer-Encoding': 'chunked', 'Connection': 'keep-alive, Transfer-Encoding', 'Vary': 'Accept-Encoding', 'Set-Cookie': 'AKCountry=US; expires=Mon, 31-Dec-2038 23:59:59 GMT; path=/; secure, _abck=0076899EBBB29C99027F43EE8D854D49~-1~YAAQl2rcF+uF6naOAQAAQh1llQtGZZaTatGow3bUFMMIzmbYilIwe0MyV+txZnGoJtziELGTSjiwWH4BINfJk9uoVa/AbuE6GLVkO5MuRr9uFBpBHqI5cJt5tGx/+HZakDnQy5P+K8/6AJGtofG52NV/wvXEEI3ltDw3zYD+heysMB+ECcuHqYrYEWt/unqn6/+HhRL5lVSnjay/xinuRQjU5IrOXoA3avYMIWJW1dceg/9eiHG29oYwKeoqCObOTSKSryFZW7yNij1R45NC+1gwb/UR8Co4QRnQZ+zQ9NbFNWNwjjMfy7cukfVACm7YPUn6Uf/+vwH2QPO89GT1BhFSMU/a3icg2IWxrZWGruwgFLX6rc3yH+ViqT+4KUz2aA==~-1~-1~-1; Domain=.oceaniacruises.com; Path=/; Expires=Mon, 31 Mar 2025 16:43:35 GMT; Max-Age=31536000; Secure, bm_sz=F43FAB3FCF972F0EB7EAC3426420FC29~YAAQl2rcF+yF6naOAQAAQh1llRfww9saZb4Mfj7c6OC6k7veISGLiPQgLN/DBgbSRQHx5Wq28ulKP15TF91TQ3T/Vbf1uDcS5s0ViyQZPd8LTR9XuhfXHcttV9rmt0b1drl74gZ43W+61Xb0z+/CJTMJesBmVAvZxpAoM3sdFqfunD/Ko/cN19JIpvrPj2EbFO8U6ZBE5714PG1w6XGuozTra+nwP61X/bCmx7JggybKnA4Ad9v8Ai8iwIPL0JRi9zkmYdUoAzVRcfmECFGdLfV5VC+kPrSSRThEvabDqskqrp7h+sjC0DvVNgnGkDJk45uBKLOTFMBebD/co19N4FLHGJVii0gUEiBeP7oTbbPNmAa47L8=~3360069~3752761; Domain=.oceaniacruises.com; Path=/; Expires=Sun, 31 Mar 2024 20:43:35 GMT; Max-Age=14400; Secure', 'Server-Timing': 'cdn-cache; desc=HIT, edge; dur=1, ak_p; desc=\"1711903415483_400321175_927038781_988_8805_39_40_-\";dur=1', 'Content-Security-Policy': \"default-src https:;script-src 'unsafe-inline' 'unsafe-eval' blob: https:; style-src 'unsafe-inline' https: blob:; img-src * blob: data:; font-src *; worker-src 'self' blob:;\", 'Akamai-GRN': '0.976adc17.1711903415.37417d3d', 'Strict-Transport-Security': 'max-age=31536000 ; includeSubDomains ; preload'}"
      ]
     },
     "execution_count": 11,
     "metadata": {},
     "output_type": "execute_result"
    }
   ],
   "source": [
    "response_oci.headers # what oceania's server respond with"
   ]
  },
  {
   "cell_type": "code",
   "execution_count": 13,
   "id": "e27c8b63-d5b9-48f4-8bc9-fe4cadf3c897",
   "metadata": {
    "scrolled": true
   },
   "outputs": [
    {
     "data": {
      "text/plain": [
       "<RequestsCookieJar[Cookie(version=0, name='_abck', value='0076899EBBB29C99027F43EE8D854D49~-1~YAAQl2rcF+uF6naOAQAAQh1llQtGZZaTatGow3bUFMMIzmbYilIwe0MyV+txZnGoJtziELGTSjiwWH4BINfJk9uoVa/AbuE6GLVkO5MuRr9uFBpBHqI5cJt5tGx/+HZakDnQy5P+K8/6AJGtofG52NV/wvXEEI3ltDw3zYD+heysMB+ECcuHqYrYEWt/unqn6/+HhRL5lVSnjay/xinuRQjU5IrOXoA3avYMIWJW1dceg/9eiHG29oYwKeoqCObOTSKSryFZW7yNij1R45NC+1gwb/UR8Co4QRnQZ+zQ9NbFNWNwjjMfy7cukfVACm7YPUn6Uf/+vwH2QPO89GT1BhFSMU/a3icg2IWxrZWGruwgFLX6rc3yH+ViqT+4KUz2aA==~-1~-1~-1', port=None, port_specified=False, domain='.oceaniacruises.com', domain_specified=True, domain_initial_dot=True, path='/', path_specified=True, secure=True, expires=1743439415, discard=False, comment=None, comment_url=None, rest={}, rfc2109=False), Cookie(version=0, name='bm_sz', value='F43FAB3FCF972F0EB7EAC3426420FC29~YAAQl2rcF+yF6naOAQAAQh1llRfww9saZb4Mfj7c6OC6k7veISGLiPQgLN/DBgbSRQHx5Wq28ulKP15TF91TQ3T/Vbf1uDcS5s0ViyQZPd8LTR9XuhfXHcttV9rmt0b1drl74gZ43W+61Xb0z+/CJTMJesBmVAvZxpAoM3sdFqfunD/Ko/cN19JIpvrPj2EbFO8U6ZBE5714PG1w6XGuozTra+nwP61X/bCmx7JggybKnA4Ad9v8Ai8iwIPL0JRi9zkmYdUoAzVRcfmECFGdLfV5VC+kPrSSRThEvabDqskqrp7h+sjC0DvVNgnGkDJk45uBKLOTFMBebD/co19N4FLHGJVii0gUEiBeP7oTbbPNmAa47L8=~3360069~3752761', port=None, port_specified=False, domain='.oceaniacruises.com', domain_specified=True, domain_initial_dot=True, path='/', path_specified=True, secure=True, expires=1711917815, discard=False, comment=None, comment_url=None, rest={}, rfc2109=False), Cookie(version=0, name='AKCountry', value='US', port=None, port_specified=False, domain='www.oceaniacruises.com', domain_specified=False, domain_initial_dot=False, path='/', path_specified=True, secure=True, expires=2177452799, discard=False, comment=None, comment_url=None, rest={}, rfc2109=False)]>"
      ]
     },
     "execution_count": 13,
     "metadata": {},
     "output_type": "execute_result"
    }
   ],
   "source": [
    "response_oci.cookies"
   ]
  },
  {
   "cell_type": "code",
   "execution_count": 16,
   "id": "c06833fa-911b-4eed-9855-d874b536b706",
   "metadata": {},
   "outputs": [
    {
     "name": "stdout",
     "output_type": "stream",
     "text": [
      "_abck  :  0076899EBBB29C99027F43EE8D854D49~-1~YAAQl2rcF+uF6naOAQAAQh1llQtGZZaTatGow3bUFMMIzmbYilIwe0MyV+txZnGoJtziELGTSjiwWH4BINfJk9uoVa/AbuE6GLVkO5MuRr9uFBpBHqI5cJt5tGx/+HZakDnQy5P+K8/6AJGtofG52NV/wvXEEI3ltDw3zYD+heysMB+ECcuHqYrYEWt/unqn6/+HhRL5lVSnjay/xinuRQjU5IrOXoA3avYMIWJW1dceg/9eiHG29oYwKeoqCObOTSKSryFZW7yNij1R45NC+1gwb/UR8Co4QRnQZ+zQ9NbFNWNwjjMfy7cukfVACm7YPUn6Uf/+vwH2QPO89GT1BhFSMU/a3icg2IWxrZWGruwgFLX6rc3yH+ViqT+4KUz2aA==~-1~-1~-1\n"
     ]
    }
   ],
   "source": [
    "for cookie in response_oci.cookies: # output cookies in a readble manner\n",
    "    if cookie.domain == \".oceaniacruises.com\":\n",
    "        print(cookie.name,\" : \",cookie.value)\n",
    "        break"
   ]
  },
  {
   "cell_type": "code",
   "execution_count": 7,
   "id": "e0f26274-6ada-42fd-929b-2fb23e87aba4",
   "metadata": {},
   "outputs": [],
   "source": [
    "# new website for scraping: lime mexican fresh grill"
   ]
  },
  {
   "cell_type": "code",
   "execution_count": 9,
   "id": "df972bf5-cdde-466f-8ea2-6fb5436816ad",
   "metadata": {},
   "outputs": [],
   "source": [
    "link_lime = \"https://limefreshmexicangrill.com\""
   ]
  },
  {
   "cell_type": "code",
   "execution_count": 10,
   "id": "b1986cc5-5966-4b1e-a943-889329ee7888",
   "metadata": {},
   "outputs": [],
   "source": [
    "response_lime = requests.get(link_lime)"
   ]
  },
  {
   "cell_type": "code",
   "execution_count": 5,
   "id": "0c2113b4-b32c-46c3-9ab9-57294b7680d8",
   "metadata": {},
   "outputs": [],
   "source": [
    "# i will download a specific image from the limemexicangrill website"
   ]
  },
  {
   "cell_type": "code",
   "execution_count": 11,
   "id": "7ffaf2f7-558f-4845-b869-25a87beeb558",
   "metadata": {},
   "outputs": [],
   "source": [
    "html_lime = response_lime.text # store the content of the page"
   ]
  },
  {
   "cell_type": "code",
   "execution_count": 13,
   "id": "2c6d1d89-a736-4d5a-a57a-697823311de5",
   "metadata": {},
   "outputs": [],
   "source": [
    "soup_lime = BeautifulSoup(html_lime, \"html5lib\") #use beautifulsoup to read content of body"
   ]
  },
  {
   "cell_type": "code",
   "execution_count": 14,
   "id": "ae4d8d4f-90d0-458b-ab96-b8741eedd549",
   "metadata": {
    "scrolled": true
   },
   "outputs": [
    {
     "data": {
      "text/plain": [
       "'<!DOCTYPE html>\\n<!--[if IE 9 ]> <html lang=\"en-US\" class=\"ie9 loading-site no-js\"> <![endif]-->\\n<!--[if IE 8 ]> <html lang=\"en-US\" class=\"ie8 loading-site no-js\"> <![endif]-->\\n<!--[if (gte IE 9)|!(IE)]><!-->\\n<html class=\"loading-site no-js\" lang=\"en-US\">\\n <!--<![endif]-->\\n <head>\\n  <meta charset=\"utf-8\"/>\\n  <link href=\"https://gmpg.org/xfn/11\" rel=\"profile\"/>\\n  <link href=\"https://limefreshmexicangrill.com/xmlrpc.php\" rel=\"pingback\"/>\\n  <script>\\n   (function(html){html.className = html.className.replace(/\\\\bno-js\\\\b/,\\'js\\')})(document.documentElement);\\n  </script>\\n  <meta content=\"index, follow, max-image-preview:large, max-snippet:-1, max-video-preview:-1\" name=\"robots\"/>\\n  <meta content=\"width=device-width, initial-scale=1, maximum-scale=1\" name=\"viewport\"/>\\n  <title>\\n   Home of Fresh, Made to Order, Local Mexican Food in Florida\\n  </title>\\n  <meta content=\"LIME Fresh Mexican Grill features locally sourced Mexican Food in Florida and made in house. Never frozen with freshness you can taste.\" name=\"description\"/>\\n  <link href=\"https://limefreshmexicangrill.com/\" rel=\"canonical\"/>\\n  <meta content=\"en_US\" property=\"og:locale\"/>\\n  <meta content=\"website\" property=\"og:type\"/>\\n  <meta content=\"Home of Fresh, Made to Order, Local Mexican Food in Florida\" property=\"og:title\"/>\\n  <meta content=\"LIME Fresh Mexican Grill features locally sourced Mexican Food in Florida and made in house. Never frozen with freshness you can taste.\" property=\"og:description\"/>\\n  <meta content=\"https://limefreshmexicangrill.com/\" property=\"og:url\"/>\\n  <meta content=\"Lime Fresh Mexican Grill\" property=\"og:site_name\"/>\\n  <meta content=\"2024-03-11T21:00:23+00:00\" property=\"article:modified_time\"/>\\n  <meta content=\"https://limefreshmexicangrill.com/wp-content/uploads/2020/08/taco.png\" property=\"og:image\"/>\\n  <meta content=\"summary_large_image\" name=\"twitter:card\"/>\\n  <link href=\"//fonts.googleapis.com\" rel=\"dns-prefetch\"/>\\n  <link href=\"https://limefreshmexicangrill.com/feed/\" rel=\"alternate\" title=\"Lime Fresh Mexican Grill » Feed\" type=\"application/rss+xml\"/>\\n  <link href=\"https://limefreshmexicangrill.com/comments/feed/\" rel=\"alternate\" title=\"Lime Fresh Mexican Grill » Comments Feed\" type=\"application/rss+xml\"/>\\n  <link href=\"https://limefreshmexicangrill.com/homepage/feed/\" rel=\"alternate\" title=\"Lime Fresh Mexican Grill » Homepage Comments Feed\" type=\"application/rss+xml\"/>\\n  <style id=\"wp-block-library-inline-css\" type=\"text/css\">\\n   :root{--wp-admin-theme-color:#007cba;--wp-admin-theme-color--rgb:0,124,186;--wp-admin-theme-color-darker-10:#006ba1;--wp-admin-theme-color-darker-10--rgb:0,107,161;--wp-admin-theme-color-darker-20:#005a87;--wp-admin-theme-color-darker-20--rgb:0,90,135;--wp-admin-border-width-focus:2px;--wp-block-synced-color:#7a00df;--wp-block-synced-color--rgb:122,0,223}@media (min-resolution:192dpi){:root{--wp-admin-border-width-focus:1.5px}}.wp-element-button{cursor:pointer}:root{--wp--preset--font-size--normal:16px;--wp--preset--font-size--huge:42px}:root .has-very-light-gray-background-color{background-color:#eee}:root .has-very-dark-gray-background-color{background-color:#313131}:root .has-very-light-gray-color{color:#eee}:root .has-very-dark-gray-color{color:#313131}:root .has-vivid-green-cyan-to-vivid-cyan-blue-gradient-background{background:linear-gradient(135deg,#00d084,#0693e3)}:root .has-purple-crush-gradient-background{background:linear-gradient(135deg,#34e2e4,#4721fb 50%,#ab1dfe)}:root .has-hazy-dawn-gradient-background{background:linear-gradient(135deg,#faaca8,#dad0ec)}:root .has-subdued-olive-gradient-background{background:linear-gradient(135deg,#fafae1,#67a671)}:root .has-atomic-cream-gradient-background{background:linear-gradient(135deg,#fdd79a,#004a59)}:root .has-nightshade-gradient-background{background:linear-gradient(135deg,#330968,#31cdcf)}:root .has-midnight-gradient-background{background:linear-gradient(135deg,#020381,#2874fc)}.has-regular-font-size{font-size:1em}.has-larger-font-size{font-size:2.625em}.has-normal-font-size{font-size:var(--wp--preset--font-size--normal)}.has-huge-font-size{font-size:var(--wp--preset--font-size--huge)}.has-text-align-center{text-align:center}.has-text-align-left{text-align:left}.has-text-align-right{text-align:right}#end-resizable-editor-section{display:none}.aligncenter{clear:both}.items-justified-left{justify-content:flex-start}.items-justified-center{justify-content:center}.items-justified-right{justify-content:flex-end}.items-justified-space-between{justify-content:space-between}.screen-reader-text{clip:rect(1px,1px,1px,1px);word-wrap:normal!important;border:0;-webkit-clip-path:inset(50%);clip-path:inset(50%);height:1px;margin:-1px;overflow:hidden;padding:0;position:absolute;width:1px}.screen-reader-text:focus{clip:auto!important;background-color:#ddd;-webkit-clip-path:none;clip-path:none;color:#444;display:block;font-size:1em;height:auto;left:5px;line-height:normal;padding:15px 23px 14px;text-decoration:none;top:5px;width:auto;z-index:100000}html :where(.has-border-color){border-style:solid}html :where([style*=border-top-color]){border-top-style:solid}html :where([style*=border-right-color]){border-right-style:solid}html :where([style*=border-bottom-color]){border-bottom-style:solid}html :where([style*=border-left-color]){border-left-style:solid}html :where([style*=border-width]){border-style:solid}html :where([style*=border-top-width]){border-top-style:solid}html :where([style*=border-right-width]){border-right-style:solid}html :where([style*=border-bottom-width]){border-bottom-style:solid}html :where([style*=border-left-width]){border-left-style:solid}html :where(img[class*=wp-image-]){height:auto;max-width:100%}:where(figure){margin:0 0 1em}html :where(.is-position-sticky){--wp-admin--admin-bar--position-offset:var(--wp-admin--admin-bar--height,0px)}@media screen and (max-width:600px){html :where(.is-position-sticky){--wp-admin--admin-bar--position-offset:0px}}\\n  </style>\\n  <style id=\"classic-theme-styles-inline-css\" type=\"text/css\">\\n   /*! This file is auto-generated */\\n.wp-block-button__link{color:#fff;background-color:#32373c;border-radius:9999px;box-shadow:none;text-decoration:none;padding:calc(.667em + 2px) calc(1.333em + 2px);font-size:1.125em}.wp-block-file__button{background:#32373c;color:#fff;text-decoration:none}\\n  </style>\\n  <style id=\"age-gate-custom-inline-css\" type=\"text/css\">\\n   :root{--ag-background-color: rgba(0,178,84,1);--ag-background-image-position: center center;--ag-background-image-opacity: 1;--ag-form-background: rgba(255,255,255,1);--ag-text-color: #000000;--ag-blur: 5px;}\\n  </style>\\n  <link href=\"//limefreshmexicangrill.com/wp-content/cache/wpfc-minified/d5e09q8n/hngvx.css\" media=\"all\" rel=\"stylesheet\" type=\"text/css\"/>\\n  <style id=\"age-gate-options-inline-css\" type=\"text/css\">\\n   :root{--ag-background-color: rgba(0,178,84,1);--ag-background-image-position: center center;--ag-background-image-opacity: 1;--ag-form-background: rgba(255,255,255,1);--ag-text-color: #000000;--ag-blur: 5px;}\\n  </style>\\n  <link href=\"//limefreshmexicangrill.com/wp-content/cache/wpfc-minified/8kudwi0a/hngvx.css\" media=\"all\" rel=\"stylesheet\" type=\"text/css\"/>\\n  <style id=\"flatsome-main-inline-css\" type=\"text/css\">\\n   @font-face {\\nfont-family: \"fl-icons\";\\nfont-display: block;\\nsrc: url(https://limefreshmexicangrill.com/wp-content/themes/flatsome/assets/css/icons/fl-icons.eot?v=3.14.2);\\nsrc:\\nurl(https://limefreshmexicangrill.com/wp-content/themes/flatsome/assets/css/icons/fl-icons.eot#iefix?v=3.14.2) format(\"embedded-opentype\"),\\nurl(https://limefreshmexicangrill.com/wp-content/themes/flatsome/assets/css/icons/fl-icons.woff2?v=3.14.2) format(\"woff2\"),\\nurl(https://limefreshmexicangrill.com/wp-content/themes/flatsome/assets/css/icons/fl-icons.ttf?v=3.14.2) format(\"truetype\"),\\nurl(https://limefreshmexicangrill.com/wp-content/themes/flatsome/assets/css/icons/fl-icons.woff?v=3.14.2) format(\"woff\"),\\nurl(https://limefreshmexicangrill.com/wp-content/themes/flatsome/assets/css/icons/fl-icons.svg?v=3.14.2#fl-icons) format(\"svg\");\\n}\\n  </style>\\n  <link href=\"//limefreshmexicangrill.com/wp-content/cache/wpfc-minified/7bm1xsi4/hngvx.css\" media=\"all\" rel=\"stylesheet\" type=\"text/css\"/>\\n  <link href=\"//fonts.googleapis.com/css?family=Lato%3Aregular%2C700%2C400%2C700%7CDancing+Script%3Aregular%2C400&amp;display=swap&amp;ver=3.9\" id=\"flatsome-googlefonts-css\" media=\"all\" rel=\"stylesheet\" type=\"text/css\"/>\\n  <script src=\"//limefreshmexicangrill.com/wp-content/cache/wpfc-minified/jqlzu4va/hngvx.js\" type=\"text/javascript\">\\n  </script>\\n  <link href=\"https://limefreshmexicangrill.com/wp-json/\" rel=\"https://api.w.org/\"/>\\n  <link href=\"https://limefreshmexicangrill.com/wp-json/wp/v2/pages/2\" rel=\"alternate\" type=\"application/json\"/>\\n  <link href=\"https://limefreshmexicangrill.com/xmlrpc.php?rsd\" rel=\"EditURI\" title=\"RSD\" type=\"application/rsd+xml\"/>\\n  <meta content=\"WordPress 6.4.3\" name=\"generator\"/>\\n  <link href=\"https://limefreshmexicangrill.com/\" rel=\"shortlink\"/>\\n  <link href=\"https://limefreshmexicangrill.com/wp-json/oembed/1.0/embed?url=https%3A%2F%2Flimefreshmexicangrill.com%2F\" rel=\"alternate\" type=\"application/json+oembed\"/>\\n  <link href=\"https://limefreshmexicangrill.com/wp-json/oembed/1.0/embed?url=https%3A%2F%2Flimefreshmexicangrill.com%2F&amp;format=xml\" rel=\"alternate\" type=\"text/xml+oembed\"/>\\n  <meta content=\"gudxsfn68mdxi799aklad72u55mvss\" name=\"facebook-domain-verification\"/>\\n  <script>\\n   !function(f,b,e,v,n,t,s)\\n{if(f.fbq)return;n=f.fbq=function(){n.callMethod?\\nn.callMethod.apply(n,arguments):n.queue.push(arguments)};\\nif(!f._fbq)f._fbq=n;n.push=n;n.loaded=!0;n.version=\\'2.0\\';\\nn.queue=[];t=b.createElement(e);t.async=!0;\\nt.src=v;s=b.getElementsByTagName(e)[0];\\ns.parentNode.insertBefore(t,s)}(window, document,\\'script\\',\\n\\'https://connect.facebook.net/en_US/fbevents.js\\');\\nfbq(\\'init\\', \\'239598157045936\\');\\nfbq(\\'track\\', \\'PageView\\');\\n  </script>\\n  <noscript>\\n  </noscript>\\n </head>\\n <body class=\"home page-template page-template-page-blank page-template-page-blank-php page page-id-2 lightbox nav-dropdown-has-arrow nav-dropdown-has-shadow nav-dropdown-has-border mobile-submenu-slide mobile-submenu-slide-levels-1\">\\n  <img height=\"1\" src=\"https://www.facebook.com/tr?id=239598157045936&amp;ev=PageView&amp;noscript=1\" style=\"display:none\" width=\"1\"/>\\n  <meta content=\"yXfe9YuT9NrNopMDr_Bw7j2sk3no1XSEYbeDtvDXYqE\" name=\"google-site-verification\"/>\\n  <script>\\n   (function(w,d,s,l,i){w[l]=w[l]||[];w[l].push({\\'gtm.start\\':\\nnew Date().getTime(),event:\\'gtm.js\\'});var f=d.getElementsByTagName(s)[0],\\nj=d.createElement(s),dl=l!=\\'dataLayer\\'?\\'&l=\\'+l:\\'\\';j.async=true;j.src=\\n\\'https://www.googletagmanager.com/gtm.js?id=\\'+i+dl;f.parentNode.insertBefore(j,f);\\n})(window,document,\\'script\\',\\'dataLayer\\',\\'GTM-PMBZHBC\\');\\n  </script>\\n  <script>\\n   document.documentElement.className = document.documentElement.className.replace( \\'no-js\\', \\'js\\' );\\n  </script>\\n  <style>\\n   .no-js img.lazyload { display: none; }\\nfigure.wp-block-image img.lazyloading { min-width: 150px; }\\n.lazyload, .lazyloading { opacity: 0; }\\n.lazyloaded {\\nopacity: 1;\\ntransition: opacity 400ms;\\ntransition-delay: 0ms;\\n}\\n  </style>\\n  <style>\\n   .bg{opacity: 0; transition: opacity 1s; -webkit-transition: opacity 1s;} .bg-loaded{opacity: 1;}\\n  </style>\\n  <!--[if IE]><link rel=\"stylesheet\" type=\"text/css\" href=\"https://limefreshmexicangrill.com/wp-content/themes/flatsome/assets/css/ie-fallback.css\"><script src=\"//cdnjs.cloudflare.com/ajax/libs/html5shiv/3.6.1/html5shiv.js\"></script><script>var head = document.getElementsByTagName(\\'head\\')[0],style = document.createElement(\\'style\\');style.type = \\'text/css\\';style.styleSheet.cssText = \\':before,:after{content:none !important\\';head.appendChild(style);setTimeout(function(){head.removeChild(style);}, 0);</script><script src=\"https://limefreshmexicangrill.com/wp-content/themes/flatsome/assets/libs/ie-flexibility.js\"></script><![endif]-->\\n  <meta content=\"5U1JIq1C_zyAYP0ym2WKvak9vetenycqqH_2XeyID3g\" name=\"google-site-verification\"/>\\n  <script>\\n   jQuery(document).ready(function () {\\njQuery(\\'#AdaOpen\\').click(function (e) {\\ne.preventDefault();\\njQuery(this).css(\\'display\\', \\'none\\');\\njQuery(\"#AdaClose\").css(\\'display\\', \\'block\\');\\njQuery(\\'#AdaMain\\').css(\\'right\\', \\'0\\');\\n});\\njQuery(\\'#AdaClose\\').click(function (e) {\\ne.preventDefault();\\njQuery(this).css(\\'display\\', \\'none\\');\\njQuery(\"#AdaOpen\").css(\\'display\\', \\'block\\');\\njQuery(\\'#AdaMain\\').css(\\'right\\', \\'-320px\\');\\n});\\n// Key Board Tab\\njQuery(\\'#AdaKeyboardNav\\').click(function () {\\nif (jQuery(this).is(\\':checked\\')) {\\njQuery(this).parent().addClass(\\'active\\');\\n} else {\\nif (jQuery(\\'#AdaReadPage\\').is(\\':checked\\')) {\\njQuery(\\'#AdaReadPage\\').click();\\n}\\njQuery(this).parent().removeClass(\\'active\\');\\njQuery(\\'body a\\').each(function () {\\njQuery(this).removeClass(\"AdaLinkActive\");\\n});\\njQuery(\\'body button\\').each(function () {\\njQuery(this).removeClass(\"AdaLinkActive\");\\n});\\n}\\n});\\n//Read Page\\njQuery(\\'#AdaReadPage\\').click(function () {\\nif (jQuery(this).is(\\':checked\\')) {\\njQuery(this).parent().addClass(\\'active\\');\\nif (jQuery(\\'#AdaKeyboardNav\\').is(\\':checked\\')) {\\n} else {\\njQuery(\\'#AdaKeyboardNav\\').click();\\n}\\n} else {\\njQuery(this).parent().removeClass(\\'active\\');\\nif (jQuery(\\'#AdaKeyboardNav\\').is(\\':checked\\')) {\\njQuery(\\'#AdaKeyboardNav\\').click();\\n}\\njQuery(\\'body a\\').each(function () {\\njQuery(this).removeClass(\"AdaLinkActive\");\\n});\\njQuery(\\'body button\\').each(function () {\\njQuery(this).removeClass(\"AdaLinkActive\");\\n});\\n}\\n});\\njQuery(document).on(\\'keyup\\', function (e) {\\nif (jQuery(\\'#AdaKeyboardNav\\').is(\\':checked\\')) {\\nif (e.which == 9) {\\njQuery(\\'body a\\').each(function () {\\njQuery(this).removeClass(\"AdaLinkActive\");\\n});\\njQuery(\\'body button\\').each(function () {\\njQuery(this).removeClass(\"AdaLinkActive\");\\n});\\njQuery(e.target).addClass(\\'AdaLinkActive\\');\\n}\\n}\\nif (jQuery(\\'#AdaKeyboardNav\\').is(\\':checked\\') && jQuery(\\'#AdaReadPage\\').is(\\':checked\\')) {\\nif (e.which == 9) {\\njQuery(\\'body a\\').each(function () {\\njQuery(this).removeClass(\"AdaLinkActive\");\\n});\\njQuery(\\'body button\\').each(function () {\\njQuery(this).removeClass(\"AdaLinkActive\");\\n});\\njQuery(e.target).addClass(\\'AdaLinkActive\\');\\nvar text = jQuery(e.target).text();\\nvar msg = new SpeechSynthesisUtterance();\\nvar voices = window.speechSynthesis.getVoices();\\nmsg.text = text;\\nspeechSynthesis.speak(msg);\\n}\\n}\\n});\\njQuery(document.body).bind(\\'mouseup\\', function (e) {\\nif (jQuery(\\'#AdaKeyboardNav\\').is(\\':checked\\') && jQuery(\\'#AdaReadPage\\').is(\\':checked\\')) {\\nvar text = window.getSelection();\\nvar msg = new SpeechSynthesisUtterance();\\nvar voices = window.speechSynthesis.getVoices();\\nmsg.text = text;\\nspeechSynthesis.speak(msg);\\n}\\n});\\n// Cursor\\njQuery(\\'#AdaSimpleCursor\\').click(function () {\\nif (jQuery(this).is(\\':checked\\')) {\\njQuery(\\'body\\').addClass(\\'AdaBodyCursor\\');\\njQuery(\\'.AdaSimpleCursor\\').css({\\n\"opacity\": \"0\",\\n\"z-index\": \"1\"\\n});\\njQuery(\\'.AdaBigCursor\\').css({\\n\"opacity\": \"1\",\\n\"z-index\": \"9\"\\n});\\njQuery(\\'.AdaBigCursor\\').addClass(\\'active\\');\\njQuery(\\'#AdaBigCursor\\').prop(\"checked\", false);\\njQuery(\\'#AdaRGCursor\\').prop(\"checked\", false);\\n}\\n});\\njQuery(\\'#AdaBigCursor\\').click(function () {\\nif (jQuery(this).is(\\':checked\\')) {\\njQuery(\\'body\\').removeClass(\\'AdaBodyCursor\\');\\njQuery(\\'.AdaBigCursor\\').css({\\n\"opacity\": \"0\",\\n\"z-index\": \"1\"\\n});\\njQuery(\\'.AdaRGCursor\\').css({\\n\"opacity\": \"1\",\\n\"z-index\": \"9\"\\n});\\njQuery(\\'.AdaRGCursor\\').addClass(\\'active\\');\\njQuery(\\'#AdaSimpleCursor\\').prop(\"checked\", false);\\njQuery(\\'#AdaRGCursor\\').prop(\"checked\", false);\\njQuery(\\'body\\').append(\\'<div id=\"AdaRGDivCursor\"></div>\\');\\njQuery(\\'#AdaRGDivCursor\\').mousemove();\\n}\\n});\\njQuery(\\'#AdaRGCursor\\').click(function () {\\nif (jQuery(this).is(\\':checked\\')) {\\njQuery(\\'body\\').removeClass(\\'AdaBodyCursor\\');\\njQuery(\\'.AdaRGCursor\\').css({\\n\"opacity\": \"0\",\\n\"z-index\": \"1\"\\n});\\njQuery(\\'.AdaSimpleCursor\\').css({\\n\"opacity\": \"1\",\\n\"z-index\": \"9\"\\n});\\njQuery(\\'.AdaSimpleCursor\\').removeClass(\\'active\\');\\njQuery(\\'#AdaBigCursor\\').prop(\"checked\", false);\\njQuery(\\'#AdaSimpleCursor\\').prop(\"checked\", false);\\njQuery(\\'#AdaRGDivCursor\\').remove();\\n}\\n});\\njQuery(document).bind(\\'mousemove\\', function (e) {\\njQuery(\\'#AdaRGDivCursor\\').css(\\'top\\', event.pageY - 20)\\n});\\n// Contrast\\njQuery(\\'#AdaContrastSimple\\').click(function () {\\nif (jQuery(this).is(\\':checked\\')) {\\njQuery(\\'.AdaContrastSimple\\').css({\\n\"opacity\": \"0\",\\n\"z-index\": \"1\"\\n});\\njQuery(\\'.AdaContrastIC\\').css({\\n\"opacity\": \"1\",\\n\"z-index\": \"9\"\\n});\\njQuery(\\'#MainSection\\').addClass(\\'ContrastInvert\\');\\njQuery(\\'.AdaContrastIC\\').addClass(\\'active\\');\\njQuery(\\'#AdaContrastIC\\').prop(\"checked\", false);\\njQuery(\\'#AdaContrastDC\\').prop(\"checked\", false);\\njQuery(\\'#AdaContrastLC\\').prop(\"checked\", false);\\n}\\n});\\njQuery(\\'#AdaContrastIC\\').click(function () {\\nif (jQuery(this).is(\\':checked\\')) {\\njQuery(\\'.AdaContrastIC\\').css({\\n\"opacity\": \"0\",\\n\"z-index\": \"1\"\\n});\\njQuery(\\'.AdaContrastDC\\').css({\\n\"opacity\": \"1\",\\n\"z-index\": \"9\"\\n});\\njQuery(\\'.AdaContrastDC\\').addClass(\\'active\\');\\njQuery(\\'#MainSection\\').removeClass(\\'ContrastInvert\\');\\njQuery(\\'#MainSection\\').addClass(\\'DarkContrast\\');\\njQuery(\\'#AdaContrastSimple\\').prop(\"checked\", false);\\njQuery(\\'#AdaContrastDC\\').prop(\"checked\", false);\\njQuery(\\'#AdaContrastLC\\').prop(\"checked\", false);\\n}\\n});\\njQuery(\\'#AdaContrastDC\\').click(function () {\\nif (jQuery(this).is(\\':checked\\')) {\\njQuery(\\'.AdaContrastDC\\').css({\\n\"opacity\": \"0\",\\n\"z-index\": \"1\"\\n});\\njQuery(\\'.AdaContrastLC\\').css({\\n\"opacity\": \"1\",\\n\"z-index\": \"9\"\\n});\\njQuery(\\'.AdaContrastLC\\').addClass(\\'active\\');\\njQuery(\\'#MainSection\\').removeClass(\\'DarkContrast\\');\\njQuery(\\'#MainSection\\').addClass(\\'LightContrast\\');\\njQuery(\\'#AdaContrastSimple\\').prop(\"checked\", false);\\njQuery(\\'#AdaContrastIC\\').prop(\"checked\", false);\\njQuery(\\'#AdaContrastLC\\').prop(\"checked\", false);\\n}\\n});\\njQuery(\\'#AdaContrastLC\\').click(function () {\\nif (jQuery(this).is(\\':checked\\')) {\\njQuery(\\'.AdaContrastLC\\').css({\\n\"opacity\": \"0\",\\n\"z-index\": \"1\"\\n});\\njQuery(\\'.AdaContrastSimple\\').css({\\n\"opacity\": \"1\",\\n\"z-index\": \"9\"\\n});\\njQuery(\\'.AdaContrastSimple\\').removeClass(\\'active\\');\\njQuery(\\'#MainSection\\').removeClass(\\'LightContrast\\');\\njQuery(\\'#AdaContrastSimple\\').prop(\"checked\", false);\\njQuery(\\'#AdaContrastIC\\').prop(\"checked\", false);\\njQuery(\\'#AdaContrastDC\\').prop(\"checked\", false);\\n}\\n});\\n// Bigger Text\\njQuery(\\'#AdaBiggerTextSimple\\').click(function () {\\nif (jQuery(this).is(\\':checked\\')) {\\njQuery(\\'.AdaBiggerTextSimple\\').css({\\n\"opacity\": \"0\",\\n\"z-index\": \"1\"\\n});\\njQuery(\\'.AdaBiggerText25\\').css({\\n\"opacity\": \"1\",\\n\"z-index\": \"9\"\\n});\\njQuery(\\'body h1\\').each(function () {\\ncurSize = parseInt(jQuery(this).css(\\'font-size\\'));\\nnewSize = curSize + 3;\\njQuery(this).css(\\'font-size\\', newSize);\\n});\\njQuery(\\'body h2\\').each(function () {\\ncurSize = parseInt(jQuery(this).css(\\'font-size\\'));\\nnewSize = curSize + 3;\\njQuery(this).css(\\'font-size\\', newSize);\\n});\\njQuery(\\'body h3\\').each(function () {\\ncurSize = parseInt(jQuery(this).css(\\'font-size\\'));\\nnewSize = curSize + 3;\\njQuery(this).css(\\'font-size\\', newSize);\\n});\\njQuery(\\'body h4\\').each(function () {\\ncurSize = parseInt(jQuery(this).css(\\'font-size\\'));\\nnewSize = curSize + 3;\\njQuery(this).css(\\'font-size\\', newSize);\\n});\\njQuery(\\'body h5\\').each(function () {\\ncurSize = parseInt(jQuery(this).css(\\'font-size\\'));\\nnewSize = curSize + 3;\\njQuery(this).css(\\'font-size\\', newSize);\\n});\\njQuery(\\'body h6\\').each(function () {\\ncurSize = parseInt(jQuery(this).css(\\'font-size\\'));\\nnewSize = curSize + 3;\\njQuery(this).css(\\'font-size\\', newSize);\\n});\\njQuery(\\'body p\\').each(function () {\\ncurSize = parseInt(jQuery(this).css(\\'font-size\\'));\\nnewSize = curSize + 3;\\njQuery(this).css(\\'font-size\\', newSize);\\n});\\njQuery(\\'body li\\').each(function () {\\ncurSize = parseInt(jQuery(this).css(\\'font-size\\'));\\nnewSize = curSize + 3;\\njQuery(this).css(\\'font-size\\', newSize);\\n});\\njQuery(\\'body a\\').each(function () {\\ncurSize = parseInt(jQuery(this).css(\\'font-size\\'));\\nnewSize = curSize + 3;\\njQuery(this).css(\\'font-size\\', newSize);\\n});\\njQuery(\\'body button\\').each(function () {\\ncurSize = parseInt(jQuery(this).css(\\'font-size\\'));\\nnewSize = curSize + 3;\\njQuery(this).css(\\'font-size\\', newSize);\\n});\\njQuery(\\'.AdaBiggerText25\\').addClass(\\'active\\');\\njQuery(\\'#AdaBiggerText25\\').prop(\"checked\", false);\\njQuery(\\'#AdaBiggerText50\\').prop(\"checked\", false);\\njQuery(\\'#AdaBiggerText75\\').prop(\"checked\", false);\\njQuery(\\'#AdaBiggerText100\\').prop(\"checked\", false);\\n}\\n});\\njQuery(\\'#AdaBiggerText25\\').click(function () {\\nif (jQuery(this).is(\\':checked\\')) {\\njQuery(\\'.AdaBiggerText25\\').css({\\n\"opacity\": \"0\",\\n\"z-index\": \"1\"\\n});\\njQuery(\\'.AdaBiggerText50\\').css({\\n\"opacity\": \"1\",\\n\"z-index\": \"9\"\\n});\\njQuery(\\'.AdaBiggerText50\\').addClass(\\'active\\');\\njQuery(\\'body h1\\').each(function () {\\ncurSize = parseInt(jQuery(this).css(\\'font-size\\'));\\nnewSize = curSize + 3;\\njQuery(this).css(\\'font-size\\', newSize);\\n});\\njQuery(\\'body h2\\').each(function () {\\ncurSize = parseInt(jQuery(this).css(\\'font-size\\'));\\nnewSize = curSize + 3;\\njQuery(this).css(\\'font-size\\', newSize);\\n});\\njQuery(\\'body h3\\').each(function () {\\ncurSize = parseInt(jQuery(this).css(\\'font-size\\'));\\nnewSize = curSize + 3;\\njQuery(this).css(\\'font-size\\', newSize);\\n});\\njQuery(\\'body h4\\').each(function () {\\ncurSize = parseInt(jQuery(this).css(\\'font-size\\'));\\nnewSize = curSize + 3;\\njQuery(this).css(\\'font-size\\', newSize);\\n});\\njQuery(\\'body h5\\').each(function () {\\ncurSize = parseInt(jQuery(this).css(\\'font-size\\'));\\nnewSize = curSize + 3;\\njQuery(this).css(\\'font-size\\', newSize);\\n});\\njQuery(\\'body h6\\').each(function () {\\ncurSize = parseInt(jQuery(this).css(\\'font-size\\'));\\nnewSize = curSize + 3;\\njQuery(this).css(\\'font-size\\', newSize);\\n});\\njQuery(\\'body p\\').each(function () {\\ncurSize = parseInt(jQuery(this).css(\\'font-size\\'));\\nnewSize = curSize + 3;\\njQuery(this).css(\\'font-size\\', newSize);\\n});\\njQuery(\\'body li\\').each(function () {\\ncurSize = parseInt(jQuery(this).css(\\'font-size\\'));\\nnewSize = curSize + 3;\\njQuery(this).css(\\'font-size\\', newSize);\\n});\\njQuery(\\'body a\\').each(function () {\\ncurSize = parseInt(jQuery(this).css(\\'font-size\\'));\\nnewSize = curSize + 3;\\njQuery(this).css(\\'font-size\\', newSize);\\n});\\njQuery(\\'body button\\').each(function () {\\ncurSize = parseInt(jQuery(this).css(\\'font-size\\'));\\nnewSize = curSize + 3;\\njQuery(this).css(\\'font-size\\', newSize);\\n});\\njQuery(\\'#AdaBiggerTextSimple\\').prop(\"checked\", false);\\njQuery(\\'#AdaBiggerText50\\').prop(\"checked\", false);\\njQuery(\\'#AdaBiggerText75\\').prop(\"checked\", false);\\njQuery(\\'#AdaBiggerText100\\').prop(\"checked\", false);\\n}\\n});\\njQuery(\\'#AdaBiggerText50\\').click(function () {\\nif (jQuery(this).is(\\':checked\\')) {\\njQuery(\\'.AdaBiggerText50\\').css({\\n\"opacity\": \"0\",\\n\"z-index\": \"1\"\\n});\\njQuery(\\'.AdaBiggerText75\\').css({\\n\"opacity\": \"1\",\\n\"z-index\": \"9\"\\n});\\njQuery(\\'.AdaBiggerText75\\').addClass(\\'active\\');\\njQuery(\\'body h1\\').each(function () {\\ncurSize = parseInt(jQuery(this).css(\\'font-size\\'));\\nnewSize = curSize + 3;\\njQuery(this).css(\\'font-size\\', newSize);\\n});\\njQuery(\\'body h2\\').each(function () {\\ncurSize = parseInt(jQuery(this).css(\\'font-size\\'));\\nnewSize = curSize + 3;\\njQuery(this).css(\\'font-size\\', newSize);\\n});\\njQuery(\\'body h3\\').each(function () {\\ncurSize = parseInt(jQuery(this).css(\\'font-size\\'));\\nnewSize = curSize + 3;\\njQuery(this).css(\\'font-size\\', newSize);\\n});\\njQuery(\\'body h4\\').each(function () {\\ncurSize = parseInt(jQuery(this).css(\\'font-size\\'));\\nnewSize = curSize + 3;\\njQuery(this).css(\\'font-size\\', newSize);\\n});\\njQuery(\\'body h5\\').each(function () {\\ncurSize = parseInt(jQuery(this).css(\\'font-size\\'));\\nnewSize = curSize + 3;\\njQuery(this).css(\\'font-size\\', newSize);\\n});\\njQuery(\\'body h6\\').each(function () {\\ncurSize = parseInt(jQuery(this).css(\\'font-size\\'));\\nnewSize = curSize + 3;\\njQuery(this).css(\\'font-size\\', newSize);\\n});\\njQuery(\\'body p\\').each(function () {\\ncurSize = parseInt(jQuery(this).css(\\'font-size\\'));\\nnewSize = curSize + 3;\\njQuery(this).css(\\'font-size\\', newSize);\\n});\\njQuery(\\'body li\\').each(function () {\\ncurSize = parseInt(jQuery(this).css(\\'font-size\\'));\\nnewSize = curSize + 3;\\njQuery(this).css(\\'font-size\\', newSize);\\n});\\njQuery(\\'body a\\').each(function () {\\ncurSize = parseInt(jQuery(this).css(\\'font-size\\'));\\nnewSize = curSize + 3;\\njQuery(this).css(\\'font-size\\', newSize);\\n});\\njQuery(\\'body button\\').each(function () {\\ncurSize = parseInt(jQuery(this).css(\\'font-size\\'));\\nnewSize = curSize + 3;\\njQuery(this).css(\\'font-size\\', newSize);\\n});\\njQuery(\\'#AdaBiggerTextSimple\\').prop(\"checked\", false);\\njQuery(\\'#AdaBiggerText25\\').prop(\"checked\", false);\\njQuery(\\'#AdaBiggerText75\\').prop(\"checked\", false);\\njQuery(\\'#AdaBiggerText100\\').prop(\"checked\", false);\\n}\\n});\\njQuery(\\'#AdaBiggerText75\\').click(function () {\\nif (jQuery(this).is(\\':checked\\')) {\\njQuery(\\'.AdaBiggerText75\\').css({\\n\"opacity\": \"0\",\\n\"z-index\": \"1\"\\n});\\njQuery(\\'.AdaBiggerText100\\').css({\\n\"opacity\": \"1\",\\n\"z-index\": \"9\"\\n});\\njQuery(\\'.AdaBiggerText100\\').addClass(\\'active\\');\\njQuery(\\'body h1\\').each(function () {\\ncurSize = parseInt(jQuery(this).css(\\'font-size\\'));\\nnewSize = curSize + 3;\\njQuery(this).css(\\'font-size\\', newSize);\\n});\\njQuery(\\'body h2\\').each(function () {\\ncurSize = parseInt(jQuery(this).css(\\'font-size\\'));\\nnewSize = curSize + 3;\\njQuery(this).css(\\'font-size\\', newSize);\\n});\\njQuery(\\'body h3\\').each(function () {\\ncurSize = parseInt(jQuery(this).css(\\'font-size\\'));\\nnewSize = curSize + 3;\\njQuery(this).css(\\'font-size\\', newSize);\\n});\\njQuery(\\'body h4\\').each(function () {\\ncurSize = parseInt(jQuery(this).css(\\'font-size\\'));\\nnewSize = curSize + 3;\\njQuery(this).css(\\'font-size\\', newSize);\\n});\\njQuery(\\'body h5\\').each(function () {\\ncurSize = parseInt(jQuery(this).css(\\'font-size\\'));\\nnewSize = curSize + 3;\\njQuery(this).css(\\'font-size\\', newSize);\\n});\\njQuery(\\'body h6\\').each(function () {\\ncurSize = parseInt(jQuery(this).css(\\'font-size\\'));\\nnewSize = curSize + 3;\\njQuery(this).css(\\'font-size\\', newSize);\\n});\\njQuery(\\'body p\\').each(function () {\\ncurSize = parseInt(jQuery(this).css(\\'font-size\\'));\\nnewSize = curSize + 3;\\njQuery(this).css(\\'font-size\\', newSize);\\n});\\njQuery(\\'body li\\').each(function () {\\ncurSize = parseInt(jQuery(this).css(\\'font-size\\'));\\nnewSize = curSize + 3;\\njQuery(this).css(\\'font-size\\', newSize);\\n});\\njQuery(\\'body a\\').each(function () {\\ncurSize = parseInt(jQuery(this).css(\\'font-size\\'));\\nnewSize = curSize + 3;\\njQuery(this).css(\\'font-size\\', newSize);\\n});\\njQuery(\\'body button\\').each(function () {\\ncurSize = parseInt(jQuery(this).css(\\'font-size\\'));\\nnewSize = curSize + 3;\\njQuery(this).css(\\'font-size\\', newSize);\\n});\\njQuery(\\'#AdaBiggerTextSimple\\').prop(\"checked\", false);\\njQuery(\\'#AdaBiggerText25\\').prop(\"checked\", false);\\njQuery(\\'#AdaBiggerText50\\').prop(\"checked\", false);\\njQuery(\\'#AdaBiggerText100\\').prop(\"checked\", false);\\n}\\n});\\njQuery(\\'#AdaBiggerText100\\').click(function () {\\nif (jQuery(this).is(\\':checked\\')) {\\njQuery(\\'.AdaBiggerText100\\').css({\\n\"opacity\": \"0\",\\n\"z-index\": \"1\"\\n});\\njQuery(\\'.AdaBiggerTextSimple\\').css({\\n\"opacity\": \"1\",\\n\"z-index\": \"9\"\\n});\\njQuery(\\'body h1\\').each(function () {\\ncurSize = parseInt(jQuery(this).css(\\'font-size\\'));\\nnewSize = curSize - 12;\\njQuery(this).css(\\'font-size\\', newSize);\\n});\\njQuery(\\'body h2\\').each(function () {\\ncurSize = parseInt(jQuery(this).css(\\'font-size\\'));\\nnewSize = curSize - 12;\\njQuery(this).css(\\'font-size\\', newSize);\\n});\\njQuery(\\'body h3\\').each(function () {\\ncurSize = parseInt(jQuery(this).css(\\'font-size\\'));\\nnewSize = curSize - 12;\\njQuery(this).css(\\'font-size\\', newSize);\\n});\\njQuery(\\'body h4\\').each(function () {\\ncurSize = parseInt(jQuery(this).css(\\'font-size\\'));\\nnewSize = curSize - 12;\\njQuery(this).css(\\'font-size\\', newSize);\\n});\\njQuery(\\'body h5\\').each(function () {\\ncurSize = parseInt(jQuery(this).css(\\'font-size\\'));\\nnewSize = curSize - 12;\\njQuery(this).css(\\'font-size\\', newSize);\\n});\\njQuery(\\'body h6\\').each(function () {\\ncurSize = parseInt(jQuery(this).css(\\'font-size\\'));\\nnewSize = curSize - 12;\\njQuery(this).css(\\'font-size\\', newSize);\\n});\\njQuery(\\'body p\\').each(function () {\\ncurSize = parseInt(jQuery(this).css(\\'font-size\\'));\\nnewSize = curSize - 12;\\njQuery(this).css(\\'font-size\\', newSize);\\n});\\njQuery(\\'body li\\').each(function () {\\ncurSize = parseInt(jQuery(this).css(\\'font-size\\'));\\nnewSize = curSize - 12;\\njQuery(this).css(\\'font-size\\', newSize);\\n});\\njQuery(\\'body a\\').each(function () {\\ncurSize = parseInt(jQuery(this).css(\\'font-size\\'));\\nnewSize = curSize - 12;\\njQuery(this).css(\\'font-size\\', newSize);\\n});\\njQuery(\\'body button\\').each(function () {\\ncurSize = parseInt(jQuery(this).css(\\'font-size\\'));\\nnewSize = curSize - 12;\\njQuery(this).css(\\'font-size\\', newSize);\\n});\\njQuery(\\'#AdaBiggerTextSimple\\').prop(\"checked\", false);\\njQuery(\\'#AdaBiggerText25\\').prop(\"checked\", false);\\njQuery(\\'#AdaBiggerText50\\').prop(\"checked\", false);\\njQuery(\\'#AdaBiggerText75\\').prop(\"checked\", false);\\njQuery(\\'#AdaBiggerText100\\').prop(\"checked\", false);\\n}\\n});\\n//Black And White\\njQuery(\\'#AdaDesaturate\\').click(function () {\\nif (jQuery(this).is(\\':checked\\')) {\\njQuery(\\'#MainSection\\').addClass(\\'AdaDesaturateColor\\');\\njQuery(this).parent().addClass(\\'active\\');\\n} else {\\njQuery(\\'#MainSection\\').removeClass(\\'AdaDesaturateColor\\');\\njQuery(this).parent().removeClass(\\'active\\');\\n}\\n});\\n//Highlight Links\\njQuery(\\'#AdaHighlightLinks\\').click(function () {\\nif (jQuery(this).is(\\':checked\\')) {\\njQuery(\\'body\\').addClass(\\'AdaLinksColor\\');\\njQuery(this).parent().addClass(\\'active\\');\\njQuery(\\'body footer\\').css(\\'background-color\\', \\'#5fa600\\');\\njQuery(\\'body footer span.invert.outline a\\').addClass(\\'ButtonBlack\\');\\n} else {\\njQuery(\\'body\\').removeClass(\\'AdaLinksColor\\');\\njQuery(this).parent().removeClass(\\'active\\');\\njQuery(\\'body footer\\').css(\\'background-color\\', \\'\\');\\njQuery(\\'body footer span.invert.outline a\\').removeClass(\\'ButtonBlack\\');\\n}\\n});\\n//Font Family\\njQuery(\\'#AdaLegibleFonts\\').click(function () {\\nif (jQuery(this).is(\\':checked\\')) {\\njQuery(\\'#MainSection\\').addClass(\\'AdaFontFamily\\');\\njQuery(this).parent().addClass(\\'active\\');\\n} else {\\njQuery(\\'#MainSection\\').removeClass(\\'AdaFontFamily\\');\\njQuery(this).parent().removeClass(\\'active\\');\\n}\\n});\\njQuery(\\'#AdaResetAll\\').click(function () {\\njQuery(\\'.ada-user ul li label input[type=\"checkbox\"]\\').each(function () {\\nif (jQuery(this).is(\\':checked\\')) {\\njQuery(this).click();\\njQuery(\\'body\\').removeClass(\\'AdaBodyCursor\\');\\njQuery(\\'#AdaRGDivCursor\\').remove();\\njQuery(\\'#MainSection\\').removeClass(\\'ContrastInvert\\');\\njQuery(\\'#MainSection\\').removeClass(\\'DarkContrast\\');\\njQuery(\\'#MainSection\\').removeClass(\\'LightContrast\\');\\njQuery(\\'body footer\\').css(\\'background-color\\', \\'\\');\\njQuery(\\'body footer span.invert.outline a\\').removeClass(\\'ButtonBlack\\');\\njQuery(\\'.ada-user ul li label\\').removeClass(\\'active\\');\\n}\\n});\\nif (jQuery(\\'#AdaKeyboardNav\\').is(\\':checked\\')) {\\njQuery(this).click();\\n}\\njQuery(\\'.AdaSimpleCursor\\').attr(\\'style\\', \\'opacity:1;z-index:9;\\');\\njQuery(\\'.AdaBigCursor\\').attr(\\'style\\', \\'opacity:0;z-index:1;\\');\\njQuery(\\'.AdaRGCursor\\').attr(\\'style\\', \\'opacity:0;z-index:1;\\');\\njQuery(\\'.AdaContrastSimple\\').attr(\\'style\\', \\'opacity:1;z-index:9;\\');\\njQuery(\\'.AdaContrastIC\\').attr(\\'style\\', \\'opacity:0;z-index:1;\\');\\njQuery(\\'.AdaContrastDC\\').attr(\\'style\\', \\'opacity:0;z-index:1;\\');\\njQuery(\\'.AdaContrastLC\\').attr(\\'style\\', \\'opacity:0;z-index:1;\\');\\njQuery(\\'.AdaBiggerTextSimple\\').attr(\\'style\\', \\'opacity:1;z-index:9;\\');\\njQuery(\\'.AdaBiggerText25\\').attr(\\'style\\', \\'opacity:0;z-index:1;\\');\\njQuery(\\'.AdaBiggerText50\\').attr(\\'style\\', \\'opacity:0;z-index:1;\\');\\njQuery(\\'.AdaBiggerText75\\').attr(\\'style\\', \\'opacity:0;z-index:1;\\');\\njQuery(\\'.AdaBiggerText100\\').attr(\\'style\\', \\'opacity:0;z-index:1;\\');\\njQuery(\\'body h1\\').each(function () {\\njQuery(this).css(\\'font-size\\', \\'\\');\\n});\\njQuery(\\'body h2\\').each(function () {\\njQuery(this).css(\\'font-size\\', \\'\\');\\n});\\njQuery(\\'body h3\\').each(function () {\\njQuery(this).css(\\'font-size\\', \\'\\');\\n});\\njQuery(\\'body h4\\').each(function () {\\njQuery(this).css(\\'font-size\\', \\'\\');\\n});\\njQuery(\\'body h5\\').each(function () {\\njQuery(this).css(\\'font-size\\', \\'\\');\\n});\\njQuery(\\'body h6\\').each(function () {\\njQuery(this).css(\\'font-size\\', \\'\\');\\n});\\njQuery(\\'body p\\').each(function () {\\njQuery(this).css(\\'font-size\\', \\'\\');\\n});\\njQuery(\\'body li\\').each(function () {\\njQuery(this).css(\\'font-size\\', \\'\\');\\n});\\njQuery(\\'body a\\').each(function () {\\njQuery(this).css(\\'font-size\\', \\'\\');\\n});\\njQuery(\\'body button\\').each(function () {\\njQuery(this).css(\\'font-size\\', \\'\\');\\n});\\n});\\n});\\n  </script>\\n  <script class=\"saswp-schema-markup-output\" type=\"application/ld+json\">\\n   [{\\n\"@context\": \"https://schema.org/\",\\n\"@graph\": [\\n{\\n\"@context\": \"https://schema.org/\",\\n\"@type\": \"SiteNavigationElement\",\\n\"@id\": \"https://limefreshmexicangrill.com#Main\",\\n\"name\": \"ABOUT\",\\n\"url\": \"https://limefreshmexicangrill.com/about/\"\\n},\\n{\\n\"@context\": \"https://schema.org/\",\\n\"@type\": \"SiteNavigationElement\",\\n\"@id\": \"https://limefreshmexicangrill.com#Main\",\\n\"name\": \"MENU\",\\n\"url\": \"https://limefreshmexicangrill.com/south-florida-menu/\"\\n},\\n{\\n\"@context\": \"https://schema.org/\",\\n\"@type\": \"SiteNavigationElement\",\\n\"@id\": \"https://limefreshmexicangrill.com#Main\",\\n\"name\": \"SOUTH FL MENU\",\\n\"url\": \"https://limefreshmexicangrill.com/south-florida-menu/\"\\n},\\n{\\n\"@context\": \"https://schema.org/\",\\n\"@type\": \"SiteNavigationElement\",\\n\"@id\": \"https://limefreshmexicangrill.com#Main\",\\n\"name\": \"CENTRAL FL MENU\",\\n\"url\": \"https://limefreshmexicangrill.com/central-florida-menu/\"\\n},\\n{\\n\"@context\": \"https://schema.org/\",\\n\"@type\": \"SiteNavigationElement\",\\n\"@id\": \"https://limefreshmexicangrill.com#Main\",\\n\"name\": \"REWARDS\",\\n\"url\": \"https://limefreshmexicangrill.com/rewards/\"\\n},\\n{\\n\"@context\": \"https://schema.org/\",\\n\"@type\": \"SiteNavigationElement\",\\n\"@id\": \"https://limefreshmexicangrill.com#Main\",\\n\"name\": \"CATERING\",\\n\"url\": \"https://limefreshmexicangrill.com/catering/\"\\n},\\n{\\n\"@context\": \"https://schema.org/\",\\n\"@type\": \"SiteNavigationElement\",\\n\"@id\": \"https://limefreshmexicangrill.com#Main\",\\n\"name\": \"LOCATIONS\",\\n\"url\": \"https://limefreshmexicangrill.com/locations/\"\\n},\\n{\\n\"@context\": \"https://schema.org/\",\\n\"@type\": \"SiteNavigationElement\",\\n\"@id\": \"https://limefreshmexicangrill.com#Main\",\\n\"name\": \"ORDER ONLINE\",\\n\"url\": \"https://order.limefreshmexicangrill.com/\"\\n}\\n]\\n},\\n{\\n\"@context\": \"https://schema.org/\",\\n\"@type\": \"WebSite\",\\n\"@id\": \"https://limefreshmexicangrill.com#website\",\\n\"headline\": \"Lime Fresh Mexican Grill\",\\n\"name\": \"Lime Fresh Mexican Grill\",\\n\"description\": \"LIME Fresh Mexican Grill features locally sourced Mexican Food in Florida and made in house. Never frozen with freshness you can taste.\",\\n\"url\": \"https://limefreshmexicangrill.com\"\\n},\\n{\\n\"@context\": \"https://schema.org/\",\\n\"@type\": \"Organization\",\\n\"@id\": \"https://limefreshmexicangrill.com#Organization\",\\n\"name\": \"Lime Fresh Mexican Grill\",\\n\"url\": \"http://limefreshmexicangrill.com\",\\n\"sameAs\": [\\n\"\"\\n],\\n\"logo\": {\\n\"@type\": \"ImageObject\",\\n\"url\": \"https://limefreshmexicangrill.com/wp-content/uploads/2020/08/LimeBadge.svg\",\\n\"width\": \"115\",\\n\"height\": \"115\"\\n},\\n\"contactPoint\": {\\n\"@type\": \"ContactPoint\",\\n\"contactType\": \"reservations\",\\n\"telephone\": \"\",\\n\"url\": \"https://limefreshmexicangrill.com/catering\"\\n}\\n}]\\n  </script>\\n  <link href=\"https://limefreshmexicangrill.com/wp-content/uploads/2020/11/Lime_Favicon.png\" rel=\"icon\" sizes=\"32x32\"/>\\n  <link href=\"https://limefreshmexicangrill.com/wp-content/uploads/2020/11/Lime_Favicon.png\" rel=\"icon\" sizes=\"192x192\"/>\\n  <link href=\"https://limefreshmexicangrill.com/wp-content/uploads/2020/11/Lime_Favicon.png\" rel=\"apple-touch-icon\"/>\\n  <meta content=\"https://limefreshmexicangrill.com/wp-content/uploads/2020/11/Lime_Favicon.png\" name=\"msapplication-TileImage\"/>\\n  <style id=\"custom-css\" type=\"text/css\">\\n   :root {--primary-color: #00b254;}.full-width .ubermenu-nav, .container, .row{max-width: 1210px}.row.row-collapse{max-width: 1180px}.row.row-small{max-width: 1202.5px}.row.row-large{max-width: 1240px}.header-main{height: 122px}#logo img{max-height: 122px}#logo{width:159px;}#logo img{padding:5px 0;}.header-top{min-height: 30px}.transparent .header-main{height: 90px}.transparent #logo img{max-height: 90px}.has-transparent + .page-title:first-of-type,.has-transparent + #main > .page-title,.has-transparent + #main > div > .page-title,.has-transparent + #main .page-header-wrapper:first-of-type .page-title{padding-top: 120px;}.header.show-on-scroll,.stuck .header-main{height:70px!important}.stuck #logo img{max-height: 70px!important}.header-bg-color, .header-wrapper {background-color: #00b254}.header-bottom {background-color: #f1f1f1}.header-main .nav > li > a{line-height: 16px }.header-wrapper:not(.stuck) .header-main .header-nav{margin-top: 47px }.stuck .header-main .nav > li > a{line-height: 50px }@media (max-width: 549px) {.header-main{height: 70px}#logo img{max-height: 70px}}.header-top{background-color:#2c2d37!important;}/* Color */.accordion-title.active, .has-icon-bg .icon .icon-inner,.logo a, .primary.is-underline, .primary.is-link, .badge-outline .badge-inner, .nav-outline > li.active> a,.nav-outline >li.active > a, .cart-icon strong,[data-color=\\'primary\\'], .is-outline.primary{color: #00b254;}/* Color !important */[data-text-color=\"primary\"]{color: #00b254!important;}/* Background Color */[data-text-bg=\"primary\"]{background-color: #00b254;}/* Background */.scroll-to-bullets a,.featured-title, .label-new.menu-item > a:after, .nav-pagination > li > .current,.nav-pagination > li > span:hover,.nav-pagination > li > a:hover,.has-hover:hover .badge-outline .badge-inner,button[type=\"submit\"], .button.wc-forward:not(.checkout):not(.checkout-button), .button.submit-button, .button.primary:not(.is-outline),.featured-table .title,.is-outline:hover, .has-icon:hover .icon-label,.nav-dropdown-bold .nav-column li > a:hover, .nav-dropdown.nav-dropdown-bold > li > a:hover, .nav-dropdown-bold.dark .nav-column li > a:hover, .nav-dropdown.nav-dropdown-bold.dark > li > a:hover, .is-outline:hover, .tagcloud a:hover,.grid-tools a, input[type=\\'submit\\']:not(.is-form), .box-badge:hover .box-text, input.button.alt,.nav-box > li > a:hover,.nav-box > li.active > a,.nav-pills > li.active > a ,.current-dropdown .cart-icon strong, .cart-icon:hover strong, .nav-line-bottom > li > a:before, .nav-line-grow > li > a:before, .nav-line > li > a:before,.banner, .header-top, .slider-nav-circle .flickity-prev-next-button:hover svg, .slider-nav-circle .flickity-prev-next-button:hover .arrow, .primary.is-outline:hover, .button.primary:not(.is-outline), input[type=\\'submit\\'].primary, input[type=\\'submit\\'].primary, input[type=\\'reset\\'].button, input[type=\\'button\\'].primary, .badge-inner{background-color: #00b254;}/* Border */.nav-vertical.nav-tabs > li.active > a,.scroll-to-bullets a.active,.nav-pagination > li > .current,.nav-pagination > li > span:hover,.nav-pagination > li > a:hover,.has-hover:hover .badge-outline .badge-inner,.accordion-title.active,.featured-table,.is-outline:hover, .tagcloud a:hover,blockquote, .has-border, .cart-icon strong:after,.cart-icon strong,.blockUI:before, .processing:before,.loading-spin, .slider-nav-circle .flickity-prev-next-button:hover svg, .slider-nav-circle .flickity-prev-next-button:hover .arrow, .primary.is-outline:hover{border-color: #00b254}.nav-tabs > li.active > a{border-top-color: #00b254}.widget_shopping_cart_content .blockUI.blockOverlay:before { border-left-color: #00b254 }.woocommerce-checkout-review-order .blockUI.blockOverlay:before { border-left-color: #00b254 }/* Fill */.slider .flickity-prev-next-button:hover svg,.slider .flickity-prev-next-button:hover .arrow{fill: #00b254;}/* Background Color */[data-icon-label]:after, .secondary.is-underline:hover,.secondary.is-outline:hover,.icon-label,.button.secondary:not(.is-outline),.button.alt:not(.is-outline), .badge-inner.on-sale, .button.checkout, .single_add_to_cart_button, .current .breadcrumb-step{ background-color:#c0ff45; }[data-text-bg=\"secondary\"]{background-color: #c0ff45;}/* Color */.secondary.is-underline,.secondary.is-link, .secondary.is-outline,.stars a.active, .star-rating:before, .woocommerce-page .star-rating:before,.star-rating span:before, .color-secondary{color: #c0ff45}/* Color !important */[data-text-color=\"secondary\"]{color: #c0ff45!important;}/* Border */.secondary.is-outline:hover{border-color:#c0ff45}body{font-family:\"Lato\", sans-serif}body{font-weight: 400}body{color: #2c2d37}.nav > li > a {font-family:\"Lato\", sans-serif;}.mobile-sidebar-levels-2 .nav > li > ul > li > a {font-family:\"Lato\", sans-serif;}.nav > li > a {font-weight: 700;}.mobile-sidebar-levels-2 .nav > li > ul > li > a {font-weight: 700;}h1,h2,h3,h4,h5,h6,.heading-font, .off-canvas-center .nav-sidebar.nav-vertical > li > a{font-family: \"Lato\", sans-serif;}h1,h2,h3,h4,h5,h6,.heading-font,.banner h1,.banner h2{font-weight: 700;}h1,h2,h3,h4,h5,h6,.heading-font{color: #2c2d37;}.alt-font{font-family: \"Dancing Script\", sans-serif;}.alt-font{font-weight: 400!important;}a{color: #00b254;}/* Custom CSS */.button.secondary:hover {background: #fff !important;color: #00b254 !important;box-shadow: none;}h3 {font-family: \\'Colby StBlk\\' !important;font-weight: 900;font-style: normal;line-height: 1em;}.wpsl-store-location strong {text-transform: uppercase;}.location-header {display: none;}.wpsl-direction-wrap {display: none;}.wpsl-store-details.wpsl-store-listing.wpsl-active-details:before, .wpsl-store-details.wpsl-store-listing:before {display: none;}#wpsl-wrap #wpsl-result-list ul li {margin-bottom: 0;height: auto;}.more-info-details {display: none;}.wpsl-more-info-listings p {margin-bottom: 20px !important;}#wpsl-result-list li p {margin-bottom: 0;}.wpsl-default-filters #wpsl-gmap {height: 1012px !important;}.home-slider .banner p {font-size: 1.3em;}.wpcf7-submit.button:hover {box-shadow: none !important;}.footer-absolut a:hover {color: #c0ff45 !important;}/* * .uwy.userway_p1 {top: auto !important;bottom: 10px !important;}*/.acwp-footer {display: none !important;}.acwp-toolbar {top: auto;bottom: 0;left: auto;right: 0;}#acwp-toolbar-btn {top: auto !important;bottom: 10px;left: auto !important;right: 10px;}.drinks img {margin-bottom: 0 !important;}.drinks a {color: #000;}.drinks a:hover {color: #00b254;}.drinks .activo h3 {color: #00b254;}#wpsl-search-wrap {display: none;}/* Custom CSS Mobile */@media (max-width: 549px){.centered-text .col-inner {text-align: center;}#wpsl-gmap {width: 100vw !important;}.izquierda .col-inner {text-align: left;}}.label-new.menu-item > a:after{content:\"New\";}.label-hot.menu-item > a:after{content:\"Hot\";}.label-sale.menu-item > a:after{content:\"Sale\";}.label-popular.menu-item > a:after{content:\"Popular\";}\\n  </style>\\n  <noscript>\\n   <iframe class=\"lazyload\" data-src=\"https://www.googletagmanager.com/ns.html?id=GTM-PMBZHBC\" height=\"0\" src=\"data:image/gif;base64,R0lGODlhAQABAAAAACH5BAEKAAEALAAAAAABAAEAAAICTAEAOw==\" style=\"display:none;visibility:hidden\" width=\"0\">\\n   </iframe>\\n  </noscript>\\n  <a class=\"skip-link screen-reader-text\" href=\"#main\">\\n   Skip to content\\n  </a>\\n  <div id=\"wrapper\">\\n   <header class=\"header has-sticky sticky-jump\" id=\"header\">\\n    <div class=\"header-wrapper\">\\n     <div class=\"header-top hide-for-sticky nav-dark show-for-medium\" id=\"top-bar\">\\n      <div class=\"flex-row container\">\\n       <div class=\"flex-col hide-for-medium flex-left\">\\n        <ul class=\"nav nav-left medium-nav-center nav-small nav-divided\">\\n        </ul>\\n       </div>\\n       <div class=\"flex-col hide-for-medium flex-center\">\\n        <ul class=\"nav nav-center nav-small nav-divided\">\\n        </ul>\\n       </div>\\n       <div class=\"flex-col hide-for-medium flex-right\">\\n        <ul class=\"nav top-bar-nav nav-right nav-small nav-divided\">\\n        </ul>\\n       </div>\\n       <div class=\"flex-col show-for-medium flex-grow\">\\n        <ul class=\"nav nav-center nav-small mobile-nav nav-divided\">\\n        </ul>\\n       </div>\\n      </div>\\n     </div>\\n     <div class=\"header-main nav-dark\" id=\"masthead\">\\n      <div class=\"header-inner flex-row container logo-left medium-logo-center\" role=\"navigation\">\\n       <div class=\"flex-col logo\" id=\"logo\">\\n        <a href=\"https://limefreshmexicangrill.com/\" rel=\"home\" title=\"Lime Fresh Mexican Grill - Live Fresh. Lime Fresh\">\\n         <img alt=\"Lime Fresh Mexican Grill\" class=\"header_logo header-logo lazyload\" data-src=\"https://limefreshmexicangrill.com/wp-content/uploads/2020/08/Lime_Logo.svg\" height=\"122\" src=\"data:image/gif;base64,R0lGODlhAQABAAAAACH5BAEKAAEALAAAAAABAAEAAAICTAEAOw==\" width=\"159\"/>\\n         <noscript>\\n          <img alt=\"Lime Fresh Mexican Grill\" class=\"header_logo header-logo\" height=\"122\" src=\"https://limefreshmexicangrill.com/wp-content/uploads/2020/08/Lime_Logo.svg\" width=\"159\"/>\\n         </noscript>\\n         <img alt=\"Lime Fresh Mexican Grill\" class=\"header-logo-dark lazyload\" data-src=\"https://limefreshmexicangrill.com/wp-content/uploads/2020/08/Lime_Logo.svg\" height=\"122\" src=\"data:image/gif;base64,R0lGODlhAQABAAAAACH5BAEKAAEALAAAAAABAAEAAAICTAEAOw==\" width=\"159\"/>\\n         <noscript>\\n          <img alt=\"Lime Fresh Mexican Grill\" class=\"header-logo-dark\" height=\"122\" src=\"https://limefreshmexicangrill.com/wp-content/uploads/2020/08/Lime_Logo.svg\" width=\"159\"/>\\n         </noscript>\\n        </a>\\n       </div>\\n       <div class=\"flex-col show-for-medium flex-left\">\\n        <ul class=\"mobile-nav nav nav-left\">\\n         <li class=\"nav-icon has-icon\">\\n          <a aria-controls=\"main-menu\" aria-expanded=\"false\" aria-label=\"Menu\" class=\"is-small\" data-bg=\"main-menu-overlay\" data-color=\"dark\" data-open=\"#main-menu\" data-pos=\"left\" href=\"#\">\\n           <i class=\"icon-menu\">\\n           </i>\\n          </a>\\n         </li>\\n        </ul>\\n       </div>\\n       <div class=\"flex-col hide-for-medium flex-left flex-grow\">\\n        <ul class=\"header-nav header-nav-main nav nav-left nav-spacing-xlarge nav-uppercase\">\\n        </ul>\\n       </div>\\n       <div class=\"flex-col hide-for-medium flex-right\">\\n        <ul class=\"header-nav header-nav-main nav nav-right nav-spacing-xlarge nav-uppercase\">\\n         <li class=\"menu-item menu-item-type-post_type menu-item-object-page menu-item-307 menu-item-design-default\" id=\"menu-item-307\">\\n          <a class=\"nav-top-link\" href=\"https://limefreshmexicangrill.com/about/\">\\n           ABOUT\\n          </a>\\n         </li>\\n         <li class=\"menu-item menu-item-type-post_type menu-item-object-page menu-item-has-children menu-item-350 menu-item-design-default has-dropdown\" id=\"menu-item-350\">\\n          <a class=\"nav-top-link\" href=\"https://limefreshmexicangrill.com/south-florida-menu/\">\\n           MENU\\n           <i class=\"icon-angle-down\">\\n           </i>\\n          </a>\\n          <ul class=\"sub-menu nav-dropdown nav-dropdown-default\">\\n           <li class=\"menu-item menu-item-type-post_type menu-item-object-page menu-item-843\" id=\"menu-item-843\">\\n            <a href=\"https://limefreshmexicangrill.com/south-florida-menu/\">\\n             SOUTH FL MENU\\n            </a>\\n           </li>\\n           <li class=\"menu-item menu-item-type-post_type menu-item-object-page menu-item-841\" id=\"menu-item-841\">\\n            <a href=\"https://limefreshmexicangrill.com/central-florida-menu/\">\\n             CENTRAL FL MENU\\n            </a>\\n           </li>\\n          </ul>\\n         </li>\\n         <li class=\"menu-item menu-item-type-post_type menu-item-object-page menu-item-405 menu-item-design-default\" id=\"menu-item-405\">\\n          <a class=\"nav-top-link\" href=\"https://limefreshmexicangrill.com/rewards/\">\\n           REWARDS\\n          </a>\\n         </li>\\n         <li class=\"menu-item menu-item-type-post_type menu-item-object-page menu-item-264 menu-item-design-default\" id=\"menu-item-264\">\\n          <a class=\"nav-top-link\" href=\"https://limefreshmexicangrill.com/catering/\">\\n           CATERING\\n          </a>\\n         </li>\\n         <li class=\"menu-item menu-item-type-post_type menu-item-object-page menu-item-439 menu-item-design-default\" id=\"menu-item-439\">\\n          <a class=\"nav-top-link\" href=\"https://limefreshmexicangrill.com/locations/\">\\n           LOCATIONS\\n          </a>\\n         </li>\\n         <li class=\"menu-order menu-item menu-item-type-custom menu-item-object-custom menu-item-178 menu-item-design-default\" id=\"menu-item-178\">\\n          <a class=\"nav-top-link\" href=\"https://order.limefreshmexicangrill.com/\" rel=\"noopener noreferrer\" target=\"_blank\">\\n           ORDER ONLINE\\n          </a>\\n         </li>\\n        </ul>\\n       </div>\\n       <div class=\"flex-col show-for-medium flex-right\">\\n        <ul class=\"mobile-nav nav nav-right\">\\n        </ul>\\n       </div>\\n      </div>\\n      <div class=\"container\">\\n       <div class=\"top-divider full-width\">\\n       </div>\\n      </div>\\n     </div>\\n     <div class=\"header-bg-container fill\">\\n      <div class=\"header-bg-image fill\">\\n      </div>\\n      <div class=\"header-bg-color fill\">\\n      </div>\\n     </div>\\n    </div>\\n   </header>\\n   <main class=\"\" id=\"main\">\\n    <div class=\"content-area\" id=\"content\" role=\"main\">\\n     <div class=\"slider-wrapper relative home-slider\" id=\"slider-409608707\">\\n      <div class=\"slider slider-nav-simple slider-nav-large slider-nav-light slider-style-normal slider-show-nav\" data-flickity-options=\\'{\\n\"cellAlign\": \"center\",\\n\"imagesLoaded\": true,\\n\"lazyLoad\": 1,\\n\"freeScroll\": false,\\n\"wrapAround\": true,\\n\"autoPlay\": 6000,\\n\"pauseAutoPlayOnHover\" : true,\\n\"prevNextButtons\": true,\\n\"contain\" : true,\\n\"adaptiveHeight\" : true,\\n\"dragThreshold\" : 10,\\n\"percentPosition\": true,\\n\"pageDots\": true,\\n\"rightToLeft\": false,\\n\"draggable\": true,\\n\"selectedAttraction\": 0.1,\\n\"parallax\" : 0,\\n\"friction\": 0.6        }\\'>\\n       <div class=\"banner has-hover\" id=\"banner-614065213\">\\n        <div class=\"banner-inner fill\">\\n         <div class=\"banner-bg fill\">\\n          <div class=\"bg fill bg-fill\">\\n          </div>\\n          <div class=\"overlay\">\\n          </div>\\n         </div>\\n         <div class=\"banner-layers container\">\\n          <div class=\"fill banner-link\">\\n          </div>\\n          <div class=\"text-box banner-layer x50 md-x50 lg-x50 y80 md-y50 lg-y50 res-text\" id=\"text-box-1767404232\">\\n           <div class=\"text-box-content text dark\">\\n            <div class=\"text-inner text-center\">\\n             <h1>\\n              <b>\\n               TASTES LIKE A WINNER\\n              </b>\\n             </h1>\\n             <p>\\n              <span style=\"font-weight: 400;\">\\n               <b>\\n                BEST MEXICAN RESTAURANT MARGARITA. BEST TACO.\\n               </b>\\n              </span>\\n             </p>\\n             <a class=\"button white is-outline\" href=\"https://order.limefreshmexicangrill.com/\" style=\"border-radius:99px;\" target=\"_self\">\\n              <span>\\n               Order Now\\n              </span>\\n             </a>\\n            </div>\\n           </div>\\n           <style>\\n            #text-box-1767404232 {\\nwidth: 94%;\\n}\\n#text-box-1767404232 .text-box-content {\\nfont-size: 100%;\\n}\\n@media (min-width:550px) {\\n#text-box-1767404232 {\\nwidth: 65%;\\n}\\n}\\n           </style>\\n          </div>\\n         </div>\\n        </div>\\n        <style>\\n         #banner-614065213 {\\npadding-top: 350px;\\n}\\n#banner-614065213 .bg.bg-loaded {\\nbackground-image: url(https://limefreshmexicangrill.com/wp-content/uploads/2024/03/Miami-Dade-Winners.png);\\n}\\n#banner-614065213 .overlay {\\nbackground-color: rgba(0, 0, 0, 0.25);\\n}\\n#banner-614065213 .bg {\\nbackground-position: 50% 50%;\\n}\\n@media (min-width:550px) {\\n#banner-614065213 {\\npadding-top: 660px;\\n}\\n}\\n        </style>\\n       </div>\\n       <div class=\"banner has-hover\" id=\"banner-123789682\">\\n        <div class=\"banner-inner fill\">\\n         <div class=\"banner-bg fill\">\\n          <div class=\"bg fill bg-fill\">\\n          </div>\\n          <div class=\"overlay\">\\n          </div>\\n         </div>\\n         <div class=\"banner-layers container\">\\n          <div class=\"fill banner-link\">\\n          </div>\\n          <div class=\"text-box banner-layer x50 md-x50 lg-x50 y80 md-y50 lg-y50 res-text\" id=\"text-box-1079244139\">\\n           <div class=\"text-box-content text dark\">\\n            <div class=\"text-inner text-center\">\\n             <h1>\\n              <b>\\n               PORK LOVERS, REJOICE!\\n              </b>\\n             </h1>\\n             <p>\\n              <span style=\"font-weight: 400;\">\\n               You asked, we answered! All-new menu items made with award-winning 4 Rivers® classic pulled pork from bone-in pork shoulder rubbed and smoked\\n               <br/>\\n               for 16 hours until fork-tender.\\n              </span>\\n             </p>\\n             <a class=\"button white is-outline\" href=\"https://order.limefreshmexicangrill.com/\" style=\"border-radius:99px;\" target=\"_self\">\\n              <span>\\n               Order Now\\n              </span>\\n             </a>\\n            </div>\\n           </div>\\n           <style>\\n            #text-box-1079244139 {\\nwidth: 94%;\\n}\\n#text-box-1079244139 .text-box-content {\\nfont-size: 100%;\\n}\\n@media (min-width:550px) {\\n#text-box-1079244139 {\\nwidth: 65%;\\n}\\n}\\n           </style>\\n          </div>\\n         </div>\\n        </div>\\n        <style>\\n         #banner-123789682 {\\npadding-top: 350px;\\n}\\n#banner-123789682 .bg.bg-loaded {\\nbackground-image: url(https://limefreshmexicangrill.com/wp-content/uploads/2023/12/LimeWeb_MainCarousel_PorkImage_WithOverlay-1024x413.jpg);\\n}\\n#banner-123789682 .overlay {\\nbackground-color: rgba(0, 0, 0, 0.25);\\n}\\n#banner-123789682 .bg {\\nbackground-position: 50% 50%;\\n}\\n@media (min-width:550px) {\\n#banner-123789682 {\\npadding-top: 660px;\\n}\\n}\\n        </style>\\n       </div>\\n       <div class=\"banner has-hover\" id=\"banner-1068300700\">\\n        <div class=\"banner-inner fill\">\\n         <div class=\"banner-bg fill\">\\n          <div class=\"bg fill bg-fill\">\\n          </div>\\n          <div class=\"overlay\">\\n          </div>\\n         </div>\\n         <div class=\"banner-layers container\">\\n          <div class=\"fill banner-link\">\\n          </div>\\n          <div class=\"text-box banner-layer x50 md-x50 lg-x50 y80 md-y50 lg-y50 res-text\" id=\"text-box-1341575251\">\\n           <div class=\"text-box-content text dark\">\\n            <div class=\"text-inner text-center\">\\n             <h1>\\n              <b>\\n               REWARDS FOR EATING TACOS? SIGN ME UP!\\n              </b>\\n             </h1>\\n             <p>\\n              <span style=\"font-weight: 400;\">\\n               Download our new LIME Fresh App. Get a $5 reward to spend right away.\\n              </span>\\n             </p>\\n             <a class=\"button white is-outline\" href=\"https://limefreshmexicangrill.com/rewards/\" style=\"border-radius:99px;padding:5px 30px 5px 30px;\" target=\"_self\">\\n              <span>\\n               learn more\\n              </span>\\n             </a>\\n            </div>\\n           </div>\\n           <style>\\n            #text-box-1341575251 {\\nwidth: 94%;\\n}\\n#text-box-1341575251 .text-box-content {\\nfont-size: 100%;\\n}\\n@media (min-width:550px) {\\n#text-box-1341575251 {\\nwidth: 68%;\\n}\\n}\\n           </style>\\n          </div>\\n         </div>\\n        </div>\\n        <style>\\n         #banner-1068300700 {\\npadding-top: 350px;\\n}\\n#banner-1068300700 .bg.bg-loaded {\\nbackground-image: url(https://limefreshmexicangrill.com/wp-content/uploads/2022/07/WEBSITE-BANNER.jpg);\\n}\\n#banner-1068300700 .overlay {\\nbackground-color: rgba(0,0,0,.5);\\n}\\n#banner-1068300700 .bg {\\nbackground-position: 50% 50%;\\n}\\n@media (min-width:550px) {\\n#banner-1068300700 {\\npadding-top: 660px;\\n}\\n}\\n        </style>\\n       </div>\\n       <div class=\"banner has-hover\" id=\"banner-393854770\">\\n        <div class=\"banner-inner fill\">\\n         <div class=\"banner-bg fill\">\\n          <div class=\"bg fill bg-fill\">\\n          </div>\\n          <div class=\"overlay\">\\n          </div>\\n         </div>\\n         <div class=\"banner-layers container\">\\n          <div class=\"fill banner-link\">\\n          </div>\\n          <div class=\"text-box banner-layer x50 md-x50 lg-x50 y80 md-y50 lg-y50 res-text\" id=\"text-box-433611221\">\\n           <div class=\"text-box-content text dark\">\\n            <div class=\"text-inner text-center\">\\n             <h1>\\n              <b>\\n               WE BRING\\n              </b>\\n              <b>\\n               THE FIESTA\\n              </b>\\n              <b>\\n               TO YOU FOR ANY OCCASION!\\n              </b>\\n             </h1>\\n             <p>\\n              Catering? Just add LIME.\\n             </p>\\n             <a class=\"button white is-outline\" href=\"https://limefreshmexicangrill.com/catering/\" style=\"border-radius:99px;padding:5px 30px 5px 30px;\" target=\"_self\">\\n              <span>\\n               LEARN MORE\\n              </span>\\n             </a>\\n            </div>\\n           </div>\\n           <style>\\n            #text-box-433611221 {\\nwidth: 94%;\\n}\\n#text-box-433611221 .text-box-content {\\nfont-size: 100%;\\n}\\n@media (min-width:550px) {\\n#text-box-433611221 {\\nwidth: 65%;\\n}\\n}\\n           </style>\\n          </div>\\n         </div>\\n        </div>\\n        <style>\\n         #banner-393854770 {\\npadding-top: 350px;\\n}\\n#banner-393854770 .bg.bg-loaded {\\nbackground-image: url(https://limefreshmexicangrill.com/wp-content/uploads/2022/11/Lime-Holiday_Catering_Package-Landingpage.jpg);\\n}\\n#banner-393854770 .overlay {\\nbackground-color: rgba(0,0,0,.5);\\n}\\n#banner-393854770 .bg {\\nbackground-position: 50% 50%;\\n}\\n@media (min-width:550px) {\\n#banner-393854770 {\\npadding-top: 660px;\\n}\\n}\\n        </style>\\n       </div>\\n       <div class=\"banner has-hover\" id=\"banner-977396754\">\\n        <div class=\"banner-inner fill\">\\n         <div class=\"banner-bg fill\">\\n          <div class=\"bg fill bg-fill\">\\n          </div>\\n         </div>\\n         <div class=\"banner-layers container\">\\n          <div class=\"fill banner-link\">\\n          </div>\\n          <div class=\"text-box banner-layer x50 md-x50 lg-x50 y50 md-y50 lg-y50 res-text\" id=\"text-box-1023074298\">\\n           <div class=\"text-box-content text dark\">\\n            <div class=\"text-inner text-center\">\\n             <h1>\\n              <b>\\n               LIVE FRESH.\\n              </b>\\n              <b>\\n               <br/>\\n              </b>\\n              <b>\\n               LIME FRESH.\\n              </b>\\n              <span style=\"font-weight: 400;\">\\n              </span>\\n             </h1>\\n             <p>\\n              <span style=\"font-weight: 400;\">\\n               Locally sourced. Made in house. Never frozen, ever. It’s freshness you can taste.\\n              </span>\\n             </p>\\n             <a class=\"button white is-outline\" href=\"https://order.limefreshmexicangrill.com/\" style=\"border-radius:99px;padding:5px 30px 5px 30px;\" target=\"_self\">\\n              <span>\\n               order now\\n              </span>\\n             </a>\\n            </div>\\n           </div>\\n           <style>\\n            #text-box-1023074298 {\\nwidth: 88%;\\n}\\n#text-box-1023074298 .text-box-content {\\nfont-size: 100%;\\n}\\n@media (min-width:550px) {\\n#text-box-1023074298 {\\nwidth: 40%;\\n}\\n}\\n           </style>\\n          </div>\\n         </div>\\n        </div>\\n        <style>\\n         #banner-977396754 {\\npadding-top: 350px;\\n}\\n#banner-977396754 .bg.bg-loaded {\\nbackground-image: url(https://limefreshmexicangrill.com/wp-content/uploads/2020/10/New_MainCarousel_Image1.jpg);\\n}\\n#banner-977396754 .bg {\\nbackground-position: 49% 47%;\\n}\\n@media (min-width:550px) {\\n#banner-977396754 {\\npadding-top: 660px;\\n}\\n}\\n        </style>\\n       </div>\\n      </div>\\n      <div class=\"loading-spin dark large centered\">\\n      </div>\\n     </div>\\n     <section class=\"section home-banner-ordernow\" id=\"section_1077108459\">\\n      <div class=\"bg section-bg fill bg-fill bg-loaded\">\\n      </div>\\n      <div class=\"section-content relative\">\\n       <div class=\"row row-collapse\" id=\"row-1196236544\">\\n        <div class=\"col small-12 large-12\" id=\"col-1017973168\">\\n         <div class=\"col-inner\">\\n          <div class=\"banner has-hover\" id=\"banner-2020587806\">\\n           <div class=\"banner-inner fill\">\\n            <div class=\"banner-bg fill\">\\n             <div class=\"bg fill bg-fill\">\\n             </div>\\n            </div>\\n            <div class=\"banner-layers container\">\\n             <div class=\"fill banner-link\">\\n             </div>\\n             <div class=\"text-box banner-layer x5 md-x5 lg-x5 y50 md-y50 lg-y50 res-text\" id=\"text-box-1246227411\">\\n              <div class=\"text-box-content text dark\">\\n               <div class=\"text-inner text-left\">\\n                <h2 class=\"uppercase\">\\n                 CATERING THAT GUACS\\n                </h2>\\n                <p>\\n                 From a simple chips and guac platter to a make-your-own-taco set-up, our catering is easy, customizable and a crowd pleaser.\\n                </p>\\n                <a class=\"button primary\" href=\"https://limefreshmexicangrill.com/catering/\" style=\"border-radius:99px;padding:5px 30px 5px 30px;\" target=\"_self\">\\n                 <span>\\n                  LEARN MORE\\n                 </span>\\n                </a>\\n                <a class=\"button secondary\" href=\"https://www.ezcater.com/brand/pvt/lime-fresh-mexican-grill\" style=\"border-radius:99px;padding:5px 30px 5px 30px;\" target=\"_self\">\\n                 <span>\\n                  Order CATERING\\n                 </span>\\n                </a>\\n               </div>\\n              </div>\\n              <style>\\n               #text-box-1246227411 {\\nwidth: 72%;\\n}\\n#text-box-1246227411 .text-box-content {\\nfont-size: 100%;\\n}\\n@media (min-width:550px) {\\n#text-box-1246227411 {\\nwidth: 33%;\\n}\\n}\\n              </style>\\n             </div>\\n            </div>\\n           </div>\\n           <style>\\n            #banner-2020587806 {\\npadding-top: 275px;\\n}\\n#banner-2020587806 .bg.bg-loaded {\\nbackground-image: url(https://limefreshmexicangrill.com/wp-content/uploads/2020/08/Module2_Image.jpg);\\n}\\n#banner-2020587806 .bg {\\nbackground-position: 17% 0%;\\n}\\n@media (min-width:550px) {\\n#banner-2020587806 {\\npadding-top: 400px;\\n}\\n}\\n           </style>\\n          </div>\\n         </div>\\n        </div>\\n       </div>\\n      </div>\\n      <style>\\n       #section_1077108459 {\\npadding-top: 40px;\\npadding-bottom: 40px;\\n}\\n@media (min-width:550px) {\\n#section_1077108459 {\\npadding-top: 70px;\\npadding-bottom: 70px;\\n}\\n}\\n      </style>\\n     </section>\\n     <div class=\"slider-wrapper relative home-banner-2cols\" id=\"slider-43054167\">\\n      <div class=\"slider slider-nav-circle slider-nav-large slider-nav-light slider-style-normal\" data-flickity-options=\\'{\\n\"cellAlign\": \"center\",\\n\"imagesLoaded\": true,\\n\"lazyLoad\": 1,\\n\"freeScroll\": false,\\n\"wrapAround\": true,\\n\"autoPlay\": 6000,\\n\"pauseAutoPlayOnHover\" : true,\\n\"prevNextButtons\": false,\\n\"contain\" : true,\\n\"adaptiveHeight\" : true,\\n\"dragThreshold\" : 10,\\n\"percentPosition\": true,\\n\"pageDots\": true,\\n\"rightToLeft\": false,\\n\"draggable\": true,\\n\"selectedAttraction\": 0.1,\\n\"parallax\" : 0,\\n\"friction\": 0.6        }\\'>\\n       <div class=\"row row-collapse row-full-width align-equal\" id=\"row-489033885\">\\n        <div class=\"col medium-12 small-12 large-6\" id=\"col-1208590248\">\\n         <div class=\"col-inner\">\\n          <div class=\"banner has-hover\" id=\"banner-826346039\">\\n           <div class=\"banner-inner fill\">\\n            <div class=\"banner-bg fill\">\\n             <div class=\"bg fill bg-fill\">\\n             </div>\\n            </div>\\n            <div class=\"banner-layers container\">\\n             <div class=\"fill banner-link\">\\n             </div>\\n            </div>\\n           </div>\\n           <style>\\n            #banner-826346039 {\\npadding-top: 370px;\\n}\\n#banner-826346039 .bg.bg-loaded {\\nbackground-image: url(https://limefreshmexicangrill.com/wp-content/uploads/2022/10/275839640_5013945735362425_7716600988276364556_n-e1666052768413.jpg);\\n}\\n#banner-826346039 .bg {\\nbackground-position: 22% 0%;\\n}\\n@media (min-width:550px) {\\n#banner-826346039 {\\npadding-top: 600px;\\n}\\n}\\n           </style>\\n          </div>\\n         </div>\\n        </div>\\n        <div class=\"col green-box medium-12 small-12 large-6\" id=\"col-416177540\">\\n         <div class=\"col-inner dark\" style=\"background-color:#00b254;\">\\n          <h3>\\n           Oh heeeeeey, River Landing!\\xa0👀\\n          </h3>\\n          <p>\\n           A LIME Fresh just opened near you! Visit us today at 1440 NW North River Drive, Ste. 190.\\n          </p>\\n          <a class=\"button secondary\" href=\"https://limefreshmexicangrill.com/locations/\" style=\"border-radius:99px;padding:5px 40px 5px 40px;\" target=\"_self\">\\n           <span>\\n            see location\\n           </span>\\n          </a>\\n         </div>\\n         <style>\\n          #col-416177540 > .col-inner {\\npadding: 30px 20px 30px 20px;\\n}\\n@media (min-width:550px) {\\n#col-416177540 > .col-inner {\\npadding: 50px 200px 50px 150px;\\n}\\n}\\n         </style>\\n        </div>\\n       </div>\\n       <div class=\"row row-collapse row-full-width align-equal\" id=\"row-1300965621\">\\n        <div class=\"col medium-12 small-12 large-6\" id=\"col-1718679363\">\\n         <div class=\"col-inner\">\\n          <div class=\"banner has-hover\" id=\"banner-904846618\">\\n           <div class=\"banner-inner fill\">\\n            <div class=\"banner-bg fill\">\\n             <div class=\"bg fill bg-fill\">\\n             </div>\\n            </div>\\n            <div class=\"banner-layers container\">\\n             <div class=\"fill banner-link\">\\n             </div>\\n            </div>\\n           </div>\\n           <style>\\n            #banner-904846618 {\\npadding-top: 370px;\\n}\\n#banner-904846618 .bg.bg-loaded {\\nbackground-image: url(https://limefreshmexicangrill.com/wp-content/uploads/2020/11/LimeChips.jpg);\\n}\\n#banner-904846618 .bg {\\nbackground-position: 0% 44%;\\n}\\n@media (min-width:550px) {\\n#banner-904846618 {\\npadding-top: 600px;\\n}\\n}\\n           </style>\\n          </div>\\n         </div>\\n        </div>\\n        <div class=\"col green-box medium-12 small-12 large-6\" id=\"col-1595871085\">\\n         <div class=\"col-inner dark\" style=\"background-color:#00b254;\">\\n          <h3>\\n           <b>\\n            LIME CHIPS IN\\n           </b>\\n          </h3>\\n          <p>\\n           <span style=\"font-weight: 400;\">\\n            From happy hours to sponsorships and events, our give-back program, LIME Chips In, is how we make sure we are giving back to the communities we serve.\\n           </span>\\n          </p>\\n          <a class=\"button secondary\" href=\"https://limefreshmexicangrill.com/limeci/\" style=\"border-radius:99px;padding:5px 40px 5px 40px;\" target=\"_self\">\\n           <span>\\n            LEARN MORE\\n           </span>\\n          </a>\\n         </div>\\n         <style>\\n          #col-1595871085 > .col-inner {\\npadding: 30px 30px 30px 30px;\\n}\\n@media (min-width:550px) {\\n#col-1595871085 > .col-inner {\\npadding: 50px 100px 50px 100px;\\n}\\n}\\n@media (min-width:850px) {\\n#col-1595871085 > .col-inner {\\npadding: 50px 200px 50px 150px;\\n}\\n}\\n         </style>\\n        </div>\\n       </div>\\n      </div>\\n      <div class=\"loading-spin dark large centered\">\\n      </div>\\n     </div>\\n     <section class=\"section home-instagram\" id=\"section_1590736950\">\\n      <div class=\"bg section-bg fill bg-fill bg-loaded\">\\n      </div>\\n      <div class=\"section-content relative\">\\n       <div class=\"row align-center\" id=\"row-5667290\" style=\"max-width:80%\">\\n        <div class=\"col small-12 large-12\" id=\"col-223833339\">\\n         <div class=\"col-inner text-center\">\\n          <h2>\\n           #LIMEfresh\\n           <img alt=\"\" class=\"alignnone size-full wp-image-83 lazyload\" data-src=\"https://limefreshmexicangrill.com/wp-content/uploads/2020/08/taco.png\" decoding=\"async\" height=\"40\" src=\"data:image/gif;base64,R0lGODlhAQABAAAAACH5BAEKAAEALAAAAAABAAEAAAICTAEAOw==\" width=\"45\"/>\\n           <noscript>\\n            <img alt=\"\" class=\"alignnone size-full wp-image-83\" decoding=\"async\" height=\"40\" src=\"https://limefreshmexicangrill.com/wp-content/uploads/2020/08/taco.png\" width=\"45\"/>\\n           </noscript>\\n          </h2>\\n          <div class=\"row large-columns-5 medium-columns-3 small-columns-2\">\\n           <div class=\"gallery-col col\">\\n            <div class=\"col-inner\">\\n             <div class=\"box has-hover gallery-box box-none\">\\n              <div class=\"box-image\">\\n               <img alt=\"\" class=\"attachment-original size-original lazyload\" columns=\"5\" columns__sm=\"2\" data-sizes=\"(max-width: 586px) 100vw, 586px\" data-src=\"https://limefreshmexicangrill.com/wp-content/uploads/2020/10/SocialImage_1.jpg\" data-srcset=\"https://limefreshmexicangrill.com/wp-content/uploads/2020/10/SocialImage_1.jpg 586w, https://limefreshmexicangrill.com/wp-content/uploads/2020/10/SocialImage_1-300x300.jpg 300w, https://limefreshmexicangrill.com/wp-content/uploads/2020/10/SocialImage_1-150x150.jpg 150w\" decoding=\"async\" fetchpriority=\"high\" height=\"586\" ids=\"600,601,602,603,604\" image_size=\"original\" lightbox=\"false\" src=\"data:image/gif;base64,R0lGODlhAQABAAAAACH5BAEKAAEALAAAAAABAAEAAAICTAEAOw==\" style=\"none\" width=\"586\"/>\\n               <noscript>\\n                <img alt=\"\" class=\"attachment-original size-original\" columns=\"5\" columns__sm=\"2\" decoding=\"async\" fetchpriority=\"high\" height=\"586\" ids=\"600,601,602,603,604\" image_size=\"original\" lightbox=\"false\" sizes=\"(max-width: 586px) 100vw, 586px\" src=\"https://limefreshmexicangrill.com/wp-content/uploads/2020/10/SocialImage_1.jpg\" srcset=\"https://limefreshmexicangrill.com/wp-content/uploads/2020/10/SocialImage_1.jpg 586w, https://limefreshmexicangrill.com/wp-content/uploads/2020/10/SocialImage_1-300x300.jpg 300w, https://limefreshmexicangrill.com/wp-content/uploads/2020/10/SocialImage_1-150x150.jpg 150w\" style=\"none\" width=\"586\"/>\\n               </noscript>\\n              </div>\\n              <div class=\"box-text text-left\">\\n               <p>\\n               </p>\\n              </div>\\n             </div>\\n            </div>\\n           </div>\\n           <div class=\"gallery-col col\">\\n            <div class=\"col-inner\">\\n             <div class=\"box has-hover gallery-box box-none\">\\n              <div class=\"box-image\">\\n               <img alt=\"\" class=\"attachment-original size-original lazyload\" columns=\"5\" columns__sm=\"2\" data-sizes=\"(max-width: 586px) 100vw, 586px\" data-src=\"https://limefreshmexicangrill.com/wp-content/uploads/2020/10/SocialImage_2.jpg\" data-srcset=\"https://limefreshmexicangrill.com/wp-content/uploads/2020/10/SocialImage_2.jpg 586w, https://limefreshmexicangrill.com/wp-content/uploads/2020/10/SocialImage_2-300x300.jpg 300w, https://limefreshmexicangrill.com/wp-content/uploads/2020/10/SocialImage_2-150x150.jpg 150w\" decoding=\"async\" height=\"586\" ids=\"600,601,602,603,604\" image_size=\"original\" lightbox=\"false\" src=\"data:image/gif;base64,R0lGODlhAQABAAAAACH5BAEKAAEALAAAAAABAAEAAAICTAEAOw==\" style=\"none\" width=\"586\"/>\\n               <noscript>\\n                <img alt=\"\" class=\"attachment-original size-original\" columns=\"5\" columns__sm=\"2\" decoding=\"async\" height=\"586\" ids=\"600,601,602,603,604\" image_size=\"original\" lightbox=\"false\" sizes=\"(max-width: 586px) 100vw, 586px\" src=\"https://limefreshmexicangrill.com/wp-content/uploads/2020/10/SocialImage_2.jpg\" srcset=\"https://limefreshmexicangrill.com/wp-content/uploads/2020/10/SocialImage_2.jpg 586w, https://limefreshmexicangrill.com/wp-content/uploads/2020/10/SocialImage_2-300x300.jpg 300w, https://limefreshmexicangrill.com/wp-content/uploads/2020/10/SocialImage_2-150x150.jpg 150w\" style=\"none\" width=\"586\"/>\\n               </noscript>\\n              </div>\\n              <div class=\"box-text text-left\">\\n               <p>\\n               </p>\\n              </div>\\n             </div>\\n            </div>\\n           </div>\\n           <div class=\"gallery-col col\">\\n            <div class=\"col-inner\">\\n             <div class=\"box has-hover gallery-box box-none\">\\n              <div class=\"box-image\">\\n               <img alt=\"\" class=\"attachment-original size-original lazyload\" columns=\"5\" columns__sm=\"2\" data-sizes=\"(max-width: 586px) 100vw, 586px\" data-src=\"https://limefreshmexicangrill.com/wp-content/uploads/2020/10/SocialImage_3.jpg\" data-srcset=\"https://limefreshmexicangrill.com/wp-content/uploads/2020/10/SocialImage_3.jpg 586w, https://limefreshmexicangrill.com/wp-content/uploads/2020/10/SocialImage_3-300x300.jpg 300w, https://limefreshmexicangrill.com/wp-content/uploads/2020/10/SocialImage_3-150x150.jpg 150w\" decoding=\"async\" height=\"586\" ids=\"600,601,602,603,604\" image_size=\"original\" lightbox=\"false\" src=\"data:image/gif;base64,R0lGODlhAQABAAAAACH5BAEKAAEALAAAAAABAAEAAAICTAEAOw==\" style=\"none\" width=\"586\"/>\\n               <noscript>\\n                <img alt=\"\" class=\"attachment-original size-original\" columns=\"5\" columns__sm=\"2\" decoding=\"async\" height=\"586\" ids=\"600,601,602,603,604\" image_size=\"original\" lightbox=\"false\" sizes=\"(max-width: 586px) 100vw, 586px\" src=\"https://limefreshmexicangrill.com/wp-content/uploads/2020/10/SocialImage_3.jpg\" srcset=\"https://limefreshmexicangrill.com/wp-content/uploads/2020/10/SocialImage_3.jpg 586w, https://limefreshmexicangrill.com/wp-content/uploads/2020/10/SocialImage_3-300x300.jpg 300w, https://limefreshmexicangrill.com/wp-content/uploads/2020/10/SocialImage_3-150x150.jpg 150w\" style=\"none\" width=\"586\"/>\\n               </noscript>\\n              </div>\\n              <div class=\"box-text text-left\">\\n               <p>\\n               </p>\\n              </div>\\n             </div>\\n            </div>\\n           </div>\\n           <div class=\"gallery-col col\">\\n            <div class=\"col-inner\">\\n             <div class=\"box has-hover gallery-box box-none\">\\n              <div class=\"box-image\">\\n               <img alt=\"\" class=\"attachment-original size-original lazyload\" columns=\"5\" columns__sm=\"2\" data-sizes=\"(max-width: 586px) 100vw, 586px\" data-src=\"https://limefreshmexicangrill.com/wp-content/uploads/2020/10/SocialImage_4.jpg\" data-srcset=\"https://limefreshmexicangrill.com/wp-content/uploads/2020/10/SocialImage_4.jpg 586w, https://limefreshmexicangrill.com/wp-content/uploads/2020/10/SocialImage_4-300x300.jpg 300w, https://limefreshmexicangrill.com/wp-content/uploads/2020/10/SocialImage_4-150x150.jpg 150w\" decoding=\"async\" height=\"586\" ids=\"600,601,602,603,604\" image_size=\"original\" lightbox=\"false\" src=\"data:image/gif;base64,R0lGODlhAQABAAAAACH5BAEKAAEALAAAAAABAAEAAAICTAEAOw==\" style=\"none\" width=\"586\"/>\\n               <noscript>\\n                <img alt=\"\" class=\"attachment-original size-original\" columns=\"5\" columns__sm=\"2\" decoding=\"async\" height=\"586\" ids=\"600,601,602,603,604\" image_size=\"original\" lightbox=\"false\" sizes=\"(max-width: 586px) 100vw, 586px\" src=\"https://limefreshmexicangrill.com/wp-content/uploads/2020/10/SocialImage_4.jpg\" srcset=\"https://limefreshmexicangrill.com/wp-content/uploads/2020/10/SocialImage_4.jpg 586w, https://limefreshmexicangrill.com/wp-content/uploads/2020/10/SocialImage_4-300x300.jpg 300w, https://limefreshmexicangrill.com/wp-content/uploads/2020/10/SocialImage_4-150x150.jpg 150w\" style=\"none\" width=\"586\"/>\\n               </noscript>\\n              </div>\\n              <div class=\"box-text text-left\">\\n               <p>\\n               </p>\\n              </div>\\n             </div>\\n            </div>\\n           </div>\\n           <div class=\"gallery-col col\">\\n            <div class=\"col-inner\">\\n             <div class=\"box has-hover gallery-box box-none\">\\n              <div class=\"box-image\">\\n               <img alt=\"\" class=\"attachment-original size-original lazyload\" columns=\"5\" columns__sm=\"2\" data-sizes=\"(max-width: 586px) 100vw, 586px\" data-src=\"https://limefreshmexicangrill.com/wp-content/uploads/2020/10/SocialImage_5.jpg\" data-srcset=\"https://limefreshmexicangrill.com/wp-content/uploads/2020/10/SocialImage_5.jpg 586w, https://limefreshmexicangrill.com/wp-content/uploads/2020/10/SocialImage_5-300x300.jpg 300w, https://limefreshmexicangrill.com/wp-content/uploads/2020/10/SocialImage_5-150x150.jpg 150w\" decoding=\"async\" height=\"586\" ids=\"600,601,602,603,604\" image_size=\"original\" lightbox=\"false\" src=\"data:image/gif;base64,R0lGODlhAQABAAAAACH5BAEKAAEALAAAAAABAAEAAAICTAEAOw==\" style=\"none\" width=\"586\"/>\\n               <noscript>\\n                <img alt=\"\" class=\"attachment-original size-original\" columns=\"5\" columns__sm=\"2\" decoding=\"async\" height=\"586\" ids=\"600,601,602,603,604\" image_size=\"original\" lightbox=\"false\" sizes=\"(max-width: 586px) 100vw, 586px\" src=\"https://limefreshmexicangrill.com/wp-content/uploads/2020/10/SocialImage_5.jpg\" srcset=\"https://limefreshmexicangrill.com/wp-content/uploads/2020/10/SocialImage_5.jpg 586w, https://limefreshmexicangrill.com/wp-content/uploads/2020/10/SocialImage_5-300x300.jpg 300w, https://limefreshmexicangrill.com/wp-content/uploads/2020/10/SocialImage_5-150x150.jpg 150w\" style=\"none\" width=\"586\"/>\\n               </noscript>\\n              </div>\\n              <div class=\"box-text text-left\">\\n               <p>\\n               </p>\\n              </div>\\n             </div>\\n            </div>\\n           </div>\\n          </div>\\n          <p>\\n           <span style=\"font-weight: 400;\">\\n            Use #LIMEfresh on instagram @LIMEfresh to share your funnest, funniest, tastiest LIME fresh moments.\\n           </span>\\n          </p>\\n          <a class=\"button primary follow-us\" href=\"https://www.instagram.com/limefresh/?hl=en\" rel=\"noopener noreferrer\" style=\"border-radius:99px;padding:5px 40px 5px 40px;\" target=\"_blank\">\\n           <span>\\n            FOLLOW US\\n           </span>\\n          </a>\\n         </div>\\n        </div>\\n       </div>\\n      </div>\\n      <style>\\n       #section_1590736950 {\\npadding-top: 80px;\\npadding-bottom: 80px;\\n}\\n      </style>\\n     </section>\\n    </div>\\n   </main>\\n   <footer class=\"footer-wrapper\" id=\"footer\">\\n    <div class=\"is-divider divider clearfix\" style=\"margin-top:0px;margin-bottom:0px;max-width:100%;height:4px;background-color:rgb(192, 255, 69);\">\\n    </div>\\n    <section class=\"section footer\" id=\"section_1020550144\">\\n     <div class=\"bg section-bg fill bg-fill bg-loaded\">\\n     </div>\\n     <div class=\"section-content relative\">\\n      <div class=\"row\" id=\"row-291892915\">\\n       <div class=\"col nopaddingbottom small-12 large-12\" id=\"col-900240677\">\\n        <div class=\"col-inner text-center dark\">\\n         <div class=\"img has-hover x md-x lg-x y md-y lg-y\" id=\"image_92399779\">\\n          <div class=\"img-inner dark\">\\n           <img alt=\"Green and white circular logo for LIME Fresh Mexican Grill in Florida\" class=\"attachment-original size-original lazyload\" data-src=\"https://limefreshmexicangrill.com/wp-content/uploads/2020/08/LimeBadge.svg\" decoding=\"async\" height=\"115\" src=\"data:image/gif;base64,R0lGODlhAQABAAAAACH5BAEKAAEALAAAAAABAAEAAAICTAEAOw==\" width=\"115\"/>\\n           <noscript>\\n            <img alt=\"Green and white circular logo for LIME Fresh Mexican Grill in Florida\" class=\"attachment-original size-original\" decoding=\"async\" height=\"115\" src=\"https://limefreshmexicangrill.com/wp-content/uploads/2020/08/LimeBadge.svg\" width=\"115\"/>\\n           </noscript>\\n          </div>\\n          <style>\\n           #image_92399779 {\\nwidth: 30%;\\n}\\n@media (min-width:550px) {\\n#image_92399779 {\\nwidth: 10%;\\n}\\n}\\n          </style>\\n         </div>\\n         <p>\\n         </p>\\n         <div class=\"menu-footer-container\">\\n          <ul class=\"menu\" id=\"menu-footer\">\\n           <li class=\"menu-item menu-item-type-post_type menu-item-object-page menu-item-381\" id=\"menu-item-381\">\\n            <a href=\"https://limefreshmexicangrill.com/about/\">\\n             ABOUT\\n            </a>\\n           </li>\\n           <li class=\"menu-item menu-item-type-post_type menu-item-object-page menu-item-569\" id=\"menu-item-569\">\\n            <a href=\"https://limefreshmexicangrill.com/south-florida-menu/\">\\n             MENU\\n            </a>\\n           </li>\\n           <li class=\"menu-item menu-item-type-post_type menu-item-object-page menu-item-406\" id=\"menu-item-406\">\\n            <a href=\"https://limefreshmexicangrill.com/rewards/\">\\n             REWARDS\\n            </a>\\n           </li>\\n           <li class=\"menu-item menu-item-type-post_type menu-item-object-page menu-item-263\" id=\"menu-item-263\">\\n            <a href=\"https://limefreshmexicangrill.com/catering/\">\\n             CATERING\\n            </a>\\n           </li>\\n           <li class=\"menu-item menu-item-type-post_type menu-item-object-page menu-item-433\" id=\"menu-item-433\">\\n            <a href=\"https://limefreshmexicangrill.com/locations/\">\\n             LOCATIONS\\n            </a>\\n           </li>\\n           <li class=\"menu-item menu-item-type-custom menu-item-object-custom menu-item-402\" id=\"menu-item-402\">\\n            <a rel=\"noopener\" target=\"_blank\">\\n             GIFT CARDS\\n            </a>\\n           </li>\\n           <li class=\"menu-item menu-item-type-custom menu-item-object-custom menu-item-403\" id=\"menu-item-403\">\\n            <a href=\"https://www.indeed.com/cmp/Lime-Fresh-Mexican-Grill\" rel=\"noopener\" target=\"_blank\">\\n             CAREERS\\n            </a>\\n           </li>\\n           <li class=\"new-window menu-item menu-item-type-custom menu-item-object-custom menu-item-206\" id=\"menu-item-206\">\\n            <a href=\"https://order.limefreshmexicangrill.com/\" rel=\"noopener\" target=\"_blank\">\\n             ORDER ONLINE\\n            </a>\\n           </li>\\n           <li class=\"menu-item menu-item-type-post_type menu-item-object-page menu-item-1131\" id=\"menu-item-1131\">\\n            <a href=\"https://limefreshmexicangrill.com/press/\">\\n             PRESS\\n            </a>\\n           </li>\\n           <li class=\"menu-item menu-item-type-custom menu-item-object-custom menu-item-1235\" id=\"menu-item-1235\">\\n            <a href=\"https://limefreshmexicangrill.com/limeci/\">\\n             LIME Chips In\\n            </a>\\n           </li>\\n           <li class=\"menu-item menu-item-type-post_type menu-item-object-page menu-item-1788\" id=\"menu-item-1788\">\\n            <a href=\"https://limefreshmexicangrill.com/franchise-opportunities/\">\\n             FRANCHISE OPPORTUNITIES\\n            </a>\\n           </li>\\n          </ul>\\n         </div>\\n         <p>\\n         </p>\\n         <p>\\n          <a class=\"new-window\" href=\"https://www.instagram.com/limefresh/?hl=en\" rel=\"noopener noreferrer\" target=\"_blank\">\\n           <img alt=\"\" class=\"alignnone wp-image-77 size-full lazyload\" data-src=\"https://dev.limefreshmexicangrill.com/wp-content/uploads/2020/08/Instagram_Icon.svg\" height=\"32\" role=\"img\" src=\"data:image/gif;base64,R0lGODlhAQABAAAAACH5BAEKAAEALAAAAAABAAEAAAICTAEAOw==\" title=\"instagram\" width=\"32\"/>\\n           <noscript>\\n            <img alt=\"\" class=\"alignnone wp-image-77 size-full\" height=\"32\" role=\"img\" src=\"https://dev.limefreshmexicangrill.com/wp-content/uploads/2020/08/Instagram_Icon.svg\" title=\"instagram\" width=\"32\"/>\\n           </noscript>\\n          </a>\\n          <a class=\"new-window\" href=\"https://www.facebook.com/LIMEFreshMex/\" rel=\"noopener noreferrer\" target=\"_blank\">\\n           <img alt=\"\" class=\"alignnone wp-image-76 size-full lazyload\" data-src=\"https://dev.limefreshmexicangrill.com/wp-content/uploads/2020/08/Facebook_Icon.svg\" height=\"32\" role=\"img\" src=\"data:image/gif;base64,R0lGODlhAQABAAAAACH5BAEKAAEALAAAAAABAAEAAAICTAEAOw==\" title=\"facebook\" width=\"32\"/>\\n           <noscript>\\n            <img alt=\"\" class=\"alignnone wp-image-76 size-full\" height=\"32\" role=\"img\" src=\"https://dev.limefreshmexicangrill.com/wp-content/uploads/2020/08/Facebook_Icon.svg\" title=\"facebook\" width=\"32\"/>\\n           </noscript>\\n          </a>\\n         </p>\\n         <h2>\\n          Stay in the Jalape-know\\n         </h2>\\n         <p>\\n          <span style=\"font-weight: 400;\">\\n           Join our email list for special offers, the freshest LIME info and more!\\n          </span>\\n         </p>\\n         <div class=\"row newsletter\" id=\"row-1525996708\">\\n          <div class=\"col nopaddingbottom hide-for-small medium-4 small-12 large-4\" id=\"col-1753419382\">\\n           <div class=\"col-inner\">\\n           </div>\\n          </div>\\n          <div class=\"col nopaddingbottom medium-4 small-12 large-4\" id=\"col-1416923726\">\\n           <div class=\"col-inner dark\">\\n            <div class=\"wpcf7 no-js\" dir=\"ltr\" id=\"wpcf7-f130-o1\" lang=\"es-ES\">\\n             <div class=\"screen-reader-response\">\\n              <p aria-atomic=\"true\" aria-live=\"polite\" role=\"status\">\\n              </p>\\n              <ul>\\n              </ul>\\n             </div>\\n             <form action=\"/#wpcf7-f130-o1\" aria-label=\"Contact form\" class=\"wpcf7-form init mailchimp-ext-0.5.72\" data-status=\"init\" method=\"post\" novalidate=\"novalidate\">\\n              <div style=\"display: none;\">\\n               <input name=\"_wpcf7\" type=\"hidden\" value=\"130\"/>\\n               <input name=\"_wpcf7_version\" type=\"hidden\" value=\"5.8.5\"/>\\n               <input name=\"_wpcf7_locale\" type=\"hidden\" value=\"es_ES\"/>\\n               <input name=\"_wpcf7_unit_tag\" type=\"hidden\" value=\"wpcf7-f130-o1\"/>\\n               <input name=\"_wpcf7_container_post\" type=\"hidden\" value=\"0\"/>\\n               <input name=\"_wpcf7_posted_data_hash\" type=\"hidden\" value=\"\"/>\\n              </div>\\n              <div class=\"newsletter-form\">\\n               <p>\\n                <span class=\"wpcf7-form-control-wrap\" data-name=\"your-email\">\\n                 <input aria-invalid=\"false\" aria-required=\"true\" class=\"wpcf7-form-control wpcf7-email wpcf7-validates-as-required wpcf7-text wpcf7-validates-as-email\" name=\"your-email\" placeholder=\"Email address\" size=\"40\" type=\"email\" value=\"\"/>\\n                </span>\\n                <br/>\\n                <input class=\"wpcf7-form-control wpcf7-submit has-spinner button\" type=\"submit\" value=\"SIGN UP\"/>\\n               </p>\\n              </div>\\n              <div aria-hidden=\"true\" class=\"wpcf7-response-output\">\\n              </div>\\n              <p style=\"display: none !important\">\\n               <span class=\"wpcf7-form-control-wrap referer-page\">\\n                <input aria-invalid=\"false\" class=\"wpcf7-form-control wpcf7-text referer-page\" data-value=\"http://Direct%20Visit\" name=\"referer-page\" type=\"hidden\" value=\"http://Direct%20Visit\"/>\\n               </span>\\n              </p>\\n             </form>\\n            </div>\\n           </div>\\n          </div>\\n          <div class=\"col nopaddingbottom hide-for-small medium-4 small-12 large-4\" id=\"col-2073691827\">\\n           <div class=\"col-inner\">\\n           </div>\\n          </div>\\n         </div>\\n        </div>\\n        <style>\\n         #col-900240677 > .col-inner {\\nmargin: -80px 0px 0px 0px;\\n}\\n@media (min-width:550px) {\\n#col-900240677 > .col-inner {\\nmargin: -95px 0px 0px 0px;\\n}\\n}\\n        </style>\\n       </div>\\n      </div>\\n     </div>\\n     <style>\\n      #section_1020550144 {\\npadding-top: 30px;\\npadding-bottom: 30px;\\nbackground-color: #00b254;\\n}\\n     </style>\\n    </section>\\n    <section class=\"section footer-absolut\" id=\"section_1658194239\">\\n     <div class=\"bg section-bg fill bg-fill bg-loaded\">\\n     </div>\\n     <div class=\"section-content relative\">\\n      <div class=\"row\" id=\"row-574694814\">\\n       <div class=\"col nopaddingbottom small-12 large-12\" id=\"col-87430967\">\\n        <div class=\"col-inner text-center dark\">\\n         <p>\\n          <a href=\"https://limefreshmexicangrill.com/privacy-policy/\">\\n           Privacy Policy\\n          </a>\\n          |\\n          <span style=\"font-weight: 400;\">\\n           <a href=\"https://limefreshmexicangrill.com/accessibility-policy/\">\\n            Accessibility Policy\\n           </a>\\n           |\\n          </span>\\n          Copyright © 2020 EverFresh Endeavors, LLC\\n         </p>\\n        </div>\\n       </div>\\n      </div>\\n     </div>\\n     <style>\\n      #section_1658194239 {\\npadding-top: 15px;\\npadding-bottom: 15px;\\nbackground-color: rgb(44, 45, 55);\\n}\\n     </style>\\n    </section>\\n    <div class=\"absolute-footer dark medium-text-center small-text-center\">\\n     <div class=\"container clearfix\">\\n      <div class=\"footer-primary pull-left\">\\n       <div class=\"copyright-footer\">\\n        Copyright 2024 ©\\n        <strong>\\n         Flatsome Theme\\n        </strong>\\n       </div>\\n      </div>\\n     </div>\\n    </div>\\n   </footer>\\n  </div>\\n  <template id=\"tmpl-age-gate\">\\n   <div class=\"age-gate__wrapper\">\\n    <div class=\"age-gate__loader\">\\n     <svg enable-background=\"new 0 0 0 0\" id=\"L5\" version=\"1.1\" viewBox=\"0 0 100 100\" x=\"0px\" xml:space=\"preserve\" xmlns=\"http://www.w3.org/2000/svg\" xmlns:xlink=\"http://www.w3.org/1999/xlink\" y=\"0px\">\\n      <circle cx=\"6\" cy=\"50\" fill=\"currentColor\" r=\"6\" stroke=\"none\">\\n       <animateTransform attributeName=\"transform\" begin=\"0.1\" dur=\"1s\" repeatCount=\"indefinite\" type=\"translate\" values=\"0 15 ; 0 -15; 0 15\">\\n       </animateTransform>\\n      </circle>\\n      <circle cx=\"30\" cy=\"50\" fill=\"currentColor\" r=\"6\" stroke=\"none\">\\n       <animateTransform attributeName=\"transform\" begin=\"0.2\" dur=\"1s\" repeatCount=\"indefinite\" type=\"translate\" values=\"0 10 ; 0 -10; 0 10\">\\n       </animateTransform>\\n      </circle>\\n      <circle cx=\"54\" cy=\"50\" fill=\"currentColor\" r=\"6\" stroke=\"none\">\\n       <animateTransform attributeName=\"transform\" begin=\"0.3\" dur=\"1s\" repeatCount=\"indefinite\" type=\"translate\" values=\"0 5 ; 0 -5; 0 5\">\\n       </animateTransform>\\n      </circle>\\n     </svg>\\n    </div>\\n    <div class=\"age-gate__background-color\">\\n    </div>\\n    <div class=\"age-gate__background\">\\n    </div>\\n    <div aria-label=\"\" aria-modal=\"true\" class=\"age-gate\" role=\"dialog\">\\n     <form class=\"age-gate__form\" method=\"post\">\\n      <div class=\"age-gate__heading\">\\n       <img alt=\"Lime Fresh Mexican Grill\" class=\"age-gate__heading-title age-gate__heading-title--logo lazyload\" data-src=\"https://limefreshmexicangrill.com/wp-content/uploads/2020/08/LimeBadge.svg\" src=\"data:image/gif;base64,R0lGODlhAQABAAAAACH5BAEKAAEALAAAAAABAAEAAAICTAEAOw==\"/>\\n       <noscript>\\n        <img alt=\"Lime Fresh Mexican Grill\" class=\"age-gate__heading-title age-gate__heading-title--logo\" src=\"https://limefreshmexicangrill.com/wp-content/uploads/2020/08/LimeBadge.svg\"/>\\n       </noscript>\\n      </div>\\n      <p class=\"age-gate__subheadline\">\\n      </p>\\n      <div class=\"age-gate__fields\">\\n       <p class=\"age-gate__challenge\">\\n        ARE YOU OF LEGAL DRINKING AGE?\\n       </p>\\n       <div class=\"age-gate__buttons\">\\n        <button class=\"age-gate__submit age-gate__submit--no\" data-submit=\"no\" name=\"age_gate[confirm]\" type=\"submit\" value=\"0\">\\n         No\\n        </button>\\n        <button class=\"age-gate__submit age-gate__submit--yes\" data-submit=\"yes\" name=\"age_gate[confirm]\" type=\"submit\" value=\"1\">\\n         Yes\\n        </button>\\n       </div>\\n      </div>\\n      <input name=\"age_gate[age]\" type=\"hidden\" value=\"9MRd26N84fSy3NwprhoXtg==\"/>\\n      <input name=\"age_gate[nonce]\" type=\"hidden\" value=\"351e4f0c00\"/>\\n      <input name=\"_wp_http_referer\" type=\"hidden\" value=\"/\"/>\\n      <input name=\"age_gate[lang]\" type=\"hidden\" value=\"en\"/>\\n      <input name=\"age_gate[confirm]\" type=\"hidden\"/>\\n      <div class=\"age-gate__errors\">\\n      </div>\\n      <div class=\"age-gate__additional-information\">\\n       <p>\\n        You must be of legal drinking age to enter this website. This website uses cookies. By entering this site, I agree to the\\n        <a href=\"https://limefreshmexicangrill.com/accessibility-policy/\">\\n         Terms of Service\\n        </a>\\n        and\\n        <a href=\"https://limefreshmexicangrill.com/privacy-policy/\">\\n         Privacy Policy\\n        </a>\\n        .\\n       </p>\\n      </div>\\n     </form>\\n    </div>\\n   </div>\\n  </template>\\n  <div class=\"mobile-sidebar no-scrollbar mfp-hide mobile-sidebar-slide mobile-sidebar-levels-1\" data-levels=\"1\" id=\"main-menu\">\\n   <div class=\"sidebar-menu no-scrollbar\">\\n    <ul class=\"nav nav-sidebar nav-vertical nav-uppercase nav-slide\">\\n     <li class=\"menu-item menu-item-type-post_type menu-item-object-page menu-item-307\">\\n      <a href=\"https://limefreshmexicangrill.com/about/\">\\n       ABOUT\\n      </a>\\n     </li>\\n     <li class=\"menu-item menu-item-type-post_type menu-item-object-page menu-item-has-children menu-item-350\">\\n      <a href=\"https://limefreshmexicangrill.com/south-florida-menu/\">\\n       MENU\\n      </a>\\n      <ul class=\"sub-menu nav-sidebar-ul children\">\\n       <li class=\"menu-item menu-item-type-post_type menu-item-object-page menu-item-843\">\\n        <a href=\"https://limefreshmexicangrill.com/south-florida-menu/\">\\n         SOUTH FL MENU\\n        </a>\\n       </li>\\n       <li class=\"menu-item menu-item-type-post_type menu-item-object-page menu-item-841\">\\n        <a href=\"https://limefreshmexicangrill.com/central-florida-menu/\">\\n         CENTRAL FL MENU\\n        </a>\\n       </li>\\n      </ul>\\n     </li>\\n     <li class=\"menu-item menu-item-type-post_type menu-item-object-page menu-item-405\">\\n      <a href=\"https://limefreshmexicangrill.com/rewards/\">\\n       REWARDS\\n      </a>\\n     </li>\\n     <li class=\"menu-item menu-item-type-post_type menu-item-object-page menu-item-264\">\\n      <a href=\"https://limefreshmexicangrill.com/catering/\">\\n       CATERING\\n      </a>\\n     </li>\\n     <li class=\"menu-item menu-item-type-post_type menu-item-object-page menu-item-439\">\\n      <a href=\"https://limefreshmexicangrill.com/locations/\">\\n       LOCATIONS\\n      </a>\\n     </li>\\n     <li class=\"menu-order menu-item menu-item-type-custom menu-item-object-custom menu-item-178\">\\n      <a href=\"https://order.limefreshmexicangrill.com/\" rel=\"noopener noreferrer\" target=\"_blank\">\\n       ORDER ONLINE\\n      </a>\\n     </li>\\n    </ul>\\n   </div>\\n  </div>\\n  <script>\\n   (function(e){\\nvar el = document.createElement(\\'script\\');\\nel.setAttribute(\\'data-account\\', \\'FubJHMg9nx\\');\\nel.setAttribute(\\'src\\', \\'https://cdn.userway.org/widget.js\\');\\ndocument.body.appendChild(el);\\n})();\\n  </script>\\n  <script>\\n   jQuery(\\'#wpsl-search-input\\').attr(\\'placeholder\\', \\'Name or City\\');\\njQuery(\\'.follow-us\\').attr(\\'target\\', \\'_blank\\');\\njQuery(\\'.new-window\\').attr(\\'target\\', \\'_blank\\');\\njQuery(\\'.new-window a\\').attr(\\'target\\', \\'_blank\\');\\njQuery(\\'.blank\\').attr(\\'target\\', \\'_blank\\');\\n  </script>\\n  <style id=\"global-styles-inline-css\" type=\"text/css\">\\n   body{--wp--preset--color--black: #000000;--wp--preset--color--cyan-bluish-gray: #abb8c3;--wp--preset--color--white: #ffffff;--wp--preset--color--pale-pink: #f78da7;--wp--preset--color--vivid-red: #cf2e2e;--wp--preset--color--luminous-vivid-orange: #ff6900;--wp--preset--color--luminous-vivid-amber: #fcb900;--wp--preset--color--light-green-cyan: #7bdcb5;--wp--preset--color--vivid-green-cyan: #00d084;--wp--preset--color--pale-cyan-blue: #8ed1fc;--wp--preset--color--vivid-cyan-blue: #0693e3;--wp--preset--color--vivid-purple: #9b51e0;--wp--preset--gradient--vivid-cyan-blue-to-vivid-purple: linear-gradient(135deg,rgba(6,147,227,1) 0%,rgb(155,81,224) 100%);--wp--preset--gradient--light-green-cyan-to-vivid-green-cyan: linear-gradient(135deg,rgb(122,220,180) 0%,rgb(0,208,130) 100%);--wp--preset--gradient--luminous-vivid-amber-to-luminous-vivid-orange: linear-gradient(135deg,rgba(252,185,0,1) 0%,rgba(255,105,0,1) 100%);--wp--preset--gradient--luminous-vivid-orange-to-vivid-red: linear-gradient(135deg,rgba(255,105,0,1) 0%,rgb(207,46,46) 100%);--wp--preset--gradient--very-light-gray-to-cyan-bluish-gray: linear-gradient(135deg,rgb(238,238,238) 0%,rgb(169,184,195) 100%);--wp--preset--gradient--cool-to-warm-spectrum: linear-gradient(135deg,rgb(74,234,220) 0%,rgb(151,120,209) 20%,rgb(207,42,186) 40%,rgb(238,44,130) 60%,rgb(251,105,98) 80%,rgb(254,248,76) 100%);--wp--preset--gradient--blush-light-purple: linear-gradient(135deg,rgb(255,206,236) 0%,rgb(152,150,240) 100%);--wp--preset--gradient--blush-bordeaux: linear-gradient(135deg,rgb(254,205,165) 0%,rgb(254,45,45) 50%,rgb(107,0,62) 100%);--wp--preset--gradient--luminous-dusk: linear-gradient(135deg,rgb(255,203,112) 0%,rgb(199,81,192) 50%,rgb(65,88,208) 100%);--wp--preset--gradient--pale-ocean: linear-gradient(135deg,rgb(255,245,203) 0%,rgb(182,227,212) 50%,rgb(51,167,181) 100%);--wp--preset--gradient--electric-grass: linear-gradient(135deg,rgb(202,248,128) 0%,rgb(113,206,126) 100%);--wp--preset--gradient--midnight: linear-gradient(135deg,rgb(2,3,129) 0%,rgb(40,116,252) 100%);--wp--preset--font-size--small: 13px;--wp--preset--font-size--medium: 20px;--wp--preset--font-size--large: 36px;--wp--preset--font-size--x-large: 42px;--wp--preset--spacing--20: 0.44rem;--wp--preset--spacing--30: 0.67rem;--wp--preset--spacing--40: 1rem;--wp--preset--spacing--50: 1.5rem;--wp--preset--spacing--60: 2.25rem;--wp--preset--spacing--70: 3.38rem;--wp--preset--spacing--80: 5.06rem;--wp--preset--shadow--natural: 6px 6px 9px rgba(0, 0, 0, 0.2);--wp--preset--shadow--deep: 12px 12px 50px rgba(0, 0, 0, 0.4);--wp--preset--shadow--sharp: 6px 6px 0px rgba(0, 0, 0, 0.2);--wp--preset--shadow--outlined: 6px 6px 0px -3px rgba(255, 255, 255, 1), 6px 6px rgba(0, 0, 0, 1);--wp--preset--shadow--crisp: 6px 6px 0px rgba(0, 0, 0, 1);}:where(.is-layout-flex){gap: 0.5em;}:where(.is-layout-grid){gap: 0.5em;}body .is-layout-flow > .alignleft{float: left;margin-inline-start: 0;margin-inline-end: 2em;}body .is-layout-flow > .alignright{float: right;margin-inline-start: 2em;margin-inline-end: 0;}body .is-layout-flow > .aligncenter{margin-left: auto !important;margin-right: auto !important;}body .is-layout-constrained > .alignleft{float: left;margin-inline-start: 0;margin-inline-end: 2em;}body .is-layout-constrained > .alignright{float: right;margin-inline-start: 2em;margin-inline-end: 0;}body .is-layout-constrained > .aligncenter{margin-left: auto !important;margin-right: auto !important;}body .is-layout-constrained > :where(:not(.alignleft):not(.alignright):not(.alignfull)){max-width: var(--wp--style--global--content-size);margin-left: auto !important;margin-right: auto !important;}body .is-layout-constrained > .alignwide{max-width: var(--wp--style--global--wide-size);}body .is-layout-flex{display: flex;}body .is-layout-flex{flex-wrap: wrap;align-items: center;}body .is-layout-flex > *{margin: 0;}body .is-layout-grid{display: grid;}body .is-layout-grid > *{margin: 0;}:where(.wp-block-columns.is-layout-flex){gap: 2em;}:where(.wp-block-columns.is-layout-grid){gap: 2em;}:where(.wp-block-post-template.is-layout-flex){gap: 1.25em;}:where(.wp-block-post-template.is-layout-grid){gap: 1.25em;}.has-black-color{color: var(--wp--preset--color--black) !important;}.has-cyan-bluish-gray-color{color: var(--wp--preset--color--cyan-bluish-gray) !important;}.has-white-color{color: var(--wp--preset--color--white) !important;}.has-pale-pink-color{color: var(--wp--preset--color--pale-pink) !important;}.has-vivid-red-color{color: var(--wp--preset--color--vivid-red) !important;}.has-luminous-vivid-orange-color{color: var(--wp--preset--color--luminous-vivid-orange) !important;}.has-luminous-vivid-amber-color{color: var(--wp--preset--color--luminous-vivid-amber) !important;}.has-light-green-cyan-color{color: var(--wp--preset--color--light-green-cyan) !important;}.has-vivid-green-cyan-color{color: var(--wp--preset--color--vivid-green-cyan) !important;}.has-pale-cyan-blue-color{color: var(--wp--preset--color--pale-cyan-blue) !important;}.has-vivid-cyan-blue-color{color: var(--wp--preset--color--vivid-cyan-blue) !important;}.has-vivid-purple-color{color: var(--wp--preset--color--vivid-purple) !important;}.has-black-background-color{background-color: var(--wp--preset--color--black) !important;}.has-cyan-bluish-gray-background-color{background-color: var(--wp--preset--color--cyan-bluish-gray) !important;}.has-white-background-color{background-color: var(--wp--preset--color--white) !important;}.has-pale-pink-background-color{background-color: var(--wp--preset--color--pale-pink) !important;}.has-vivid-red-background-color{background-color: var(--wp--preset--color--vivid-red) !important;}.has-luminous-vivid-orange-background-color{background-color: var(--wp--preset--color--luminous-vivid-orange) !important;}.has-luminous-vivid-amber-background-color{background-color: var(--wp--preset--color--luminous-vivid-amber) !important;}.has-light-green-cyan-background-color{background-color: var(--wp--preset--color--light-green-cyan) !important;}.has-vivid-green-cyan-background-color{background-color: var(--wp--preset--color--vivid-green-cyan) !important;}.has-pale-cyan-blue-background-color{background-color: var(--wp--preset--color--pale-cyan-blue) !important;}.has-vivid-cyan-blue-background-color{background-color: var(--wp--preset--color--vivid-cyan-blue) !important;}.has-vivid-purple-background-color{background-color: var(--wp--preset--color--vivid-purple) !important;}.has-black-border-color{border-color: var(--wp--preset--color--black) !important;}.has-cyan-bluish-gray-border-color{border-color: var(--wp--preset--color--cyan-bluish-gray) !important;}.has-white-border-color{border-color: var(--wp--preset--color--white) !important;}.has-pale-pink-border-color{border-color: var(--wp--preset--color--pale-pink) !important;}.has-vivid-red-border-color{border-color: var(--wp--preset--color--vivid-red) !important;}.has-luminous-vivid-orange-border-color{border-color: var(--wp--preset--color--luminous-vivid-orange) !important;}.has-luminous-vivid-amber-border-color{border-color: var(--wp--preset--color--luminous-vivid-amber) !important;}.has-light-green-cyan-border-color{border-color: var(--wp--preset--color--light-green-cyan) !important;}.has-vivid-green-cyan-border-color{border-color: var(--wp--preset--color--vivid-green-cyan) !important;}.has-pale-cyan-blue-border-color{border-color: var(--wp--preset--color--pale-cyan-blue) !important;}.has-vivid-cyan-blue-border-color{border-color: var(--wp--preset--color--vivid-cyan-blue) !important;}.has-vivid-purple-border-color{border-color: var(--wp--preset--color--vivid-purple) !important;}.has-vivid-cyan-blue-to-vivid-purple-gradient-background{background: var(--wp--preset--gradient--vivid-cyan-blue-to-vivid-purple) !important;}.has-light-green-cyan-to-vivid-green-cyan-gradient-background{background: var(--wp--preset--gradient--light-green-cyan-to-vivid-green-cyan) !important;}.has-luminous-vivid-amber-to-luminous-vivid-orange-gradient-background{background: var(--wp--preset--gradient--luminous-vivid-amber-to-luminous-vivid-orange) !important;}.has-luminous-vivid-orange-to-vivid-red-gradient-background{background: var(--wp--preset--gradient--luminous-vivid-orange-to-vivid-red) !important;}.has-very-light-gray-to-cyan-bluish-gray-gradient-background{background: var(--wp--preset--gradient--very-light-gray-to-cyan-bluish-gray) !important;}.has-cool-to-warm-spectrum-gradient-background{background: var(--wp--preset--gradient--cool-to-warm-spectrum) !important;}.has-blush-light-purple-gradient-background{background: var(--wp--preset--gradient--blush-light-purple) !important;}.has-blush-bordeaux-gradient-background{background: var(--wp--preset--gradient--blush-bordeaux) !important;}.has-luminous-dusk-gradient-background{background: var(--wp--preset--gradient--luminous-dusk) !important;}.has-pale-ocean-gradient-background{background: var(--wp--preset--gradient--pale-ocean) !important;}.has-electric-grass-gradient-background{background: var(--wp--preset--gradient--electric-grass) !important;}.has-midnight-gradient-background{background: var(--wp--preset--gradient--midnight) !important;}.has-small-font-size{font-size: var(--wp--preset--font-size--small) !important;}.has-medium-font-size{font-size: var(--wp--preset--font-size--medium) !important;}.has-large-font-size{font-size: var(--wp--preset--font-size--large) !important;}.has-x-large-font-size{font-size: var(--wp--preset--font-size--x-large) !important;}\\n  </style>\\n  <script id=\"age-gate-all-js-extra\" type=\"text/javascript\">\\n   /* <![CDATA[ */\\nvar age_gate_common = {\"cookies\":\"Your browser does not support cookies, you may experience problems entering this site\",\"simple\":\"\"};\\n/* ]]> */\\n  </script>\\n  <script id=\"age-gate-all-js\" src=\"https://limefreshmexicangrill.com/wp-content/plugins/age-gate/dist/all.js?ver=3.3.1\" type=\"text/javascript\">\\n  </script>\\n  <script id=\"swv-js\" src=\"https://limefreshmexicangrill.com/wp-content/plugins/contact-form-7/includes/swv/js/index.js?ver=5.8.5\" type=\"text/javascript\">\\n  </script>\\n  <script id=\"contact-form-7-js-extra\" type=\"text/javascript\">\\n   /* <![CDATA[ */\\nvar wpcf7 = {\"api\":{\"root\":\"https:\\\\/\\\\/limefreshmexicangrill.com\\\\/wp-json\\\\/\",\"namespace\":\"contact-form-7\\\\/v1\"}};\\n/* ]]> */\\n  </script>\\n  <script id=\"contact-form-7-js\" src=\"https://limefreshmexicangrill.com/wp-content/plugins/contact-form-7/includes/js/index.js?ver=5.8.5\" type=\"text/javascript\">\\n  </script>\\n  <script id=\"flatsome-live-search-js\" src=\"https://limefreshmexicangrill.com/wp-content/themes/flatsome/inc/extensions/flatsome-live-search/flatsome-live-search.js?ver=3.14.2\" type=\"text/javascript\">\\n  </script>\\n  <script id=\"smush-lazy-load-js\" src=\"https://limefreshmexicangrill.com/wp-content/plugins/wp-smushit/app/assets/js/smush-lazy-load.min.js?ver=3.15.3\" type=\"text/javascript\">\\n  </script>\\n  <script id=\"wp-polyfill-inert-js\" src=\"https://limefreshmexicangrill.com/wp-includes/js/dist/vendor/wp-polyfill-inert.min.js?ver=3.1.2\" type=\"text/javascript\">\\n  </script>\\n  <script id=\"regenerator-runtime-js\" src=\"https://limefreshmexicangrill.com/wp-includes/js/dist/vendor/regenerator-runtime.min.js?ver=0.14.0\" type=\"text/javascript\">\\n  </script>\\n  <script id=\"wp-polyfill-js\" src=\"https://limefreshmexicangrill.com/wp-includes/js/dist/vendor/wp-polyfill.min.js?ver=3.15.0\" type=\"text/javascript\">\\n  </script>\\n  <script id=\"hoverIntent-js\" src=\"https://limefreshmexicangrill.com/wp-includes/js/hoverIntent.min.js?ver=1.10.2\" type=\"text/javascript\">\\n  </script>\\n  <script id=\"flatsome-js-js-extra\" type=\"text/javascript\">\\n   /* <![CDATA[ */\\nvar flatsomeVars = {\"ajaxurl\":\"https:\\\\/\\\\/limefreshmexicangrill.com\\\\/wp-admin\\\\/admin-ajax.php\",\"rtl\":\"\",\"sticky_height\":\"70\",\"assets_url\":\"https:\\\\/\\\\/limefreshmexicangrill.com\\\\/wp-content\\\\/themes\\\\/flatsome\\\\/assets\\\\/js\\\\/\",\"lightbox\":{\"close_markup\":\"<button title=\\\\\"%title%\\\\\" type=\\\\\"button\\\\\" class=\\\\\"mfp-close\\\\\"><svg xmlns=\\\\\"http:\\\\/\\\\/www.w3.org\\\\/2000\\\\/svg\\\\\" width=\\\\\"28\\\\\" height=\\\\\"28\\\\\" viewBox=\\\\\"0 0 24 24\\\\\" fill=\\\\\"none\\\\\" stroke=\\\\\"currentColor\\\\\" stroke-width=\\\\\"2\\\\\" stroke-linecap=\\\\\"round\\\\\" stroke-linejoin=\\\\\"round\\\\\" class=\\\\\"feather feather-x\\\\\"><line x1=\\\\\"18\\\\\" y1=\\\\\"6\\\\\" x2=\\\\\"6\\\\\" y2=\\\\\"18\\\\\"><\\\\/line><line x1=\\\\\"6\\\\\" y1=\\\\\"6\\\\\" x2=\\\\\"18\\\\\" y2=\\\\\"18\\\\\"><\\\\/line><\\\\/svg><\\\\/button>\",\"close_btn_inside\":false},\"user\":{\"can_edit_pages\":false},\"i18n\":{\"mainMenu\":\"Main Menu\"},\"options\":{\"cookie_notice_version\":\"1\",\"swatches_layout\":false,\"swatches_box_select_event\":false,\"swatches_box_behavior_selected\":false,\"swatches_box_update_urls\":\"1\",\"swatches_box_reset\":false,\"swatches_box_reset_extent\":false,\"swatches_box_reset_time\":300,\"search_result_latency\":\"0\"}};\\n/* ]]> */\\n  </script>\\n  <script id=\"flatsome-js-js\" src=\"https://limefreshmexicangrill.com/wp-content/themes/flatsome/assets/js/flatsome.js?ver=942e5d46e3c18336921615174a7d6798\" type=\"text/javascript\">\\n  </script>\\n  <script>\\n   jQuery(\\'.follow-us\\').attr(\\'target\\', \\'_blank\\');\\njQuery(\\'.menu-order a\\').attr(\\'target\\', \\'_blank\\');\\njQuery(\\'.new-window a\\').attr(\\'target\\', \\'_blank\\');\\njQuery(\\'.new-window\\').attr(\\'target\\', \\'_blank\\');\\n  </script>\\n </body>\\n</html>\\n'"
      ]
     },
     "execution_count": 14,
     "metadata": {},
     "output_type": "execute_result"
    }
   ],
   "source": [
    "soup_lime.prettify()"
   ]
  },
  {
   "cell_type": "code",
   "execution_count": 16,
   "id": "67f9d67d-49bd-41d8-90a6-818c05cc292a",
   "metadata": {},
   "outputs": [],
   "source": [
    "lime_img_tags = soup_lime.find_all(\"img\") # find me all the img tags present in the html copy"
   ]
  },
  {
   "cell_type": "code",
   "execution_count": 22,
   "id": "358faba9-d50a-4ddb-91fc-5f901e9e1065",
   "metadata": {},
   "outputs": [],
   "source": [
    "lime_taco_list = [] # list storing all the instances of 'tacos'"
   ]
  },
  {
   "cell_type": "code",
   "execution_count": 24,
   "id": "a1db232a-e6bf-4011-b019-4e938fc2e8a7",
   "metadata": {
    "scrolled": true
   },
   "outputs": [
    {
     "name": "stdout",
     "output_type": "stream",
     "text": [
      "<img height=\"1\" src=\"https://www.facebook.com/tr?id=239598157045936&amp;ev=PageView&amp;noscript=1\" style=\"display:none\" width=\"1\"/>\n",
      "-----\n",
      "<img alt=\"Lime Fresh Mexican Grill\" class=\"header_logo header-logo lazyload\" data-src=\"https://limefreshmexicangrill.com/wp-content/uploads/2020/08/Lime_Logo.svg\" height=\"122\" src=\"data:image/gif;base64,R0lGODlhAQABAAAAACH5BAEKAAEALAAAAAABAAEAAAICTAEAOw==\" width=\"159\"/>\n",
      "-----\n",
      "<img alt=\"Lime Fresh Mexican Grill\" class=\"header_logo header-logo\" height=\"122\" src=\"https://limefreshmexicangrill.com/wp-content/uploads/2020/08/Lime_Logo.svg\" width=\"159\"/>\n",
      "-----\n",
      "<img alt=\"Lime Fresh Mexican Grill\" class=\"header-logo-dark lazyload\" data-src=\"https://limefreshmexicangrill.com/wp-content/uploads/2020/08/Lime_Logo.svg\" height=\"122\" src=\"data:image/gif;base64,R0lGODlhAQABAAAAACH5BAEKAAEALAAAAAABAAEAAAICTAEAOw==\" width=\"159\"/>\n",
      "-----\n",
      "<img alt=\"Lime Fresh Mexican Grill\" class=\"header-logo-dark\" height=\"122\" src=\"https://limefreshmexicangrill.com/wp-content/uploads/2020/08/Lime_Logo.svg\" width=\"159\"/>\n",
      "-----\n",
      "<img alt=\"\" class=\"alignnone size-full wp-image-83 lazyload\" data-src=\"https://limefreshmexicangrill.com/wp-content/uploads/2020/08/taco.png\" decoding=\"async\" height=\"40\" src=\"data:image/gif;base64,R0lGODlhAQABAAAAACH5BAEKAAEALAAAAAABAAEAAAICTAEAOw==\" width=\"45\"/>\n",
      "-----\n",
      "<img alt=\"\" class=\"alignnone size-full wp-image-83\" decoding=\"async\" height=\"40\" src=\"https://limefreshmexicangrill.com/wp-content/uploads/2020/08/taco.png\" width=\"45\"/>\n",
      "-----\n",
      "<img alt=\"\" class=\"attachment-original size-original lazyload\" columns=\"5\" columns__sm=\"2\" data-sizes=\"(max-width: 586px) 100vw, 586px\" data-src=\"https://limefreshmexicangrill.com/wp-content/uploads/2020/10/SocialImage_1.jpg\" data-srcset=\"https://limefreshmexicangrill.com/wp-content/uploads/2020/10/SocialImage_1.jpg 586w, https://limefreshmexicangrill.com/wp-content/uploads/2020/10/SocialImage_1-300x300.jpg 300w, https://limefreshmexicangrill.com/wp-content/uploads/2020/10/SocialImage_1-150x150.jpg 150w\" decoding=\"async\" fetchpriority=\"high\" height=\"586\" ids=\"600,601,602,603,604\" image_size=\"original\" lightbox=\"false\" src=\"data:image/gif;base64,R0lGODlhAQABAAAAACH5BAEKAAEALAAAAAABAAEAAAICTAEAOw==\" style=\"none\" width=\"586\"/>\n",
      "-----\n",
      "<img alt=\"\" class=\"attachment-original size-original\" columns=\"5\" columns__sm=\"2\" decoding=\"async\" fetchpriority=\"high\" height=\"586\" ids=\"600,601,602,603,604\" image_size=\"original\" lightbox=\"false\" sizes=\"(max-width: 586px) 100vw, 586px\" src=\"https://limefreshmexicangrill.com/wp-content/uploads/2020/10/SocialImage_1.jpg\" srcset=\"https://limefreshmexicangrill.com/wp-content/uploads/2020/10/SocialImage_1.jpg 586w, https://limefreshmexicangrill.com/wp-content/uploads/2020/10/SocialImage_1-300x300.jpg 300w, https://limefreshmexicangrill.com/wp-content/uploads/2020/10/SocialImage_1-150x150.jpg 150w\" style=\"none\" width=\"586\"/>\n",
      "-----\n",
      "<img alt=\"\" class=\"attachment-original size-original lazyload\" columns=\"5\" columns__sm=\"2\" data-sizes=\"(max-width: 586px) 100vw, 586px\" data-src=\"https://limefreshmexicangrill.com/wp-content/uploads/2020/10/SocialImage_2.jpg\" data-srcset=\"https://limefreshmexicangrill.com/wp-content/uploads/2020/10/SocialImage_2.jpg 586w, https://limefreshmexicangrill.com/wp-content/uploads/2020/10/SocialImage_2-300x300.jpg 300w, https://limefreshmexicangrill.com/wp-content/uploads/2020/10/SocialImage_2-150x150.jpg 150w\" decoding=\"async\" height=\"586\" ids=\"600,601,602,603,604\" image_size=\"original\" lightbox=\"false\" src=\"data:image/gif;base64,R0lGODlhAQABAAAAACH5BAEKAAEALAAAAAABAAEAAAICTAEAOw==\" style=\"none\" width=\"586\"/>\n",
      "-----\n",
      "<img alt=\"\" class=\"attachment-original size-original\" columns=\"5\" columns__sm=\"2\" decoding=\"async\" height=\"586\" ids=\"600,601,602,603,604\" image_size=\"original\" lightbox=\"false\" sizes=\"(max-width: 586px) 100vw, 586px\" src=\"https://limefreshmexicangrill.com/wp-content/uploads/2020/10/SocialImage_2.jpg\" srcset=\"https://limefreshmexicangrill.com/wp-content/uploads/2020/10/SocialImage_2.jpg 586w, https://limefreshmexicangrill.com/wp-content/uploads/2020/10/SocialImage_2-300x300.jpg 300w, https://limefreshmexicangrill.com/wp-content/uploads/2020/10/SocialImage_2-150x150.jpg 150w\" style=\"none\" width=\"586\"/>\n",
      "-----\n",
      "<img alt=\"\" class=\"attachment-original size-original lazyload\" columns=\"5\" columns__sm=\"2\" data-sizes=\"(max-width: 586px) 100vw, 586px\" data-src=\"https://limefreshmexicangrill.com/wp-content/uploads/2020/10/SocialImage_3.jpg\" data-srcset=\"https://limefreshmexicangrill.com/wp-content/uploads/2020/10/SocialImage_3.jpg 586w, https://limefreshmexicangrill.com/wp-content/uploads/2020/10/SocialImage_3-300x300.jpg 300w, https://limefreshmexicangrill.com/wp-content/uploads/2020/10/SocialImage_3-150x150.jpg 150w\" decoding=\"async\" height=\"586\" ids=\"600,601,602,603,604\" image_size=\"original\" lightbox=\"false\" src=\"data:image/gif;base64,R0lGODlhAQABAAAAACH5BAEKAAEALAAAAAABAAEAAAICTAEAOw==\" style=\"none\" width=\"586\"/>\n",
      "-----\n",
      "<img alt=\"\" class=\"attachment-original size-original\" columns=\"5\" columns__sm=\"2\" decoding=\"async\" height=\"586\" ids=\"600,601,602,603,604\" image_size=\"original\" lightbox=\"false\" sizes=\"(max-width: 586px) 100vw, 586px\" src=\"https://limefreshmexicangrill.com/wp-content/uploads/2020/10/SocialImage_3.jpg\" srcset=\"https://limefreshmexicangrill.com/wp-content/uploads/2020/10/SocialImage_3.jpg 586w, https://limefreshmexicangrill.com/wp-content/uploads/2020/10/SocialImage_3-300x300.jpg 300w, https://limefreshmexicangrill.com/wp-content/uploads/2020/10/SocialImage_3-150x150.jpg 150w\" style=\"none\" width=\"586\"/>\n",
      "-----\n",
      "<img alt=\"\" class=\"attachment-original size-original lazyload\" columns=\"5\" columns__sm=\"2\" data-sizes=\"(max-width: 586px) 100vw, 586px\" data-src=\"https://limefreshmexicangrill.com/wp-content/uploads/2020/10/SocialImage_4.jpg\" data-srcset=\"https://limefreshmexicangrill.com/wp-content/uploads/2020/10/SocialImage_4.jpg 586w, https://limefreshmexicangrill.com/wp-content/uploads/2020/10/SocialImage_4-300x300.jpg 300w, https://limefreshmexicangrill.com/wp-content/uploads/2020/10/SocialImage_4-150x150.jpg 150w\" decoding=\"async\" height=\"586\" ids=\"600,601,602,603,604\" image_size=\"original\" lightbox=\"false\" src=\"data:image/gif;base64,R0lGODlhAQABAAAAACH5BAEKAAEALAAAAAABAAEAAAICTAEAOw==\" style=\"none\" width=\"586\"/>\n",
      "-----\n",
      "<img alt=\"\" class=\"attachment-original size-original\" columns=\"5\" columns__sm=\"2\" decoding=\"async\" height=\"586\" ids=\"600,601,602,603,604\" image_size=\"original\" lightbox=\"false\" sizes=\"(max-width: 586px) 100vw, 586px\" src=\"https://limefreshmexicangrill.com/wp-content/uploads/2020/10/SocialImage_4.jpg\" srcset=\"https://limefreshmexicangrill.com/wp-content/uploads/2020/10/SocialImage_4.jpg 586w, https://limefreshmexicangrill.com/wp-content/uploads/2020/10/SocialImage_4-300x300.jpg 300w, https://limefreshmexicangrill.com/wp-content/uploads/2020/10/SocialImage_4-150x150.jpg 150w\" style=\"none\" width=\"586\"/>\n",
      "-----\n",
      "<img alt=\"\" class=\"attachment-original size-original lazyload\" columns=\"5\" columns__sm=\"2\" data-sizes=\"(max-width: 586px) 100vw, 586px\" data-src=\"https://limefreshmexicangrill.com/wp-content/uploads/2020/10/SocialImage_5.jpg\" data-srcset=\"https://limefreshmexicangrill.com/wp-content/uploads/2020/10/SocialImage_5.jpg 586w, https://limefreshmexicangrill.com/wp-content/uploads/2020/10/SocialImage_5-300x300.jpg 300w, https://limefreshmexicangrill.com/wp-content/uploads/2020/10/SocialImage_5-150x150.jpg 150w\" decoding=\"async\" height=\"586\" ids=\"600,601,602,603,604\" image_size=\"original\" lightbox=\"false\" src=\"data:image/gif;base64,R0lGODlhAQABAAAAACH5BAEKAAEALAAAAAABAAEAAAICTAEAOw==\" style=\"none\" width=\"586\"/>\n",
      "-----\n",
      "<img alt=\"\" class=\"attachment-original size-original\" columns=\"5\" columns__sm=\"2\" decoding=\"async\" height=\"586\" ids=\"600,601,602,603,604\" image_size=\"original\" lightbox=\"false\" sizes=\"(max-width: 586px) 100vw, 586px\" src=\"https://limefreshmexicangrill.com/wp-content/uploads/2020/10/SocialImage_5.jpg\" srcset=\"https://limefreshmexicangrill.com/wp-content/uploads/2020/10/SocialImage_5.jpg 586w, https://limefreshmexicangrill.com/wp-content/uploads/2020/10/SocialImage_5-300x300.jpg 300w, https://limefreshmexicangrill.com/wp-content/uploads/2020/10/SocialImage_5-150x150.jpg 150w\" style=\"none\" width=\"586\"/>\n",
      "-----\n",
      "<img alt=\"Green and white circular logo for LIME Fresh Mexican Grill in Florida\" class=\"attachment-original size-original lazyload\" data-src=\"https://limefreshmexicangrill.com/wp-content/uploads/2020/08/LimeBadge.svg\" decoding=\"async\" height=\"115\" src=\"data:image/gif;base64,R0lGODlhAQABAAAAACH5BAEKAAEALAAAAAABAAEAAAICTAEAOw==\" width=\"115\"/>\n",
      "-----\n",
      "<img alt=\"Green and white circular logo for LIME Fresh Mexican Grill in Florida\" class=\"attachment-original size-original\" decoding=\"async\" height=\"115\" src=\"https://limefreshmexicangrill.com/wp-content/uploads/2020/08/LimeBadge.svg\" width=\"115\"/>\n",
      "-----\n",
      "<img alt=\"\" class=\"alignnone wp-image-77 size-full lazyload\" data-src=\"https://dev.limefreshmexicangrill.com/wp-content/uploads/2020/08/Instagram_Icon.svg\" height=\"32\" role=\"img\" src=\"data:image/gif;base64,R0lGODlhAQABAAAAACH5BAEKAAEALAAAAAABAAEAAAICTAEAOw==\" title=\"instagram\" width=\"32\"/>\n",
      "-----\n",
      "<img alt=\"\" class=\"alignnone wp-image-77 size-full\" height=\"32\" role=\"img\" src=\"https://dev.limefreshmexicangrill.com/wp-content/uploads/2020/08/Instagram_Icon.svg\" title=\"instagram\" width=\"32\"/>\n",
      "-----\n",
      "<img alt=\"\" class=\"alignnone wp-image-76 size-full lazyload\" data-src=\"https://dev.limefreshmexicangrill.com/wp-content/uploads/2020/08/Facebook_Icon.svg\" height=\"32\" role=\"img\" src=\"data:image/gif;base64,R0lGODlhAQABAAAAACH5BAEKAAEALAAAAAABAAEAAAICTAEAOw==\" title=\"facebook\" width=\"32\"/>\n",
      "-----\n",
      "<img alt=\"\" class=\"alignnone wp-image-76 size-full\" height=\"32\" role=\"img\" src=\"https://dev.limefreshmexicangrill.com/wp-content/uploads/2020/08/Facebook_Icon.svg\" title=\"facebook\" width=\"32\"/>\n",
      "-----\n",
      "<img alt=\"Lime Fresh Mexican Grill\" class=\"age-gate__heading-title age-gate__heading-title--logo lazyload\" data-src=\"https://limefreshmexicangrill.com/wp-content/uploads/2020/08/LimeBadge.svg\" src=\"data:image/gif;base64,R0lGODlhAQABAAAAACH5BAEKAAEALAAAAAABAAEAAAICTAEAOw==\"/>\n",
      "-----\n",
      "<img alt=\"Lime Fresh Mexican Grill\" class=\"age-gate__heading-title age-gate__heading-title--logo\" src=\"https://limefreshmexicangrill.com/wp-content/uploads/2020/08/LimeBadge.svg\"/>\n",
      "-----\n"
     ]
    }
   ],
   "source": [
    "for img in lime_img_tags:\n",
    "    print(img)\n",
    "    print('-----')"
   ]
  },
  {
   "cell_type": "code",
   "execution_count": 25,
   "id": "1a5c45ed-a127-4be3-8e4f-ff40d13b1c3f",
   "metadata": {},
   "outputs": [],
   "source": [
    "for img in lime_img_tags:\n",
    "    lime_img_src = img.get('data-src', img.get('src')) # looks for lazy images first, then falls back to src\n",
    "    if 'taco' in lime_img_src: # through each individual instance, look for 'taco'\n",
    "        lime_taco_list.append(lime_img_src)"
   ]
  },
  {
   "cell_type": "code",
   "execution_count": 26,
   "id": "450c1471-3fa7-4e11-aaf4-1a7bf8293910",
   "metadata": {},
   "outputs": [
    {
     "data": {
      "text/plain": [
       "['https://limefreshmexicangrill.com/wp-content/uploads/2020/08/taco.png',\n",
       " 'https://limefreshmexicangrill.com/wp-content/uploads/2020/08/taco.png']"
      ]
     },
     "execution_count": 26,
     "metadata": {},
     "output_type": "execute_result"
    }
   ],
   "source": [
    "lime_taco_list"
   ]
  },
  {
   "cell_type": "code",
   "execution_count": 4,
   "id": "acdc100d-359f-4cdf-abca-9dd1393ffec9",
   "metadata": {},
   "outputs": [
    {
     "data": {
      "text/plain": [
       "{'Date': 'Sun, 07 Apr 2024 14:07:02 GMT', 'Content-Type': 'text/html; charset=UTF-8', 'Transfer-Encoding': 'chunked', 'Connection': 'keep-alive', 'x-powered-by': 'PHP/7.4.33, PleskLin', 'last-modified': 'Mon, 11 Mar 2024 21:02:21 GMT', 'CF-Cache-Status': 'DYNAMIC', 'Report-To': '{\"endpoints\":[{\"url\":\"https:\\\\/\\\\/a.nel.cloudflare.com\\\\/report\\\\/v4?s=DdvBvPM7alB0LEVVnBosNDFPnPYZXx9rbeuj8xSiDma0pRBgLo6dFdbC0iRgkqfG6zgMFKFhkKpTaNDfaER9SNvyZi2zxIRqDgzVGAxs3Z25H7MmDdmrKvNzh4%2BQCFiAxaGkDqq4nuSZRCo%2B\"}],\"group\":\"cf-nel\",\"max_age\":604800}', 'NEL': '{\"success_fraction\":0,\"report_to\":\"cf-nel\",\"max_age\":604800}', 'Server': 'cloudflare', 'CF-RAY': '870a94e61f41033d-MIA', 'Content-Encoding': 'gzip', 'alt-svc': 'h3=\":443\"; ma=86400'}"
      ]
     },
     "execution_count": 4,
     "metadata": {},
     "output_type": "execute_result"
    }
   ],
   "source": [
    "response_lime.headers"
   ]
  },
  {
   "cell_type": "code",
   "execution_count": 8,
   "id": "9c0316b5-aa05-4e8d-baf9-fc9673c5c5f5",
   "metadata": {},
   "outputs": [
    {
     "data": {
      "text/plain": [
       "{'User-Agent': 'python-requests/2.31.0', 'Accept-Encoding': 'gzip, deflate', 'Accept': '*/*', 'Connection': 'keep-alive'}"
      ]
     },
     "execution_count": 8,
     "metadata": {},
     "output_type": "execute_result"
    }
   ],
   "source": [
    "response_lime.request.headers"
   ]
  },
  {
   "cell_type": "code",
   "execution_count": null,
   "id": "0fc41fc7-8762-496c-ae0f-75dc8f2aca97",
   "metadata": {},
   "outputs": [],
   "source": []
  },
  {
   "cell_type": "code",
   "execution_count": 17,
   "id": "167a8876-f068-4c2d-8d80-07146ff06b19",
   "metadata": {},
   "outputs": [],
   "source": [
    "# i wanted to generate a 406 not acceptable response, however, lime's server is ignoring my altered parameters"
   ]
  },
  {
   "cell_type": "code",
   "execution_count": 15,
   "id": "0d90a7bf-32dc-4657-9421-049ea0c156fe",
   "metadata": {},
   "outputs": [],
   "source": [
    "# headers_diff_content = {'Accept': 'application/json'}"
   ]
  },
  {
   "cell_type": "code",
   "execution_count": 16,
   "id": "6a1d0aaa-8caa-4b77-9a38-d1315e6ed130",
   "metadata": {},
   "outputs": [],
   "source": [
    "# response_lime_diff_content = requests.get(link_lime, headers=headers_diff_content)"
   ]
  },
  {
   "cell_type": "code",
   "execution_count": 19,
   "id": "e9d2fd2f-bf08-4d25-ae7c-48569fac027a",
   "metadata": {},
   "outputs": [
    {
     "data": {
      "text/plain": [
       "<RequestsCookieJar[]>"
      ]
     },
     "execution_count": 19,
     "metadata": {},
     "output_type": "execute_result"
    }
   ],
   "source": [
    "response_lime.cookies"
   ]
  },
  {
   "cell_type": "code",
   "execution_count": 20,
   "id": "941896ef-cce3-4df5-94ab-c7c58df07dfa",
   "metadata": {},
   "outputs": [],
   "source": [
    "# after doing research - .cookies is empty b/c lime is creating cookies via the client side, not the server side"
   ]
  },
  {
   "cell_type": "code",
   "execution_count": null,
   "id": "dce498e6-ea03-4596-a655-15bc63ba1813",
   "metadata": {},
   "outputs": [],
   "source": []
  }
 ],
 "metadata": {
  "kernelspec": {
   "display_name": "Python 3 (ipykernel)",
   "language": "python",
   "name": "python3"
  },
  "language_info": {
   "codemirror_mode": {
    "name": "ipython",
    "version": 3
   },
   "file_extension": ".py",
   "mimetype": "text/x-python",
   "name": "python",
   "nbconvert_exporter": "python",
   "pygments_lexer": "ipython3",
   "version": "3.9.6"
  }
 },
 "nbformat": 4,
 "nbformat_minor": 5
}
