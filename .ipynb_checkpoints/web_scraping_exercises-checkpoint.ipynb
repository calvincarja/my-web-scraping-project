{
 "cells": [
  {
   "cell_type": "code",
   "execution_count": 1,
   "id": "4d137f19-ebe0-4ff2-a2c2-0fa55d7ca33c",
   "metadata": {},
   "outputs": [
    {
     "name": "stderr",
     "output_type": "stream",
     "text": [
      "/Users/calvinpineda/Desktop/python-projects/my-web-scraping-project/venv/lib/python3.9/site-packages/urllib3/__init__.py:35: NotOpenSSLWarning: urllib3 v2 only supports OpenSSL 1.1.1+, currently the 'ssl' module is compiled with 'LibreSSL 2.8.3'. See: https://github.com/urllib3/urllib3/issues/3020\n",
      "  warnings.warn(\n"
     ]
    }
   ],
   "source": [
    "import requests"
   ]
  },
  {
   "cell_type": "code",
   "execution_count": 2,
   "id": "d212d11f-64aa-4d01-99f1-bf511aaac921",
   "metadata": {},
   "outputs": [],
   "source": [
    "import xml.etree.ElementTree as ET"
   ]
  },
  {
   "cell_type": "code",
   "execution_count": 3,
   "id": "103f004f-c752-47df-b86b-4405fcea2d0f",
   "metadata": {},
   "outputs": [],
   "source": [
    "from bs4 import BeautifulSoup"
   ]
  },
  {
   "cell_type": "code",
   "execution_count": 4,
   "id": "55ae4145-c68e-4aef-aad8-7b42cf04b38e",
   "metadata": {},
   "outputs": [],
   "source": [
    "import time"
   ]
  },
  {
   "cell_type": "code",
   "execution_count": 5,
   "id": "67167e49-7de1-4083-84f5-861a13f82e2a",
   "metadata": {},
   "outputs": [],
   "source": [
    "import random"
   ]
  },
  {
   "cell_type": "code",
   "execution_count": null,
   "id": "9a3909e9-9100-403b-8b58-62f5b1399b77",
   "metadata": {},
   "outputs": [],
   "source": []
  },
  {
   "cell_type": "code",
   "execution_count": 6,
   "id": "803cd879-4864-4e74-8695-25727fe3c343",
   "metadata": {},
   "outputs": [],
   "source": [
    "def find_urls(file_path, namespaces):\n",
    "    oci_url_list = []\n",
    "    tree = ET.parse(file_path)\n",
    "    root = tree.getroot()\n",
    "    for element in root:\n",
    "        loc_element = element.find('ns:loc', namespaces=namespaces)\n",
    "        if loc_element is not None:\n",
    "            oci_url = loc_element.text\n",
    "            oci_url_list.append(oci_url)\n",
    "    return oci_url_list"
   ]
  },
  {
   "cell_type": "code",
   "execution_count": 7,
   "id": "d8e6d12b-8a34-4893-8c47-843c5fc54c2a",
   "metadata": {},
   "outputs": [],
   "source": [
    "def find_keyword(oci_url_list, keyword):\n",
    "    store_bad_url = []  # List to store URLs with bad responses\n",
    "    oci_url_list_contains_keyword = []  # List to store URLs that contain the keyword\n",
    "    for oci_url in oci_url_list:\n",
    "        try:\n",
    "            response_url = requests.get(oci_url)\n",
    "            if response_url.status_code == 200:\n",
    "                url_text = response_url.text\n",
    "                url_text_formatting = BeautifulSoup(url_text, 'html5lib')\n",
    "                if keyword in url_text_formatting.get_text():\n",
    "                    oci_url_list_contains_keyword.append(oci_url)\n",
    "                    print(f\"Processed {oci_url} - Keyword found\")\n",
    "                else:\n",
    "                    print(f\"Processed {oci_url} - Keyword not found\")\n",
    "            else:\n",
    "                store_bad_url.append((oci_url, response_url.status_code))\n",
    "                print(f\"Processed {oci_url} - Failed with status: {response_url.status_code}\")\n",
    "        except requests.exceptions.RequestException as e:\n",
    "            print(f\"Error processing {oci_url}: {e}\")\n",
    "        time.sleep(random.uniform(15, 45))\n",
    "    return oci_url_list_contains_keyword, store_bad_url"
   ]
  },
  {
   "cell_type": "code",
   "execution_count": 8,
   "id": "6b8b4ac5-475e-40d0-a32a-ba6e2612d913",
   "metadata": {},
   "outputs": [],
   "source": [
    "def master_function():\n",
    "    namespace = {'ns': 'http://www.sitemaps.org/schemas/sitemap/0.9'}  # Adjust the namespace as needed\n",
    "    oci_url_list = find_urls('path/to/your/sitemap.xml', namespace)  # Correct path\n",
    "    keyword = \"desired_keyword\"  # Specify your keyword\n",
    "    oci_url_list_containing_keywords, stored_bad_url = find_keyword(oci_url_list, keyword)\n",
    "    print(oci_url_list_containing_keywords)  # Optionally print the results"
   ]
  },
  {
   "cell_type": "code",
   "execution_count": null,
   "id": "1d76bd50-0c90-408e-85a4-64c2e8c89588",
   "metadata": {},
   "outputs": [],
   "source": []
  }
 ],
 "metadata": {
  "kernelspec": {
   "display_name": "Python 3 (ipykernel)",
   "language": "python",
   "name": "python3"
  },
  "language_info": {
   "codemirror_mode": {
    "name": "ipython",
    "version": 3
   },
   "file_extension": ".py",
   "mimetype": "text/x-python",
   "name": "python",
   "nbconvert_exporter": "python",
   "pygments_lexer": "ipython3",
   "version": "3.9.6"
  }
 },
 "nbformat": 4,
 "nbformat_minor": 5
}
