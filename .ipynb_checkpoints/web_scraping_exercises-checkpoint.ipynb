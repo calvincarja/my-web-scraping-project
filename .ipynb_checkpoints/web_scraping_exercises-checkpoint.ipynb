{
 "cells": [
  {
   "cell_type": "code",
   "execution_count": 1,
   "id": "4d137f19-ebe0-4ff2-a2c2-0fa55d7ca33c",
   "metadata": {},
   "outputs": [
    {
     "name": "stderr",
     "output_type": "stream",
     "text": [
      "/Users/calvinpineda/Desktop/python-projects/my-web-scraping-project/venv/lib/python3.9/site-packages/urllib3/__init__.py:35: NotOpenSSLWarning: urllib3 v2 only supports OpenSSL 1.1.1+, currently the 'ssl' module is compiled with 'LibreSSL 2.8.3'. See: https://github.com/urllib3/urllib3/issues/3020\n",
      "  warnings.warn(\n"
     ]
    }
   ],
   "source": [
    "import requests"
   ]
  },
  {
   "cell_type": "code",
   "execution_count": 2,
   "id": "d212d11f-64aa-4d01-99f1-bf511aaac921",
   "metadata": {},
   "outputs": [],
   "source": [
    "import xml.etree.ElementTree as ET"
   ]
  },
  {
   "cell_type": "code",
   "execution_count": 3,
   "id": "103f004f-c752-47df-b86b-4405fcea2d0f",
   "metadata": {},
   "outputs": [],
   "source": [
    "from bs4 import BeautifulSoup"
   ]
  },
  {
   "cell_type": "code",
   "execution_count": 4,
   "id": "55ae4145-c68e-4aef-aad8-7b42cf04b38e",
   "metadata": {},
   "outputs": [],
   "source": [
    "import time"
   ]
  },
  {
   "cell_type": "code",
   "execution_count": 5,
   "id": "67167e49-7de1-4083-84f5-861a13f82e2a",
   "metadata": {},
   "outputs": [],
   "source": [
    "import random"
   ]
  },
  {
   "cell_type": "code",
   "execution_count": 6,
   "id": "9a3909e9-9100-403b-8b58-62f5b1399b77",
   "metadata": {},
   "outputs": [],
   "source": [
    "# airfare project"
   ]
  },
  {
   "cell_type": "code",
   "execution_count": 6,
   "id": "3599f08f-4cb8-484f-898e-4c9444cb8735",
   "metadata": {},
   "outputs": [],
   "source": [
    "def check_xml(file_path):\n",
    "    try:\n",
    "        ET.parse(file_path)\n",
    "        print('XML file contains no missing tags')\n",
    "    except ET.ParseError:\n",
    "        print('XML file contains missing tags - please fix')"
   ]
  },
  {
   "cell_type": "code",
   "execution_count": 7,
   "id": "d0921230-617b-4749-8507-744e29c54f56",
   "metadata": {},
   "outputs": [
    {
     "name": "stdout",
     "output_type": "stream",
     "text": [
      "XML file contains no missing tags\n"
     ]
    }
   ],
   "source": [
    "check_xml('/Users/calvinpineda/Downloads/sitemap-82024.xml')"
   ]
  },
  {
   "cell_type": "code",
   "execution_count": null,
   "id": "8f5f6236-512e-4ea9-b370-a145f4e258cd",
   "metadata": {},
   "outputs": [],
   "source": []
  },
  {
   "cell_type": "code",
   "execution_count": 6,
   "id": "803cd879-4864-4e74-8695-25727fe3c343",
   "metadata": {},
   "outputs": [],
   "source": [
    "def find_urls(file_path, namespaces):\n",
    "    oci_url_list = []\n",
    "    tree = ET.parse(file_path)\n",
    "    root = tree.getroot()\n",
    "    for element in root:\n",
    "        loc_element = element.find('ns:loc', namespaces=namespaces)\n",
    "        if loc_element is not None:\n",
    "            oci_url = loc_element.text\n",
    "            oci_url_list.append(oci_url)\n",
    "    return oci_url_list"
   ]
  },
  {
   "cell_type": "code",
   "execution_count": 7,
   "id": "d8e6d12b-8a34-4893-8c47-843c5fc54c2a",
   "metadata": {},
   "outputs": [],
   "source": [
    "def find_keyword(oci_url_list, keyword, max_urls=None): # max_url is used for testing\n",
    "    store_bad_url = []  # List to store URLs with bad responses\n",
    "    oci_url_list_contains_keyword = []  # List to store URLs that contain the keyword\n",
    "    processed_urls = oci_url_list[:max_urls] if max_urls else oci_url_list # run up to max_url, else, run entire list\n",
    "    for oci_url in processed_urls:\n",
    "        try:\n",
    "            response_url = requests.get(oci_url)\n",
    "            if response_url.status_code == 200:\n",
    "                url_text = response_url.text\n",
    "                url_text_formatting = BeautifulSoup(url_text, 'html5lib')\n",
    "                url_text_get = url_text_formatting.get_text().lower()\n",
    "                if keyword in url_text_get:\n",
    "                    url_count = url_text_get.count(keyword)\n",
    "                    oci_url_list_contains_keyword.append((oci_url, url_count))\n",
    "                    print(f\"Processed {oci_url} - Keyword found {url_count} times\")\n",
    "                else:\n",
    "                    print(f\"Processed {oci_url} - Keyword not found\")\n",
    "            else:\n",
    "                store_bad_url.append((oci_url, response_url.status_code))\n",
    "                print(f\"Processed {oci_url} - Failed with status: {response_url.status_code}\")\n",
    "        except requests.exceptions.RequestException as e:\n",
    "            print(f\"Error processing {oci_url}: {e}\")\n",
    "        time.sleep(random.uniform(30, 45))\n",
    "    return oci_url_list_contains_keyword, store_bad_url"
   ]
  },
  {
   "cell_type": "code",
   "execution_count": 10,
   "id": "6b8b4ac5-475e-40d0-a32a-ba6e2612d913",
   "metadata": {},
   "outputs": [],
   "source": [
    "def master_function():\n",
    "    namespace = {'ns': 'http://www.sitemaps.org/schemas/sitemap/0.9'}  # Adjust the namespace as needed\n",
    "    oci_url_list = find_urls('/Users/calvinpineda/Downloads/sitemap-web-air.xml', namespace)  # Correct path\n",
    "    keyword = \"Airfare\".lower()  # Specify your keyword\n",
    "    oci_url_list_containing_keywords, stored_bad_url = find_keyword(oci_url_list, keyword)\n",
    "    print(oci_url_list_containing_keywords)  # Optionally print the results"
   ]
  },
  {
   "cell_type": "code",
   "execution_count": 11,
   "id": "1d76bd50-0c90-408e-85a4-64c2e8c89588",
   "metadata": {},
   "outputs": [
    {
     "name": "stdout",
     "output_type": "stream",
     "text": [
      "Processed https://www.oceaniacruises.com - Keyword found 4 times\n",
      "Processed https://www.oceaniacruises.com/2024-voyage-collection - Keyword found 1 times\n",
      "Processed https://www.oceaniacruises.com/2025-around-the-world-cruise - Keyword found 1 times\n",
      "Processed https://www.oceaniacruises.com/2026-around-the-world-cruise - Keyword found 1 times\n",
      "Processed https://www.oceaniacruises.com/air - Keyword found 3 times\n",
      "Processed https://www.oceaniacruises.com/concierge-veranda - Keyword found 4 times\n",
      "Processed https://www.oceaniacruises.com/grand-voyage-cruises - Keyword found 2 times\n",
      "Processed https://www.oceaniacruises.com/oceania-club-benefits - Keyword not found\n",
      "Processed https://www.oceaniacruises.com/ships/allura - Keyword found 1 times\n",
      "Processed https://www.oceaniacruises.com/ships/insignia - Keyword found 3 times\n",
      "Processed https://www.oceaniacruises.com/ships/marina - Keyword found 3 times\n",
      "Processed https://www.oceaniacruises.com/ships/nautica - Keyword found 3 times\n",
      "Processed https://www.oceaniacruises.com/ships/regatta - Keyword found 3 times\n",
      "Processed https://www.oceaniacruises.com/ships/riviera - Keyword found 3 times\n",
      "Processed https://www.oceaniacruises.com/ships/sirena - Keyword found 3 times\n",
      "Processed https://www.oceaniacruises.com/ships/vista - Keyword not found\n",
      "Processed https://www.oceaniacruises.com/suites - Keyword found 4 times\n",
      "Processed https://www.oceaniacruises.com/value - Keyword found 7 times\n",
      "Processed https://www.oceaniacruises.com/special-offers - Keyword found 8 times\n",
      "Processed https://www.oceaniacruises.com/special-offers/2026-around-the-world-cruise - Keyword found 2 times\n",
      "Processed https://www.oceaniacruises.com/special-offers/savings - Keyword found 8 times\n",
      "Processed https://www.oceaniacruises.com/special-offers/simply-more - Keyword found 1 times\n",
      "Processed https://www.oceaniacruises.com/special-offers/tropics-and-exotics - Keyword found 2 times\n",
      "Processed https://www.oceaniacruises.com/special-offers/hotel - Keyword found 1 times\n",
      "Processed https://www.oceaniacruises.com/special-offers/2026-around-the-world-cruise - Keyword found 2 times\n",
      "Processed https://www.oceaniacruises.com/special-offers/allura - Keyword found 1 times\n",
      "Processed https://www.oceaniacruises.com/special-offers/oceania-club-savings - Keyword found 1 times\n",
      "Processed https://www.oceaniacruises.com/special-offers/single-supplement - Keyword found 1 times\n",
      "Processed https://www.oceaniacruises.com/special-offers/grand-voyages - Keyword found 2 times\n",
      "[('https://www.oceaniacruises.com', 4), ('https://www.oceaniacruises.com/2024-voyage-collection', 1), ('https://www.oceaniacruises.com/2025-around-the-world-cruise', 1), ('https://www.oceaniacruises.com/2026-around-the-world-cruise', 1), ('https://www.oceaniacruises.com/air', 3), ('https://www.oceaniacruises.com/concierge-veranda', 4), ('https://www.oceaniacruises.com/grand-voyage-cruises', 2), ('https://www.oceaniacruises.com/ships/allura', 1), ('https://www.oceaniacruises.com/ships/insignia', 3), ('https://www.oceaniacruises.com/ships/marina', 3), ('https://www.oceaniacruises.com/ships/nautica', 3), ('https://www.oceaniacruises.com/ships/regatta', 3), ('https://www.oceaniacruises.com/ships/riviera', 3), ('https://www.oceaniacruises.com/ships/sirena', 3), ('https://www.oceaniacruises.com/suites', 4), ('https://www.oceaniacruises.com/value', 7), ('https://www.oceaniacruises.com/special-offers', 8), ('https://www.oceaniacruises.com/special-offers/2026-around-the-world-cruise', 2), ('https://www.oceaniacruises.com/special-offers/savings', 8), ('https://www.oceaniacruises.com/special-offers/simply-more', 1), ('https://www.oceaniacruises.com/special-offers/tropics-and-exotics', 2), ('https://www.oceaniacruises.com/special-offers/hotel', 1), ('https://www.oceaniacruises.com/special-offers/2026-around-the-world-cruise', 2), ('https://www.oceaniacruises.com/special-offers/allura', 1), ('https://www.oceaniacruises.com/special-offers/oceania-club-savings', 1), ('https://www.oceaniacruises.com/special-offers/single-supplement', 1), ('https://www.oceaniacruises.com/special-offers/grand-voyages', 2)]\n"
     ]
    }
   ],
   "source": [
    "master_function()"
   ]
  },
  {
   "cell_type": "code",
   "execution_count": 8,
   "id": "266c1e36-a170-49c1-ac56-872feddd60a3",
   "metadata": {},
   "outputs": [],
   "source": [
    "# simply more project"
   ]
  },
  {
   "cell_type": "code",
   "execution_count": 11,
   "id": "9047e1da-5292-4e6c-a26d-ffadf809f41f",
   "metadata": {},
   "outputs": [],
   "source": [
    "# function for one keyboard"
   ]
  },
  {
   "cell_type": "code",
   "execution_count": 9,
   "id": "6a81dc78-93b5-4a1e-94b4-89be2d050f75",
   "metadata": {},
   "outputs": [],
   "source": [
    "def store_urls_from_xml (file_path, namespaces):\n",
    "    oci_url_list = []\n",
    "    tree = ET.parse(file_path)\n",
    "    root = tree.getroot()\n",
    "    for element in root:\n",
    "        loc_tag = element.find('ns:loc', namespaces=namespaces)\n",
    "        if loc_tag is not None:\n",
    "            oci_url = loc_tag.text\n",
    "            oci_url_list.append(oci_url)\n",
    "    return oci_url_list\n",
    "    "
   ]
  },
  {
   "cell_type": "code",
   "execution_count": 10,
   "id": "e39568f4-36ba-4599-a4e2-edb79815f8c0",
   "metadata": {},
   "outputs": [],
   "source": [
    "def finding_keyword (oci_url_list, keyword):\n",
    "    store_bad_urls = []\n",
    "    store_good_urls = []\n",
    "    for url in oci_url_list:\n",
    "        try:\n",
    "            response_url = requests.get(url)\n",
    "            response_url.raise_for_status() # this will catch an error if response_url fails - no need to check with if statment\n",
    "            url_text = response_url.text\n",
    "            url_text_readble = BeautifulSoup(url_text, 'html5lib')\n",
    "            url_text_readble_lower = url_text_readble.get_text().lower()\n",
    "            if keyword.lower() in url_text_readble_lower:\n",
    "                keyword_count = url_text_readble_lower.count(keyword)\n",
    "                store_good_urls.append((url, keyword_count))\n",
    "                print(f\"Processed {url} - keyword found {keyword_count} times\")\n",
    "            else:\n",
    "                print(f\"Processed {url} - keyword not found\")\n",
    "        except requests.exceptions.RequestException as e:\n",
    "            store_bad_urls.append((url, str(e)))\n",
    "            print(f\"Error processing {url}: {e}\")\n",
    "        time.sleep(random.uniform(30, 45))\n",
    "    return store_good_urls, store_bad_urls\n",
    "        "
   ]
  },
  {
   "cell_type": "code",
   "execution_count": 11,
   "id": "f82cc000-ed24-47c1-b776-9afdfd990563",
   "metadata": {},
   "outputs": [],
   "source": [
    "def master_function():\n",
    "    namespace = {'ns': 'http://www.sitemaps.org/schemas/sitemap/0.9'}\n",
    "    oci_url_list = store_urls_from_xml('/Users/calvinpineda/Downloads/sitemap-82024.xml', namespace)\n",
    "    keyword = 'simply'\n",
    "    store_good_urls, store_bad_urls = finding_keyword(oci_url_list, keyword)\n",
    "    print(store_good_urls)\n",
    "    print(store_bad_urls)"
   ]
  },
  {
   "cell_type": "code",
   "execution_count": 12,
   "id": "140f420f-1b51-41e5-acd1-d579a7c8054d",
   "metadata": {},
   "outputs": [
    {
     "name": "stdout",
     "output_type": "stream",
     "text": [
      "Processed https://www.oceaniacruises.com/ - keyword found 7 times\n",
      "Processed https://www.oceaniacruises.com/oceania-experience - keyword not found\n",
      "Processed https://www.oceaniacruises.com/2024-voyage-collection - keyword found 1 times\n",
      "Processed https://www.oceaniacruises.com/2025-voyage-collection - keyword found 2 times\n",
      "Processed https://www.oceaniacruises.com/2025-around-the-world-cruise - keyword found 2 times\n",
      "Processed https://www.oceaniacruises.com/2026-around-the-world-cruise - keyword not found\n",
      "Processed https://www.oceaniacruises.com/africa-cruises - keyword found 8 times\n",
      "Processed https://www.oceaniacruises.com/air - keyword not found\n",
      "Processed https://www.oceaniacruises.com/alaska-cruises - keyword found 7 times\n",
      "Processed https://www.oceaniacruises.com/asia-cruises - keyword found 7 times\n",
      "Processed https://www.oceaniacruises.com/australia-cruises - keyword found 7 times\n",
      "Processed https://www.oceaniacruises.com/baltic-cruises - keyword found 7 times\n",
      "Processed https://www.oceaniacruises.com/bermuda-cruises - keyword found 7 times\n",
      "Processed https://www.oceaniacruises.com/british-isles-cruises - keyword found 7 times\n",
      "Processed https://www.oceaniacruises.com/caribbean-cruises - keyword found 7 times\n",
      "Processed https://www.oceaniacruises.com/concierge-veranda - keyword found 10 times\n",
      "Processed https://www.oceaniacruises.com/cruise-destinations - keyword found 7 times\n",
      "Processed https://www.oceaniacruises.com/culinary - keyword found 1 times\n",
      "Processed https://www.oceaniacruises.com/europe-and-north-america-cruises - keyword not found\n",
      "Processed https://www.oceaniacruises.com/french-riviera-cruises - keyword found 7 times\n",
      "Processed https://www.oceaniacruises.com/grand-voyage-cruises - keyword not found\n",
      "Processed https://www.oceaniacruises.com/grand-voyage-cruises/ultimate-odyssey - keyword found 2 times\n",
      "Processed https://www.oceaniacruises.com/greek-cruises - keyword found 7 times\n",
      "Processed https://www.oceaniacruises.com/greenland-iceland-cruises - keyword found 7 times\n",
      "Processed https://www.oceaniacruises.com/india-cruises - keyword found 7 times\n",
      "Processed https://www.oceaniacruises.com/land-programs - keyword not found\n",
      "Processed https://www.oceaniacruises.com/life-on-board - keyword found 1 times\n",
      "Processed https://www.oceaniacruises.com/mediterranean-cruises - keyword found 7 times\n",
      "Processed https://www.oceaniacruises.com/mexico-cruises - keyword found 7 times\n",
      "Processed https://www.oceaniacruises.com/middle-east-cruises - keyword found 7 times\n",
      "Processed https://www.oceaniacruises.com/new-england-cruises - keyword found 7 times\n",
      "Processed https://www.oceaniacruises.com/northern-fjords-cruises - keyword found 7 times\n",
      "Processed https://www.oceaniacruises.com/oceania-club-benefits - keyword not found\n",
      "Processed https://www.oceaniacruises.com/pacific-coast-cruises - keyword found 7 times\n",
      "Processed https://www.oceaniacruises.com/panama-canal-cruises - keyword found 7 times\n",
      "Processed https://www.oceaniacruises.com/ships - keyword not found\n",
      "Processed https://www.oceaniacruises.com/ships/allura - keyword not found\n",
      "Processed https://www.oceaniacruises.com/ships/insignia - keyword found 7 times\n",
      "Processed https://www.oceaniacruises.com/ships/marina - keyword found 7 times\n",
      "Processed https://www.oceaniacruises.com/ships/nautica - keyword found 7 times\n",
      "Processed https://www.oceaniacruises.com/ships/regatta - keyword found 7 times\n",
      "Processed https://www.oceaniacruises.com/ships/riviera - keyword found 8 times\n",
      "Processed https://www.oceaniacruises.com/ships/sirena - keyword found 7 times\n",
      "Processed https://www.oceaniacruises.com/ships/vista - keyword found 1 times\n",
      "Processed https://www.oceaniacruises.com/solo-traveler-experience - keyword not found\n",
      "Processed https://www.oceaniacruises.com/south-america-cruises - keyword found 7 times\n",
      "Processed https://www.oceaniacruises.com/south-pacific-tahiti-cruises - keyword found 7 times\n",
      "Processed https://www.oceaniacruises.com/specialty-cruises - keyword not found\n",
      "Processed https://www.oceaniacruises.com/suites - keyword found 10 times\n",
      "Processed https://www.oceaniacruises.com/transatlantic-cruises/ - keyword not found\n",
      "Processed https://www.oceaniacruises.com/tropics-and-exotics-cruises - keyword not found\n",
      "Processed https://www.oceaniacruises.com/value - keyword found 15 times\n",
      "Processed https://www.oceaniacruises.com/wellness - keyword not found\n",
      "Processed https://www.oceaniacruises.com/legal/terms-conditions - keyword found 1 times\n",
      "Processed https://www.oceaniacruises.com/legal/casinowinloss-terms-conditions - keyword not found\n",
      "Processed https://www.oceaniacruises.com/legal/nonperformance-policy - keyword not found\n",
      "Processed https://www.oceaniacruises.com/legal/bill-of-rights - keyword not found\n",
      "Processed https://www.oceaniacruises.com/legal/privacy-policy - keyword not found\n",
      "Processed https://www.oceaniacruises.com/legal/cookies-policy - keyword not found\n",
      "Processed https://www.oceaniacruises.com/legal/promotion-terms - keyword found 89 times\n",
      "Processed https://qa1-aws.oceaniacruises.com/explore-ashore - keyword found 1 times\n",
      "Processed https://www.oceaniacruises.com/ships/regatta/culinary-experiences - keyword not found\n",
      "Processed https://www.oceaniacruises.com/ships/regatta/life-on-board - keyword not found\n",
      "Processed https://www.oceaniacruises.com/ships/regatta/suites-staterooms - keyword not found\n",
      "Processed https://www.oceaniacruises.com/ships/insignia/culinary-experiences - keyword not found\n",
      "Processed https://www.oceaniacruises.com/ships/insignia/life-on-board - keyword not found\n",
      "Processed https://www.oceaniacruises.com/ships/insignia/suites-staterooms - keyword not found\n",
      "Processed https://www.oceaniacruises.com/ships/nautica/culinary-experiences - keyword not found\n",
      "Processed https://www.oceaniacruises.com/ships/nautica/life-on-board - keyword not found\n",
      "Processed https://www.oceaniacruises.com/ships/nautica/suites-staterooms - keyword not found\n",
      "Processed https://www.oceaniacruises.com/ships/marina/culinary-experiences - keyword found 2 times\n",
      "Processed https://www.oceaniacruises.com/ships/marina/life-on-board - keyword not found\n",
      "Processed https://www.oceaniacruises.com/ships/marina/suites-staterooms - keyword found 2 times\n",
      "Processed https://www.oceaniacruises.com/ships/riviera/culinary-experiences - keyword found 1 times\n",
      "Processed https://www.oceaniacruises.com/ships/riviera/life-on-board - keyword not found\n",
      "Processed https://www.oceaniacruises.com/ships/riviera/suites-staterooms - keyword found 2 times\n",
      "Processed https://www.oceaniacruises.com/ships/sirena/culinary-experiences - keyword found 1 times\n",
      "Processed https://www.oceaniacruises.com/ships/sirena/life-on-board - keyword not found\n",
      "Processed https://www.oceaniacruises.com/ships/sirena/suites-staterooms - keyword not found\n",
      "Processed https://www.oceaniacruises.com/ships/vista/culinary-experiences - keyword found 1 times\n",
      "Processed https://www.oceaniacruises.com/ships/vista/life-on-board - keyword found 4 times\n",
      "Processed https://www.oceaniacruises.com/ships/vista/suites-staterooms - keyword found 2 times\n",
      "Processed https://www.oceaniacruises.com/ships/allura/culinary-experiences - keyword found 1 times\n",
      "Processed https://www.oceaniacruises.com/ships/allura/life-on-board - keyword found 3 times\n",
      "Processed https://www.oceaniacruises.com/ships/allura/suites-staterooms - keyword not found\n",
      "Processed https://www.oceaniacruises.com/media/ - keyword not found\n",
      "Processed https://www.oceaniacruises.com/concierge - keyword not found\n",
      "Processed https://www.oceaniacruises.com/email-signup - keyword not found\n",
      "Processed https://www.oceaniacruises.com/register - keyword not found\n",
      "Processed https://www.oceaniacruises.com/request-brochure - keyword not found\n",
      "Processed https://www.oceaniacruises.com/request-brochure/2025-allura - keyword not found\n",
      "Processed https://www.oceaniacruises.com/request-brochure/branding - keyword not found\n",
      "Processed https://www.oceaniacruises.com/request-brochure/your-world - keyword not found\n",
      "Processed https://www.oceaniacruises.com/login - keyword not found\n",
      "Processed https://www.oceaniacruises.com/special-offers - keyword found 11 times\n",
      "Processed https://www.oceaniacruises.com/cn-traveler - keyword not found\n",
      "Processed https://www.oceaniacruises.com/cruise-finder - keyword not found\n",
      "Processed https://www.oceaniacruises.com/shore-excursions - keyword found 1 times\n",
      "[('https://www.oceaniacruises.com/', 7), ('https://www.oceaniacruises.com/2024-voyage-collection', 1), ('https://www.oceaniacruises.com/2025-voyage-collection', 2), ('https://www.oceaniacruises.com/2025-around-the-world-cruise', 2), ('https://www.oceaniacruises.com/africa-cruises', 8), ('https://www.oceaniacruises.com/alaska-cruises', 7), ('https://www.oceaniacruises.com/asia-cruises', 7), ('https://www.oceaniacruises.com/australia-cruises', 7), ('https://www.oceaniacruises.com/baltic-cruises', 7), ('https://www.oceaniacruises.com/bermuda-cruises', 7), ('https://www.oceaniacruises.com/british-isles-cruises', 7), ('https://www.oceaniacruises.com/caribbean-cruises', 7), ('https://www.oceaniacruises.com/concierge-veranda', 10), ('https://www.oceaniacruises.com/cruise-destinations', 7), ('https://www.oceaniacruises.com/culinary', 1), ('https://www.oceaniacruises.com/french-riviera-cruises', 7), ('https://www.oceaniacruises.com/grand-voyage-cruises/ultimate-odyssey', 2), ('https://www.oceaniacruises.com/greek-cruises', 7), ('https://www.oceaniacruises.com/greenland-iceland-cruises', 7), ('https://www.oceaniacruises.com/india-cruises', 7), ('https://www.oceaniacruises.com/life-on-board', 1), ('https://www.oceaniacruises.com/mediterranean-cruises', 7), ('https://www.oceaniacruises.com/mexico-cruises', 7), ('https://www.oceaniacruises.com/middle-east-cruises', 7), ('https://www.oceaniacruises.com/new-england-cruises', 7), ('https://www.oceaniacruises.com/northern-fjords-cruises', 7), ('https://www.oceaniacruises.com/pacific-coast-cruises', 7), ('https://www.oceaniacruises.com/panama-canal-cruises', 7), ('https://www.oceaniacruises.com/ships/insignia', 7), ('https://www.oceaniacruises.com/ships/marina', 7), ('https://www.oceaniacruises.com/ships/nautica', 7), ('https://www.oceaniacruises.com/ships/regatta', 7), ('https://www.oceaniacruises.com/ships/riviera', 8), ('https://www.oceaniacruises.com/ships/sirena', 7), ('https://www.oceaniacruises.com/ships/vista', 1), ('https://www.oceaniacruises.com/south-america-cruises', 7), ('https://www.oceaniacruises.com/south-pacific-tahiti-cruises', 7), ('https://www.oceaniacruises.com/suites', 10), ('https://www.oceaniacruises.com/value', 15), ('https://www.oceaniacruises.com/legal/terms-conditions', 1), ('https://www.oceaniacruises.com/legal/promotion-terms', 89), ('https://qa1-aws.oceaniacruises.com/explore-ashore', 1), ('https://www.oceaniacruises.com/ships/marina/culinary-experiences', 2), ('https://www.oceaniacruises.com/ships/marina/suites-staterooms', 2), ('https://www.oceaniacruises.com/ships/riviera/culinary-experiences', 1), ('https://www.oceaniacruises.com/ships/riviera/suites-staterooms', 2), ('https://www.oceaniacruises.com/ships/sirena/culinary-experiences', 1), ('https://www.oceaniacruises.com/ships/vista/culinary-experiences', 1), ('https://www.oceaniacruises.com/ships/vista/life-on-board', 4), ('https://www.oceaniacruises.com/ships/vista/suites-staterooms', 2), ('https://www.oceaniacruises.com/ships/allura/culinary-experiences', 1), ('https://www.oceaniacruises.com/ships/allura/life-on-board', 3), ('https://www.oceaniacruises.com/special-offers', 11), ('https://www.oceaniacruises.com/shore-excursions', 1)]\n",
      "[]\n"
     ]
    }
   ],
   "source": [
    "master_function()"
   ]
  },
  {
   "cell_type": "code",
   "execution_count": 10,
   "id": "243a1247-bf61-4833-8db9-aa5fb074ae76",
   "metadata": {},
   "outputs": [],
   "source": [
    "# functions for multiple keywords"
   ]
  },
  {
   "cell_type": "code",
   "execution_count": null,
   "id": "265c16ed-f7d7-42ec-a04a-438de6123f81",
   "metadata": {},
   "outputs": [],
   "source": []
  },
  {
   "cell_type": "code",
   "execution_count": null,
   "id": "c383cfc8-ff5b-43c9-a7f2-fd99e04cdaed",
   "metadata": {},
   "outputs": [],
   "source": [
    "def turn_keys_lowercase(keywords):\n",
    "    return [k.lower() for k in keywords]"
   ]
  },
  {
   "cell_type": "code",
   "execution_count": 15,
   "id": "13c18ea2-64a5-45d9-b1f0-0ee8e0ef387f",
   "metadata": {},
   "outputs": [],
   "source": [
    "def finding_keywords_dict(oci_url_list, keywords):\n",
    "    store_bad_urls = []\n",
    "    store_good_urls = {}\n",
    "    keywords = turn_keys_lowercase(keywords)  # Convert keywords to lowercase\n",
    "\n",
    "    for url in oci_url_list:\n",
    "        try:\n",
    "            response_url = requests.get(url)\n",
    "            response_url.raise_for_status()  # This will catch an error if response_url fails\n",
    "\n",
    "            url_text = response_url.text\n",
    "            url_text_readble = BeautifulSoup(url_text, 'html5lib')\n",
    "            url_text_readble_lower = url_text_readble.get_text().lower()\n",
    "\n",
    "            # Initialize a dictionary to store keyword counts for this URL\n",
    "            keyword_counts = {kw: 0 for kw in keywords}\n",
    "\n",
    "            # Loop through the keywords to store the count\n",
    "            for kw in keywords:\n",
    "                if kw in url_text_readble_lower:\n",
    "                    keyword_counts[kw] = url_text_readble_lower.count(kw)\n",
    "\n",
    "            # If any keyword is found, associate the value to the URL using the keyword count dict\n",
    "            if any(count > 0 for count in keyword_counts.values()):\n",
    "                store_good_urls[url] = keyword_counts  # dict = key is URL, values is its own dict\n",
    "                print(f\"Processed {url} - keywords found: {keyword_counts}\")\n",
    "            else:\n",
    "                print(f\"Processed {url} - no keywords found\")\n",
    "\n",
    "        except requests.exceptions.RequestException as e:\n",
    "            store_bad_urls.append((url, str(e)))\n",
    "            print(f\"Error processing {url}: {e}\")\n",
    "\n",
    "        time.sleep(random.uniform(30, 45))\n",
    "\n",
    "    return store_good_urls, store_bad_urls"
   ]
  },
  {
   "cell_type": "code",
   "execution_count": 9,
   "id": "2eaf4283-217c-4521-ab2f-f8283985b863",
   "metadata": {},
   "outputs": [],
   "source": [
    "def master_function_dict():\n",
    "    namespace = {'ns': 'http://www.sitemaps.org/schemas/sitemap/0.9'}\n",
    "    oci_url_list = store_urls_from_xml('/Users/calvinpineda/Downloads/sitemap-82024-test.xml', namespace)\n",
    "    keywords = turn_keywords_lowercase(['free', 'simply'])\n",
    "    store_good_urls, store_bad_urls = finding_keywords_dict(oci_url_list, keywords)\n",
    "    print(store_good_urls)\n",
    "    print(store_bad_urls)"
   ]
  },
  {
   "cell_type": "code",
   "execution_count": null,
   "id": "cacdcccc-44f7-45cc-821d-6914212e93e1",
   "metadata": {},
   "outputs": [],
   "source": []
  },
  {
   "cell_type": "code",
   "execution_count": 6,
   "id": "39aec181-26a3-4564-86bd-ba7f277c62ea",
   "metadata": {},
   "outputs": [],
   "source": [
    "# checking preprod for mention of simply"
   ]
  },
  {
   "cell_type": "code",
   "execution_count": 7,
   "id": "fa76bba9-3654-48b8-9c22-aa9021d12c35",
   "metadata": {},
   "outputs": [],
   "source": [
    "def store_urls_from_xml (file_path, namespaces):\n",
    "    oci_url_list = []\n",
    "    tree = ET.parse(file_path)\n",
    "    root = tree.getroot()\n",
    "    for element in root:\n",
    "        loc_tag = element.find('ns:loc', namespaces=namespaces)\n",
    "        if loc_tag is not None:\n",
    "            oci_url = loc_tag.text\n",
    "            oci_url_list.append(oci_url)\n",
    "    return oci_url_list"
   ]
  },
  {
   "cell_type": "code",
   "execution_count": 8,
   "id": "d9a83ef1-049c-49ca-9979-6751172cb1e2",
   "metadata": {},
   "outputs": [],
   "source": [
    "def finding_keyword (oci_url_list, keyword):\n",
    "    store_bad_urls = []\n",
    "    store_good_urls = []\n",
    "    for url in oci_url_list:\n",
    "        try:\n",
    "            response_url = requests.get(url)\n",
    "            response_url.raise_for_status() # this will catch an error if response_url fails - no need to check with if statment\n",
    "            url_text = response_url.text\n",
    "            url_text_readble = BeautifulSoup(url_text, 'html5lib')\n",
    "            url_text_readble_lower = url_text_readble.get_text().lower()\n",
    "            if keyword.lower() in url_text_readble_lower:\n",
    "                keyword_count = url_text_readble_lower.count(keyword)\n",
    "                store_good_urls.append((url, keyword_count))\n",
    "                print(f\"Processed {url} - keyword found {keyword_count} times\")\n",
    "            else:\n",
    "                print(f\"Processed {url} - keyword not found\")\n",
    "        except requests.exceptions.RequestException as e:\n",
    "            store_bad_urls.append((url, str(e)))\n",
    "            print(f\"Error processing {url}: {e}\")\n",
    "        time.sleep(random.uniform(30, 45))\n",
    "    return store_good_urls, store_bad_urls"
   ]
  },
  {
   "cell_type": "code",
   "execution_count": 9,
   "id": "19c40eb4-44a4-440f-a42d-d2fce5022812",
   "metadata": {},
   "outputs": [],
   "source": [
    "def master_function():\n",
    "    namespace = {'ns': 'http://www.sitemaps.org/schemas/sitemap/0.9'}\n",
    "    oci_url_list = store_urls_from_xml('/Users/calvinpineda/Downloads/sitemap-82024-non-simply.xml', namespace)\n",
    "    keyword = 'simply'\n",
    "    store_good_urls, store_bad_urls = finding_keyword(oci_url_list, keyword)\n",
    "    print(store_good_urls)\n",
    "    print(store_bad_urls)"
   ]
  },
  {
   "cell_type": "code",
   "execution_count": 10,
   "id": "8fee815e-eed2-4285-b302-f1468d4be7f0",
   "metadata": {},
   "outputs": [
    {
     "name": "stdout",
     "output_type": "stream",
     "text": [
      "Processed https://preprod-aws.oceaniacruises.com/ - keyword not found\n",
      "Processed https://preprod-aws.oceaniacruises.com/oceania-experience - keyword not found\n",
      "Processed https://preprod-aws.oceaniacruises.com/2024-voyage-collection - keyword not found\n",
      "Processed https://preprod-aws.oceaniacruises.com/2025-voyage-collection - keyword found 1 times\n",
      "Processed https://preprod-aws.oceaniacruises.com/2025-around-the-world-cruise - keyword found 1 times\n",
      "Processed https://preprod-aws.oceaniacruises.com/2026-around-the-world-cruise - keyword not found\n",
      "Processed https://preprod-aws.oceaniacruises.com/africa-cruises - keyword found 1 times\n",
      "Processed https://preprod-aws.oceaniacruises.com/air - keyword not found\n",
      "Processed https://preprod-aws.oceaniacruises.com/alaska-cruises - keyword not found\n",
      "Processed https://preprod-aws.oceaniacruises.com/asia-cruises - keyword not found\n",
      "Processed https://preprod-aws.oceaniacruises.com/australia-cruises - keyword not found\n",
      "Processed https://preprod-aws.oceaniacruises.com/baltic-cruises - keyword not found\n",
      "Processed https://preprod-aws.oceaniacruises.com/bermuda-cruises - keyword not found\n",
      "Processed https://preprod-aws.oceaniacruises.com/british-isles-cruises - keyword not found\n",
      "Processed https://preprod-aws.oceaniacruises.com/caribbean-cruises - keyword not found\n",
      "Processed https://preprod-aws.oceaniacruises.com/concierge-veranda - keyword found 2 times\n",
      "Processed https://preprod-aws.oceaniacruises.com/cruise-destinations - keyword not found\n",
      "Processed https://preprod-aws.oceaniacruises.com/culinary - keyword found 1 times\n",
      "Processed https://preprod-aws.oceaniacruises.com/europe-and-north-america-cruises - keyword not found\n",
      "Processed https://preprod-aws.oceaniacruises.com/french-riviera-cruises - keyword not found\n",
      "Processed https://preprod-aws.oceaniacruises.com/grand-voyage-cruises - keyword not found\n",
      "Processed https://preprod-aws.oceaniacruises.com/grand-voyage-cruises/ultimate-odyssey - keyword found 2 times\n",
      "Processed https://preprod-aws.oceaniacruises.com/greek-cruises - keyword not found\n",
      "Processed https://preprod-aws.oceaniacruises.com/greenland-iceland-cruises - keyword not found\n",
      "Processed https://preprod-aws.oceaniacruises.com/india-cruises - keyword not found\n",
      "Processed https://preprod-aws.oceaniacruises.com/land-programs - keyword not found\n",
      "Processed https://preprod-aws.oceaniacruises.com/life-on-board - keyword found 1 times\n",
      "Processed https://preprod-aws.oceaniacruises.com/mediterranean-cruises - keyword not found\n",
      "Processed https://preprod-aws.oceaniacruises.com/mexico-cruises - keyword not found\n",
      "Processed https://preprod-aws.oceaniacruises.com/middle-east-cruises - keyword not found\n",
      "Processed https://preprod-aws.oceaniacruises.com/new-england-cruises - keyword not found\n",
      "Processed https://preprod-aws.oceaniacruises.com/northern-fjords-cruises - keyword not found\n",
      "Processed https://preprod-aws.oceaniacruises.com/oceania-club-benefits - keyword not found\n",
      "Processed https://preprod-aws.oceaniacruises.com/pacific-coast-cruises - keyword not found\n",
      "Processed https://preprod-aws.oceaniacruises.com/panama-canal-cruises - keyword not found\n",
      "Processed https://preprod-aws.oceaniacruises.com/ships - keyword not found\n",
      "Processed https://preprod-aws.oceaniacruises.com/ships/allura - keyword not found\n",
      "Processed https://preprod-aws.oceaniacruises.com/ships/insignia - keyword not found\n",
      "Processed https://preprod-aws.oceaniacruises.com/ships/marina - keyword not found\n",
      "Processed https://preprod-aws.oceaniacruises.com/ships/nautica - keyword not found\n",
      "Processed https://preprod-aws.oceaniacruises.com/ships/regatta - keyword not found\n",
      "Processed https://preprod-aws.oceaniacruises.com/ships/riviera - keyword found 1 times\n",
      "Processed https://preprod-aws.oceaniacruises.com/ships/sirena - keyword not found\n",
      "Processed https://preprod-aws.oceaniacruises.com/ships/vista - keyword found 1 times\n",
      "Processed https://preprod-aws.oceaniacruises.com/solo-traveler-experience - keyword not found\n",
      "Processed https://preprod-aws.oceaniacruises.com/south-america-cruises - keyword not found\n",
      "Processed https://preprod-aws.oceaniacruises.com/south-pacific-tahiti-cruises - keyword not found\n",
      "Processed https://preprod-aws.oceaniacruises.com/specialty-cruises - keyword not found\n",
      "Processed https://preprod-aws.oceaniacruises.com/suites - keyword found 2 times\n",
      "Processed https://preprod-aws.oceaniacruises.com/transatlantic-cruises/ - keyword not found\n",
      "Processed https://preprod-aws.oceaniacruises.com/tropics-and-exotics-cruises - keyword not found\n",
      "Processed https://preprod-aws.oceaniacruises.com/value - keyword not found\n",
      "Processed https://preprod-aws.oceaniacruises.com/wellness - keyword not found\n",
      "Processed https://preprod-aws.oceaniacruises.com/legal/terms-conditions - keyword found 1 times\n",
      "Processed https://preprod-aws.oceaniacruises.com/legal/casinowinloss-terms-conditions - keyword not found\n",
      "Processed https://preprod-aws.oceaniacruises.com/legal/nonperformance-policy - keyword not found\n",
      "Processed https://preprod-aws.oceaniacruises.com/legal/bill-of-rights - keyword not found\n",
      "Processed https://preprod-aws.oceaniacruises.com/legal/privacy-policy - keyword not found\n",
      "Processed https://preprod-aws.oceaniacruises.com/legal/cookies-policy - keyword not found\n",
      "Processed https://preprod-aws.oceaniacruises.com/legal/promotion-terms - keyword found 106 times\n",
      "Processed https://qa1-aws.oceaniacruises.com/explore-ashore - keyword found 1 times\n",
      "Processed https://preprod-aws.oceaniacruises.com/ships/regatta/culinary-experiences - keyword not found\n",
      "Processed https://preprod-aws.oceaniacruises.com/ships/regatta/life-on-board - keyword not found\n",
      "Processed https://preprod-aws.oceaniacruises.com/ships/regatta/suites-staterooms - keyword not found\n",
      "Processed https://preprod-aws.oceaniacruises.com/ships/insignia/culinary-experiences - keyword not found\n",
      "Processed https://preprod-aws.oceaniacruises.com/ships/insignia/life-on-board - keyword not found\n",
      "Processed https://preprod-aws.oceaniacruises.com/ships/insignia/suites-staterooms - keyword not found\n",
      "Processed https://preprod-aws.oceaniacruises.com/ships/nautica/culinary-experiences - keyword not found\n",
      "Processed https://preprod-aws.oceaniacruises.com/ships/nautica/life-on-board - keyword not found\n",
      "Processed https://preprod-aws.oceaniacruises.com/ships/nautica/suites-staterooms - keyword not found\n",
      "Processed https://preprod-aws.oceaniacruises.com/ships/marina/culinary-experiences - keyword found 2 times\n",
      "Processed https://preprod-aws.oceaniacruises.com/ships/marina/life-on-board - keyword not found\n",
      "Processed https://preprod-aws.oceaniacruises.com/ships/marina/suites-staterooms - keyword found 2 times\n",
      "Processed https://preprod-aws.oceaniacruises.com/ships/riviera/culinary-experiences - keyword found 1 times\n",
      "Processed https://preprod-aws.oceaniacruises.com/ships/riviera/life-on-board - keyword not found\n",
      "Processed https://preprod-aws.oceaniacruises.com/ships/riviera/suites-staterooms - keyword found 2 times\n",
      "Processed https://preprod-aws.oceaniacruises.com/ships/sirena/culinary-experiences - keyword found 1 times\n",
      "Processed https://preprod-aws.oceaniacruises.com/ships/sirena/life-on-board - keyword not found\n",
      "Processed https://preprod-aws.oceaniacruises.com/ships/sirena/suites-staterooms - keyword not found\n",
      "Processed https://preprod-aws.oceaniacruises.com/ships/vista/culinary-experiences - keyword found 1 times\n",
      "Processed https://preprod-aws.oceaniacruises.com/ships/vista/life-on-board - keyword found 4 times\n",
      "Processed https://preprod-aws.oceaniacruises.com/ships/vista/suites-staterooms - keyword found 2 times\n",
      "Processed https://preprod-aws.oceaniacruises.com/ships/allura/culinary-experiences - keyword found 1 times\n",
      "Processed https://preprod-aws.oceaniacruises.com/ships/allura/life-on-board - keyword found 3 times\n",
      "Processed https://preprod-aws.oceaniacruises.com/ships/allura/suites-staterooms - keyword not found\n",
      "Processed https://preprod-aws.oceaniacruises.com/media/ - keyword not found\n",
      "Processed https://preprod-aws.oceaniacruises.com/concierge - keyword not found\n",
      "Processed https://preprod-aws.oceaniacruises.com/email-signup - keyword not found\n",
      "Processed https://preprod-aws.oceaniacruises.com/register - keyword not found\n",
      "Processed https://preprod-aws.oceaniacruises.com/request-brochure - keyword not found\n",
      "Processed https://preprod-aws.oceaniacruises.com/request-brochure/2025-allura - keyword not found\n",
      "Processed https://preprod-aws.oceaniacruises.com/request-brochure/branding - keyword not found\n",
      "Processed https://preprod-aws.oceaniacruises.com/request-brochure/your-world - keyword not found\n",
      "Processed https://preprod-aws.oceaniacruises.com/login - keyword not found\n",
      "Processed https://preprod-aws.oceaniacruises.com/special-offers - keyword not found\n",
      "Processed https://preprod-aws.oceaniacruises.com/cn-traveler - keyword not found\n",
      "Processed https://preprod-aws.oceaniacruises.com/cruise-finder - keyword not found\n",
      "Processed https://preprod-aws.oceaniacruises.com/shore-excursions - keyword not found\n",
      "[('https://preprod-aws.oceaniacruises.com/2025-voyage-collection', 1), ('https://preprod-aws.oceaniacruises.com/2025-around-the-world-cruise', 1), ('https://preprod-aws.oceaniacruises.com/africa-cruises', 1), ('https://preprod-aws.oceaniacruises.com/concierge-veranda', 2), ('https://preprod-aws.oceaniacruises.com/culinary', 1), ('https://preprod-aws.oceaniacruises.com/grand-voyage-cruises/ultimate-odyssey', 2), ('https://preprod-aws.oceaniacruises.com/life-on-board', 1), ('https://preprod-aws.oceaniacruises.com/ships/riviera', 1), ('https://preprod-aws.oceaniacruises.com/ships/vista', 1), ('https://preprod-aws.oceaniacruises.com/suites', 2), ('https://preprod-aws.oceaniacruises.com/legal/terms-conditions', 1), ('https://preprod-aws.oceaniacruises.com/legal/promotion-terms', 106), ('https://qa1-aws.oceaniacruises.com/explore-ashore', 1), ('https://preprod-aws.oceaniacruises.com/ships/marina/culinary-experiences', 2), ('https://preprod-aws.oceaniacruises.com/ships/marina/suites-staterooms', 2), ('https://preprod-aws.oceaniacruises.com/ships/riviera/culinary-experiences', 1), ('https://preprod-aws.oceaniacruises.com/ships/riviera/suites-staterooms', 2), ('https://preprod-aws.oceaniacruises.com/ships/sirena/culinary-experiences', 1), ('https://preprod-aws.oceaniacruises.com/ships/vista/culinary-experiences', 1), ('https://preprod-aws.oceaniacruises.com/ships/vista/life-on-board', 4), ('https://preprod-aws.oceaniacruises.com/ships/vista/suites-staterooms', 2), ('https://preprod-aws.oceaniacruises.com/ships/allura/culinary-experiences', 1), ('https://preprod-aws.oceaniacruises.com/ships/allura/life-on-board', 3)]\n",
      "[]\n"
     ]
    }
   ],
   "source": [
    "master_function()"
   ]
  },
  {
   "cell_type": "code",
   "execution_count": null,
   "id": "e2876ea5-f018-4243-ac24-de1695d06dc9",
   "metadata": {},
   "outputs": [],
   "source": []
  }
 ],
 "metadata": {
  "kernelspec": {
   "display_name": "Python 3 (ipykernel)",
   "language": "python",
   "name": "python3"
  },
  "language_info": {
   "codemirror_mode": {
    "name": "ipython",
    "version": 3
   },
   "file_extension": ".py",
   "mimetype": "text/x-python",
   "name": "python",
   "nbconvert_exporter": "python",
   "pygments_lexer": "ipython3",
   "version": "3.9.6"
  }
 },
 "nbformat": 4,
 "nbformat_minor": 5
}
