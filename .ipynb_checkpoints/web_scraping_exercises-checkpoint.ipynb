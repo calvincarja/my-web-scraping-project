{
 "cells": [
  {
   "cell_type": "code",
   "execution_count": null,
   "id": "4d137f19-ebe0-4ff2-a2c2-0fa55d7ca33c",
   "metadata": {},
   "outputs": [],
   "source": [
    "# this notebook will contain my functions that scrape for specific tasks"
   ]
  }
 ],
 "metadata": {
  "kernelspec": {
   "display_name": "Python 3 (ipykernel)",
   "language": "python",
   "name": "python3"
  },
  "language_info": {
   "codemirror_mode": {
    "name": "ipython",
    "version": 3
   },
   "file_extension": ".py",
   "mimetype": "text/x-python",
   "name": "python",
   "nbconvert_exporter": "python",
   "pygments_lexer": "ipython3",
   "version": "3.9.6"
  }
 },
 "nbformat": 4,
 "nbformat_minor": 5
}
