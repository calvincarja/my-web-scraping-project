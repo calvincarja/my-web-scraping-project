{
 "cells": [
  {
   "cell_type": "code",
   "execution_count": 2,
   "id": "5858e5c9-d3b1-4af8-917f-e9354e369e04",
   "metadata": {},
   "outputs": [
    {
     "name": "stdout",
     "output_type": "stream",
     "text": [
      "Requirement already satisfied: pip in ./venv/lib/python3.9/site-packages (21.2.4)\n",
      "Collecting pip\n",
      "  Downloading pip-24.0-py3-none-any.whl (2.1 MB)\n",
      "\u001b[K     |████████████████████████████████| 2.1 MB 16.1 MB/s eta 0:00:01\n",
      "\u001b[?25hInstalling collected packages: pip\n",
      "  Attempting uninstall: pip\n",
      "    Found existing installation: pip 21.2.4\n",
      "    Uninstalling pip-21.2.4:\n",
      "      Successfully uninstalled pip-21.2.4\n",
      "Successfully installed pip-24.0\n"
     ]
    }
   ],
   "source": [
    "!pip install --upgrade pip"
   ]
  },
  {
   "cell_type": "code",
   "execution_count": 3,
   "id": "46eb53d9-3c97-4a7e-8cfb-51701cd1b7bf",
   "metadata": {},
   "outputs": [
    {
     "name": "stdout",
     "output_type": "stream",
     "text": [
      "Collecting pandas\n",
      "  Downloading pandas-2.2.1-cp39-cp39-macosx_11_0_arm64.whl.metadata (19 kB)\n",
      "Collecting numpy<2,>=1.22.4 (from pandas)\n",
      "  Downloading numpy-1.26.4-cp39-cp39-macosx_11_0_arm64.whl.metadata (61 kB)\n",
      "\u001b[2K     \u001b[90m━━━━━━━━━━━━━━━━━━━━━━━━━━━━━━━━━━━━━━━━\u001b[0m \u001b[32m61.1/61.1 kB\u001b[0m \u001b[31m4.8 MB/s\u001b[0m eta \u001b[36m0:00:00\u001b[0m\n",
      "\u001b[?25hRequirement already satisfied: python-dateutil>=2.8.2 in ./venv/lib/python3.9/site-packages (from pandas) (2.9.0.post0)\n",
      "Collecting pytz>=2020.1 (from pandas)\n",
      "  Downloading pytz-2024.1-py2.py3-none-any.whl.metadata (22 kB)\n",
      "Collecting tzdata>=2022.7 (from pandas)\n",
      "  Downloading tzdata-2024.1-py2.py3-none-any.whl.metadata (1.4 kB)\n",
      "Requirement already satisfied: six>=1.5 in ./venv/lib/python3.9/site-packages (from python-dateutil>=2.8.2->pandas) (1.16.0)\n",
      "Downloading pandas-2.2.1-cp39-cp39-macosx_11_0_arm64.whl (11.3 MB)\n",
      "\u001b[2K   \u001b[90m━━━━━━━━━━━━━━━━━━━━━━━━━━━━━━━━━━━━━━━━\u001b[0m \u001b[32m11.3/11.3 MB\u001b[0m \u001b[31m69.0 MB/s\u001b[0m eta \u001b[36m0:00:00\u001b[0ma \u001b[36m0:00:01\u001b[0m\n",
      "\u001b[?25hDownloading numpy-1.26.4-cp39-cp39-macosx_11_0_arm64.whl (14.0 MB)\n",
      "\u001b[2K   \u001b[90m━━━━━━━━━━━━━━━━━━━━━━━━━━━━━━━━━━━━━━━━\u001b[0m \u001b[32m14.0/14.0 MB\u001b[0m \u001b[31m69.3 MB/s\u001b[0m eta \u001b[36m0:00:00\u001b[0m00:01\u001b[0m00:01\u001b[0m\n",
      "\u001b[?25hDownloading pytz-2024.1-py2.py3-none-any.whl (505 kB)\n",
      "\u001b[2K   \u001b[90m━━━━━━━━━━━━━━━━━━━━━━━━━━━━━━━━━━━━━━━━\u001b[0m \u001b[32m505.5/505.5 kB\u001b[0m \u001b[31m49.1 MB/s\u001b[0m eta \u001b[36m0:00:00\u001b[0m\n",
      "\u001b[?25hDownloading tzdata-2024.1-py2.py3-none-any.whl (345 kB)\n",
      "\u001b[2K   \u001b[90m━━━━━━━━━━━━━━━━━━━━━━━━━━━━━━━━━━━━━━━━\u001b[0m \u001b[32m345.4/345.4 kB\u001b[0m \u001b[31m50.2 MB/s\u001b[0m eta \u001b[36m0:00:00\u001b[0m\n",
      "\u001b[?25hInstalling collected packages: pytz, tzdata, numpy, pandas\n",
      "Successfully installed numpy-1.26.4 pandas-2.2.1 pytz-2024.1 tzdata-2024.1\n"
     ]
    }
   ],
   "source": [
    "!pip install pandas"
   ]
  },
  {
   "cell_type": "code",
   "execution_count": 4,
   "id": "8384dd77-2198-4410-8f89-0d47a997a507",
   "metadata": {},
   "outputs": [
    {
     "name": "stdout",
     "output_type": "stream",
     "text": [
      "Collecting openpyxl\n",
      "  Downloading openpyxl-3.1.2-py2.py3-none-any.whl.metadata (2.5 kB)\n",
      "Collecting et-xmlfile (from openpyxl)\n",
      "  Downloading et_xmlfile-1.1.0-py3-none-any.whl.metadata (1.8 kB)\n",
      "Downloading openpyxl-3.1.2-py2.py3-none-any.whl (249 kB)\n",
      "\u001b[2K   \u001b[90m━━━━━━━━━━━━━━━━━━━━━━━━━━━━━━━━━━━━━━━━\u001b[0m \u001b[32m250.0/250.0 kB\u001b[0m \u001b[31m14.3 MB/s\u001b[0m eta \u001b[36m0:00:00\u001b[0m\n",
      "\u001b[?25hDownloading et_xmlfile-1.1.0-py3-none-any.whl (4.7 kB)\n",
      "Installing collected packages: et-xmlfile, openpyxl\n",
      "Successfully installed et-xmlfile-1.1.0 openpyxl-3.1.2\n"
     ]
    }
   ],
   "source": [
    "!pip install openpyxl"
   ]
  },
  {
   "cell_type": "code",
   "execution_count": 11,
   "id": "45c3f6f5-f92f-48b4-bcc2-685a70ed3876",
   "metadata": {},
   "outputs": [],
   "source": [
    "import pandas as pd"
   ]
  },
  {
   "cell_type": "code",
   "execution_count": 12,
   "id": "e86d30ef-3ec7-4f4c-8d3e-2048c9b3734b",
   "metadata": {},
   "outputs": [],
   "source": [
    "df = pd.read_excel('/Users/calvinpineda/Downloads/voyage-tropics.xlsx')"
   ]
  },
  {
   "cell_type": "code",
   "execution_count": 6,
   "id": "007304b0-4f57-45ff-b182-9d21f60f8620",
   "metadata": {},
   "outputs": [
    {
     "data": {
      "text/html": [
       "<div>\n",
       "<style scoped>\n",
       "    .dataframe tbody tr th:only-of-type {\n",
       "        vertical-align: middle;\n",
       "    }\n",
       "\n",
       "    .dataframe tbody tr th {\n",
       "        vertical-align: top;\n",
       "    }\n",
       "\n",
       "    .dataframe thead th {\n",
       "        text-align: right;\n",
       "    }\n",
       "</style>\n",
       "<table border=\"1\" class=\"dataframe\">\n",
       "  <thead>\n",
       "    <tr style=\"text-align: right;\">\n",
       "      <th></th>\n",
       "      <th>Voyage ID</th>\n",
       "      <th>Voyage Description</th>\n",
       "      <th>Shore Excursion Amount</th>\n",
       "    </tr>\n",
       "  </thead>\n",
       "  <tbody>\n",
       "    <tr>\n",
       "      <th>0</th>\n",
       "      <td>RVA251008</td>\n",
       "      <td>Set sail beyond the ordinary with our 2025-202...</td>\n",
       "      <td>800</td>\n",
       "    </tr>\n",
       "    <tr>\n",
       "      <th>1</th>\n",
       "      <td>RVA251022</td>\n",
       "      <td>Set sail beyond the ordinary with our 2025-202...</td>\n",
       "      <td>800</td>\n",
       "    </tr>\n",
       "    <tr>\n",
       "      <th>2</th>\n",
       "      <td>RVA251106</td>\n",
       "      <td>Set sail beyond the ordinary with our 2025-202...</td>\n",
       "      <td>600</td>\n",
       "    </tr>\n",
       "    <tr>\n",
       "      <th>3</th>\n",
       "      <td>SIR251107</td>\n",
       "      <td>Set sail beyond the ordinary with our 2025-202...</td>\n",
       "      <td>1200</td>\n",
       "    </tr>\n",
       "    <tr>\n",
       "      <th>4</th>\n",
       "      <td>NAU260227</td>\n",
       "      <td>Set sail beyond the ordinary with our 2025-202...</td>\n",
       "      <td>1200</td>\n",
       "    </tr>\n",
       "  </tbody>\n",
       "</table>\n",
       "</div>"
      ],
      "text/plain": [
       "   Voyage ID                                 Voyage Description  \\\n",
       "0  RVA251008  Set sail beyond the ordinary with our 2025-202...   \n",
       "1  RVA251022  Set sail beyond the ordinary with our 2025-202...   \n",
       "2  RVA251106  Set sail beyond the ordinary with our 2025-202...   \n",
       "3  SIR251107  Set sail beyond the ordinary with our 2025-202...   \n",
       "4  NAU260227  Set sail beyond the ordinary with our 2025-202...   \n",
       "\n",
       "   Shore Excursion Amount  \n",
       "0                     800  \n",
       "1                     800  \n",
       "2                     600  \n",
       "3                    1200  \n",
       "4                    1200  "
      ]
     },
     "execution_count": 6,
     "metadata": {},
     "output_type": "execute_result"
    }
   ],
   "source": [
    "df.head()"
   ]
  },
  {
   "cell_type": "code",
   "execution_count": 4,
   "id": "08208def-6170-4759-8e5a-55195149e630",
   "metadata": {},
   "outputs": [
    {
     "data": {
      "text/html": [
       "<div>\n",
       "<style scoped>\n",
       "    .dataframe tbody tr th:only-of-type {\n",
       "        vertical-align: middle;\n",
       "    }\n",
       "\n",
       "    .dataframe tbody tr th {\n",
       "        vertical-align: top;\n",
       "    }\n",
       "\n",
       "    .dataframe thead th {\n",
       "        text-align: right;\n",
       "    }\n",
       "</style>\n",
       "<table border=\"1\" class=\"dataframe\">\n",
       "  <thead>\n",
       "    <tr style=\"text-align: right;\">\n",
       "      <th></th>\n",
       "      <th>Voyage ID</th>\n",
       "      <th>Voyage Description</th>\n",
       "      <th>Shore Excursion Amount</th>\n",
       "    </tr>\n",
       "  </thead>\n",
       "  <tbody>\n",
       "    <tr>\n",
       "      <th>0</th>\n",
       "      <td>RVA251008</td>\n",
       "      <td>Set sail beyond the ordinary with our 2025-202...</td>\n",
       "      <td>800</td>\n",
       "    </tr>\n",
       "    <tr>\n",
       "      <th>1</th>\n",
       "      <td>RVA251022</td>\n",
       "      <td>Set sail beyond the ordinary with our 2025-202...</td>\n",
       "      <td>800</td>\n",
       "    </tr>\n",
       "    <tr>\n",
       "      <th>2</th>\n",
       "      <td>RVA251106</td>\n",
       "      <td>Set sail beyond the ordinary with our 2025-202...</td>\n",
       "      <td>600</td>\n",
       "    </tr>\n",
       "    <tr>\n",
       "      <th>3</th>\n",
       "      <td>SIR251107</td>\n",
       "      <td>Set sail beyond the ordinary with our 2025-202...</td>\n",
       "      <td>1200</td>\n",
       "    </tr>\n",
       "    <tr>\n",
       "      <th>4</th>\n",
       "      <td>NAU260227</td>\n",
       "      <td>Set sail beyond the ordinary with our 2025-202...</td>\n",
       "      <td>1200</td>\n",
       "    </tr>\n",
       "    <tr>\n",
       "      <th>...</th>\n",
       "      <td>...</td>\n",
       "      <td>...</td>\n",
       "      <td>...</td>\n",
       "    </tr>\n",
       "    <tr>\n",
       "      <th>130</th>\n",
       "      <td>ALU260104A</td>\n",
       "      <td>Set sail beyond the ordinary with our 2025-202...</td>\n",
       "      <td>1200</td>\n",
       "    </tr>\n",
       "    <tr>\n",
       "      <th>131</th>\n",
       "      <td>ALU260309A</td>\n",
       "      <td>Set sail beyond the ordinary with our 2025-202...</td>\n",
       "      <td>1400</td>\n",
       "    </tr>\n",
       "    <tr>\n",
       "      <th>132</th>\n",
       "      <td>ALU260404B</td>\n",
       "      <td>Set sail beyond the ordinary with our 2025-202...</td>\n",
       "      <td>1800</td>\n",
       "    </tr>\n",
       "    <tr>\n",
       "      <th>133</th>\n",
       "      <td>MNA260407A</td>\n",
       "      <td>Set sail beyond the ordinary with our 2025-202...</td>\n",
       "      <td>1200</td>\n",
       "    </tr>\n",
       "    <tr>\n",
       "      <th>134</th>\n",
       "      <td>ALU260414A</td>\n",
       "      <td>Set sail beyond the ordinary with our 2025-202...</td>\n",
       "      <td>1200</td>\n",
       "    </tr>\n",
       "  </tbody>\n",
       "</table>\n",
       "<p>135 rows × 3 columns</p>\n",
       "</div>"
      ],
      "text/plain": [
       "      Voyage ID                                 Voyage Description  \\\n",
       "0     RVA251008  Set sail beyond the ordinary with our 2025-202...   \n",
       "1     RVA251022  Set sail beyond the ordinary with our 2025-202...   \n",
       "2     RVA251106  Set sail beyond the ordinary with our 2025-202...   \n",
       "3     SIR251107  Set sail beyond the ordinary with our 2025-202...   \n",
       "4     NAU260227  Set sail beyond the ordinary with our 2025-202...   \n",
       "..          ...                                                ...   \n",
       "130  ALU260104A  Set sail beyond the ordinary with our 2025-202...   \n",
       "131  ALU260309A  Set sail beyond the ordinary with our 2025-202...   \n",
       "132  ALU260404B  Set sail beyond the ordinary with our 2025-202...   \n",
       "133  MNA260407A  Set sail beyond the ordinary with our 2025-202...   \n",
       "134  ALU260414A  Set sail beyond the ordinary with our 2025-202...   \n",
       "\n",
       "     Shore Excursion Amount  \n",
       "0                       800  \n",
       "1                       800  \n",
       "2                       600  \n",
       "3                      1200  \n",
       "4                      1200  \n",
       "..                      ...  \n",
       "130                    1200  \n",
       "131                    1400  \n",
       "132                    1800  \n",
       "133                    1200  \n",
       "134                    1200  \n",
       "\n",
       "[135 rows x 3 columns]"
      ]
     },
     "execution_count": 4,
     "metadata": {},
     "output_type": "execute_result"
    }
   ],
   "source": [
    "df"
   ]
  },
  {
   "cell_type": "code",
   "execution_count": 5,
   "id": "a78dae19-d1a6-4d7a-a207-1ad1f72b570a",
   "metadata": {},
   "outputs": [
    {
     "data": {
      "text/html": [
       "<div>\n",
       "<style scoped>\n",
       "    .dataframe tbody tr th:only-of-type {\n",
       "        vertical-align: middle;\n",
       "    }\n",
       "\n",
       "    .dataframe tbody tr th {\n",
       "        vertical-align: top;\n",
       "    }\n",
       "\n",
       "    .dataframe thead th {\n",
       "        text-align: right;\n",
       "    }\n",
       "</style>\n",
       "<table border=\"1\" class=\"dataframe\">\n",
       "  <thead>\n",
       "    <tr style=\"text-align: right;\">\n",
       "      <th></th>\n",
       "      <th>Voyage ID</th>\n",
       "      <th>Voyage Description</th>\n",
       "      <th>Shore Excursion Amount</th>\n",
       "    </tr>\n",
       "  </thead>\n",
       "  <tbody>\n",
       "    <tr>\n",
       "      <th>130</th>\n",
       "      <td>ALU260104A</td>\n",
       "      <td>Set sail beyond the ordinary with our 2025-202...</td>\n",
       "      <td>1200</td>\n",
       "    </tr>\n",
       "    <tr>\n",
       "      <th>131</th>\n",
       "      <td>ALU260309A</td>\n",
       "      <td>Set sail beyond the ordinary with our 2025-202...</td>\n",
       "      <td>1400</td>\n",
       "    </tr>\n",
       "    <tr>\n",
       "      <th>132</th>\n",
       "      <td>ALU260404B</td>\n",
       "      <td>Set sail beyond the ordinary with our 2025-202...</td>\n",
       "      <td>1800</td>\n",
       "    </tr>\n",
       "    <tr>\n",
       "      <th>133</th>\n",
       "      <td>MNA260407A</td>\n",
       "      <td>Set sail beyond the ordinary with our 2025-202...</td>\n",
       "      <td>1200</td>\n",
       "    </tr>\n",
       "    <tr>\n",
       "      <th>134</th>\n",
       "      <td>ALU260414A</td>\n",
       "      <td>Set sail beyond the ordinary with our 2025-202...</td>\n",
       "      <td>1200</td>\n",
       "    </tr>\n",
       "  </tbody>\n",
       "</table>\n",
       "</div>"
      ],
      "text/plain": [
       "      Voyage ID                                 Voyage Description  \\\n",
       "130  ALU260104A  Set sail beyond the ordinary with our 2025-202...   \n",
       "131  ALU260309A  Set sail beyond the ordinary with our 2025-202...   \n",
       "132  ALU260404B  Set sail beyond the ordinary with our 2025-202...   \n",
       "133  MNA260407A  Set sail beyond the ordinary with our 2025-202...   \n",
       "134  ALU260414A  Set sail beyond the ordinary with our 2025-202...   \n",
       "\n",
       "     Shore Excursion Amount  \n",
       "130                    1200  \n",
       "131                    1400  \n",
       "132                    1800  \n",
       "133                    1200  \n",
       "134                    1200  "
      ]
     },
     "execution_count": 5,
     "metadata": {},
     "output_type": "execute_result"
    }
   ],
   "source": [
    "df.tail()"
   ]
  },
  {
   "cell_type": "code",
   "execution_count": 22,
   "id": "d1621c85-a09a-42dc-b543-f9128523353b",
   "metadata": {},
   "outputs": [],
   "source": [
    "def add_comma(amount): # only return amount\n",
    "    if len(str(amount)) == 4:\n",
    "        return \"{:,}\".format(amount) # :, automatically adds comma seperator to thousand place numbers - returns string\n",
    "    else:\n",
    "        return str(amount) "
   ]
  },
  {
   "cell_type": "code",
   "execution_count": 17,
   "id": "31bc2325-862f-4564-9744-51edc29a8ab2",
   "metadata": {},
   "outputs": [],
   "source": [
    "def replace_values(description,amount):\n",
    "    format_amount = add_comma(amount) # the amount returned will always be a string\n",
    "    return description.replace('XXX',format_amount)"
   ]
  },
  {
   "cell_type": "code",
   "execution_count": 18,
   "id": "45204e5d-6834-4587-8da2-30e9c93fe93b",
   "metadata": {},
   "outputs": [],
   "source": [
    "df['Voyage Description'] = df.apply(lambda row: replace_values(row['Voyage Description'], row['Shore Excursion Amount']), axis=1)"
   ]
  },
  {
   "cell_type": "code",
   "execution_count": 8,
   "id": "5b2a515a-ce3e-448c-bd43-37c76300407a",
   "metadata": {},
   "outputs": [
    {
     "data": {
      "text/plain": [
       "0    Set sail beyond the ordinary with our 2025-202...\n",
       "1    Set sail beyond the ordinary with our 2025-202...\n",
       "2    Set sail beyond the ordinary with our 2025-202...\n",
       "3    Set sail beyond the ordinary with our 2025-202...\n",
       "4    Set sail beyond the ordinary with our 2025-202...\n",
       "Name: Voyage Description, dtype: object"
      ]
     },
     "execution_count": 8,
     "metadata": {},
     "output_type": "execute_result"
    }
   ],
   "source": [
    "df['Voyage Description'].head()"
   ]
  },
  {
   "cell_type": "code",
   "execution_count": 9,
   "id": "ecdedda7-eb97-40f7-a175-cac21bf1aa1e",
   "metadata": {},
   "outputs": [],
   "source": [
    "# i need to expand the trunkated view to see if the amount was updated"
   ]
  },
  {
   "cell_type": "code",
   "execution_count": 19,
   "id": "c4960222-b427-47b1-a23d-e7d2a9bf2a1e",
   "metadata": {},
   "outputs": [
    {
     "name": "stdout",
     "output_type": "stream",
     "text": [
      "Set sail beyond the ordinary with our 2025-2026 Tropics & Exotics Collection and enjoy 2 for 1 Cruise Fares, Free Roundtrip Airfare with Free Airport Transfers* and valuable <i>simply</i> MORE* amenities:\n",
      "<br><br>\n",
      "FREE $800 <i>simply</i> MORE Shore Excursion Credit<br>\n",
      "FREE Champagne, Wine & More<br>\n",
      "FREE Gourmet Specialty Dining<br>\n",
      "FREE Unlimited WiFi<br>\n",
      "<i>Amenities are per stateroom</i>\n",
      "---\n",
      "Set sail beyond the ordinary with our 2025-2026 Tropics & Exotics Collection and enjoy 2 for 1 Cruise Fares, Free Roundtrip Airfare with Free Airport Transfers* and valuable <i>simply</i> MORE* amenities:\n",
      "<br><br>\n",
      "FREE $800 <i>simply</i> MORE Shore Excursion Credit<br>\n",
      "FREE Champagne, Wine & More<br>\n",
      "FREE Gourmet Specialty Dining<br>\n",
      "FREE Unlimited WiFi<br>\n",
      "<i>Amenities are per stateroom</i>\n",
      "---\n",
      "Set sail beyond the ordinary with our 2025-2026 Tropics & Exotics Collection and enjoy 2 for 1 Cruise Fares, Free Roundtrip Airfare with Free Airport Transfers* and valuable <i>simply</i> MORE* amenities:\n",
      "<br><br>\n",
      "FREE $600 <i>simply</i> MORE Shore Excursion Credit<br>\n",
      "FREE Champagne, Wine & More<br>\n",
      "FREE Gourmet Specialty Dining<br>\n",
      "FREE Unlimited WiFi<br>\n",
      "<i>Amenities are per stateroom</i>\n",
      "---\n",
      "Set sail beyond the ordinary with our 2025-2026 Tropics & Exotics Collection and enjoy 2 for 1 Cruise Fares, Free Roundtrip Airfare with Free Airport Transfers* and valuable <i>simply</i> MORE* amenities:\n",
      "<br><br>\n",
      "FREE $1,200 <i>simply</i> MORE Shore Excursion Credit<br>\n",
      "FREE Champagne, Wine & More<br>\n",
      "FREE Gourmet Specialty Dining<br>\n",
      "FREE Unlimited WiFi<br>\n",
      "<i>Amenities are per stateroom</i>\n",
      "---\n",
      "Set sail beyond the ordinary with our 2025-2026 Tropics & Exotics Collection and enjoy 2 for 1 Cruise Fares, Free Roundtrip Airfare with Free Airport Transfers* and valuable <i>simply</i> MORE* amenities:\n",
      "<br><br>\n",
      "FREE $1,200 <i>simply</i> MORE Shore Excursion Credit<br>\n",
      "FREE Champagne, Wine & More<br>\n",
      "FREE Gourmet Specialty Dining<br>\n",
      "FREE Unlimited WiFi<br>\n",
      "<i>Amenities are per stateroom</i>\n",
      "---\n"
     ]
    }
   ],
   "source": [
    "for x in df['Voyage Description'].head():\n",
    "    print(x)\n",
    "    print('---')"
   ]
  },
  {
   "cell_type": "code",
   "execution_count": 20,
   "id": "69e53ad1-d574-4958-bb7b-955274f40bb9",
   "metadata": {},
   "outputs": [],
   "source": [
    "df.to_excel('/Users/calvinpineda/Downloads/modified-voyages-with-commas-tropics.xlsx', index=False)"
   ]
  },
  {
   "cell_type": "code",
   "execution_count": null,
   "id": "ced44a77-58d7-4b46-a68d-672c12dcfbea",
   "metadata": {},
   "outputs": [],
   "source": []
  }
 ],
 "metadata": {
  "kernelspec": {
   "display_name": "Python 3 (ipykernel)",
   "language": "python",
   "name": "python3"
  },
  "language_info": {
   "codemirror_mode": {
    "name": "ipython",
    "version": 3
   },
   "file_extension": ".py",
   "mimetype": "text/x-python",
   "name": "python",
   "nbconvert_exporter": "python",
   "pygments_lexer": "ipython3",
   "version": "3.9.6"
  }
 },
 "nbformat": 4,
 "nbformat_minor": 5
}
