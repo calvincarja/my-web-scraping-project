{
 "cells": [
  {
   "cell_type": "code",
   "execution_count": 1,
   "id": "4d137f19-ebe0-4ff2-a2c2-0fa55d7ca33c",
   "metadata": {},
   "outputs": [
    {
     "name": "stderr",
     "output_type": "stream",
     "text": [
      "/Users/calvinpineda/Desktop/python-projects/my-web-scraping-project/venv/lib/python3.9/site-packages/urllib3/__init__.py:35: NotOpenSSLWarning: urllib3 v2 only supports OpenSSL 1.1.1+, currently the 'ssl' module is compiled with 'LibreSSL 2.8.3'. See: https://github.com/urllib3/urllib3/issues/3020\n",
      "  warnings.warn(\n"
     ]
    }
   ],
   "source": [
    "import requests"
   ]
  },
  {
   "cell_type": "code",
   "execution_count": 2,
   "id": "d212d11f-64aa-4d01-99f1-bf511aaac921",
   "metadata": {},
   "outputs": [],
   "source": [
    "import xml.etree.ElementTree as ET"
   ]
  },
  {
   "cell_type": "code",
   "execution_count": 3,
   "id": "103f004f-c752-47df-b86b-4405fcea2d0f",
   "metadata": {},
   "outputs": [],
   "source": [
    "from bs4 import BeautifulSoup"
   ]
  },
  {
   "cell_type": "code",
   "execution_count": 4,
   "id": "55ae4145-c68e-4aef-aad8-7b42cf04b38e",
   "metadata": {},
   "outputs": [],
   "source": [
    "import time"
   ]
  },
  {
   "cell_type": "code",
   "execution_count": 5,
   "id": "67167e49-7de1-4083-84f5-861a13f82e2a",
   "metadata": {},
   "outputs": [],
   "source": [
    "import random"
   ]
  },
  {
   "cell_type": "code",
   "execution_count": 6,
   "id": "9a3909e9-9100-403b-8b58-62f5b1399b77",
   "metadata": {},
   "outputs": [],
   "source": [
    "# lets check if my XML has any missing tags"
   ]
  },
  {
   "cell_type": "code",
   "execution_count": 6,
   "id": "3599f08f-4cb8-484f-898e-4c9444cb8735",
   "metadata": {},
   "outputs": [],
   "source": [
    "def check_xml(file_path):\n",
    "    try:\n",
    "        ET.parse(file_path)\n",
    "        print('XML file contains no missing tags')\n",
    "    except ET.ParseError:\n",
    "        print('XML file contains missing tags - please fix')"
   ]
  },
  {
   "cell_type": "code",
   "execution_count": 7,
   "id": "d0921230-617b-4749-8507-744e29c54f56",
   "metadata": {},
   "outputs": [
    {
     "name": "stdout",
     "output_type": "stream",
     "text": [
      "XML file contains no missing tags\n"
     ]
    }
   ],
   "source": [
    "check_xml('/Users/calvinpineda/Downloads/sitemap-web-air.xml')"
   ]
  },
  {
   "cell_type": "code",
   "execution_count": null,
   "id": "8f5f6236-512e-4ea9-b370-a145f4e258cd",
   "metadata": {},
   "outputs": [],
   "source": []
  },
  {
   "cell_type": "code",
   "execution_count": 6,
   "id": "803cd879-4864-4e74-8695-25727fe3c343",
   "metadata": {},
   "outputs": [],
   "source": [
    "def find_urls(file_path, namespaces):\n",
    "    oci_url_list = []\n",
    "    tree = ET.parse(file_path)\n",
    "    root = tree.getroot()\n",
    "    for element in root:\n",
    "        loc_element = element.find('ns:loc', namespaces=namespaces)\n",
    "        if loc_element is not None:\n",
    "            oci_url = loc_element.text\n",
    "            oci_url_list.append(oci_url)\n",
    "    return oci_url_list"
   ]
  },
  {
   "cell_type": "code",
   "execution_count": 7,
   "id": "d8e6d12b-8a34-4893-8c47-843c5fc54c2a",
   "metadata": {},
   "outputs": [],
   "source": [
    "def find_keyword(oci_url_list, keyword, max_urls=None): # max_url is used for testing\n",
    "    store_bad_url = []  # List to store URLs with bad responses\n",
    "    oci_url_list_contains_keyword = []  # List to store URLs that contain the keyword\n",
    "    processed_urls = oci_url_list[:max_urls] if max_urls else oci_url_list # run up to max_url, else, run entire list\n",
    "    for oci_url in processed_urls:\n",
    "        try:\n",
    "            response_url = requests.get(oci_url)\n",
    "            if response_url.status_code == 200:\n",
    "                url_text = response_url.text\n",
    "                url_text_formatting = BeautifulSoup(url_text, 'html5lib')\n",
    "                url_text_get = url_text_formatting.get_text().lower()\n",
    "                if keyword in url_text_get:\n",
    "                    url_count = url_text_get.count(keyword)\n",
    "                    oci_url_list_contains_keyword.append((oci_url, url_count))\n",
    "                    print(f\"Processed {oci_url} - Keyword found {url_count} times\")\n",
    "                else:\n",
    "                    print(f\"Processed {oci_url} - Keyword not found\")\n",
    "            else:\n",
    "                store_bad_url.append((oci_url, response_url.status_code))\n",
    "                print(f\"Processed {oci_url} - Failed with status: {response_url.status_code}\")\n",
    "        except requests.exceptions.RequestException as e:\n",
    "            print(f\"Error processing {oci_url}: {e}\")\n",
    "        time.sleep(random.uniform(30, 45))\n",
    "    return oci_url_list_contains_keyword, store_bad_url"
   ]
  },
  {
   "cell_type": "code",
   "execution_count": 10,
   "id": "6b8b4ac5-475e-40d0-a32a-ba6e2612d913",
   "metadata": {},
   "outputs": [],
   "source": [
    "def master_function():\n",
    "    namespace = {'ns': 'http://www.sitemaps.org/schemas/sitemap/0.9'}  # Adjust the namespace as needed\n",
    "    oci_url_list = find_urls('/Users/calvinpineda/Downloads/sitemap-web-air.xml', namespace)  # Correct path\n",
    "    keyword = \"Airfare\".lower()  # Specify your keyword\n",
    "    oci_url_list_containing_keywords, stored_bad_url = find_keyword(oci_url_list, keyword)\n",
    "    print(oci_url_list_containing_keywords)  # Optionally print the results"
   ]
  },
  {
   "cell_type": "code",
   "execution_count": 11,
   "id": "1d76bd50-0c90-408e-85a4-64c2e8c89588",
   "metadata": {},
   "outputs": [
    {
     "name": "stdout",
     "output_type": "stream",
     "text": [
      "Processed https://www.oceaniacruises.com - Keyword found 4 times\n",
      "Processed https://www.oceaniacruises.com/2024-voyage-collection - Keyword found 1 times\n",
      "Processed https://www.oceaniacruises.com/2025-around-the-world-cruise - Keyword found 1 times\n",
      "Processed https://www.oceaniacruises.com/2026-around-the-world-cruise - Keyword found 1 times\n",
      "Processed https://www.oceaniacruises.com/air - Keyword found 3 times\n",
      "Processed https://www.oceaniacruises.com/concierge-veranda - Keyword found 4 times\n",
      "Processed https://www.oceaniacruises.com/grand-voyage-cruises - Keyword found 2 times\n",
      "Processed https://www.oceaniacruises.com/oceania-club-benefits - Keyword not found\n",
      "Processed https://www.oceaniacruises.com/ships/allura - Keyword found 1 times\n",
      "Processed https://www.oceaniacruises.com/ships/insignia - Keyword found 3 times\n",
      "Processed https://www.oceaniacruises.com/ships/marina - Keyword found 3 times\n",
      "Processed https://www.oceaniacruises.com/ships/nautica - Keyword found 3 times\n",
      "Processed https://www.oceaniacruises.com/ships/regatta - Keyword found 3 times\n",
      "Processed https://www.oceaniacruises.com/ships/riviera - Keyword found 3 times\n",
      "Processed https://www.oceaniacruises.com/ships/sirena - Keyword found 3 times\n",
      "Processed https://www.oceaniacruises.com/ships/vista - Keyword not found\n",
      "Processed https://www.oceaniacruises.com/suites - Keyword found 4 times\n",
      "Processed https://www.oceaniacruises.com/value - Keyword found 7 times\n",
      "Processed https://www.oceaniacruises.com/special-offers - Keyword found 8 times\n",
      "Processed https://www.oceaniacruises.com/special-offers/2026-around-the-world-cruise - Keyword found 2 times\n",
      "Processed https://www.oceaniacruises.com/special-offers/savings - Keyword found 8 times\n",
      "Processed https://www.oceaniacruises.com/special-offers/simply-more - Keyword found 1 times\n",
      "Processed https://www.oceaniacruises.com/special-offers/tropics-and-exotics - Keyword found 2 times\n",
      "Processed https://www.oceaniacruises.com/special-offers/hotel - Keyword found 1 times\n",
      "Processed https://www.oceaniacruises.com/special-offers/2026-around-the-world-cruise - Keyword found 2 times\n",
      "Processed https://www.oceaniacruises.com/special-offers/allura - Keyword found 1 times\n",
      "Processed https://www.oceaniacruises.com/special-offers/oceania-club-savings - Keyword found 1 times\n",
      "Processed https://www.oceaniacruises.com/special-offers/single-supplement - Keyword found 1 times\n",
      "Processed https://www.oceaniacruises.com/special-offers/grand-voyages - Keyword found 2 times\n",
      "[('https://www.oceaniacruises.com', 4), ('https://www.oceaniacruises.com/2024-voyage-collection', 1), ('https://www.oceaniacruises.com/2025-around-the-world-cruise', 1), ('https://www.oceaniacruises.com/2026-around-the-world-cruise', 1), ('https://www.oceaniacruises.com/air', 3), ('https://www.oceaniacruises.com/concierge-veranda', 4), ('https://www.oceaniacruises.com/grand-voyage-cruises', 2), ('https://www.oceaniacruises.com/ships/allura', 1), ('https://www.oceaniacruises.com/ships/insignia', 3), ('https://www.oceaniacruises.com/ships/marina', 3), ('https://www.oceaniacruises.com/ships/nautica', 3), ('https://www.oceaniacruises.com/ships/regatta', 3), ('https://www.oceaniacruises.com/ships/riviera', 3), ('https://www.oceaniacruises.com/ships/sirena', 3), ('https://www.oceaniacruises.com/suites', 4), ('https://www.oceaniacruises.com/value', 7), ('https://www.oceaniacruises.com/special-offers', 8), ('https://www.oceaniacruises.com/special-offers/2026-around-the-world-cruise', 2), ('https://www.oceaniacruises.com/special-offers/savings', 8), ('https://www.oceaniacruises.com/special-offers/simply-more', 1), ('https://www.oceaniacruises.com/special-offers/tropics-and-exotics', 2), ('https://www.oceaniacruises.com/special-offers/hotel', 1), ('https://www.oceaniacruises.com/special-offers/2026-around-the-world-cruise', 2), ('https://www.oceaniacruises.com/special-offers/allura', 1), ('https://www.oceaniacruises.com/special-offers/oceania-club-savings', 1), ('https://www.oceaniacruises.com/special-offers/single-supplement', 1), ('https://www.oceaniacruises.com/special-offers/grand-voyages', 2)]\n"
     ]
    }
   ],
   "source": [
    "master_function()"
   ]
  },
  {
   "cell_type": "code",
   "execution_count": 41,
   "id": "0560f84f-a3a3-41a5-b055-77f552b24f43",
   "metadata": {},
   "outputs": [],
   "source": [
    "url_24 = 'https://www.oceaniacruises.com/2024-voyage-collection'"
   ]
  },
  {
   "cell_type": "code",
   "execution_count": 43,
   "id": "716f0eb3-44b4-4f80-922b-fece61a57cd5",
   "metadata": {},
   "outputs": [],
   "source": [
    "response_24 = requests.get(url_24)"
   ]
  },
  {
   "cell_type": "code",
   "execution_count": 8,
   "id": "06492ec4-5f5f-4adb-9555-0808b8461592",
   "metadata": {},
   "outputs": [
    {
     "name": "stdout",
     "output_type": "stream",
     "text": [
      "text content saved to txt file\n"
     ]
    }
   ],
   "source": [
    "url_24 = 'https://www.oceaniacruises.com/2024-voyage-collection'\n",
    "response_24 = requests.get(url_24)\n",
    "if response_24.status_code == 200:\n",
    "    soup_24 = BeautifulSoup(response_24.content, 'html5lib')\n",
    "    keyword_24 = 'Airfare'.lower()\n",
    "    text_content = soup_24.get_text().lower()\n",
    "    with open ('page_content.txt', 'w', encoding='utf-8') as file:\n",
    "        file.write(text_content)\n",
    "    print('text content saved to txt file')\n",
    "    \n",
    "else:\n",
    "    print(f\"Failed to fetch the page. Status code: {response_24.status_code}\")"
   ]
  },
  {
   "cell_type": "code",
   "execution_count": 2,
   "id": "af7bec93-5b20-4c01-9b08-0a587ea4d1d7",
   "metadata": {},
   "outputs": [
    {
     "name": "stdout",
     "output_type": "stream",
     "text": [
      "text content saved to txt file\n"
     ]
    }
   ],
   "source": [
    "# peform the same action, wthout beautiful soup\n",
    "url_25 = 'https://www.oceaniacruises.com/2024-voyage-collection'\n",
    "response_25 = requests.get(url_25)\n",
    "if response_25.status_code == 200:\n",
    "    webpage_content = response_25.text.lower()\n",
    "    with open ('page_content_request_only.txt', 'w', encoding='utf-8') as file:\n",
    "        file.write(webpage_content)\n",
    "    print ('text content saved to txt file')\n",
    "else:\n",
    "    print(f\"failed to fetch the page, status code: {response_25.status_code}\")"
   ]
  },
  {
   "cell_type": "code",
   "execution_count": null,
   "id": "266c1e36-a170-49c1-ac56-872feddd60a3",
   "metadata": {},
   "outputs": [],
   "source": []
  }
 ],
 "metadata": {
  "kernelspec": {
   "display_name": "Python 3 (ipykernel)",
   "language": "python",
   "name": "python3"
  },
  "language_info": {
   "codemirror_mode": {
    "name": "ipython",
    "version": 3
   },
   "file_extension": ".py",
   "mimetype": "text/x-python",
   "name": "python",
   "nbconvert_exporter": "python",
   "pygments_lexer": "ipython3",
   "version": "3.9.6"
  }
 },
 "nbformat": 4,
 "nbformat_minor": 5
}
