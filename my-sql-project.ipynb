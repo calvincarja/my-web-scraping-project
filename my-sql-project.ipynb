{
 "cells": [
  {
   "cell_type": "code",
   "execution_count": 7,
   "id": "f0b0bc6b-4800-467c-a4ea-7224f9ec7cc6",
   "metadata": {},
   "outputs": [],
   "source": [
    "# lets load the library to manipulate the excel file"
   ]
  },
  {
   "cell_type": "code",
   "execution_count": 1,
   "id": "f5258b60-f360-4386-8969-c49052ff340a",
   "metadata": {},
   "outputs": [],
   "source": [
    "import pandas as pd"
   ]
  },
  {
   "cell_type": "code",
   "execution_count": 2,
   "id": "b7005772-54c0-461e-b816-37e103105619",
   "metadata": {},
   "outputs": [],
   "source": [
    "df = pd.read_csv('/Users/calvinpineda/Downloads/Food_Establishment_Inspection_Scores_20240824.csv')"
   ]
  },
  {
   "cell_type": "code",
   "execution_count": 4,
   "id": "f0d33ca9-64a1-4990-9497-b1b900f762fa",
   "metadata": {},
   "outputs": [
    {
     "name": "stdout",
     "output_type": "stream",
     "text": [
      "              Restaurant Name  Zip Code Inspection Date  Score  \\\n",
      "0                   Los Pinos   78734.0      12/21/2021     79   \n",
      "1  OOB - Facebook - 300 W 6th   78701.0      07/15/2022     95   \n",
      "2            Kealing Jr. High   78702.0      05/06/2022     97   \n",
      "3               Arte Sano LLC   78744.0      05/31/2022    100   \n",
      "4            Daily Juice Cafe   78757.0      03/29/2022     94   \n",
      "\n",
      "                                             Address  Facility ID  \\\n",
      "0  4919 HUDSON BEND RD\\nAUSTIN, TX 78734\\n(30.411...      2802754   \n",
      "1  300 W 6TH ST\\nAUSTIN, TX 78701\\n(30.269336016,...     11960779   \n",
      "2  1607 PENNSYLVANIA AVE\\nAUSTIN, TX 78702\\n(30.2...      2800282   \n",
      "3  6110 TRADE CENTER DR\\nAUSTIN, TX 78744\\n(30.20...     11786340   \n",
      "4  8620 BURNET RD\\nAUSTIN, TX 78757\\n(30.36899701...     11219722   \n",
      "\n",
      "  Process Description  \n",
      "0  Routine Inspection  \n",
      "1  Routine Inspection  \n",
      "2  Routine Inspection  \n",
      "3  Routine Inspection  \n",
      "4  Routine Inspection  \n"
     ]
    }
   ],
   "source": [
    "print(df.head()) # ensure the csv was loaded to the dataframe"
   ]
  },
  {
   "cell_type": "code",
   "execution_count": 6,
   "id": "88bd0779-d76a-4307-9858-87b987e70d87",
   "metadata": {},
   "outputs": [
    {
     "name": "stdout",
     "output_type": "stream",
     "text": [
      "Restaurant Name        0\n",
      "Zip Code               7\n",
      "Inspection Date        0\n",
      "Score                  0\n",
      "Address                0\n",
      "Facility ID            0\n",
      "Process Description    0\n",
      "dtype: int64\n"
     ]
    }
   ],
   "source": [
    "# check for blanks, NaaN - use sum to get one amount per column\n",
    "print(df.isna().sum())"
   ]
  },
  {
   "cell_type": "code",
   "execution_count": 8,
   "id": "f5c5cd36-5f35-47ba-9a0f-02648d0a39fb",
   "metadata": {},
   "outputs": [],
   "source": [
    "# blanks were found, lets find them so we can update them"
   ]
  },
  {
   "cell_type": "code",
   "execution_count": 10,
   "id": "ee8f41e6-f0ae-4609-bbfe-62a4d70fcc8e",
   "metadata": {},
   "outputs": [
    {
     "name": "stdout",
     "output_type": "stream",
     "text": [
      "Restaurant Name                   Levy at Q2 Stadium/East Main North 129\n",
      "Zip Code                                                         78758.0\n",
      "Inspection Date                                               06/24/2022\n",
      "Score                                                                100\n",
      "Address                10414 MC KALLA PL\\nAUSTIN, TX 78758\\n(30.38772...\n",
      "Facility ID                                                     12394507\n",
      "Process Description                                   Routine Inspection\n",
      "Name: 5, dtype: object\n"
     ]
    }
   ],
   "source": [
    "# use the iloc (integer location) property to first find a row\n",
    "print(df.iloc[5])"
   ]
  },
  {
   "cell_type": "code",
   "execution_count": 11,
   "id": "8b16251c-5b2b-41b1-b8c6-860b1cea6a8b",
   "metadata": {},
   "outputs": [],
   "source": [
    "# iloc is not needed, i can use the any function, and filter the dataframe by it"
   ]
  },
  {
   "cell_type": "code",
   "execution_count": 12,
   "id": "e01285ce-692a-4835-b326-892a231a7806",
   "metadata": {},
   "outputs": [],
   "source": [
    "# create a filtered view of the dataframe, just viewing NaaN, axis = 1 is to view the row\n",
    "df_with_nans = df[df.isna().any(axis=1)]"
   ]
  },
  {
   "cell_type": "code",
   "execution_count": 13,
   "id": "6276c7f2-2027-43d4-9220-24f504c381c7",
   "metadata": {},
   "outputs": [
    {
     "name": "stdout",
     "output_type": "stream",
     "text": [
      "                               Restaurant Name  Zip Code Inspection Date  \\\n",
      "515                       Thundercloud Subs #4       NaN      01/11/2024   \n",
      "5698   PF - 7 Eleven Convenience Store #35624B       NaN      11/16/2022   \n",
      "7358                      Thundercloud Subs #4       NaN      10/05/2022   \n",
      "9812   PF - 7 Eleven Convenience Store #35624B       NaN      05/19/2023   \n",
      "12123  PF - 7 Eleven Convenience Store #35624B       NaN      07/18/2024   \n",
      "12970                     Thundercloud Subs #4       NaN      10/27/2021   \n",
      "18506  PF - 7 Eleven Convenience Store #35624B       NaN      12/01/2023   \n",
      "\n",
      "       Score                                            Address  Facility ID  \\\n",
      "515       88  6105 6151 E US 290 HWY\\nSVRD EB AUSTIN, TX\\n(3...      2800340   \n",
      "5698      93  1717 E PFLUGERVILLE PKWY\\nPFLUGERVILLE, TX\\n(3...     12395598   \n",
      "7358      98  6105 6151 E US 290 HWY\\nSVRD EB AUSTIN, TX\\n(3...      2800340   \n",
      "9812      93  1717 E PFLUGERVILLE PKWY\\nPFLUGERVILLE, TX\\n(3...     12395598   \n",
      "12123     88  1717 E PFLUGERVILLE PKWY\\nPFLUGERVILLE, TX\\n(3...     12395598   \n",
      "12970     90  6105 6151 E US 290 HWY\\nSVRD EB AUSTIN, TX\\n(3...      2800340   \n",
      "18506     94  1717 E PFLUGERVILLE PKWY\\nPFLUGERVILLE, TX\\n(3...     12395598   \n",
      "\n",
      "      Process Description  \n",
      "515    Routine Inspection  \n",
      "5698   Routine Inspection  \n",
      "7358   Routine Inspection  \n",
      "9812   Routine Inspection  \n",
      "12123  Routine Inspection  \n",
      "12970  Routine Inspection  \n",
      "18506  Routine Inspection  \n"
     ]
    }
   ],
   "source": [
    "print(df_with_nans)"
   ]
  },
  {
   "cell_type": "code",
   "execution_count": null,
   "id": "294ed0f5-9e42-4b04-93a2-35591f4adea7",
   "metadata": {},
   "outputs": [],
   "source": []
  }
 ],
 "metadata": {
  "kernelspec": {
   "display_name": "Python 3 (ipykernel)",
   "language": "python",
   "name": "python3"
  },
  "language_info": {
   "codemirror_mode": {
    "name": "ipython",
    "version": 3
   },
   "file_extension": ".py",
   "mimetype": "text/x-python",
   "name": "python",
   "nbconvert_exporter": "python",
   "pygments_lexer": "ipython3",
   "version": "3.9.6"
  }
 },
 "nbformat": 4,
 "nbformat_minor": 5
}
