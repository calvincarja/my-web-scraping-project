{
 "cells": [
  {
   "cell_type": "code",
   "execution_count": 7,
   "id": "f0b0bc6b-4800-467c-a4ea-7224f9ec7cc6",
   "metadata": {},
   "outputs": [],
   "source": [
    "# lets load the library to manipulate the excel file"
   ]
  },
  {
   "cell_type": "code",
   "execution_count": 1,
   "id": "7d22b96e-3d66-45de-900e-6a5ee366a6de",
   "metadata": {},
   "outputs": [],
   "source": [
    "import mysql.connector"
   ]
  },
  {
   "cell_type": "code",
   "execution_count": 2,
   "id": "f5258b60-f360-4386-8969-c49052ff340a",
   "metadata": {},
   "outputs": [],
   "source": [
    "import pandas as pd"
   ]
  },
  {
   "cell_type": "code",
   "execution_count": 2,
   "id": "b7005772-54c0-461e-b816-37e103105619",
   "metadata": {},
   "outputs": [],
   "source": [
    "df = pd.read_csv('/Users/calvinpineda/Downloads/Food_Establishment_Inspection_Scores_20240824.csv')"
   ]
  },
  {
   "cell_type": "code",
   "execution_count": 4,
   "id": "f0d33ca9-64a1-4990-9497-b1b900f762fa",
   "metadata": {},
   "outputs": [
    {
     "name": "stdout",
     "output_type": "stream",
     "text": [
      "              Restaurant Name  Zip Code Inspection Date  Score  \\\n",
      "0                   Los Pinos   78734.0      12/21/2021     79   \n",
      "1  OOB - Facebook - 300 W 6th   78701.0      07/15/2022     95   \n",
      "2            Kealing Jr. High   78702.0      05/06/2022     97   \n",
      "3               Arte Sano LLC   78744.0      05/31/2022    100   \n",
      "4            Daily Juice Cafe   78757.0      03/29/2022     94   \n",
      "\n",
      "                                             Address  Facility ID  \\\n",
      "0  4919 HUDSON BEND RD\\nAUSTIN, TX 78734\\n(30.411...      2802754   \n",
      "1  300 W 6TH ST\\nAUSTIN, TX 78701\\n(30.269336016,...     11960779   \n",
      "2  1607 PENNSYLVANIA AVE\\nAUSTIN, TX 78702\\n(30.2...      2800282   \n",
      "3  6110 TRADE CENTER DR\\nAUSTIN, TX 78744\\n(30.20...     11786340   \n",
      "4  8620 BURNET RD\\nAUSTIN, TX 78757\\n(30.36899701...     11219722   \n",
      "\n",
      "  Process Description  \n",
      "0  Routine Inspection  \n",
      "1  Routine Inspection  \n",
      "2  Routine Inspection  \n",
      "3  Routine Inspection  \n",
      "4  Routine Inspection  \n"
     ]
    }
   ],
   "source": [
    "print(df.head()) # ensure the csv was loaded to the dataframe"
   ]
  },
  {
   "cell_type": "code",
   "execution_count": 3,
   "id": "88bd0779-d76a-4307-9858-87b987e70d87",
   "metadata": {},
   "outputs": [
    {
     "name": "stdout",
     "output_type": "stream",
     "text": [
      "Restaurant Name        0\n",
      "Zip Code               7\n",
      "Inspection Date        0\n",
      "Score                  0\n",
      "Address                0\n",
      "Facility ID            0\n",
      "Process Description    0\n",
      "dtype: int64\n"
     ]
    }
   ],
   "source": [
    "# check for blanks, NaaN - use sum to get one amount per column\n",
    "print(df.isna().sum())"
   ]
  },
  {
   "cell_type": "code",
   "execution_count": 8,
   "id": "f5c5cd36-5f35-47ba-9a0f-02648d0a39fb",
   "metadata": {},
   "outputs": [],
   "source": [
    "# blanks were found, lets find them so we can update them"
   ]
  },
  {
   "cell_type": "code",
   "execution_count": 7,
   "id": "ee8f41e6-f0ae-4609-bbfe-62a4d70fcc8e",
   "metadata": {},
   "outputs": [
    {
     "name": "stdout",
     "output_type": "stream",
     "text": [
      "Restaurant Name                   Levy at Q2 Stadium/East Main North 129\n",
      "Zip Code                                                         78758.0\n",
      "Inspection Date                                               06/24/2022\n",
      "Score                                                                100\n",
      "Address                10414 MC KALLA PL\\nAUSTIN, TX 78758\\n(30.38772...\n",
      "Facility ID                                                     12394507\n",
      "Process Description                                   Routine Inspection\n",
      "Name: 5, dtype: object\n"
     ]
    }
   ],
   "source": [
    "# use the iloc (integer location) property to first find a row\n",
    "print(df.iloc[5])"
   ]
  },
  {
   "cell_type": "code",
   "execution_count": 11,
   "id": "8b16251c-5b2b-41b1-b8c6-860b1cea6a8b",
   "metadata": {},
   "outputs": [],
   "source": [
    "# iloc is not needed, i can use the any function, and filter the dataframe by it"
   ]
  },
  {
   "cell_type": "code",
   "execution_count": 16,
   "id": "e01285ce-692a-4835-b326-892a231a7806",
   "metadata": {},
   "outputs": [],
   "source": [
    "# create a filtered view of the dataframe, just viewing NaaN, axis = 1 is to view the row\n",
    "df_with_nans = df[df.isna().any(axis=1)]"
   ]
  },
  {
   "cell_type": "code",
   "execution_count": 13,
   "id": "6276c7f2-2027-43d4-9220-24f504c381c7",
   "metadata": {},
   "outputs": [
    {
     "name": "stdout",
     "output_type": "stream",
     "text": [
      "                               Restaurant Name  Zip Code Inspection Date  \\\n",
      "515                       Thundercloud Subs #4       NaN      01/11/2024   \n",
      "5698   PF - 7 Eleven Convenience Store #35624B       NaN      11/16/2022   \n",
      "7358                      Thundercloud Subs #4       NaN      10/05/2022   \n",
      "9812   PF - 7 Eleven Convenience Store #35624B       NaN      05/19/2023   \n",
      "12123  PF - 7 Eleven Convenience Store #35624B       NaN      07/18/2024   \n",
      "12970                     Thundercloud Subs #4       NaN      10/27/2021   \n",
      "18506  PF - 7 Eleven Convenience Store #35624B       NaN      12/01/2023   \n",
      "\n",
      "       Score                                            Address  Facility ID  \\\n",
      "515       88  6105 6151 E US 290 HWY\\nSVRD EB AUSTIN, TX\\n(3...      2800340   \n",
      "5698      93  1717 E PFLUGERVILLE PKWY\\nPFLUGERVILLE, TX\\n(3...     12395598   \n",
      "7358      98  6105 6151 E US 290 HWY\\nSVRD EB AUSTIN, TX\\n(3...      2800340   \n",
      "9812      93  1717 E PFLUGERVILLE PKWY\\nPFLUGERVILLE, TX\\n(3...     12395598   \n",
      "12123     88  1717 E PFLUGERVILLE PKWY\\nPFLUGERVILLE, TX\\n(3...     12395598   \n",
      "12970     90  6105 6151 E US 290 HWY\\nSVRD EB AUSTIN, TX\\n(3...      2800340   \n",
      "18506     94  1717 E PFLUGERVILLE PKWY\\nPFLUGERVILLE, TX\\n(3...     12395598   \n",
      "\n",
      "      Process Description  \n",
      "515    Routine Inspection  \n",
      "5698   Routine Inspection  \n",
      "7358   Routine Inspection  \n",
      "9812   Routine Inspection  \n",
      "12123  Routine Inspection  \n",
      "12970  Routine Inspection  \n",
      "18506  Routine Inspection  \n"
     ]
    }
   ],
   "source": [
    "print(df_with_nans)"
   ]
  },
  {
   "cell_type": "code",
   "execution_count": 8,
   "id": "294ed0f5-9e42-4b04-93a2-35591f4adea7",
   "metadata": {},
   "outputs": [],
   "source": [
    "# now we can use the iloc to directly assign the values to the NaaN"
   ]
  },
  {
   "cell_type": "code",
   "execution_count": 10,
   "id": "b507ef6f-3530-423b-93e0-8d1f1cd84d07",
   "metadata": {},
   "outputs": [],
   "source": [
    "# lets update just one row, then re-run the iloc function\n",
    "df.loc[515, 'Zip Code'] = 78749"
   ]
  },
  {
   "cell_type": "code",
   "execution_count": 12,
   "id": "3b84a192-0864-493b-a9e4-e36fa25c6e3e",
   "metadata": {},
   "outputs": [
    {
     "name": "stdout",
     "output_type": "stream",
     "text": [
      "Restaurant Name                                     Thundercloud Subs #4\n",
      "Zip Code                                                         78749.0\n",
      "Inspection Date                                               01/11/2024\n",
      "Score                                                                 88\n",
      "Address                6105 6151 E US 290 HWY\\nSVRD EB AUSTIN, TX\\n(3...\n",
      "Facility ID                                                      2800340\n",
      "Process Description                                   Routine Inspection\n",
      "Name: 515, dtype: object\n"
     ]
    }
   ],
   "source": [
    "print(df.iloc[515])"
   ]
  },
  {
   "cell_type": "code",
   "execution_count": 13,
   "id": "b8a4813d-95ad-42d3-89bc-04b24224e1a3",
   "metadata": {},
   "outputs": [],
   "source": [
    "# zipcode was updated, lets re-run the sum function to see if total NaaN went down"
   ]
  },
  {
   "cell_type": "code",
   "execution_count": 14,
   "id": "0dc4aa05-7b84-4c33-92b1-2f44b4a9fd0b",
   "metadata": {},
   "outputs": [
    {
     "name": "stdout",
     "output_type": "stream",
     "text": [
      "Restaurant Name        0\n",
      "Zip Code               6\n",
      "Inspection Date        0\n",
      "Score                  0\n",
      "Address                0\n",
      "Facility ID            0\n",
      "Process Description    0\n",
      "dtype: int64\n"
     ]
    }
   ],
   "source": [
    "print(df.isna().sum())"
   ]
  },
  {
   "cell_type": "code",
   "execution_count": 17,
   "id": "e4926a53-70c8-41e5-b76a-5ce29a33f009",
   "metadata": {},
   "outputs": [
    {
     "name": "stdout",
     "output_type": "stream",
     "text": [
      "                               Restaurant Name  Zip Code Inspection Date  \\\n",
      "5698   PF - 7 Eleven Convenience Store #35624B       NaN      11/16/2022   \n",
      "7358                      Thundercloud Subs #4       NaN      10/05/2022   \n",
      "9812   PF - 7 Eleven Convenience Store #35624B       NaN      05/19/2023   \n",
      "12123  PF - 7 Eleven Convenience Store #35624B       NaN      07/18/2024   \n",
      "12970                     Thundercloud Subs #4       NaN      10/27/2021   \n",
      "18506  PF - 7 Eleven Convenience Store #35624B       NaN      12/01/2023   \n",
      "\n",
      "       Score                                            Address  Facility ID  \\\n",
      "5698      93  1717 E PFLUGERVILLE PKWY\\nPFLUGERVILLE, TX\\n(3...     12395598   \n",
      "7358      98  6105 6151 E US 290 HWY\\nSVRD EB AUSTIN, TX\\n(3...      2800340   \n",
      "9812      93  1717 E PFLUGERVILLE PKWY\\nPFLUGERVILLE, TX\\n(3...     12395598   \n",
      "12123     88  1717 E PFLUGERVILLE PKWY\\nPFLUGERVILLE, TX\\n(3...     12395598   \n",
      "12970     90  6105 6151 E US 290 HWY\\nSVRD EB AUSTIN, TX\\n(3...      2800340   \n",
      "18506     94  1717 E PFLUGERVILLE PKWY\\nPFLUGERVILLE, TX\\n(3...     12395598   \n",
      "\n",
      "      Process Description  \n",
      "5698   Routine Inspection  \n",
      "7358   Routine Inspection  \n",
      "9812   Routine Inspection  \n",
      "12123  Routine Inspection  \n",
      "12970  Routine Inspection  \n",
      "18506  Routine Inspection  \n"
     ]
    }
   ],
   "source": [
    "# lets re-print df_with_nans to see the remaining blanks\n",
    "print(df_with_nans)"
   ]
  },
  {
   "cell_type": "code",
   "execution_count": 18,
   "id": "1b1c430b-af38-4e8a-8f0c-d89cbfc37a25",
   "metadata": {},
   "outputs": [],
   "source": [
    "# i want to create a list of the remaining rows containing blanks"
   ]
  },
  {
   "cell_type": "code",
   "execution_count": 24,
   "id": "fff24e78-337b-4033-a7b5-d93d0a0fbc02",
   "metadata": {},
   "outputs": [],
   "source": [
    "# use a filtered view of the df, only storing the NaaN - index position of the rows that contain the NaN\n",
    "nan_indices_list = list(df_with_nans.index)"
   ]
  },
  {
   "cell_type": "code",
   "execution_count": 23,
   "id": "a12c4664-20d3-4352-b5cb-1415c4ce9dcd",
   "metadata": {},
   "outputs": [
    {
     "name": "stdout",
     "output_type": "stream",
     "text": [
      "[5698, 7358, 9812, 12123, 12970, 18506]\n"
     ]
    }
   ],
   "source": [
    "print(nan_indices_list)"
   ]
  },
  {
   "cell_type": "code",
   "execution_count": 25,
   "id": "49838427-2a62-489a-b16d-671695a73d05",
   "metadata": {},
   "outputs": [],
   "source": [
    "# now, i can update this list by assigning them directly"
   ]
  },
  {
   "cell_type": "code",
   "execution_count": 29,
   "id": "d6e73fce-188e-4ca9-9918-0b774d099a05",
   "metadata": {},
   "outputs": [],
   "source": [
    "df.loc[nan_indices_list, 'Zip Code'] = [78660,78749,78660,78660,78749,78660]"
   ]
  },
  {
   "cell_type": "code",
   "execution_count": 34,
   "id": "43acc77a-bbac-4fcb-9ba0-d1a25d5aaa57",
   "metadata": {},
   "outputs": [],
   "source": [
    "# lets re-run the filtred df view for NaaN\n",
    "df_with_nans = df[df.isna().any(axis=1)]"
   ]
  },
  {
   "cell_type": "code",
   "execution_count": 35,
   "id": "91af6aae-2278-4ff0-acc2-4483aba37f43",
   "metadata": {},
   "outputs": [
    {
     "name": "stdout",
     "output_type": "stream",
     "text": [
      "Empty DataFrame\n",
      "Columns: [Restaurant Name, Zip Code, Inspection Date, Score, Address, Facility ID, Process Description]\n",
      "Index: []\n"
     ]
    }
   ],
   "source": [
    "print(df_with_nans)"
   ]
  },
  {
   "cell_type": "code",
   "execution_count": 37,
   "id": "be4c1180-c22b-4d6b-bd06-91dfd138ebe9",
   "metadata": {},
   "outputs": [],
   "source": [
    "nan_indices_list = list(df_with_nans.index)"
   ]
  },
  {
   "cell_type": "code",
   "execution_count": 38,
   "id": "15b629b8-4b0a-415b-8a86-7ae0ba03f02e",
   "metadata": {},
   "outputs": [
    {
     "name": "stdout",
     "output_type": "stream",
     "text": [
      "[]\n"
     ]
    }
   ],
   "source": [
    "print(nan_indices_list)"
   ]
  },
  {
   "cell_type": "code",
   "execution_count": 39,
   "id": "9d26204e-5b73-444f-a808-83ba02823432",
   "metadata": {},
   "outputs": [],
   "source": [
    "# there are no mo NaaN values in the Dataframe anymore"
   ]
  },
  {
   "cell_type": "code",
   "execution_count": 40,
   "id": "891ed5ab-37c9-4bc5-9649-2a3ec856805f",
   "metadata": {},
   "outputs": [],
   "source": [
    "# i noticed the zip codes are float type, but austin.gov displays the zipcode is text - lets fix that"
   ]
  },
  {
   "cell_type": "code",
   "execution_count": 42,
   "id": "ddcb607c-5c80-45b2-a4eb-7b50f99820cd",
   "metadata": {},
   "outputs": [
    {
     "name": "stdout",
     "output_type": "stream",
     "text": [
      "Restaurant Name         object\n",
      "Zip Code               float64\n",
      "Inspection Date         object\n",
      "Score                    int64\n",
      "Address                 object\n",
      "Facility ID              int64\n",
      "Process Description     object\n",
      "dtype: object\n"
     ]
    }
   ],
   "source": [
    "# lets see the data type for each column\n",
    "print(df.dtypes)"
   ]
  },
  {
   "cell_type": "code",
   "execution_count": 43,
   "id": "7dc40686-77c5-43c8-8dbe-219fe5ee74c6",
   "metadata": {},
   "outputs": [],
   "source": [
    "# lets cross reference the austin.gov website to see the data type for its database\n",
    "# resturant name = object, zipcode = object, insepction date = date, score = integer, address = location, facility ID = integer, process description = text"
   ]
  },
  {
   "cell_type": "code",
   "execution_count": 44,
   "id": "e07eadaf-5035-4bea-9902-27dd993d3d71",
   "metadata": {},
   "outputs": [],
   "source": [
    "# lets change zipcode from float64 to object to match the author source\n",
    "df['Zip Code'] = df['Zip Code'].astype('object')"
   ]
  },
  {
   "cell_type": "code",
   "execution_count": 45,
   "id": "c13f9b00-0ce6-499e-bbe2-98fce6dce418",
   "metadata": {},
   "outputs": [
    {
     "name": "stdout",
     "output_type": "stream",
     "text": [
      "Restaurant Name        object\n",
      "Zip Code               object\n",
      "Inspection Date        object\n",
      "Score                   int64\n",
      "Address                object\n",
      "Facility ID             int64\n",
      "Process Description    object\n",
      "dtype: object\n"
     ]
    }
   ],
   "source": [
    "print(df.dtypes)"
   ]
  },
  {
   "cell_type": "code",
   "execution_count": 47,
   "id": "97c112e6-62e8-4974-8730-2a47c55615d2",
   "metadata": {},
   "outputs": [
    {
     "name": "stdout",
     "output_type": "stream",
     "text": [
      "object\n"
     ]
    }
   ],
   "source": [
    "print(df['Zip Code'].dtype)"
   ]
  },
  {
   "cell_type": "code",
   "execution_count": 49,
   "id": "c5b91c28-2786-42ab-beaa-9a92ec55ef9f",
   "metadata": {},
   "outputs": [],
   "source": [
    "df['Zip Code'] = df['Zip Code'].apply(str)"
   ]
  },
  {
   "cell_type": "code",
   "execution_count": 50,
   "id": "2f8bb389-9e52-4786-9604-5f1624c083a3",
   "metadata": {},
   "outputs": [],
   "source": [
    "df['Zip Code'] = df['Zip Code'].str.replace('.0', '', regex=False)"
   ]
  },
  {
   "cell_type": "code",
   "execution_count": 51,
   "id": "57279228-f981-42f2-925e-8575d8581e25",
   "metadata": {},
   "outputs": [
    {
     "name": "stdout",
     "output_type": "stream",
     "text": [
      "Restaurant Name        object\n",
      "Zip Code               object\n",
      "Inspection Date        object\n",
      "Score                   int64\n",
      "Address                object\n",
      "Facility ID             int64\n",
      "Process Description    object\n",
      "dtype: object\n"
     ]
    }
   ],
   "source": [
    "print(df.dtypes)"
   ]
  },
  {
   "cell_type": "code",
   "execution_count": 52,
   "id": "6f60a57e-bb4c-4210-ba49-6864d4e4c487",
   "metadata": {},
   "outputs": [
    {
     "name": "stdout",
     "output_type": "stream",
     "text": [
      "              Restaurant Name Zip Code Inspection Date  Score  \\\n",
      "0                   Los Pinos    78734      12/21/2021     79   \n",
      "1  OOB - Facebook - 300 W 6th    78701      07/15/2022     95   \n",
      "2            Kealing Jr. High    78702      05/06/2022     97   \n",
      "3               Arte Sano LLC    78744      05/31/2022    100   \n",
      "4            Daily Juice Cafe    78757      03/29/2022     94   \n",
      "\n",
      "                                             Address  Facility ID  \\\n",
      "0  4919 HUDSON BEND RD\\nAUSTIN, TX 78734\\n(30.411...      2802754   \n",
      "1  300 W 6TH ST\\nAUSTIN, TX 78701\\n(30.269336016,...     11960779   \n",
      "2  1607 PENNSYLVANIA AVE\\nAUSTIN, TX 78702\\n(30.2...      2800282   \n",
      "3  6110 TRADE CENTER DR\\nAUSTIN, TX 78744\\n(30.20...     11786340   \n",
      "4  8620 BURNET RD\\nAUSTIN, TX 78757\\n(30.36899701...     11219722   \n",
      "\n",
      "  Process Description  \n",
      "0  Routine Inspection  \n",
      "1  Routine Inspection  \n",
      "2  Routine Inspection  \n",
      "3  Routine Inspection  \n",
      "4  Routine Inspection  \n"
     ]
    }
   ],
   "source": [
    "print(df.head())"
   ]
  },
  {
   "cell_type": "code",
   "execution_count": 53,
   "id": "61a37bc7-4474-465d-8625-fd36585c9ec1",
   "metadata": {},
   "outputs": [],
   "source": [
    "df.to_csv('/Users/calvinpineda/Downloads/Food_Establishment_Inspection_Scores_20240824_updated_python.csv', index=False)"
   ]
  },
  {
   "cell_type": "code",
   "execution_count": 54,
   "id": "fb7c2524-7b82-4cd1-ba5c-7903e1c7518a",
   "metadata": {},
   "outputs": [],
   "source": [
    "# i have finished data cleaning my csv and exporting back - the following code will be for connecting to mySQL"
   ]
  },
  {
   "cell_type": "code",
   "execution_count": 3,
   "id": "33debc84-334b-46cb-8b5e-766c90fe9427",
   "metadata": {},
   "outputs": [],
   "source": [
    "# local host: Calvins-MacBook-Pro.local"
   ]
  },
  {
   "cell_type": "code",
   "execution_count": 4,
   "id": "a0417efd-35e9-4d45-823f-d89ff51dd84d",
   "metadata": {},
   "outputs": [],
   "source": [
    "# function to connect to sql\n",
    "conn = mysql.connector.connect(\n",
    "    host=\"Calvins-MacBook-Pro.local\",\n",
    "    user=\"root\",\n",
    "    password=\"V46!na$$@@Ca1v!n\",\n",
    "    database=\"new_restaurant_db\"\n",
    ")"
   ]
  },
  {
   "cell_type": "code",
   "execution_count": 5,
   "id": "d01e117b-edad-4d9e-a5de-af95a4a578b7",
   "metadata": {},
   "outputs": [],
   "source": [
    "cursor = conn.cursor()"
   ]
  },
  {
   "cell_type": "code",
   "execution_count": 6,
   "id": "1644ad92-8a77-4060-80d3-4b4d3196103b",
   "metadata": {},
   "outputs": [
    {
     "name": "stdout",
     "output_type": "stream",
     "text": [
      "connection to db was success\n"
     ]
    }
   ],
   "source": [
    "# check if connection was success\n",
    "if conn.is_connected():\n",
    "    print(\"connection to db was success\")\n",
    "else:\n",
    "    print(\"connection failed\")"
   ]
  },
  {
   "cell_type": "code",
   "execution_count": 9,
   "id": "048cbf7b-b1ef-4d76-9b11-3bc3ff3bdd61",
   "metadata": {},
   "outputs": [],
   "source": [
    "cursor.execute(\"SELECT * FROM Restaurant WHERE RestaurantName = 'Los Pinos'\")"
   ]
  },
  {
   "cell_type": "code",
   "execution_count": 10,
   "id": "657b565c-1307-4cc5-93d2-c47b83ac9587",
   "metadata": {},
   "outputs": [
    {
     "name": "stdout",
     "output_type": "stream",
     "text": [
      "(1, 2802754, 'Los Pinos', '4919 HUDSON BEND RD\\nAUSTIN, TX 78734\\n(30.411959002, -97.926308977)', '78734\\r')\n",
      "(39761, 2802754, 'Los Pinos', '4919 HUDSON BEND RD\\nAUSTIN, TX 78734\\n(30.411959002, -97.926308977)', '78734\\r')\n",
      "(46851, 2802754, 'Los Pinos', '4919 HUDSON BEND RD\\nAUSTIN, TX 78734\\n(30.411959002, -97.926308977)', '78734\\r')\n",
      "(52400, 2802754, 'Los Pinos', '4919 HUDSON BEND RD\\nAUSTIN, TX 78734\\n(30.411959002, -97.926308977)', '78734\\r')\n"
     ]
    }
   ],
   "source": [
    "for row in cursor:\n",
    "    print(row)"
   ]
  },
  {
   "cell_type": "code",
   "execution_count": 20,
   "id": "744e7a22-f1a6-4f5b-a3a9-1ad79a6596e0",
   "metadata": {},
   "outputs": [
    {
     "name": "stdout",
     "output_type": "stream",
     "text": [
      "RestaurantID|FacilityID|RestaurantName|Address|ZipCode\n",
      "(1, 2802754, 'Los Pinos', '4919 HUDSON BEND RD\\nAUSTIN, TX 78734\\n(30.411959002, -97.926308977)', '78734\\r')\n",
      "(39761, 2802754, 'Los Pinos', '4919 HUDSON BEND RD\\nAUSTIN, TX 78734\\n(30.411959002, -97.926308977)', '78734\\r')\n",
      "(46851, 2802754, 'Los Pinos', '4919 HUDSON BEND RD\\nAUSTIN, TX 78734\\n(30.411959002, -97.926308977)', '78734\\r')\n",
      "(52400, 2802754, 'Los Pinos', '4919 HUDSON BEND RD\\nAUSTIN, TX 78734\\n(30.411959002, -97.926308977)', '78734\\r')\n"
     ]
    }
   ],
   "source": [
    "cursor.execute(\"SELECT * FROM Restaurant WHERE RestaurantName = 'Los Pinos'\")\n",
    "column_names = [i[0] for i in cursor.description] # only extract [0] and not anything else\n",
    "print(\"|\".join(column_names))\n",
    "results = cursor.fetchall() # need to store the cursor.execute in a varible as if not, the cursor becomes exhausted\n",
    "for row in results:\n",
    "    print(row)"
   ]
  },
  {
   "cell_type": "code",
   "execution_count": 21,
   "id": "3028b406-05d0-437b-84f6-2e8642a41d0f",
   "metadata": {},
   "outputs": [],
   "source": [
    "df = pd.DataFrame(results, columns=column_names) # leveraging dataframe as it presents the data in tabuler form"
   ]
  },
  {
   "cell_type": "code",
   "execution_count": 22,
   "id": "c501e769-ddee-4a0c-9d92-4d3fa1c7f606",
   "metadata": {},
   "outputs": [
    {
     "data": {
      "text/html": [
       "<div>\n",
       "<style scoped>\n",
       "    .dataframe tbody tr th:only-of-type {\n",
       "        vertical-align: middle;\n",
       "    }\n",
       "\n",
       "    .dataframe tbody tr th {\n",
       "        vertical-align: top;\n",
       "    }\n",
       "\n",
       "    .dataframe thead th {\n",
       "        text-align: right;\n",
       "    }\n",
       "</style>\n",
       "<table border=\"1\" class=\"dataframe\">\n",
       "  <thead>\n",
       "    <tr style=\"text-align: right;\">\n",
       "      <th></th>\n",
       "      <th>RestaurantID</th>\n",
       "      <th>FacilityID</th>\n",
       "      <th>RestaurantName</th>\n",
       "      <th>Address</th>\n",
       "      <th>ZipCode</th>\n",
       "    </tr>\n",
       "  </thead>\n",
       "  <tbody>\n",
       "    <tr>\n",
       "      <th>0</th>\n",
       "      <td>1</td>\n",
       "      <td>2802754</td>\n",
       "      <td>Los Pinos</td>\n",
       "      <td>4919 HUDSON BEND RD\\nAUSTIN, TX 78734\\n(30.411...</td>\n",
       "      <td>78734\\r</td>\n",
       "    </tr>\n",
       "    <tr>\n",
       "      <th>1</th>\n",
       "      <td>39761</td>\n",
       "      <td>2802754</td>\n",
       "      <td>Los Pinos</td>\n",
       "      <td>4919 HUDSON BEND RD\\nAUSTIN, TX 78734\\n(30.411...</td>\n",
       "      <td>78734\\r</td>\n",
       "    </tr>\n",
       "    <tr>\n",
       "      <th>2</th>\n",
       "      <td>46851</td>\n",
       "      <td>2802754</td>\n",
       "      <td>Los Pinos</td>\n",
       "      <td>4919 HUDSON BEND RD\\nAUSTIN, TX 78734\\n(30.411...</td>\n",
       "      <td>78734\\r</td>\n",
       "    </tr>\n",
       "    <tr>\n",
       "      <th>3</th>\n",
       "      <td>52400</td>\n",
       "      <td>2802754</td>\n",
       "      <td>Los Pinos</td>\n",
       "      <td>4919 HUDSON BEND RD\\nAUSTIN, TX 78734\\n(30.411...</td>\n",
       "      <td>78734\\r</td>\n",
       "    </tr>\n",
       "  </tbody>\n",
       "</table>\n",
       "</div>"
      ],
      "text/plain": [
       "   RestaurantID  FacilityID RestaurantName  \\\n",
       "0             1     2802754      Los Pinos   \n",
       "1         39761     2802754      Los Pinos   \n",
       "2         46851     2802754      Los Pinos   \n",
       "3         52400     2802754      Los Pinos   \n",
       "\n",
       "                                             Address  ZipCode  \n",
       "0  4919 HUDSON BEND RD\\nAUSTIN, TX 78734\\n(30.411...  78734\\r  \n",
       "1  4919 HUDSON BEND RD\\nAUSTIN, TX 78734\\n(30.411...  78734\\r  \n",
       "2  4919 HUDSON BEND RD\\nAUSTIN, TX 78734\\n(30.411...  78734\\r  \n",
       "3  4919 HUDSON BEND RD\\nAUSTIN, TX 78734\\n(30.411...  78734\\r  "
      ]
     },
     "execution_count": 22,
     "metadata": {},
     "output_type": "execute_result"
    }
   ],
   "source": [
    "df.head()"
   ]
  },
  {
   "cell_type": "code",
   "execution_count": 23,
   "id": "8515605f-3721-4971-ab5e-3685ad9a3a13",
   "metadata": {},
   "outputs": [
    {
     "data": {
      "text/plain": [
       "True"
      ]
     },
     "execution_count": 23,
     "metadata": {},
     "output_type": "execute_result"
    }
   ],
   "source": [
    "# close the cursor\n",
    "cursor.close()"
   ]
  },
  {
   "cell_type": "code",
   "execution_count": 24,
   "id": "512fe76d-0845-4fb5-b5db-9a288564f668",
   "metadata": {},
   "outputs": [],
   "source": [
    "# close the connection\n",
    "conn.close()"
   ]
  },
  {
   "cell_type": "code",
   "execution_count": 25,
   "id": "4af798ab-f648-41bb-a4e3-578b0a939013",
   "metadata": {},
   "outputs": [
    {
     "name": "stdout",
     "output_type": "stream",
     "text": [
      "connection failed\n"
     ]
    }
   ],
   "source": [
    "if conn.is_connected():\n",
    "    print(\"connection to db was success\")\n",
    "else:\n",
    "    print(\"connection failed\")"
   ]
  },
  {
   "cell_type": "code",
   "execution_count": null,
   "id": "79dbb4aa-ff8d-4a8a-8487-2f40c528c7ff",
   "metadata": {},
   "outputs": [],
   "source": []
  }
 ],
 "metadata": {
  "kernelspec": {
   "display_name": "Python 3 (ipykernel)",
   "language": "python",
   "name": "python3"
  },
  "language_info": {
   "codemirror_mode": {
    "name": "ipython",
    "version": 3
   },
   "file_extension": ".py",
   "mimetype": "text/x-python",
   "name": "python",
   "nbconvert_exporter": "python",
   "pygments_lexer": "ipython3",
   "version": "3.9.6"
  }
 },
 "nbformat": 4,
 "nbformat_minor": 5
}
